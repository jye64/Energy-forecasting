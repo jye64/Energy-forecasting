{
  "nbformat": 4,
  "nbformat_minor": 0,
  "metadata": {
    "colab": {
      "name": "LSTM.ipynb",
      "provenance": [],
      "collapsed_sections": []
    },
    "kernelspec": {
      "display_name": "Python 3",
      "name": "python3"
    }
  },
  "cells": [
    {
      "cell_type": "markdown",
      "metadata": {
        "id": "-ikqIghrLbtp"
      },
      "source": [
        "ECE 9063 Data Analytics Project"
      ]
    },
    {
      "cell_type": "code",
      "metadata": {
        "id": "M2i7OmiyKisJ"
      },
      "source": [
        "!pip install -q -U keras-tuner\n",
        "import matplotlib.pyplot as plt\n",
        "import numpy as np\n",
        "import pandas as pd\n",
        "import seaborn as sns\n",
        "import os\n",
        "import tensorflow as tf\n",
        "import kerastuner as kt\n",
        "\n",
        "from tensorflow import keras\n",
        "from tensorflow.keras.regularizers import l2\n",
        "from tensorflow.keras import layers\n",
        "from tensorflow.keras.wrappers.scikit_learn import KerasRegressor\n",
        "\n",
        "from sklearn.preprocessing import StandardScaler\n",
        "from sklearn.preprocessing import MinMaxScaler\n",
        "from sklearn.metrics import mean_squared_error\n",
        "from sklearn.metrics import mean_absolute_error\n",
        "from sklearn.model_selection import RandomizedSearchCV\n",
        "from sklearn.model_selection import GridSearchCV\n",
        "from sklearn.model_selection import train_test_split\n",
        "\n",
        "from IPython.core.interactiveshell import InteractiveShell\n",
        "InteractiveShell.ast_node_interactivity = \"all\""
      ],
      "execution_count": 147,
      "outputs": []
    },
    {
      "cell_type": "markdown",
      "metadata": {
        "id": "j9O6TLc_NitT"
      },
      "source": [
        "Set Random Seeds"
      ]
    },
    {
      "cell_type": "code",
      "metadata": {
        "id": "ZdCdbh8KNlQ-"
      },
      "source": [
        "np.random.seed(42)\n",
        "tf.random.set_seed(42)"
      ],
      "execution_count": 148,
      "outputs": []
    },
    {
      "cell_type": "markdown",
      "metadata": {
        "id": "Q-wSb_-gLPxT"
      },
      "source": [
        "Importing Data"
      ]
    },
    {
      "cell_type": "code",
      "metadata": {
        "colab": {
          "base_uri": "https://localhost:8080/",
          "height": 661
        },
        "id": "-zJauRCsLSP1",
        "outputId": "10fb28d2-541e-4caf-d9c8-77c79096f318"
      },
      "source": [
        "# ============== Importing data ======================\n",
        "featureFile = 'combined_data.csv'\n",
        "featureData = pd.read_csv(featureFile)\n",
        "\n",
        "labelFile = 'SyedHouse-GreenButton-2018-07-01-2020-02-29.csv'\n",
        "labelData = pd.read_csv(labelFile)\n",
        "\n",
        "# put feature and label in one object\n",
        "data = pd.concat([featureData, labelData['Usage (kilowatt-hours)']], axis=1)\n",
        "data"
      ],
      "execution_count": 149,
      "outputs": [
        {
          "output_type": "execute_result",
          "data": {
            "text/html": [
              "<div>\n",
              "<style scoped>\n",
              "    .dataframe tbody tr th:only-of-type {\n",
              "        vertical-align: middle;\n",
              "    }\n",
              "\n",
              "    .dataframe tbody tr th {\n",
              "        vertical-align: top;\n",
              "    }\n",
              "\n",
              "    .dataframe thead th {\n",
              "        text-align: right;\n",
              "    }\n",
              "</style>\n",
              "<table border=\"1\" class=\"dataframe\">\n",
              "  <thead>\n",
              "    <tr style=\"text-align: right;\">\n",
              "      <th></th>\n",
              "      <th>Longitude (x)</th>\n",
              "      <th>Latitude (y)</th>\n",
              "      <th>Station Name</th>\n",
              "      <th>Climate ID</th>\n",
              "      <th>Date/Time</th>\n",
              "      <th>Year</th>\n",
              "      <th>Month</th>\n",
              "      <th>Day</th>\n",
              "      <th>Time</th>\n",
              "      <th>Temp (°C)</th>\n",
              "      <th>Temp Flag</th>\n",
              "      <th>Dew Point Temp (°C)</th>\n",
              "      <th>Dew Point Temp Flag</th>\n",
              "      <th>Rel Hum (%)</th>\n",
              "      <th>Rel Hum Flag</th>\n",
              "      <th>Wind Dir (10s deg)</th>\n",
              "      <th>Wind Dir Flag</th>\n",
              "      <th>Wind Spd (km/h)</th>\n",
              "      <th>Wind Spd Flag</th>\n",
              "      <th>Visibility (km)</th>\n",
              "      <th>Visibility Flag</th>\n",
              "      <th>Stn Press (kPa)</th>\n",
              "      <th>Stn Press Flag</th>\n",
              "      <th>Hmdx</th>\n",
              "      <th>Hmdx Flag</th>\n",
              "      <th>Wind Chill</th>\n",
              "      <th>Wind Chill Flag</th>\n",
              "      <th>Weather</th>\n",
              "      <th>Usage (kilowatt-hours)</th>\n",
              "    </tr>\n",
              "  </thead>\n",
              "  <tbody>\n",
              "    <tr>\n",
              "      <th>0</th>\n",
              "      <td>-81.15</td>\n",
              "      <td>43.03</td>\n",
              "      <td>LONDON A</td>\n",
              "      <td>6144473</td>\n",
              "      <td>2018-07-01 00:00</td>\n",
              "      <td>2018</td>\n",
              "      <td>7</td>\n",
              "      <td>1</td>\n",
              "      <td>00:00</td>\n",
              "      <td>25.0</td>\n",
              "      <td>NaN</td>\n",
              "      <td>20.9</td>\n",
              "      <td>NaN</td>\n",
              "      <td>78.0</td>\n",
              "      <td>NaN</td>\n",
              "      <td>21.0</td>\n",
              "      <td>NaN</td>\n",
              "      <td>10.0</td>\n",
              "      <td>NaN</td>\n",
              "      <td>24.1</td>\n",
              "      <td>NaN</td>\n",
              "      <td>98.35</td>\n",
              "      <td>NaN</td>\n",
              "      <td>33.0</td>\n",
              "      <td>NaN</td>\n",
              "      <td>NaN</td>\n",
              "      <td>NaN</td>\n",
              "      <td>NaN</td>\n",
              "      <td>3.53</td>\n",
              "    </tr>\n",
              "    <tr>\n",
              "      <th>1</th>\n",
              "      <td>-81.15</td>\n",
              "      <td>43.03</td>\n",
              "      <td>LONDON A</td>\n",
              "      <td>6144473</td>\n",
              "      <td>2018-07-01 01:00</td>\n",
              "      <td>2018</td>\n",
              "      <td>7</td>\n",
              "      <td>1</td>\n",
              "      <td>01:00</td>\n",
              "      <td>23.5</td>\n",
              "      <td>NaN</td>\n",
              "      <td>20.8</td>\n",
              "      <td>NaN</td>\n",
              "      <td>84.0</td>\n",
              "      <td>NaN</td>\n",
              "      <td>20.0</td>\n",
              "      <td>NaN</td>\n",
              "      <td>7.0</td>\n",
              "      <td>NaN</td>\n",
              "      <td>24.1</td>\n",
              "      <td>NaN</td>\n",
              "      <td>98.39</td>\n",
              "      <td>NaN</td>\n",
              "      <td>32.0</td>\n",
              "      <td>NaN</td>\n",
              "      <td>NaN</td>\n",
              "      <td>NaN</td>\n",
              "      <td>Clear</td>\n",
              "      <td>3.45</td>\n",
              "    </tr>\n",
              "    <tr>\n",
              "      <th>2</th>\n",
              "      <td>-81.15</td>\n",
              "      <td>43.03</td>\n",
              "      <td>LONDON A</td>\n",
              "      <td>6144473</td>\n",
              "      <td>2018-07-01 02:00</td>\n",
              "      <td>2018</td>\n",
              "      <td>7</td>\n",
              "      <td>1</td>\n",
              "      <td>02:00</td>\n",
              "      <td>22.9</td>\n",
              "      <td>NaN</td>\n",
              "      <td>20.6</td>\n",
              "      <td>NaN</td>\n",
              "      <td>86.0</td>\n",
              "      <td>NaN</td>\n",
              "      <td>19.0</td>\n",
              "      <td>NaN</td>\n",
              "      <td>5.0</td>\n",
              "      <td>NaN</td>\n",
              "      <td>24.1</td>\n",
              "      <td>NaN</td>\n",
              "      <td>98.39</td>\n",
              "      <td>NaN</td>\n",
              "      <td>31.0</td>\n",
              "      <td>NaN</td>\n",
              "      <td>NaN</td>\n",
              "      <td>NaN</td>\n",
              "      <td>NaN</td>\n",
              "      <td>3.36</td>\n",
              "    </tr>\n",
              "    <tr>\n",
              "      <th>3</th>\n",
              "      <td>-81.15</td>\n",
              "      <td>43.03</td>\n",
              "      <td>LONDON A</td>\n",
              "      <td>6144473</td>\n",
              "      <td>2018-07-01 03:00</td>\n",
              "      <td>2018</td>\n",
              "      <td>7</td>\n",
              "      <td>1</td>\n",
              "      <td>03:00</td>\n",
              "      <td>19.9</td>\n",
              "      <td>NaN</td>\n",
              "      <td>19.3</td>\n",
              "      <td>NaN</td>\n",
              "      <td>96.0</td>\n",
              "      <td>NaN</td>\n",
              "      <td>0.0</td>\n",
              "      <td>NaN</td>\n",
              "      <td>1.0</td>\n",
              "      <td>NaN</td>\n",
              "      <td>24.1</td>\n",
              "      <td>NaN</td>\n",
              "      <td>98.42</td>\n",
              "      <td>NaN</td>\n",
              "      <td>NaN</td>\n",
              "      <td>NaN</td>\n",
              "      <td>NaN</td>\n",
              "      <td>NaN</td>\n",
              "      <td>NaN</td>\n",
              "      <td>2.90</td>\n",
              "    </tr>\n",
              "    <tr>\n",
              "      <th>4</th>\n",
              "      <td>-81.15</td>\n",
              "      <td>43.03</td>\n",
              "      <td>LONDON A</td>\n",
              "      <td>6144473</td>\n",
              "      <td>2018-07-01 04:00</td>\n",
              "      <td>2018</td>\n",
              "      <td>7</td>\n",
              "      <td>1</td>\n",
              "      <td>04:00</td>\n",
              "      <td>20.1</td>\n",
              "      <td>NaN</td>\n",
              "      <td>19.6</td>\n",
              "      <td>NaN</td>\n",
              "      <td>97.0</td>\n",
              "      <td>NaN</td>\n",
              "      <td>26.0</td>\n",
              "      <td>NaN</td>\n",
              "      <td>5.0</td>\n",
              "      <td>NaN</td>\n",
              "      <td>24.1</td>\n",
              "      <td>NaN</td>\n",
              "      <td>98.38</td>\n",
              "      <td>NaN</td>\n",
              "      <td>27.0</td>\n",
              "      <td>NaN</td>\n",
              "      <td>NaN</td>\n",
              "      <td>NaN</td>\n",
              "      <td>Mainly Clear</td>\n",
              "      <td>2.77</td>\n",
              "    </tr>\n",
              "    <tr>\n",
              "      <th>...</th>\n",
              "      <td>...</td>\n",
              "      <td>...</td>\n",
              "      <td>...</td>\n",
              "      <td>...</td>\n",
              "      <td>...</td>\n",
              "      <td>...</td>\n",
              "      <td>...</td>\n",
              "      <td>...</td>\n",
              "      <td>...</td>\n",
              "      <td>...</td>\n",
              "      <td>...</td>\n",
              "      <td>...</td>\n",
              "      <td>...</td>\n",
              "      <td>...</td>\n",
              "      <td>...</td>\n",
              "      <td>...</td>\n",
              "      <td>...</td>\n",
              "      <td>...</td>\n",
              "      <td>...</td>\n",
              "      <td>...</td>\n",
              "      <td>...</td>\n",
              "      <td>...</td>\n",
              "      <td>...</td>\n",
              "      <td>...</td>\n",
              "      <td>...</td>\n",
              "      <td>...</td>\n",
              "      <td>...</td>\n",
              "      <td>...</td>\n",
              "      <td>...</td>\n",
              "    </tr>\n",
              "    <tr>\n",
              "      <th>14611</th>\n",
              "      <td>-81.15</td>\n",
              "      <td>43.03</td>\n",
              "      <td>LONDON A</td>\n",
              "      <td>6144473</td>\n",
              "      <td>2020-02-29 19:00</td>\n",
              "      <td>2020</td>\n",
              "      <td>2</td>\n",
              "      <td>29</td>\n",
              "      <td>19:00</td>\n",
              "      <td>-6.7</td>\n",
              "      <td>NaN</td>\n",
              "      <td>-11.7</td>\n",
              "      <td>NaN</td>\n",
              "      <td>68.0</td>\n",
              "      <td>NaN</td>\n",
              "      <td>24.0</td>\n",
              "      <td>NaN</td>\n",
              "      <td>11.0</td>\n",
              "      <td>NaN</td>\n",
              "      <td>24.1</td>\n",
              "      <td>NaN</td>\n",
              "      <td>98.52</td>\n",
              "      <td>NaN</td>\n",
              "      <td>NaN</td>\n",
              "      <td>NaN</td>\n",
              "      <td>-12.0</td>\n",
              "      <td>NaN</td>\n",
              "      <td>Mainly Clear</td>\n",
              "      <td>0.84</td>\n",
              "    </tr>\n",
              "    <tr>\n",
              "      <th>14612</th>\n",
              "      <td>-81.15</td>\n",
              "      <td>43.03</td>\n",
              "      <td>LONDON A</td>\n",
              "      <td>6144473</td>\n",
              "      <td>2020-02-29 20:00</td>\n",
              "      <td>2020</td>\n",
              "      <td>2</td>\n",
              "      <td>29</td>\n",
              "      <td>20:00</td>\n",
              "      <td>-7.0</td>\n",
              "      <td>NaN</td>\n",
              "      <td>-11.5</td>\n",
              "      <td>NaN</td>\n",
              "      <td>71.0</td>\n",
              "      <td>NaN</td>\n",
              "      <td>23.0</td>\n",
              "      <td>NaN</td>\n",
              "      <td>11.0</td>\n",
              "      <td>NaN</td>\n",
              "      <td>24.1</td>\n",
              "      <td>NaN</td>\n",
              "      <td>98.53</td>\n",
              "      <td>NaN</td>\n",
              "      <td>NaN</td>\n",
              "      <td>NaN</td>\n",
              "      <td>-12.0</td>\n",
              "      <td>NaN</td>\n",
              "      <td>NaN</td>\n",
              "      <td>0.88</td>\n",
              "    </tr>\n",
              "    <tr>\n",
              "      <th>14613</th>\n",
              "      <td>-81.15</td>\n",
              "      <td>43.03</td>\n",
              "      <td>LONDON A</td>\n",
              "      <td>6144473</td>\n",
              "      <td>2020-02-29 21:00</td>\n",
              "      <td>2020</td>\n",
              "      <td>2</td>\n",
              "      <td>29</td>\n",
              "      <td>21:00</td>\n",
              "      <td>-7.1</td>\n",
              "      <td>NaN</td>\n",
              "      <td>-11.2</td>\n",
              "      <td>NaN</td>\n",
              "      <td>73.0</td>\n",
              "      <td>NaN</td>\n",
              "      <td>20.0</td>\n",
              "      <td>NaN</td>\n",
              "      <td>9.0</td>\n",
              "      <td>NaN</td>\n",
              "      <td>24.1</td>\n",
              "      <td>NaN</td>\n",
              "      <td>98.52</td>\n",
              "      <td>NaN</td>\n",
              "      <td>NaN</td>\n",
              "      <td>NaN</td>\n",
              "      <td>-11.0</td>\n",
              "      <td>NaN</td>\n",
              "      <td>NaN</td>\n",
              "      <td>0.98</td>\n",
              "    </tr>\n",
              "    <tr>\n",
              "      <th>14614</th>\n",
              "      <td>-81.15</td>\n",
              "      <td>43.03</td>\n",
              "      <td>LONDON A</td>\n",
              "      <td>6144473</td>\n",
              "      <td>2020-02-29 22:00</td>\n",
              "      <td>2020</td>\n",
              "      <td>2</td>\n",
              "      <td>29</td>\n",
              "      <td>22:00</td>\n",
              "      <td>-9.1</td>\n",
              "      <td>NaN</td>\n",
              "      <td>-12.0</td>\n",
              "      <td>NaN</td>\n",
              "      <td>80.0</td>\n",
              "      <td>NaN</td>\n",
              "      <td>20.0</td>\n",
              "      <td>NaN</td>\n",
              "      <td>8.0</td>\n",
              "      <td>NaN</td>\n",
              "      <td>24.1</td>\n",
              "      <td>NaN</td>\n",
              "      <td>98.52</td>\n",
              "      <td>NaN</td>\n",
              "      <td>NaN</td>\n",
              "      <td>NaN</td>\n",
              "      <td>-13.0</td>\n",
              "      <td>NaN</td>\n",
              "      <td>Clear</td>\n",
              "      <td>0.93</td>\n",
              "    </tr>\n",
              "    <tr>\n",
              "      <th>14615</th>\n",
              "      <td>-81.15</td>\n",
              "      <td>43.03</td>\n",
              "      <td>LONDON A</td>\n",
              "      <td>6144473</td>\n",
              "      <td>2020-02-29 23:00</td>\n",
              "      <td>2020</td>\n",
              "      <td>2</td>\n",
              "      <td>29</td>\n",
              "      <td>23:00</td>\n",
              "      <td>-9.2</td>\n",
              "      <td>NaN</td>\n",
              "      <td>-12.2</td>\n",
              "      <td>NaN</td>\n",
              "      <td>79.0</td>\n",
              "      <td>NaN</td>\n",
              "      <td>22.0</td>\n",
              "      <td>NaN</td>\n",
              "      <td>7.0</td>\n",
              "      <td>NaN</td>\n",
              "      <td>24.1</td>\n",
              "      <td>NaN</td>\n",
              "      <td>98.52</td>\n",
              "      <td>NaN</td>\n",
              "      <td>NaN</td>\n",
              "      <td>NaN</td>\n",
              "      <td>-13.0</td>\n",
              "      <td>NaN</td>\n",
              "      <td>NaN</td>\n",
              "      <td>6.34</td>\n",
              "    </tr>\n",
              "  </tbody>\n",
              "</table>\n",
              "<p>14616 rows × 29 columns</p>\n",
              "</div>"
            ],
            "text/plain": [
              "       Longitude (x)  Latitude (y)  ...       Weather  Usage (kilowatt-hours)\n",
              "0             -81.15         43.03  ...           NaN                    3.53\n",
              "1             -81.15         43.03  ...         Clear                    3.45\n",
              "2             -81.15         43.03  ...           NaN                    3.36\n",
              "3             -81.15         43.03  ...           NaN                    2.90\n",
              "4             -81.15         43.03  ...  Mainly Clear                    2.77\n",
              "...              ...           ...  ...           ...                     ...\n",
              "14611         -81.15         43.03  ...  Mainly Clear                    0.84\n",
              "14612         -81.15         43.03  ...           NaN                    0.88\n",
              "14613         -81.15         43.03  ...           NaN                    0.98\n",
              "14614         -81.15         43.03  ...         Clear                    0.93\n",
              "14615         -81.15         43.03  ...           NaN                    6.34\n",
              "\n",
              "[14616 rows x 29 columns]"
            ]
          },
          "metadata": {
            "tags": []
          },
          "execution_count": 149
        }
      ]
    },
    {
      "cell_type": "code",
      "metadata": {
        "colab": {
          "base_uri": "https://localhost:8080/",
          "height": 604
        },
        "id": "bs4A4El1LVJc",
        "outputId": "577cff6b-91d3-4bd1-b72e-d331fd6146e9"
      },
      "source": [
        "plt.figure(figsize=(10,5))\n",
        "plt.plot(data['Usage (kilowatt-hours)'])\n",
        "plt.show()\n",
        "\n",
        "# close up on the first week\n",
        "plt.plot(data['Usage (kilowatt-hours)'].head(168))\n",
        "plt.show()"
      ],
      "execution_count": 150,
      "outputs": [
        {
          "output_type": "execute_result",
          "data": {
            "text/plain": [
              "<Figure size 720x360 with 0 Axes>"
            ]
          },
          "metadata": {
            "tags": []
          },
          "execution_count": 150
        },
        {
          "output_type": "execute_result",
          "data": {
            "text/plain": [
              "[<matplotlib.lines.Line2D at 0x7f0f84d588d0>]"
            ]
          },
          "metadata": {
            "tags": []
          },
          "execution_count": 150
        },
        {
          "output_type": "display_data",
          "data": {
            "image/png": "[encoded data removed]",
            "text/plain": [
              "<Figure size 720x360 with 1 Axes>"
            ]
          },
          "metadata": {
            "tags": [],
            "needs_background": "light"
          }
        },
        {
          "output_type": "execute_result",
          "data": {
            "text/plain": [
              "[<matplotlib.lines.Line2D at 0x7f0f875f3ac8>]"
            ]
          },
          "metadata": {
            "tags": []
          },
          "execution_count": 150
        },
        {
          "output_type": "display_data",
          "data": {
            "image/png": "[encoded data removed]",
            "text/plain": [
              "<Figure size 432x288 with 1 Axes>"
            ]
          },
          "metadata": {
            "tags": [],
            "needs_background": "light"
          }
        }
      ]
    },
    {
      "cell_type": "markdown",
      "metadata": {
        "id": "BvWxI8bXy98q"
      },
      "source": [
        "Data Cleaning"
      ]
    },
    {
      "cell_type": "code",
      "metadata": {
        "colab": {
          "base_uri": "https://localhost:8080/"
        },
        "id": "E04KQ1a2N6AL",
        "outputId": "300c190c-ad89-474a-b6ec-03d27171aabb"
      },
      "source": [
        "# ================= Data Cleaning =======================\n",
        "\n",
        "# drop the columns with mostly missing values\n",
        "data = data.drop(columns=[\"Temp Flag\", \"Dew Point Temp Flag\", \"Rel Hum Flag\", \"Wind Dir Flag\", \"Wind Spd Flag\",\n",
        "                   \"Visibility Flag\", \"Stn Press Flag\", \"Hmdx\", \"Hmdx Flag\", \"Wind Chill\", \"Wind Chill Flag\"])\n",
        "\n",
        "# drop columns with constant data\n",
        "data = data.drop(columns=[\"Longitude (x)\", \"Latitude (y)\", \"Station Name\", \"Climate ID\", 'Date/Time'])\n",
        "\n",
        "print(data.isnull().sum())"
      ],
      "execution_count": 151,
      "outputs": [
        {
          "output_type": "stream",
          "text": [
            "Year                         0\n",
            "Month                        0\n",
            "Day                          0\n",
            "Time                         0\n",
            "Temp (°C)                    9\n",
            "Dew Point Temp (°C)          9\n",
            "Rel Hum (%)                  9\n",
            "Wind Dir (10s deg)          19\n",
            "Wind Spd (km/h)              9\n",
            "Visibility (km)              8\n",
            "Stn Press (kPa)              9\n",
            "Weather                   7211\n",
            "Usage (kilowatt-hours)       0\n",
            "dtype: int64\n"
          ],
          "name": "stdout"
        }
      ]
    },
    {
      "cell_type": "code",
      "metadata": {
        "colab": {
          "base_uri": "https://localhost:8080/"
        },
        "id": "pPURAF8LOBB2",
        "outputId": "862fad53-da84-4b91-a04a-3b446586f8b8"
      },
      "source": [
        "# Deal with missing values\n",
        "columns_to_clean = [\"Temp (°C)\", \"Dew Point Temp (°C)\", \"Rel Hum (%)\", \"Wind Dir (10s deg)\", \"Wind Spd (km/h)\",\n",
        "                    \"Visibility (km)\", \"Stn Press (kPa)\"]\n",
        "\n",
        "# replace with previous hour data\n",
        "for col in columns_to_clean:\n",
        "    data[col].fillna(method='ffill', inplace=True)\n",
        "\n",
        "print(data.isnull().sum())"
      ],
      "execution_count": 152,
      "outputs": [
        {
          "output_type": "stream",
          "text": [
            "Year                         0\n",
            "Month                        0\n",
            "Day                          0\n",
            "Time                         0\n",
            "Temp (°C)                    0\n",
            "Dew Point Temp (°C)          0\n",
            "Rel Hum (%)                  0\n",
            "Wind Dir (10s deg)           0\n",
            "Wind Spd (km/h)              0\n",
            "Visibility (km)              0\n",
            "Stn Press (kPa)              0\n",
            "Weather                   7211\n",
            "Usage (kilowatt-hours)       0\n",
            "dtype: int64\n"
          ],
          "name": "stdout"
        }
      ]
    },
    {
      "cell_type": "markdown",
      "metadata": {
        "id": "95vM-kC0y4Z_"
      },
      "source": [
        "Weather Attribute"
      ]
    },
    {
      "cell_type": "code",
      "metadata": {
        "colab": {
          "base_uri": "https://localhost:8080/"
        },
        "id": "sD_wHRE6OC7i",
        "outputId": "6a7f2449-cf78-46bf-89dc-28f0c7fb8639"
      },
      "source": [
        "# clean the \"weather\" attribute: replace missing values with previous observations\n",
        "data[\"Weather\"].fillna(method='ffill', inplace=True)\n",
        "\n",
        "print(data.isnull().sum())"
      ],
      "execution_count": 153,
      "outputs": [
        {
          "output_type": "stream",
          "text": [
            "Year                      0\n",
            "Month                     0\n",
            "Day                       0\n",
            "Time                      0\n",
            "Temp (°C)                 0\n",
            "Dew Point Temp (°C)       0\n",
            "Rel Hum (%)               0\n",
            "Wind Dir (10s deg)        0\n",
            "Wind Spd (km/h)           0\n",
            "Visibility (km)           0\n",
            "Stn Press (kPa)           0\n",
            "Weather                   1\n",
            "Usage (kilowatt-hours)    0\n",
            "dtype: int64\n"
          ],
          "name": "stdout"
        }
      ]
    },
    {
      "cell_type": "code",
      "metadata": {
        "colab": {
          "base_uri": "https://localhost:8080/",
          "height": 297
        },
        "id": "FVBmH11iEYCO",
        "outputId": "37836c9c-334d-490f-e3fb-d539e4740375"
      },
      "source": [
        "sns.scatterplot(data=data, x=\"Temp (°C)\", y=\"Usage (kilowatt-hours)\")"
      ],
      "execution_count": 154,
      "outputs": [
        {
          "output_type": "execute_result",
          "data": {
            "text/plain": [
              "<matplotlib.axes._subplots.AxesSubplot at 0x7f0f860b44e0>"
            ]
          },
          "metadata": {
            "tags": []
          },
          "execution_count": 154
        },
        {
          "output_type": "display_data",
          "data": {
            "image/png": "[encoded data removed]",
            "text/plain": [
              "<Figure size 432x288 with 1 Axes>"
            ]
          },
          "metadata": {
            "tags": [],
            "needs_background": "light"
          }
        }
      ]
    },
    {
      "cell_type": "markdown",
      "metadata": {
        "id": "tnzBzPyuA_Qb"
      },
      "source": [
        "Feature Engineering"
      ]
    },
    {
      "cell_type": "markdown",
      "metadata": {
        "id": "hAYQUhh-AoVN"
      },
      "source": [
        "Hour of Day"
      ]
    },
    {
      "cell_type": "code",
      "metadata": {
        "colab": {
          "base_uri": "https://localhost:8080/",
          "height": 502
        },
        "id": "1huatERRxZRK",
        "outputId": "ef62a4d8-e89f-44fb-dea0-88928fd96305"
      },
      "source": [
        "data['Time'] = data['Time'].apply(lambda s: float(s.split(':')[0]))\n",
        "data"
      ],
      "execution_count": 155,
      "outputs": [
        {
          "output_type": "execute_result",
          "data": {
            "text/html": [
              "<div>\n",
              "<style scoped>\n",
              "    .dataframe tbody tr th:only-of-type {\n",
              "        vertical-align: middle;\n",
              "    }\n",
              "\n",
              "    .dataframe tbody tr th {\n",
              "        vertical-align: top;\n",
              "    }\n",
              "\n",
              "    .dataframe thead th {\n",
              "        text-align: right;\n",
              "    }\n",
              "</style>\n",
              "<table border=\"1\" class=\"dataframe\">\n",
              "  <thead>\n",
              "    <tr style=\"text-align: right;\">\n",
              "      <th></th>\n",
              "      <th>Year</th>\n",
              "      <th>Month</th>\n",
              "      <th>Day</th>\n",
              "      <th>Time</th>\n",
              "      <th>Temp (°C)</th>\n",
              "      <th>Dew Point Temp (°C)</th>\n",
              "      <th>Rel Hum (%)</th>\n",
              "      <th>Wind Dir (10s deg)</th>\n",
              "      <th>Wind Spd (km/h)</th>\n",
              "      <th>Visibility (km)</th>\n",
              "      <th>Stn Press (kPa)</th>\n",
              "      <th>Weather</th>\n",
              "      <th>Usage (kilowatt-hours)</th>\n",
              "    </tr>\n",
              "  </thead>\n",
              "  <tbody>\n",
              "    <tr>\n",
              "      <th>0</th>\n",
              "      <td>2018</td>\n",
              "      <td>7</td>\n",
              "      <td>1</td>\n",
              "      <td>0.0</td>\n",
              "      <td>25.0</td>\n",
              "      <td>20.9</td>\n",
              "      <td>78.0</td>\n",
              "      <td>21.0</td>\n",
              "      <td>10.0</td>\n",
              "      <td>24.1</td>\n",
              "      <td>98.35</td>\n",
              "      <td>NaN</td>\n",
              "      <td>3.53</td>\n",
              "    </tr>\n",
              "    <tr>\n",
              "      <th>1</th>\n",
              "      <td>2018</td>\n",
              "      <td>7</td>\n",
              "      <td>1</td>\n",
              "      <td>1.0</td>\n",
              "      <td>23.5</td>\n",
              "      <td>20.8</td>\n",
              "      <td>84.0</td>\n",
              "      <td>20.0</td>\n",
              "      <td>7.0</td>\n",
              "      <td>24.1</td>\n",
              "      <td>98.39</td>\n",
              "      <td>Clear</td>\n",
              "      <td>3.45</td>\n",
              "    </tr>\n",
              "    <tr>\n",
              "      <th>2</th>\n",
              "      <td>2018</td>\n",
              "      <td>7</td>\n",
              "      <td>1</td>\n",
              "      <td>2.0</td>\n",
              "      <td>22.9</td>\n",
              "      <td>20.6</td>\n",
              "      <td>86.0</td>\n",
              "      <td>19.0</td>\n",
              "      <td>5.0</td>\n",
              "      <td>24.1</td>\n",
              "      <td>98.39</td>\n",
              "      <td>Clear</td>\n",
              "      <td>3.36</td>\n",
              "    </tr>\n",
              "    <tr>\n",
              "      <th>3</th>\n",
              "      <td>2018</td>\n",
              "      <td>7</td>\n",
              "      <td>1</td>\n",
              "      <td>3.0</td>\n",
              "      <td>19.9</td>\n",
              "      <td>19.3</td>\n",
              "      <td>96.0</td>\n",
              "      <td>0.0</td>\n",
              "      <td>1.0</td>\n",
              "      <td>24.1</td>\n",
              "      <td>98.42</td>\n",
              "      <td>Clear</td>\n",
              "      <td>2.90</td>\n",
              "    </tr>\n",
              "    <tr>\n",
              "      <th>4</th>\n",
              "      <td>2018</td>\n",
              "      <td>7</td>\n",
              "      <td>1</td>\n",
              "      <td>4.0</td>\n",
              "      <td>20.1</td>\n",
              "      <td>19.6</td>\n",
              "      <td>97.0</td>\n",
              "      <td>26.0</td>\n",
              "      <td>5.0</td>\n",
              "      <td>24.1</td>\n",
              "      <td>98.38</td>\n",
              "      <td>Mainly Clear</td>\n",
              "      <td>2.77</td>\n",
              "    </tr>\n",
              "    <tr>\n",
              "      <th>...</th>\n",
              "      <td>...</td>\n",
              "      <td>...</td>\n",
              "      <td>...</td>\n",
              "      <td>...</td>\n",
              "      <td>...</td>\n",
              "      <td>...</td>\n",
              "      <td>...</td>\n",
              "      <td>...</td>\n",
              "      <td>...</td>\n",
              "      <td>...</td>\n",
              "      <td>...</td>\n",
              "      <td>...</td>\n",
              "      <td>...</td>\n",
              "    </tr>\n",
              "    <tr>\n",
              "      <th>14611</th>\n",
              "      <td>2020</td>\n",
              "      <td>2</td>\n",
              "      <td>29</td>\n",
              "      <td>19.0</td>\n",
              "      <td>-6.7</td>\n",
              "      <td>-11.7</td>\n",
              "      <td>68.0</td>\n",
              "      <td>24.0</td>\n",
              "      <td>11.0</td>\n",
              "      <td>24.1</td>\n",
              "      <td>98.52</td>\n",
              "      <td>Mainly Clear</td>\n",
              "      <td>0.84</td>\n",
              "    </tr>\n",
              "    <tr>\n",
              "      <th>14612</th>\n",
              "      <td>2020</td>\n",
              "      <td>2</td>\n",
              "      <td>29</td>\n",
              "      <td>20.0</td>\n",
              "      <td>-7.0</td>\n",
              "      <td>-11.5</td>\n",
              "      <td>71.0</td>\n",
              "      <td>23.0</td>\n",
              "      <td>11.0</td>\n",
              "      <td>24.1</td>\n",
              "      <td>98.53</td>\n",
              "      <td>Mainly Clear</td>\n",
              "      <td>0.88</td>\n",
              "    </tr>\n",
              "    <tr>\n",
              "      <th>14613</th>\n",
              "      <td>2020</td>\n",
              "      <td>2</td>\n",
              "      <td>29</td>\n",
              "      <td>21.0</td>\n",
              "      <td>-7.1</td>\n",
              "      <td>-11.2</td>\n",
              "      <td>73.0</td>\n",
              "      <td>20.0</td>\n",
              "      <td>9.0</td>\n",
              "      <td>24.1</td>\n",
              "      <td>98.52</td>\n",
              "      <td>Mainly Clear</td>\n",
              "      <td>0.98</td>\n",
              "    </tr>\n",
              "    <tr>\n",
              "      <th>14614</th>\n",
              "      <td>2020</td>\n",
              "      <td>2</td>\n",
              "      <td>29</td>\n",
              "      <td>22.0</td>\n",
              "      <td>-9.1</td>\n",
              "      <td>-12.0</td>\n",
              "      <td>80.0</td>\n",
              "      <td>20.0</td>\n",
              "      <td>8.0</td>\n",
              "      <td>24.1</td>\n",
              "      <td>98.52</td>\n",
              "      <td>Clear</td>\n",
              "      <td>0.93</td>\n",
              "    </tr>\n",
              "    <tr>\n",
              "      <th>14615</th>\n",
              "      <td>2020</td>\n",
              "      <td>2</td>\n",
              "      <td>29</td>\n",
              "      <td>23.0</td>\n",
              "      <td>-9.2</td>\n",
              "      <td>-12.2</td>\n",
              "      <td>79.0</td>\n",
              "      <td>22.0</td>\n",
              "      <td>7.0</td>\n",
              "      <td>24.1</td>\n",
              "      <td>98.52</td>\n",
              "      <td>Clear</td>\n",
              "      <td>6.34</td>\n",
              "    </tr>\n",
              "  </tbody>\n",
              "</table>\n",
              "<p>14616 rows × 13 columns</p>\n",
              "</div>"
            ],
            "text/plain": [
              "       Year  Month  Day  ...  Stn Press (kPa)       Weather  Usage (kilowatt-hours)\n",
              "0      2018      7    1  ...            98.35           NaN                    3.53\n",
              "1      2018      7    1  ...            98.39         Clear                    3.45\n",
              "2      2018      7    1  ...            98.39         Clear                    3.36\n",
              "3      2018      7    1  ...            98.42         Clear                    2.90\n",
              "4      2018      7    1  ...            98.38  Mainly Clear                    2.77\n",
              "...     ...    ...  ...  ...              ...           ...                     ...\n",
              "14611  2020      2   29  ...            98.52  Mainly Clear                    0.84\n",
              "14612  2020      2   29  ...            98.53  Mainly Clear                    0.88\n",
              "14613  2020      2   29  ...            98.52  Mainly Clear                    0.98\n",
              "14614  2020      2   29  ...            98.52         Clear                    0.93\n",
              "14615  2020      2   29  ...            98.52         Clear                    6.34\n",
              "\n",
              "[14616 rows x 13 columns]"
            ]
          },
          "metadata": {
            "tags": []
          },
          "execution_count": 155
        }
      ]
    },
    {
      "cell_type": "markdown",
      "metadata": {
        "id": "R6FSnV9OGgJI"
      },
      "source": [
        "Day of week"
      ]
    },
    {
      "cell_type": "code",
      "metadata": {
        "colab": {
          "base_uri": "https://localhost:8080/",
          "height": 415
        },
        "id": "nfl5IHmiICKg",
        "outputId": "56a7a44e-703c-4932-c708-dd5695ef3868"
      },
      "source": [
        "day_week = []\n",
        "counter = 0\n",
        "\n",
        "for day in range(len(data)):\n",
        "  if 0<= counter <= 23:\n",
        "    day_week.append(7)\n",
        "  elif 24 <= counter <=47:\n",
        "    day_week.append(1)\n",
        "  elif 48<= counter <= 71:\n",
        "    day_week.append(2)\n",
        "  elif 72 <= counter <= 95:\n",
        "    day_week.append(3)\n",
        "  elif 96 <= counter <=119:\n",
        "    day_week.append(4)\n",
        "  elif 120 <=counter <= 143:\n",
        "    day_week.append(5)\n",
        "  elif 144 <= counter <=167:\n",
        "    day_week.append(6)\n",
        "  \n",
        "  counter += 1\n",
        "\n",
        "  if counter > 167:\n",
        "    counter = 0\n",
        "\n",
        "day_week = pd.DataFrame(data=day_week, columns=['day_week'])\n",
        "day_week\n",
        "\n",
        "data = pd.concat([data, day_week], axis=1)"
      ],
      "execution_count": 156,
      "outputs": [
        {
          "output_type": "execute_result",
          "data": {
            "text/html": [
              "<div>\n",
              "<style scoped>\n",
              "    .dataframe tbody tr th:only-of-type {\n",
              "        vertical-align: middle;\n",
              "    }\n",
              "\n",
              "    .dataframe tbody tr th {\n",
              "        vertical-align: top;\n",
              "    }\n",
              "\n",
              "    .dataframe thead th {\n",
              "        text-align: right;\n",
              "    }\n",
              "</style>\n",
              "<table border=\"1\" class=\"dataframe\">\n",
              "  <thead>\n",
              "    <tr style=\"text-align: right;\">\n",
              "      <th></th>\n",
              "      <th>day_week</th>\n",
              "    </tr>\n",
              "  </thead>\n",
              "  <tbody>\n",
              "    <tr>\n",
              "      <th>0</th>\n",
              "      <td>7</td>\n",
              "    </tr>\n",
              "    <tr>\n",
              "      <th>1</th>\n",
              "      <td>7</td>\n",
              "    </tr>\n",
              "    <tr>\n",
              "      <th>2</th>\n",
              "      <td>7</td>\n",
              "    </tr>\n",
              "    <tr>\n",
              "      <th>3</th>\n",
              "      <td>7</td>\n",
              "    </tr>\n",
              "    <tr>\n",
              "      <th>4</th>\n",
              "      <td>7</td>\n",
              "    </tr>\n",
              "    <tr>\n",
              "      <th>...</th>\n",
              "      <td>...</td>\n",
              "    </tr>\n",
              "    <tr>\n",
              "      <th>14611</th>\n",
              "      <td>6</td>\n",
              "    </tr>\n",
              "    <tr>\n",
              "      <th>14612</th>\n",
              "      <td>6</td>\n",
              "    </tr>\n",
              "    <tr>\n",
              "      <th>14613</th>\n",
              "      <td>6</td>\n",
              "    </tr>\n",
              "    <tr>\n",
              "      <th>14614</th>\n",
              "      <td>6</td>\n",
              "    </tr>\n",
              "    <tr>\n",
              "      <th>14615</th>\n",
              "      <td>6</td>\n",
              "    </tr>\n",
              "  </tbody>\n",
              "</table>\n",
              "<p>14616 rows × 1 columns</p>\n",
              "</div>"
            ],
            "text/plain": [
              "       day_week\n",
              "0             7\n",
              "1             7\n",
              "2             7\n",
              "3             7\n",
              "4             7\n",
              "...         ...\n",
              "14611         6\n",
              "14612         6\n",
              "14613         6\n",
              "14614         6\n",
              "14615         6\n",
              "\n",
              "[14616 rows x 1 columns]"
            ]
          },
          "metadata": {
            "tags": []
          },
          "execution_count": 156
        }
      ]
    },
    {
      "cell_type": "markdown",
      "metadata": {
        "id": "0VvxFLfHAtDa"
      },
      "source": [
        "Usage at previous timesteps as features"
      ]
    },
    {
      "cell_type": "code",
      "metadata": {
        "id": "d8BUKxTlAucV",
        "colab": {
          "base_uri": "https://localhost:8080/",
          "height": 626
        },
        "outputId": "e7182d40-2e26-45ed-f90c-f609fc37cab0"
      },
      "source": [
        "steps = 7\n",
        "\n",
        "for i in range(1,steps):\n",
        "  data['Previous_Usage' + str(i)] = data['Usage (kilowatt-hours)'].shift(i)\n",
        "  \n",
        "for i in range(steps-1):\n",
        "  data.drop(index=i, inplace=True)\n",
        "\n",
        "data = pd.DataFrame.reset_index(data, drop=True)\n",
        "data"
      ],
      "execution_count": 157,
      "outputs": [
        {
          "output_type": "execute_result",
          "data": {
            "text/html": [
              "<div>\n",
              "<style scoped>\n",
              "    .dataframe tbody tr th:only-of-type {\n",
              "        vertical-align: middle;\n",
              "    }\n",
              "\n",
              "    .dataframe tbody tr th {\n",
              "        vertical-align: top;\n",
              "    }\n",
              "\n",
              "    .dataframe thead th {\n",
              "        text-align: right;\n",
              "    }\n",
              "</style>\n",
              "<table border=\"1\" class=\"dataframe\">\n",
              "  <thead>\n",
              "    <tr style=\"text-align: right;\">\n",
              "      <th></th>\n",
              "      <th>Year</th>\n",
              "      <th>Month</th>\n",
              "      <th>Day</th>\n",
              "      <th>Time</th>\n",
              "      <th>Temp (°C)</th>\n",
              "      <th>Dew Point Temp (°C)</th>\n",
              "      <th>Rel Hum (%)</th>\n",
              "      <th>Wind Dir (10s deg)</th>\n",
              "      <th>Wind Spd (km/h)</th>\n",
              "      <th>Visibility (km)</th>\n",
              "      <th>Stn Press (kPa)</th>\n",
              "      <th>Weather</th>\n",
              "      <th>Usage (kilowatt-hours)</th>\n",
              "      <th>day_week</th>\n",
              "      <th>Previous_Usage1</th>\n",
              "      <th>Previous_Usage2</th>\n",
              "      <th>Previous_Usage3</th>\n",
              "      <th>Previous_Usage4</th>\n",
              "      <th>Previous_Usage5</th>\n",
              "      <th>Previous_Usage6</th>\n",
              "    </tr>\n",
              "  </thead>\n",
              "  <tbody>\n",
              "    <tr>\n",
              "      <th>0</th>\n",
              "      <td>2018</td>\n",
              "      <td>7</td>\n",
              "      <td>1</td>\n",
              "      <td>6.0</td>\n",
              "      <td>21.8</td>\n",
              "      <td>20.8</td>\n",
              "      <td>94.0</td>\n",
              "      <td>16.0</td>\n",
              "      <td>4.0</td>\n",
              "      <td>16.1</td>\n",
              "      <td>98.39</td>\n",
              "      <td>Mainly Clear</td>\n",
              "      <td>2.08</td>\n",
              "      <td>7</td>\n",
              "      <td>2.83</td>\n",
              "      <td>2.77</td>\n",
              "      <td>2.90</td>\n",
              "      <td>3.36</td>\n",
              "      <td>3.45</td>\n",
              "      <td>3.53</td>\n",
              "    </tr>\n",
              "    <tr>\n",
              "      <th>1</th>\n",
              "      <td>2018</td>\n",
              "      <td>7</td>\n",
              "      <td>1</td>\n",
              "      <td>7.0</td>\n",
              "      <td>24.8</td>\n",
              "      <td>21.8</td>\n",
              "      <td>83.0</td>\n",
              "      <td>19.0</td>\n",
              "      <td>9.0</td>\n",
              "      <td>24.1</td>\n",
              "      <td>98.43</td>\n",
              "      <td>Mainly Clear</td>\n",
              "      <td>1.18</td>\n",
              "      <td>7</td>\n",
              "      <td>2.08</td>\n",
              "      <td>2.83</td>\n",
              "      <td>2.77</td>\n",
              "      <td>2.90</td>\n",
              "      <td>3.36</td>\n",
              "      <td>3.45</td>\n",
              "    </tr>\n",
              "    <tr>\n",
              "      <th>2</th>\n",
              "      <td>2018</td>\n",
              "      <td>7</td>\n",
              "      <td>1</td>\n",
              "      <td>8.0</td>\n",
              "      <td>26.6</td>\n",
              "      <td>22.7</td>\n",
              "      <td>79.0</td>\n",
              "      <td>18.0</td>\n",
              "      <td>9.0</td>\n",
              "      <td>24.1</td>\n",
              "      <td>98.44</td>\n",
              "      <td>Mainly Clear</td>\n",
              "      <td>2.46</td>\n",
              "      <td>7</td>\n",
              "      <td>1.18</td>\n",
              "      <td>2.08</td>\n",
              "      <td>2.83</td>\n",
              "      <td>2.77</td>\n",
              "      <td>2.90</td>\n",
              "      <td>3.36</td>\n",
              "    </tr>\n",
              "    <tr>\n",
              "      <th>3</th>\n",
              "      <td>2018</td>\n",
              "      <td>7</td>\n",
              "      <td>1</td>\n",
              "      <td>9.0</td>\n",
              "      <td>28.2</td>\n",
              "      <td>23.4</td>\n",
              "      <td>75.0</td>\n",
              "      <td>18.0</td>\n",
              "      <td>14.0</td>\n",
              "      <td>24.1</td>\n",
              "      <td>98.46</td>\n",
              "      <td>Mainly Clear</td>\n",
              "      <td>2.95</td>\n",
              "      <td>7</td>\n",
              "      <td>2.46</td>\n",
              "      <td>1.18</td>\n",
              "      <td>2.08</td>\n",
              "      <td>2.83</td>\n",
              "      <td>2.77</td>\n",
              "      <td>2.90</td>\n",
              "    </tr>\n",
              "    <tr>\n",
              "      <th>4</th>\n",
              "      <td>2018</td>\n",
              "      <td>7</td>\n",
              "      <td>1</td>\n",
              "      <td>10.0</td>\n",
              "      <td>29.4</td>\n",
              "      <td>23.7</td>\n",
              "      <td>71.0</td>\n",
              "      <td>17.0</td>\n",
              "      <td>14.0</td>\n",
              "      <td>24.1</td>\n",
              "      <td>98.42</td>\n",
              "      <td>Mainly Clear</td>\n",
              "      <td>2.96</td>\n",
              "      <td>7</td>\n",
              "      <td>2.95</td>\n",
              "      <td>2.46</td>\n",
              "      <td>1.18</td>\n",
              "      <td>2.08</td>\n",
              "      <td>2.83</td>\n",
              "      <td>2.77</td>\n",
              "    </tr>\n",
              "    <tr>\n",
              "      <th>...</th>\n",
              "      <td>...</td>\n",
              "      <td>...</td>\n",
              "      <td>...</td>\n",
              "      <td>...</td>\n",
              "      <td>...</td>\n",
              "      <td>...</td>\n",
              "      <td>...</td>\n",
              "      <td>...</td>\n",
              "      <td>...</td>\n",
              "      <td>...</td>\n",
              "      <td>...</td>\n",
              "      <td>...</td>\n",
              "      <td>...</td>\n",
              "      <td>...</td>\n",
              "      <td>...</td>\n",
              "      <td>...</td>\n",
              "      <td>...</td>\n",
              "      <td>...</td>\n",
              "      <td>...</td>\n",
              "      <td>...</td>\n",
              "    </tr>\n",
              "    <tr>\n",
              "      <th>14605</th>\n",
              "      <td>2020</td>\n",
              "      <td>2</td>\n",
              "      <td>29</td>\n",
              "      <td>19.0</td>\n",
              "      <td>-6.7</td>\n",
              "      <td>-11.7</td>\n",
              "      <td>68.0</td>\n",
              "      <td>24.0</td>\n",
              "      <td>11.0</td>\n",
              "      <td>24.1</td>\n",
              "      <td>98.52</td>\n",
              "      <td>Mainly Clear</td>\n",
              "      <td>0.84</td>\n",
              "      <td>6</td>\n",
              "      <td>0.87</td>\n",
              "      <td>0.71</td>\n",
              "      <td>0.83</td>\n",
              "      <td>0.67</td>\n",
              "      <td>0.86</td>\n",
              "      <td>0.82</td>\n",
              "    </tr>\n",
              "    <tr>\n",
              "      <th>14606</th>\n",
              "      <td>2020</td>\n",
              "      <td>2</td>\n",
              "      <td>29</td>\n",
              "      <td>20.0</td>\n",
              "      <td>-7.0</td>\n",
              "      <td>-11.5</td>\n",
              "      <td>71.0</td>\n",
              "      <td>23.0</td>\n",
              "      <td>11.0</td>\n",
              "      <td>24.1</td>\n",
              "      <td>98.53</td>\n",
              "      <td>Mainly Clear</td>\n",
              "      <td>0.88</td>\n",
              "      <td>6</td>\n",
              "      <td>0.84</td>\n",
              "      <td>0.87</td>\n",
              "      <td>0.71</td>\n",
              "      <td>0.83</td>\n",
              "      <td>0.67</td>\n",
              "      <td>0.86</td>\n",
              "    </tr>\n",
              "    <tr>\n",
              "      <th>14607</th>\n",
              "      <td>2020</td>\n",
              "      <td>2</td>\n",
              "      <td>29</td>\n",
              "      <td>21.0</td>\n",
              "      <td>-7.1</td>\n",
              "      <td>-11.2</td>\n",
              "      <td>73.0</td>\n",
              "      <td>20.0</td>\n",
              "      <td>9.0</td>\n",
              "      <td>24.1</td>\n",
              "      <td>98.52</td>\n",
              "      <td>Mainly Clear</td>\n",
              "      <td>0.98</td>\n",
              "      <td>6</td>\n",
              "      <td>0.88</td>\n",
              "      <td>0.84</td>\n",
              "      <td>0.87</td>\n",
              "      <td>0.71</td>\n",
              "      <td>0.83</td>\n",
              "      <td>0.67</td>\n",
              "    </tr>\n",
              "    <tr>\n",
              "      <th>14608</th>\n",
              "      <td>2020</td>\n",
              "      <td>2</td>\n",
              "      <td>29</td>\n",
              "      <td>22.0</td>\n",
              "      <td>-9.1</td>\n",
              "      <td>-12.0</td>\n",
              "      <td>80.0</td>\n",
              "      <td>20.0</td>\n",
              "      <td>8.0</td>\n",
              "      <td>24.1</td>\n",
              "      <td>98.52</td>\n",
              "      <td>Clear</td>\n",
              "      <td>0.93</td>\n",
              "      <td>6</td>\n",
              "      <td>0.98</td>\n",
              "      <td>0.88</td>\n",
              "      <td>0.84</td>\n",
              "      <td>0.87</td>\n",
              "      <td>0.71</td>\n",
              "      <td>0.83</td>\n",
              "    </tr>\n",
              "    <tr>\n",
              "      <th>14609</th>\n",
              "      <td>2020</td>\n",
              "      <td>2</td>\n",
              "      <td>29</td>\n",
              "      <td>23.0</td>\n",
              "      <td>-9.2</td>\n",
              "      <td>-12.2</td>\n",
              "      <td>79.0</td>\n",
              "      <td>22.0</td>\n",
              "      <td>7.0</td>\n",
              "      <td>24.1</td>\n",
              "      <td>98.52</td>\n",
              "      <td>Clear</td>\n",
              "      <td>6.34</td>\n",
              "      <td>6</td>\n",
              "      <td>0.93</td>\n",
              "      <td>0.98</td>\n",
              "      <td>0.88</td>\n",
              "      <td>0.84</td>\n",
              "      <td>0.87</td>\n",
              "      <td>0.71</td>\n",
              "    </tr>\n",
              "  </tbody>\n",
              "</table>\n",
              "<p>14610 rows × 20 columns</p>\n",
              "</div>"
            ],
            "text/plain": [
              "       Year  Month  Day  ...  Previous_Usage4  Previous_Usage5  Previous_Usage6\n",
              "0      2018      7    1  ...             3.36             3.45             3.53\n",
              "1      2018      7    1  ...             2.90             3.36             3.45\n",
              "2      2018      7    1  ...             2.77             2.90             3.36\n",
              "3      2018      7    1  ...             2.83             2.77             2.90\n",
              "4      2018      7    1  ...             2.08             2.83             2.77\n",
              "...     ...    ...  ...  ...              ...              ...              ...\n",
              "14605  2020      2   29  ...             0.67             0.86             0.82\n",
              "14606  2020      2   29  ...             0.83             0.67             0.86\n",
              "14607  2020      2   29  ...             0.71             0.83             0.67\n",
              "14608  2020      2   29  ...             0.87             0.71             0.83\n",
              "14609  2020      2   29  ...             0.84             0.87             0.71\n",
              "\n",
              "[14610 rows x 20 columns]"
            ]
          },
          "metadata": {
            "tags": []
          },
          "execution_count": 157
        }
      ]
    },
    {
      "cell_type": "markdown",
      "metadata": {
        "id": "dZA7yIE5WGAA"
      },
      "source": [
        "Season Feature"
      ]
    },
    {
      "cell_type": "code",
      "metadata": {
        "colab": {
          "base_uri": "https://localhost:8080/",
          "height": 415
        },
        "id": "igBHVV1pOu6d",
        "outputId": "cddef40e-cebd-4cae-e478-ec81284be212"
      },
      "source": [
        "season = []\n",
        "for month in data['Month']:\n",
        "  if 4 <= month <= 5:\n",
        "    season.append(1)\n",
        "  elif 6 <= month <= 9:\n",
        "    season.append(2)\n",
        "  elif 10 <= month <= 11:\n",
        "    season.append(3)\n",
        "  elif 12 == month or month <= 3:\n",
        "    season.append(4)\n",
        "\n",
        "season = pd.DataFrame(data=season, columns=['Season'])\n",
        "season\n",
        "\n",
        "data = pd.concat([data, season], axis=1)"
      ],
      "execution_count": 158,
      "outputs": [
        {
          "output_type": "execute_result",
          "data": {
            "text/html": [
              "<div>\n",
              "<style scoped>\n",
              "    .dataframe tbody tr th:only-of-type {\n",
              "        vertical-align: middle;\n",
              "    }\n",
              "\n",
              "    .dataframe tbody tr th {\n",
              "        vertical-align: top;\n",
              "    }\n",
              "\n",
              "    .dataframe thead th {\n",
              "        text-align: right;\n",
              "    }\n",
              "</style>\n",
              "<table border=\"1\" class=\"dataframe\">\n",
              "  <thead>\n",
              "    <tr style=\"text-align: right;\">\n",
              "      <th></th>\n",
              "      <th>Season</th>\n",
              "    </tr>\n",
              "  </thead>\n",
              "  <tbody>\n",
              "    <tr>\n",
              "      <th>0</th>\n",
              "      <td>2</td>\n",
              "    </tr>\n",
              "    <tr>\n",
              "      <th>1</th>\n",
              "      <td>2</td>\n",
              "    </tr>\n",
              "    <tr>\n",
              "      <th>2</th>\n",
              "      <td>2</td>\n",
              "    </tr>\n",
              "    <tr>\n",
              "      <th>3</th>\n",
              "      <td>2</td>\n",
              "    </tr>\n",
              "    <tr>\n",
              "      <th>4</th>\n",
              "      <td>2</td>\n",
              "    </tr>\n",
              "    <tr>\n",
              "      <th>...</th>\n",
              "      <td>...</td>\n",
              "    </tr>\n",
              "    <tr>\n",
              "      <th>14605</th>\n",
              "      <td>4</td>\n",
              "    </tr>\n",
              "    <tr>\n",
              "      <th>14606</th>\n",
              "      <td>4</td>\n",
              "    </tr>\n",
              "    <tr>\n",
              "      <th>14607</th>\n",
              "      <td>4</td>\n",
              "    </tr>\n",
              "    <tr>\n",
              "      <th>14608</th>\n",
              "      <td>4</td>\n",
              "    </tr>\n",
              "    <tr>\n",
              "      <th>14609</th>\n",
              "      <td>4</td>\n",
              "    </tr>\n",
              "  </tbody>\n",
              "</table>\n",
              "<p>14610 rows × 1 columns</p>\n",
              "</div>"
            ],
            "text/plain": [
              "       Season\n",
              "0           2\n",
              "1           2\n",
              "2           2\n",
              "3           2\n",
              "4           2\n",
              "...       ...\n",
              "14605       4\n",
              "14606       4\n",
              "14607       4\n",
              "14608       4\n",
              "14609       4\n",
              "\n",
              "[14610 rows x 1 columns]"
            ]
          },
          "metadata": {
            "tags": []
          },
          "execution_count": 158
        }
      ]
    },
    {
      "cell_type": "markdown",
      "metadata": {
        "id": "EtRXlp8kZPZb"
      },
      "source": [
        "Unit Circle Mapping for Cyclical Features"
      ]
    },
    {
      "cell_type": "code",
      "metadata": {
        "id": "IswOibaqZRV4"
      },
      "source": [
        "def encode_cyclical(data, col, max_val):\n",
        "  data[col + '_sin'] = np.sin(2*np.pi*data[col]/max_val)\n",
        "  data[col + '_cos'] = np.cos(2*np.pi*data[col]/max_val)\n",
        "\n",
        "  data.drop(columns=[col], inplace=True)\n",
        "  return data\n",
        "\n",
        "\n",
        "data = encode_cyclical(data, 'Month', 12)\n",
        "data = encode_cyclical(data, 'Time', 24)\n",
        "data = encode_cyclical(data, 'day_week', 7)\n",
        "data = encode_cyclical(data, 'Season', 4)"
      ],
      "execution_count": 159,
      "outputs": []
    },
    {
      "cell_type": "code",
      "metadata": {
        "colab": {
          "base_uri": "https://localhost:8080/",
          "height": 661
        },
        "id": "bv-QYa7oxh9k",
        "outputId": "780ecf77-1023-41c0-a0c7-35315365ed55"
      },
      "source": [
        "data_onehot = data.copy()\n",
        "\n",
        "# Discard Weather and Year feature\n",
        "data_onehot = data_onehot.drop(columns=['Weather', 'Year', 'Day'], axis=1)\n",
        "\n",
        "data_onehot"
      ],
      "execution_count": 160,
      "outputs": [
        {
          "output_type": "execute_result",
          "data": {
            "text/html": [
              "<div>\n",
              "<style scoped>\n",
              "    .dataframe tbody tr th:only-of-type {\n",
              "        vertical-align: middle;\n",
              "    }\n",
              "\n",
              "    .dataframe tbody tr th {\n",
              "        vertical-align: top;\n",
              "    }\n",
              "\n",
              "    .dataframe thead th {\n",
              "        text-align: right;\n",
              "    }\n",
              "</style>\n",
              "<table border=\"1\" class=\"dataframe\">\n",
              "  <thead>\n",
              "    <tr style=\"text-align: right;\">\n",
              "      <th></th>\n",
              "      <th>Temp (°C)</th>\n",
              "      <th>Dew Point Temp (°C)</th>\n",
              "      <th>Rel Hum (%)</th>\n",
              "      <th>Wind Dir (10s deg)</th>\n",
              "      <th>Wind Spd (km/h)</th>\n",
              "      <th>Visibility (km)</th>\n",
              "      <th>Stn Press (kPa)</th>\n",
              "      <th>Usage (kilowatt-hours)</th>\n",
              "      <th>Previous_Usage1</th>\n",
              "      <th>Previous_Usage2</th>\n",
              "      <th>Previous_Usage3</th>\n",
              "      <th>Previous_Usage4</th>\n",
              "      <th>Previous_Usage5</th>\n",
              "      <th>Previous_Usage6</th>\n",
              "      <th>Month_sin</th>\n",
              "      <th>Month_cos</th>\n",
              "      <th>Time_sin</th>\n",
              "      <th>Time_cos</th>\n",
              "      <th>day_week_sin</th>\n",
              "      <th>day_week_cos</th>\n",
              "      <th>Season_sin</th>\n",
              "      <th>Season_cos</th>\n",
              "    </tr>\n",
              "  </thead>\n",
              "  <tbody>\n",
              "    <tr>\n",
              "      <th>0</th>\n",
              "      <td>21.8</td>\n",
              "      <td>20.8</td>\n",
              "      <td>94.0</td>\n",
              "      <td>16.0</td>\n",
              "      <td>4.0</td>\n",
              "      <td>16.1</td>\n",
              "      <td>98.39</td>\n",
              "      <td>2.08</td>\n",
              "      <td>2.83</td>\n",
              "      <td>2.77</td>\n",
              "      <td>2.90</td>\n",
              "      <td>3.36</td>\n",
              "      <td>3.45</td>\n",
              "      <td>3.53</td>\n",
              "      <td>-0.500000</td>\n",
              "      <td>-0.866025</td>\n",
              "      <td>1.000000</td>\n",
              "      <td>6.123234e-17</td>\n",
              "      <td>-2.449294e-16</td>\n",
              "      <td>1.00000</td>\n",
              "      <td>1.224647e-16</td>\n",
              "      <td>-1.0</td>\n",
              "    </tr>\n",
              "    <tr>\n",
              "      <th>1</th>\n",
              "      <td>24.8</td>\n",
              "      <td>21.8</td>\n",
              "      <td>83.0</td>\n",
              "      <td>19.0</td>\n",
              "      <td>9.0</td>\n",
              "      <td>24.1</td>\n",
              "      <td>98.43</td>\n",
              "      <td>1.18</td>\n",
              "      <td>2.08</td>\n",
              "      <td>2.83</td>\n",
              "      <td>2.77</td>\n",
              "      <td>2.90</td>\n",
              "      <td>3.36</td>\n",
              "      <td>3.45</td>\n",
              "      <td>-0.500000</td>\n",
              "      <td>-0.866025</td>\n",
              "      <td>0.965926</td>\n",
              "      <td>-2.588190e-01</td>\n",
              "      <td>-2.449294e-16</td>\n",
              "      <td>1.00000</td>\n",
              "      <td>1.224647e-16</td>\n",
              "      <td>-1.0</td>\n",
              "    </tr>\n",
              "    <tr>\n",
              "      <th>2</th>\n",
              "      <td>26.6</td>\n",
              "      <td>22.7</td>\n",
              "      <td>79.0</td>\n",
              "      <td>18.0</td>\n",
              "      <td>9.0</td>\n",
              "      <td>24.1</td>\n",
              "      <td>98.44</td>\n",
              "      <td>2.46</td>\n",
              "      <td>1.18</td>\n",
              "      <td>2.08</td>\n",
              "      <td>2.83</td>\n",
              "      <td>2.77</td>\n",
              "      <td>2.90</td>\n",
              "      <td>3.36</td>\n",
              "      <td>-0.500000</td>\n",
              "      <td>-0.866025</td>\n",
              "      <td>0.866025</td>\n",
              "      <td>-5.000000e-01</td>\n",
              "      <td>-2.449294e-16</td>\n",
              "      <td>1.00000</td>\n",
              "      <td>1.224647e-16</td>\n",
              "      <td>-1.0</td>\n",
              "    </tr>\n",
              "    <tr>\n",
              "      <th>3</th>\n",
              "      <td>28.2</td>\n",
              "      <td>23.4</td>\n",
              "      <td>75.0</td>\n",
              "      <td>18.0</td>\n",
              "      <td>14.0</td>\n",
              "      <td>24.1</td>\n",
              "      <td>98.46</td>\n",
              "      <td>2.95</td>\n",
              "      <td>2.46</td>\n",
              "      <td>1.18</td>\n",
              "      <td>2.08</td>\n",
              "      <td>2.83</td>\n",
              "      <td>2.77</td>\n",
              "      <td>2.90</td>\n",
              "      <td>-0.500000</td>\n",
              "      <td>-0.866025</td>\n",
              "      <td>0.707107</td>\n",
              "      <td>-7.071068e-01</td>\n",
              "      <td>-2.449294e-16</td>\n",
              "      <td>1.00000</td>\n",
              "      <td>1.224647e-16</td>\n",
              "      <td>-1.0</td>\n",
              "    </tr>\n",
              "    <tr>\n",
              "      <th>4</th>\n",
              "      <td>29.4</td>\n",
              "      <td>23.7</td>\n",
              "      <td>71.0</td>\n",
              "      <td>17.0</td>\n",
              "      <td>14.0</td>\n",
              "      <td>24.1</td>\n",
              "      <td>98.42</td>\n",
              "      <td>2.96</td>\n",
              "      <td>2.95</td>\n",
              "      <td>2.46</td>\n",
              "      <td>1.18</td>\n",
              "      <td>2.08</td>\n",
              "      <td>2.83</td>\n",
              "      <td>2.77</td>\n",
              "      <td>-0.500000</td>\n",
              "      <td>-0.866025</td>\n",
              "      <td>0.500000</td>\n",
              "      <td>-8.660254e-01</td>\n",
              "      <td>-2.449294e-16</td>\n",
              "      <td>1.00000</td>\n",
              "      <td>1.224647e-16</td>\n",
              "      <td>-1.0</td>\n",
              "    </tr>\n",
              "    <tr>\n",
              "      <th>...</th>\n",
              "      <td>...</td>\n",
              "      <td>...</td>\n",
              "      <td>...</td>\n",
              "      <td>...</td>\n",
              "      <td>...</td>\n",
              "      <td>...</td>\n",
              "      <td>...</td>\n",
              "      <td>...</td>\n",
              "      <td>...</td>\n",
              "      <td>...</td>\n",
              "      <td>...</td>\n",
              "      <td>...</td>\n",
              "      <td>...</td>\n",
              "      <td>...</td>\n",
              "      <td>...</td>\n",
              "      <td>...</td>\n",
              "      <td>...</td>\n",
              "      <td>...</td>\n",
              "      <td>...</td>\n",
              "      <td>...</td>\n",
              "      <td>...</td>\n",
              "      <td>...</td>\n",
              "    </tr>\n",
              "    <tr>\n",
              "      <th>14605</th>\n",
              "      <td>-6.7</td>\n",
              "      <td>-11.7</td>\n",
              "      <td>68.0</td>\n",
              "      <td>24.0</td>\n",
              "      <td>11.0</td>\n",
              "      <td>24.1</td>\n",
              "      <td>98.52</td>\n",
              "      <td>0.84</td>\n",
              "      <td>0.87</td>\n",
              "      <td>0.71</td>\n",
              "      <td>0.83</td>\n",
              "      <td>0.67</td>\n",
              "      <td>0.86</td>\n",
              "      <td>0.82</td>\n",
              "      <td>0.866025</td>\n",
              "      <td>0.500000</td>\n",
              "      <td>-0.965926</td>\n",
              "      <td>2.588190e-01</td>\n",
              "      <td>-7.818315e-01</td>\n",
              "      <td>0.62349</td>\n",
              "      <td>-2.449294e-16</td>\n",
              "      <td>1.0</td>\n",
              "    </tr>\n",
              "    <tr>\n",
              "      <th>14606</th>\n",
              "      <td>-7.0</td>\n",
              "      <td>-11.5</td>\n",
              "      <td>71.0</td>\n",
              "      <td>23.0</td>\n",
              "      <td>11.0</td>\n",
              "      <td>24.1</td>\n",
              "      <td>98.53</td>\n",
              "      <td>0.88</td>\n",
              "      <td>0.84</td>\n",
              "      <td>0.87</td>\n",
              "      <td>0.71</td>\n",
              "      <td>0.83</td>\n",
              "      <td>0.67</td>\n",
              "      <td>0.86</td>\n",
              "      <td>0.866025</td>\n",
              "      <td>0.500000</td>\n",
              "      <td>-0.866025</td>\n",
              "      <td>5.000000e-01</td>\n",
              "      <td>-7.818315e-01</td>\n",
              "      <td>0.62349</td>\n",
              "      <td>-2.449294e-16</td>\n",
              "      <td>1.0</td>\n",
              "    </tr>\n",
              "    <tr>\n",
              "      <th>14607</th>\n",
              "      <td>-7.1</td>\n",
              "      <td>-11.2</td>\n",
              "      <td>73.0</td>\n",
              "      <td>20.0</td>\n",
              "      <td>9.0</td>\n",
              "      <td>24.1</td>\n",
              "      <td>98.52</td>\n",
              "      <td>0.98</td>\n",
              "      <td>0.88</td>\n",
              "      <td>0.84</td>\n",
              "      <td>0.87</td>\n",
              "      <td>0.71</td>\n",
              "      <td>0.83</td>\n",
              "      <td>0.67</td>\n",
              "      <td>0.866025</td>\n",
              "      <td>0.500000</td>\n",
              "      <td>-0.707107</td>\n",
              "      <td>7.071068e-01</td>\n",
              "      <td>-7.818315e-01</td>\n",
              "      <td>0.62349</td>\n",
              "      <td>-2.449294e-16</td>\n",
              "      <td>1.0</td>\n",
              "    </tr>\n",
              "    <tr>\n",
              "      <th>14608</th>\n",
              "      <td>-9.1</td>\n",
              "      <td>-12.0</td>\n",
              "      <td>80.0</td>\n",
              "      <td>20.0</td>\n",
              "      <td>8.0</td>\n",
              "      <td>24.1</td>\n",
              "      <td>98.52</td>\n",
              "      <td>0.93</td>\n",
              "      <td>0.98</td>\n",
              "      <td>0.88</td>\n",
              "      <td>0.84</td>\n",
              "      <td>0.87</td>\n",
              "      <td>0.71</td>\n",
              "      <td>0.83</td>\n",
              "      <td>0.866025</td>\n",
              "      <td>0.500000</td>\n",
              "      <td>-0.500000</td>\n",
              "      <td>8.660254e-01</td>\n",
              "      <td>-7.818315e-01</td>\n",
              "      <td>0.62349</td>\n",
              "      <td>-2.449294e-16</td>\n",
              "      <td>1.0</td>\n",
              "    </tr>\n",
              "    <tr>\n",
              "      <th>14609</th>\n",
              "      <td>-9.2</td>\n",
              "      <td>-12.2</td>\n",
              "      <td>79.0</td>\n",
              "      <td>22.0</td>\n",
              "      <td>7.0</td>\n",
              "      <td>24.1</td>\n",
              "      <td>98.52</td>\n",
              "      <td>6.34</td>\n",
              "      <td>0.93</td>\n",
              "      <td>0.98</td>\n",
              "      <td>0.88</td>\n",
              "      <td>0.84</td>\n",
              "      <td>0.87</td>\n",
              "      <td>0.71</td>\n",
              "      <td>0.866025</td>\n",
              "      <td>0.500000</td>\n",
              "      <td>-0.258819</td>\n",
              "      <td>9.659258e-01</td>\n",
              "      <td>-7.818315e-01</td>\n",
              "      <td>0.62349</td>\n",
              "      <td>-2.449294e-16</td>\n",
              "      <td>1.0</td>\n",
              "    </tr>\n",
              "  </tbody>\n",
              "</table>\n",
              "<p>14610 rows × 22 columns</p>\n",
              "</div>"
            ],
            "text/plain": [
              "       Temp (°C)  Dew Point Temp (°C)  ...    Season_sin  Season_cos\n",
              "0           21.8                 20.8  ...  1.224647e-16        -1.0\n",
              "1           24.8                 21.8  ...  1.224647e-16        -1.0\n",
              "2           26.6                 22.7  ...  1.224647e-16        -1.0\n",
              "3           28.2                 23.4  ...  1.224647e-16        -1.0\n",
              "4           29.4                 23.7  ...  1.224647e-16        -1.0\n",
              "...          ...                  ...  ...           ...         ...\n",
              "14605       -6.7                -11.7  ... -2.449294e-16         1.0\n",
              "14606       -7.0                -11.5  ... -2.449294e-16         1.0\n",
              "14607       -7.1                -11.2  ... -2.449294e-16         1.0\n",
              "14608       -9.1                -12.0  ... -2.449294e-16         1.0\n",
              "14609       -9.2                -12.2  ... -2.449294e-16         1.0\n",
              "\n",
              "[14610 rows x 22 columns]"
            ]
          },
          "metadata": {
            "tags": []
          },
          "execution_count": 160
        }
      ]
    },
    {
      "cell_type": "markdown",
      "metadata": {
        "id": "0aeWzpjY6732"
      },
      "source": [
        "Data Preprocessing"
      ]
    },
    {
      "cell_type": "code",
      "metadata": {
        "id": "-RKy0KJlz5av",
        "colab": {
          "base_uri": "https://localhost:8080/",
          "height": 715
        },
        "outputId": "67218e99-ff78-4fdb-f668-3b0877100a45"
      },
      "source": [
        "X = data_onehot.drop(columns=['Usage (kilowatt-hours)'], axis=1)\n",
        "Y = data_onehot[['Usage (kilowatt-hours)']]\n",
        "\n",
        "# split training, validation, test set as 60% : 20% : 20%\n",
        "X_train_full, X_test, Y_train_full, Y_test = train_test_split(X, Y, test_size=0.2, random_state=42, shuffle=False)\n",
        "\n",
        "X_train, X_valid, Y_train, Y_valid = train_test_split(X_train_full, Y_train_full, test_size=0.25, random_state=42, shuffle=False)\n",
        "\n",
        "\n",
        "print(X_train.shape)\n",
        "print(X_valid.shape)\n",
        "print(X_test.shape)\n",
        "\n",
        "# standardization\n",
        "# scalerX = StandardScaler()\n",
        "# X_train_scaled = scalerX.fit_transform(X_train)\n",
        "# X_valid_scaled = scalerX.transform(X_valid)\n",
        "# X_test_scaled = scalerX.transform(X_test)\n",
        "\n",
        "# ========= Avoid scaling on one-hot and unit-mapped features ============\n",
        "X_train_scaled = X_train.copy()\n",
        "X_valid_scaled = X_valid.copy()\n",
        "X_test_scaled = X_test.copy()\n",
        "\n",
        "scale_cols = ['Temp (°C)', 'Dew Point Temp (°C)', 'Rel Hum (%)', \n",
        "              'Wind Dir (10s deg)', 'Wind Spd (km/h)',\n",
        "              'Visibility (km)', 'Stn Press (kPa)']\n",
        "\n",
        "previous_usage_cols = []\n",
        "for i in range(1,steps):\n",
        "  previous_usage_cols.append('Previous_Usage' + str(i))\n",
        "\n",
        "\n",
        "scale_cols = scale_cols + previous_usage_cols\n",
        "\n",
        "for col in scale_cols:\n",
        "  scalerX = StandardScaler().fit(X_train[[col]])\n",
        "  X_train_scaled[col] = scalerX.transform(X_train_scaled[[col]])\n",
        "  X_valid_scaled[col] = scalerX.transform(X_valid_scaled[[col]])\n",
        "  X_test_scaled[col] = scalerX.transform(X_test_scaled[[col]])\n",
        "\n",
        "\n",
        "scalerY = StandardScaler()\n",
        "Y_train_scaled = scalerY.fit_transform(Y_train)\n",
        "Y_valid_scaled = scalerY.transform(Y_valid)\n",
        "Y_test_scaled = scalerY.transform(Y_test)\n",
        "\n",
        "X_train_scaled\n"
      ],
      "execution_count": 161,
      "outputs": [
        {
          "output_type": "stream",
          "text": [
            "(8766, 21)\n",
            "(2922, 21)\n",
            "(2922, 21)\n"
          ],
          "name": "stdout"
        },
        {
          "output_type": "execute_result",
          "data": {
            "text/html": [
              "<div>\n",
              "<style scoped>\n",
              "    .dataframe tbody tr th:only-of-type {\n",
              "        vertical-align: middle;\n",
              "    }\n",
              "\n",
              "    .dataframe tbody tr th {\n",
              "        vertical-align: top;\n",
              "    }\n",
              "\n",
              "    .dataframe thead th {\n",
              "        text-align: right;\n",
              "    }\n",
              "</style>\n",
              "<table border=\"1\" class=\"dataframe\">\n",
              "  <thead>\n",
              "    <tr style=\"text-align: right;\">\n",
              "      <th></th>\n",
              "      <th>Temp (°C)</th>\n",
              "      <th>Dew Point Temp (°C)</th>\n",
              "      <th>Rel Hum (%)</th>\n",
              "      <th>Wind Dir (10s deg)</th>\n",
              "      <th>Wind Spd (km/h)</th>\n",
              "      <th>Visibility (km)</th>\n",
              "      <th>Stn Press (kPa)</th>\n",
              "      <th>Previous_Usage1</th>\n",
              "      <th>Previous_Usage2</th>\n",
              "      <th>Previous_Usage3</th>\n",
              "      <th>Previous_Usage4</th>\n",
              "      <th>Previous_Usage5</th>\n",
              "      <th>Previous_Usage6</th>\n",
              "      <th>Month_sin</th>\n",
              "      <th>Month_cos</th>\n",
              "      <th>Time_sin</th>\n",
              "      <th>Time_cos</th>\n",
              "      <th>day_week_sin</th>\n",
              "      <th>day_week_cos</th>\n",
              "      <th>Season_sin</th>\n",
              "      <th>Season_cos</th>\n",
              "    </tr>\n",
              "  </thead>\n",
              "  <tbody>\n",
              "    <tr>\n",
              "      <th>0</th>\n",
              "      <td>1.247307</td>\n",
              "      <td>1.530523</td>\n",
              "      <td>1.002203</td>\n",
              "      <td>-0.444096</td>\n",
              "      <td>-1.244063</td>\n",
              "      <td>-0.508403</td>\n",
              "      <td>0.019740</td>\n",
              "      <td>0.333148</td>\n",
              "      <td>0.309900</td>\n",
              "      <td>0.360223</td>\n",
              "      <td>0.538298</td>\n",
              "      <td>0.573039</td>\n",
              "      <td>0.603910</td>\n",
              "      <td>-0.5</td>\n",
              "      <td>-0.866025</td>\n",
              "      <td>1.000000</td>\n",
              "      <td>6.123234e-17</td>\n",
              "      <td>-2.449294e-16</td>\n",
              "      <td>1.00000</td>\n",
              "      <td>1.224647e-16</td>\n",
              "      <td>-1.0</td>\n",
              "    </tr>\n",
              "    <tr>\n",
              "      <th>1</th>\n",
              "      <td>1.514377</td>\n",
              "      <td>1.621321</td>\n",
              "      <td>0.298641</td>\n",
              "      <td>-0.148107</td>\n",
              "      <td>-0.658006</td>\n",
              "      <td>0.600954</td>\n",
              "      <td>0.074790</td>\n",
              "      <td>0.042615</td>\n",
              "      <td>0.333143</td>\n",
              "      <td>0.309864</td>\n",
              "      <td>0.360106</td>\n",
              "      <td>0.538175</td>\n",
              "      <td>0.572921</td>\n",
              "      <td>-0.5</td>\n",
              "      <td>-0.866025</td>\n",
              "      <td>0.965926</td>\n",
              "      <td>-2.588190e-01</td>\n",
              "      <td>-2.449294e-16</td>\n",
              "      <td>1.00000</td>\n",
              "      <td>1.224647e-16</td>\n",
              "      <td>-1.0</td>\n",
              "    </tr>\n",
              "    <tr>\n",
              "      <th>2</th>\n",
              "      <td>1.674619</td>\n",
              "      <td>1.703040</td>\n",
              "      <td>0.042801</td>\n",
              "      <td>-0.246770</td>\n",
              "      <td>-0.658006</td>\n",
              "      <td>0.600954</td>\n",
              "      <td>0.088553</td>\n",
              "      <td>-0.306026</td>\n",
              "      <td>0.042610</td>\n",
              "      <td>0.333107</td>\n",
              "      <td>0.309747</td>\n",
              "      <td>0.359984</td>\n",
              "      <td>0.538058</td>\n",
              "      <td>-0.5</td>\n",
              "      <td>-0.866025</td>\n",
              "      <td>0.866025</td>\n",
              "      <td>-5.000000e-01</td>\n",
              "      <td>-2.449294e-16</td>\n",
              "      <td>1.00000</td>\n",
              "      <td>1.224647e-16</td>\n",
              "      <td>-1.0</td>\n",
              "    </tr>\n",
              "    <tr>\n",
              "      <th>3</th>\n",
              "      <td>1.817056</td>\n",
              "      <td>1.766598</td>\n",
              "      <td>-0.213040</td>\n",
              "      <td>-0.246770</td>\n",
              "      <td>-0.071950</td>\n",
              "      <td>0.600954</td>\n",
              "      <td>0.116078</td>\n",
              "      <td>0.189818</td>\n",
              "      <td>-0.306030</td>\n",
              "      <td>0.042575</td>\n",
              "      <td>0.332990</td>\n",
              "      <td>0.309626</td>\n",
              "      <td>0.359870</td>\n",
              "      <td>-0.5</td>\n",
              "      <td>-0.866025</td>\n",
              "      <td>0.707107</td>\n",
              "      <td>-7.071068e-01</td>\n",
              "      <td>-2.449294e-16</td>\n",
              "      <td>1.00000</td>\n",
              "      <td>1.224647e-16</td>\n",
              "      <td>-1.0</td>\n",
              "    </tr>\n",
              "    <tr>\n",
              "      <th>4</th>\n",
              "      <td>1.923885</td>\n",
              "      <td>1.793838</td>\n",
              "      <td>-0.468881</td>\n",
              "      <td>-0.345433</td>\n",
              "      <td>-0.071950</td>\n",
              "      <td>0.600954</td>\n",
              "      <td>0.061028</td>\n",
              "      <td>0.379634</td>\n",
              "      <td>0.189813</td>\n",
              "      <td>-0.306062</td>\n",
              "      <td>0.042460</td>\n",
              "      <td>0.332868</td>\n",
              "      <td>0.309512</td>\n",
              "      <td>-0.5</td>\n",
              "      <td>-0.866025</td>\n",
              "      <td>0.500000</td>\n",
              "      <td>-8.660254e-01</td>\n",
              "      <td>-2.449294e-16</td>\n",
              "      <td>1.00000</td>\n",
              "      <td>1.224647e-16</td>\n",
              "      <td>-1.0</td>\n",
              "    </tr>\n",
              "    <tr>\n",
              "      <th>...</th>\n",
              "      <td>...</td>\n",
              "      <td>...</td>\n",
              "      <td>...</td>\n",
              "      <td>...</td>\n",
              "      <td>...</td>\n",
              "      <td>...</td>\n",
              "      <td>...</td>\n",
              "      <td>...</td>\n",
              "      <td>...</td>\n",
              "      <td>...</td>\n",
              "      <td>...</td>\n",
              "      <td>...</td>\n",
              "      <td>...</td>\n",
              "      <td>...</td>\n",
              "      <td>...</td>\n",
              "      <td>...</td>\n",
              "      <td>...</td>\n",
              "      <td>...</td>\n",
              "      <td>...</td>\n",
              "      <td>...</td>\n",
              "      <td>...</td>\n",
              "    </tr>\n",
              "    <tr>\n",
              "      <th>8761</th>\n",
              "      <td>0.837799</td>\n",
              "      <td>0.894935</td>\n",
              "      <td>0.106761</td>\n",
              "      <td>-1.036075</td>\n",
              "      <td>-0.658006</td>\n",
              "      <td>0.600954</td>\n",
              "      <td>0.047265</td>\n",
              "      <td>-0.360259</td>\n",
              "      <td>-0.530709</td>\n",
              "      <td>-0.519118</td>\n",
              "      <td>-0.534727</td>\n",
              "      <td>-0.387642</td>\n",
              "      <td>1.564578</td>\n",
              "      <td>-0.5</td>\n",
              "      <td>-0.866025</td>\n",
              "      <td>0.965926</td>\n",
              "      <td>-2.588190e-01</td>\n",
              "      <td>7.818315e-01</td>\n",
              "      <td>0.62349</td>\n",
              "      <td>1.224647e-16</td>\n",
              "      <td>-1.0</td>\n",
              "    </tr>\n",
              "    <tr>\n",
              "      <th>8762</th>\n",
              "      <td>1.087065</td>\n",
              "      <td>1.058372</td>\n",
              "      <td>-0.213040</td>\n",
              "      <td>-0.444096</td>\n",
              "      <td>-0.658006</td>\n",
              "      <td>0.600954</td>\n",
              "      <td>0.019740</td>\n",
              "      <td>-0.472598</td>\n",
              "      <td>-0.360263</td>\n",
              "      <td>-0.530739</td>\n",
              "      <td>-0.519232</td>\n",
              "      <td>-0.534843</td>\n",
              "      <td>-0.387747</td>\n",
              "      <td>-0.5</td>\n",
              "      <td>-0.866025</td>\n",
              "      <td>0.866025</td>\n",
              "      <td>-5.000000e-01</td>\n",
              "      <td>7.818315e-01</td>\n",
              "      <td>0.62349</td>\n",
              "      <td>1.224647e-16</td>\n",
              "      <td>-1.0</td>\n",
              "    </tr>\n",
              "    <tr>\n",
              "      <th>8763</th>\n",
              "      <td>1.300721</td>\n",
              "      <td>0.913095</td>\n",
              "      <td>-1.300363</td>\n",
              "      <td>0.147882</td>\n",
              "      <td>-0.658006</td>\n",
              "      <td>0.600954</td>\n",
              "      <td>0.005977</td>\n",
              "      <td>-0.476472</td>\n",
              "      <td>-0.472603</td>\n",
              "      <td>-0.360294</td>\n",
              "      <td>-0.530853</td>\n",
              "      <td>-0.519348</td>\n",
              "      <td>-0.534946</td>\n",
              "      <td>-0.5</td>\n",
              "      <td>-0.866025</td>\n",
              "      <td>0.707107</td>\n",
              "      <td>-7.071068e-01</td>\n",
              "      <td>7.818315e-01</td>\n",
              "      <td>0.62349</td>\n",
              "      <td>1.224647e-16</td>\n",
              "      <td>-1.0</td>\n",
              "    </tr>\n",
              "    <tr>\n",
              "      <th>8764</th>\n",
              "      <td>1.425353</td>\n",
              "      <td>0.931254</td>\n",
              "      <td>-1.556204</td>\n",
              "      <td>0.937187</td>\n",
              "      <td>-0.189161</td>\n",
              "      <td>0.600954</td>\n",
              "      <td>0.088553</td>\n",
              "      <td>0.061984</td>\n",
              "      <td>-0.476476</td>\n",
              "      <td>-0.472633</td>\n",
              "      <td>-0.360409</td>\n",
              "      <td>-0.530969</td>\n",
              "      <td>-0.519451</td>\n",
              "      <td>-0.5</td>\n",
              "      <td>-0.866025</td>\n",
              "      <td>0.500000</td>\n",
              "      <td>-8.660254e-01</td>\n",
              "      <td>7.818315e-01</td>\n",
              "      <td>0.62349</td>\n",
              "      <td>1.224647e-16</td>\n",
              "      <td>-1.0</td>\n",
              "    </tr>\n",
              "    <tr>\n",
              "      <th>8765</th>\n",
              "      <td>1.549986</td>\n",
              "      <td>1.049292</td>\n",
              "      <td>-1.556204</td>\n",
              "      <td>0.443871</td>\n",
              "      <td>-1.126851</td>\n",
              "      <td>0.600954</td>\n",
              "      <td>-0.049074</td>\n",
              "      <td>0.267294</td>\n",
              "      <td>0.061979</td>\n",
              "      <td>-0.476507</td>\n",
              "      <td>-0.472747</td>\n",
              "      <td>-0.360526</td>\n",
              "      <td>-0.531072</td>\n",
              "      <td>-0.5</td>\n",
              "      <td>-0.866025</td>\n",
              "      <td>0.258819</td>\n",
              "      <td>-9.659258e-01</td>\n",
              "      <td>7.818315e-01</td>\n",
              "      <td>0.62349</td>\n",
              "      <td>1.224647e-16</td>\n",
              "      <td>-1.0</td>\n",
              "    </tr>\n",
              "  </tbody>\n",
              "</table>\n",
              "<p>8766 rows × 21 columns</p>\n",
              "</div>"
            ],
            "text/plain": [
              "      Temp (°C)  Dew Point Temp (°C)  ...    Season_sin  Season_cos\n",
              "0      1.247307             1.530523  ...  1.224647e-16        -1.0\n",
              "1      1.514377             1.621321  ...  1.224647e-16        -1.0\n",
              "2      1.674619             1.703040  ...  1.224647e-16        -1.0\n",
              "3      1.817056             1.766598  ...  1.224647e-16        -1.0\n",
              "4      1.923885             1.793838  ...  1.224647e-16        -1.0\n",
              "...         ...                  ...  ...           ...         ...\n",
              "8761   0.837799             0.894935  ...  1.224647e-16        -1.0\n",
              "8762   1.087065             1.058372  ...  1.224647e-16        -1.0\n",
              "8763   1.300721             0.913095  ...  1.224647e-16        -1.0\n",
              "8764   1.425353             0.931254  ...  1.224647e-16        -1.0\n",
              "8765   1.549986             1.049292  ...  1.224647e-16        -1.0\n",
              "\n",
              "[8766 rows x 21 columns]"
            ]
          },
          "metadata": {
            "tags": []
          },
          "execution_count": 161
        }
      ]
    },
    {
      "cell_type": "markdown",
      "metadata": {
        "id": "n4xidaQBX7F8"
      },
      "source": [
        "Sliding Window"
      ]
    },
    {
      "cell_type": "code",
      "metadata": {
        "id": "Xn2R7fOprIMT"
      },
      "source": [
        "def generate_sliding_window(ts, ws):\r\n",
        "  data= []\r\n",
        "  for i in range(len(ts)-ws):\r\n",
        "    data.append(ts[i:i+ws])\r\n",
        "  return np.stack(data)"
      ],
      "execution_count": 162,
      "outputs": []
    },
    {
      "cell_type": "code",
      "metadata": {
        "colab": {
          "base_uri": "https://localhost:8080/"
        },
        "id": "cXpeYM5qrWm9",
        "outputId": "89c6a5f1-8119-4eae-e4e1-4aabd4b232e9"
      },
      "source": [
        "window_size = 24\r\n",
        "\r\n",
        "X_train_scaled = generate_sliding_window(X_train_scaled, window_size)\r\n",
        "X_valid_scaled = generate_sliding_window(X_valid_scaled, window_size)\r\n",
        "X_test_scaled = generate_sliding_window(X_test_scaled, window_size)\r\n",
        "\r\n",
        "# As forecasting one single value for each series, should expect Y_train_scaled has shape [8742, 1]\r\n",
        "\r\n",
        "Y_train_scaled = Y_train_scaled[:8766-window_size]\r\n",
        "Y_valid_scaled = Y_valid_scaled[:2922-window_size]\r\n",
        "\r\n",
        "print(X_train_scaled.shape)\r\n",
        "print(Y_train_scaled.shape)\r\n"
      ],
      "execution_count": 163,
      "outputs": [
        {
          "output_type": "stream",
          "text": [
            "(8742, 24, 21)\n",
            "(8742, 1)\n"
          ],
          "name": "stdout"
        }
      ]
    },
    {
      "cell_type": "markdown",
      "metadata": {
        "id": "2Kf1lUbs7A2T"
      },
      "source": [
        "Modeling"
      ]
    },
    {
      "cell_type": "code",
      "metadata": {
        "id": "1wKh7CcTv3C-"
      },
      "source": [
        "# ========================= Hyper-parameters Tuning ==============================\n",
        "\n",
        "# tune batch size\n",
        "# class MyTuner(kt.tuners.RandomSearch):\n",
        "#   def run_trial(self, trial, *args, **kwargs):\n",
        "#     # You can add additional HyperParameters for preprocessing and custom training loops\n",
        "#     # via overriding `run_trial`\n",
        "#     kwargs['batch_size'] = trial.hyperparameters.Choice('batch', values=[16, 32])\n",
        "#     super(MyTuner, self).run_trial(trial, *args, **kwargs)\n",
        "\n",
        "\n",
        "# def build_model(hp):\n",
        "#     model = keras.models.Sequential()\n",
        "\n",
        "#     hp_neurons = hp.Choice('neurons', values=[30, 40, 50])\n",
        "#     hp_layers = hp.Choice('layers', values=[1, 2, 3])\n",
        "#     hp_regularize = hp.Choice('regularize', values=[0.01, 0.02])\n",
        "\n",
        "#     # hidden layers\n",
        "#     for layer in range(hp_layers):\n",
        "#         model.add(layers.LSTM(units=hp_neurons, return_sequences=True, activation='elu', kernel_initializer='he_normal', kernel_regularizer=l2(hp_regularize)))\n",
        "\n",
        "#     # output layer\n",
        "#     model.add(layers.Dense(1, kernel_initializer='he_normal'))\n",
        "\n",
        "#     optimizer = keras.optimizers.Nadam()\n",
        "#     model.compile(loss='mse', optimizer=optimizer)\n",
        "#     return model\n",
        "\n",
        "\n",
        "# early_stopping_cb = tf.keras.callbacks.EarlyStopping(patience=30, restore_best_weights=True, mode='min')\n",
        "\n",
        "# tuner = MyTuner(build_model, objective='val_loss', max_trials=30, seed=42)\n",
        "\n",
        "# tuner.search(X_train_scaled, Y_train_scaled, epochs=100, validation_data=(X_valid_scaled, Y_valid_scaled), callbacks=[early_stopping_cb])"
      ],
      "execution_count": 164,
      "outputs": []
    },
    {
      "cell_type": "code",
      "metadata": {
        "id": "TIuvCiXYrV0p"
      },
      "source": [
        "# display tuning results\n",
        "# tuner.results_summary()"
      ],
      "execution_count": 165,
      "outputs": []
    },
    {
      "cell_type": "code",
      "metadata": {
        "id": "4xe_WW59w4P6"
      },
      "source": [
        "#Retain the optimal hyper-parameters found and re-train the model\n",
        "\n",
        "# best_hps = tuner.get_best_hyperparameters(num_trials = 1)[0]\n",
        "\n",
        "# model = tuner.hypermodel.build(best_hps)\n",
        "\n",
        "# history = model.fit(X_train_scaled, Y_train_scaled, epochs=100, validation_data=(X_valid_scaled, Y_valid_scaled), callbacks=[early_stopping_cb])\n",
        "\n",
        "# model.summary()"
      ],
      "execution_count": 166,
      "outputs": []
    },
    {
      "cell_type": "code",
      "metadata": {
        "id": "t8XexVKM7YWx",
        "colab": {
          "base_uri": "https://localhost:8080/"
        },
        "outputId": "8eb9beaf-5e46-4f77-be8d-d141d8c612d8"
      },
      "source": [
        "model = tf.keras.Sequential([\n",
        "    tf.keras.layers.LSTM(32,return_sequences=True, activation='elu', kernel_initializer='he_normal', kernel_regularizer=l2(0.01)),\n",
        "    tf.keras.layers.LSTM(32,return_sequences=True, activation='elu', kernel_initializer='he_normal', kernel_regularizer=l2(0.01)),\n",
        "    tf.keras.layers.LSTM(32,return_sequences=True, activation='elu', kernel_initializer='he_normal', kernel_regularizer=l2(0.01)),\n",
        "    tf.keras.layers.Dense(1, kernel_initializer='he_normal')\n",
        "])\n",
        "\n",
        "early_stopping = tf.keras.callbacks.EarlyStopping(patience=30, mode='min', restore_best_weights=True)\n",
        "\n",
        "model.compile(loss='mse', optimizer='Nadam', metrics=[keras.metrics.RootMeanSquaredError()])\n",
        "history = model.fit(X_train_scaled, Y_train_scaled, epochs=100, validation_data=(X_valid_scaled, Y_valid_scaled), callbacks=[early_stopping])\n",
        "\n",
        "model.summary()"
      ],
      "execution_count": 167,
      "outputs": [
        {
          "output_type": "stream",
          "text": [
            "Epoch 1/100\n",
            "274/274 [==============================] - 13s 33ms/step - loss: 9.3076 - root_mean_squared_error: 1.3743 - val_loss: 6.5600 - val_root_mean_squared_error: 0.8458\n",
            "Epoch 2/100\n",
            "274/274 [==============================] - 9s 32ms/step - loss: 6.1182 - root_mean_squared_error: 0.8366 - val_loss: 4.8053 - val_root_mean_squared_error: 0.7096\n",
            "Epoch 3/100\n",
            "274/274 [==============================] - 9s 33ms/step - loss: 4.4829 - root_mean_squared_error: 0.6906 - val_loss: 3.5855 - val_root_mean_squared_error: 0.6060\n",
            "Epoch 4/100\n",
            "274/274 [==============================] - 9s 33ms/step - loss: 3.3816 - root_mean_squared_error: 0.6108 - val_loss: 2.7880 - val_root_mean_squared_error: 0.5892\n",
            "Epoch 5/100\n",
            "274/274 [==============================] - 9s 33ms/step - loss: 2.5970 - root_mean_squared_error: 0.5563 - val_loss: 2.1822 - val_root_mean_squared_error: 0.5560\n",
            "Epoch 6/100\n",
            "274/274 [==============================] - 9s 33ms/step - loss: 2.0118 - root_mean_squared_error: 0.5034 - val_loss: 1.7085 - val_root_mean_squared_error: 0.5099\n",
            "Epoch 7/100\n",
            "274/274 [==============================] - 9s 34ms/step - loss: 1.6357 - root_mean_squared_error: 0.5212 - val_loss: 1.3945 - val_root_mean_squared_error: 0.5168\n",
            "Epoch 8/100\n",
            "274/274 [==============================] - 9s 33ms/step - loss: 1.2721 - root_mean_squared_error: 0.4595 - val_loss: 1.0998 - val_root_mean_squared_error: 0.4648\n",
            "Epoch 9/100\n",
            "274/274 [==============================] - 9s 33ms/step - loss: 1.0510 - root_mean_squared_error: 0.4644 - val_loss: 0.9166 - val_root_mean_squared_error: 0.4694\n",
            "Epoch 10/100\n",
            "274/274 [==============================] - 9s 33ms/step - loss: 0.8331 - root_mean_squared_error: 0.4198 - val_loss: 0.7443 - val_root_mean_squared_error: 0.4399\n",
            "Epoch 11/100\n",
            "274/274 [==============================] - 9s 33ms/step - loss: 0.7067 - root_mean_squared_error: 0.4312 - val_loss: 0.6206 - val_root_mean_squared_error: 0.4246\n",
            "Epoch 12/100\n",
            "274/274 [==============================] - 9s 33ms/step - loss: 0.5900 - root_mean_squared_error: 0.4154 - val_loss: 0.5166 - val_root_mean_squared_error: 0.4041\n",
            "Epoch 13/100\n",
            "274/274 [==============================] - 9s 32ms/step - loss: 0.5006 - root_mean_squared_error: 0.4063 - val_loss: 0.4759 - val_root_mean_squared_error: 0.4356\n",
            "Epoch 14/100\n",
            "274/274 [==============================] - 9s 33ms/step - loss: 0.4374 - root_mean_squared_error: 0.4056 - val_loss: 0.4038 - val_root_mean_squared_error: 0.4095\n",
            "Epoch 15/100\n",
            "274/274 [==============================] - 9s 33ms/step - loss: 0.3656 - root_mean_squared_error: 0.3737 - val_loss: 0.4389 - val_root_mean_squared_error: 0.4929\n",
            "Epoch 16/100\n",
            "274/274 [==============================] - 9s 33ms/step - loss: 0.3187 - root_mean_squared_error: 0.3607 - val_loss: 0.3019 - val_root_mean_squared_error: 0.3710\n",
            "Epoch 17/100\n",
            "274/274 [==============================] - 9s 32ms/step - loss: 0.2954 - root_mean_squared_error: 0.3692 - val_loss: 0.2586 - val_root_mean_squared_error: 0.3430\n",
            "Epoch 18/100\n",
            "274/274 [==============================] - 9s 33ms/step - loss: 0.2550 - root_mean_squared_error: 0.3439 - val_loss: 0.2205 - val_root_mean_squared_error: 0.3170\n",
            "Epoch 19/100\n",
            "274/274 [==============================] - 9s 33ms/step - loss: 0.2200 - root_mean_squared_error: 0.3215 - val_loss: 0.2060 - val_root_mean_squared_error: 0.3196\n",
            "Epoch 20/100\n",
            "274/274 [==============================] - 9s 33ms/step - loss: 0.1946 - root_mean_squared_error: 0.3064 - val_loss: 0.2084 - val_root_mean_squared_error: 0.3423\n",
            "Epoch 21/100\n",
            "274/274 [==============================] - 9s 33ms/step - loss: 0.1741 - root_mean_squared_error: 0.2925 - val_loss: 0.1724 - val_root_mean_squared_error: 0.3024\n",
            "Epoch 22/100\n",
            "274/274 [==============================] - 9s 33ms/step - loss: 0.1591 - root_mean_squared_error: 0.2836 - val_loss: 0.1661 - val_root_mean_squared_error: 0.3055\n",
            "Epoch 23/100\n",
            "274/274 [==============================] - 9s 33ms/step - loss: 0.1556 - root_mean_squared_error: 0.2904 - val_loss: 0.1431 - val_root_mean_squared_error: 0.2768\n",
            "Epoch 24/100\n",
            "274/274 [==============================] - 9s 33ms/step - loss: 0.1360 - root_mean_squared_error: 0.2653 - val_loss: 0.1505 - val_root_mean_squared_error: 0.2980\n",
            "Epoch 25/100\n",
            "274/274 [==============================] - 9s 33ms/step - loss: 0.1349 - root_mean_squared_error: 0.2732 - val_loss: 0.1659 - val_root_mean_squared_error: 0.3302\n",
            "Epoch 26/100\n",
            "274/274 [==============================] - 9s 33ms/step - loss: 0.1293 - root_mean_squared_error: 0.2706 - val_loss: 0.1579 - val_root_mean_squared_error: 0.3236\n",
            "Epoch 27/100\n",
            "274/274 [==============================] - 9s 33ms/step - loss: 0.1209 - root_mean_squared_error: 0.2617 - val_loss: 0.1126 - val_root_mean_squared_error: 0.2514\n",
            "Epoch 28/100\n",
            "274/274 [==============================] - 9s 33ms/step - loss: 0.1130 - root_mean_squared_error: 0.2525 - val_loss: 0.1031 - val_root_mean_squared_error: 0.2364\n",
            "Epoch 29/100\n",
            "274/274 [==============================] - 9s 33ms/step - loss: 0.1022 - root_mean_squared_error: 0.2352 - val_loss: 0.1057 - val_root_mean_squared_error: 0.2457\n",
            "Epoch 30/100\n",
            "274/274 [==============================] - 9s 33ms/step - loss: 0.1044 - root_mean_squared_error: 0.2444 - val_loss: 0.0929 - val_root_mean_squared_error: 0.2229\n",
            "Epoch 31/100\n",
            "274/274 [==============================] - 9s 33ms/step - loss: 0.0991 - root_mean_squared_error: 0.2366 - val_loss: 0.0886 - val_root_mean_squared_error: 0.2183\n",
            "Epoch 32/100\n",
            "274/274 [==============================] - 9s 33ms/step - loss: 0.0881 - root_mean_squared_error: 0.2176 - val_loss: 0.0935 - val_root_mean_squared_error: 0.2313\n",
            "Epoch 33/100\n",
            "274/274 [==============================] - 9s 34ms/step - loss: 0.0867 - root_mean_squared_error: 0.2165 - val_loss: 0.0910 - val_root_mean_squared_error: 0.2293\n",
            "Epoch 34/100\n",
            "274/274 [==============================] - 9s 33ms/step - loss: 0.0810 - root_mean_squared_error: 0.2072 - val_loss: 0.0770 - val_root_mean_squared_error: 0.2005\n",
            "Epoch 35/100\n",
            "274/274 [==============================] - 9s 33ms/step - loss: 0.0761 - root_mean_squared_error: 0.1992 - val_loss: 0.0723 - val_root_mean_squared_error: 0.1921\n",
            "Epoch 36/100\n",
            "274/274 [==============================] - 9s 35ms/step - loss: 0.0691 - root_mean_squared_error: 0.1842 - val_loss: 0.0681 - val_root_mean_squared_error: 0.1856\n",
            "Epoch 37/100\n",
            "274/274 [==============================] - 9s 34ms/step - loss: 0.0755 - root_mean_squared_error: 0.2038 - val_loss: 0.0636 - val_root_mean_squared_error: 0.1759\n",
            "Epoch 38/100\n",
            "274/274 [==============================] - 9s 33ms/step - loss: 0.0620 - root_mean_squared_error: 0.1725 - val_loss: 0.0733 - val_root_mean_squared_error: 0.2056\n",
            "Epoch 39/100\n",
            "274/274 [==============================] - 9s 33ms/step - loss: 0.0633 - root_mean_squared_error: 0.1807 - val_loss: 0.0601 - val_root_mean_squared_error: 0.1747\n",
            "Epoch 40/100\n",
            "274/274 [==============================] - 9s 33ms/step - loss: 0.0641 - root_mean_squared_error: 0.1862 - val_loss: 0.0560 - val_root_mean_squared_error: 0.1657\n",
            "Epoch 41/100\n",
            "274/274 [==============================] - 9s 33ms/step - loss: 0.0583 - root_mean_squared_error: 0.1734 - val_loss: 0.0683 - val_root_mean_squared_error: 0.2034\n",
            "Epoch 42/100\n",
            "274/274 [==============================] - 9s 33ms/step - loss: 0.0590 - root_mean_squared_error: 0.1792 - val_loss: 0.0571 - val_root_mean_squared_error: 0.1763\n",
            "Epoch 43/100\n",
            "274/274 [==============================] - 9s 33ms/step - loss: 0.0531 - root_mean_squared_error: 0.1651 - val_loss: 0.0612 - val_root_mean_squared_error: 0.1903\n",
            "Epoch 44/100\n",
            "274/274 [==============================] - 9s 33ms/step - loss: 0.0570 - root_mean_squared_error: 0.1789 - val_loss: 0.0488 - val_root_mean_squared_error: 0.1569\n",
            "Epoch 45/100\n",
            "274/274 [==============================] - 9s 33ms/step - loss: 0.0517 - root_mean_squared_error: 0.1662 - val_loss: 0.0508 - val_root_mean_squared_error: 0.1646\n",
            "Epoch 46/100\n",
            "274/274 [==============================] - 9s 33ms/step - loss: 0.0506 - root_mean_squared_error: 0.1643 - val_loss: 0.0488 - val_root_mean_squared_error: 0.1621\n",
            "Epoch 47/100\n",
            "274/274 [==============================] - 9s 33ms/step - loss: 0.0510 - root_mean_squared_error: 0.1691 - val_loss: 0.0535 - val_root_mean_squared_error: 0.1780\n",
            "Epoch 48/100\n",
            "274/274 [==============================] - 9s 33ms/step - loss: 0.0527 - root_mean_squared_error: 0.1756 - val_loss: 0.0459 - val_root_mean_squared_error: 0.1573\n",
            "Epoch 49/100\n",
            "274/274 [==============================] - 9s 33ms/step - loss: 0.0488 - root_mean_squared_error: 0.1663 - val_loss: 0.0442 - val_root_mean_squared_error: 0.1537\n",
            "Epoch 50/100\n",
            "274/274 [==============================] - 9s 33ms/step - loss: 0.0456 - root_mean_squared_error: 0.1580 - val_loss: 0.0445 - val_root_mean_squared_error: 0.1559\n",
            "Epoch 51/100\n",
            "274/274 [==============================] - 9s 33ms/step - loss: 0.0450 - root_mean_squared_error: 0.1583 - val_loss: 0.0429 - val_root_mean_squared_error: 0.1521\n",
            "Epoch 52/100\n",
            "274/274 [==============================] - 9s 33ms/step - loss: 0.0441 - root_mean_squared_error: 0.1568 - val_loss: 0.0541 - val_root_mean_squared_error: 0.1866\n",
            "Epoch 53/100\n",
            "274/274 [==============================] - 9s 33ms/step - loss: 0.0474 - root_mean_squared_error: 0.1670 - val_loss: 0.0429 - val_root_mean_squared_error: 0.1561\n",
            "Epoch 54/100\n",
            "274/274 [==============================] - 9s 33ms/step - loss: 0.0451 - root_mean_squared_error: 0.1632 - val_loss: 0.0418 - val_root_mean_squared_error: 0.1532\n",
            "Epoch 55/100\n",
            "274/274 [==============================] - 9s 33ms/step - loss: 0.0472 - root_mean_squared_error: 0.1702 - val_loss: 0.0412 - val_root_mean_squared_error: 0.1529\n",
            "Epoch 56/100\n",
            "274/274 [==============================] - 9s 33ms/step - loss: 0.0432 - root_mean_squared_error: 0.1592 - val_loss: 0.0408 - val_root_mean_squared_error: 0.1529\n",
            "Epoch 57/100\n",
            "274/274 [==============================] - 9s 33ms/step - loss: 0.0421 - root_mean_squared_error: 0.1572 - val_loss: 0.0398 - val_root_mean_squared_error: 0.1507\n",
            "Epoch 58/100\n",
            "274/274 [==============================] - 9s 33ms/step - loss: 0.0405 - root_mean_squared_error: 0.1526 - val_loss: 0.0391 - val_root_mean_squared_error: 0.1504\n",
            "Epoch 59/100\n",
            "274/274 [==============================] - 9s 33ms/step - loss: 0.0380 - root_mean_squared_error: 0.1456 - val_loss: 0.0417 - val_root_mean_squared_error: 0.1588\n",
            "Epoch 60/100\n",
            "274/274 [==============================] - 9s 33ms/step - loss: 0.0436 - root_mean_squared_error: 0.1645 - val_loss: 0.0389 - val_root_mean_squared_error: 0.1513\n",
            "Epoch 61/100\n",
            "274/274 [==============================] - 9s 33ms/step - loss: 0.0427 - root_mean_squared_error: 0.1631 - val_loss: 0.0411 - val_root_mean_squared_error: 0.1596\n",
            "Epoch 62/100\n",
            "274/274 [==============================] - 9s 33ms/step - loss: 0.0417 - root_mean_squared_error: 0.1612 - val_loss: 0.0375 - val_root_mean_squared_error: 0.1491\n",
            "Epoch 63/100\n",
            "274/274 [==============================] - 9s 34ms/step - loss: 0.0426 - root_mean_squared_error: 0.1645 - val_loss: 0.0419 - val_root_mean_squared_error: 0.1634\n",
            "Epoch 64/100\n",
            "274/274 [==============================] - 9s 33ms/step - loss: 0.0407 - root_mean_squared_error: 0.1598 - val_loss: 0.0404 - val_root_mean_squared_error: 0.1588\n",
            "Epoch 65/100\n",
            "274/274 [==============================] - 9s 33ms/step - loss: 0.0397 - root_mean_squared_error: 0.1567 - val_loss: 0.0373 - val_root_mean_squared_error: 0.1498\n",
            "Epoch 66/100\n",
            "274/274 [==============================] - 9s 33ms/step - loss: 0.0398 - root_mean_squared_error: 0.1581 - val_loss: 0.0375 - val_root_mean_squared_error: 0.1516\n",
            "Epoch 67/100\n",
            "274/274 [==============================] - 9s 33ms/step - loss: 0.0379 - root_mean_squared_error: 0.1532 - val_loss: 0.0448 - val_root_mean_squared_error: 0.1724\n",
            "Epoch 68/100\n",
            "274/274 [==============================] - 9s 34ms/step - loss: 0.0384 - root_mean_squared_error: 0.1536 - val_loss: 0.0380 - val_root_mean_squared_error: 0.1545\n",
            "Epoch 69/100\n",
            "274/274 [==============================] - 9s 33ms/step - loss: 0.0374 - root_mean_squared_error: 0.1527 - val_loss: 0.0361 - val_root_mean_squared_error: 0.1490\n",
            "Epoch 70/100\n",
            "274/274 [==============================] - 9s 34ms/step - loss: 0.0380 - root_mean_squared_error: 0.1549 - val_loss: 0.0361 - val_root_mean_squared_error: 0.1497\n",
            "Epoch 71/100\n",
            "274/274 [==============================] - 9s 33ms/step - loss: 0.0387 - root_mean_squared_error: 0.1583 - val_loss: 0.0395 - val_root_mean_squared_error: 0.1610\n",
            "Epoch 72/100\n",
            "274/274 [==============================] - 9s 34ms/step - loss: 0.0363 - root_mean_squared_error: 0.1506 - val_loss: 0.0362 - val_root_mean_squared_error: 0.1510\n",
            "Epoch 73/100\n",
            "274/274 [==============================] - 9s 33ms/step - loss: 0.0348 - root_mean_squared_error: 0.1465 - val_loss: 0.0369 - val_root_mean_squared_error: 0.1538\n",
            "Epoch 74/100\n",
            "274/274 [==============================] - 9s 34ms/step - loss: 0.0440 - root_mean_squared_error: 0.1736 - val_loss: 0.0355 - val_root_mean_squared_error: 0.1503\n",
            "Epoch 75/100\n",
            "274/274 [==============================] - 9s 33ms/step - loss: 0.0349 - root_mean_squared_error: 0.1484 - val_loss: 0.0348 - val_root_mean_squared_error: 0.1482\n",
            "Epoch 76/100\n",
            "274/274 [==============================] - 9s 33ms/step - loss: 0.0374 - root_mean_squared_error: 0.1565 - val_loss: 0.0346 - val_root_mean_squared_error: 0.1485\n",
            "Epoch 77/100\n",
            "274/274 [==============================] - 10s 35ms/step - loss: 0.0360 - root_mean_squared_error: 0.1528 - val_loss: 0.0363 - val_root_mean_squared_error: 0.1540\n",
            "Epoch 78/100\n",
            "274/274 [==============================] - 9s 33ms/step - loss: 0.0349 - root_mean_squared_error: 0.1491 - val_loss: 0.0378 - val_root_mean_squared_error: 0.1594\n",
            "Epoch 79/100\n",
            "274/274 [==============================] - 9s 33ms/step - loss: 0.0424 - root_mean_squared_error: 0.1719 - val_loss: 0.0342 - val_root_mean_squared_error: 0.1482\n",
            "Epoch 80/100\n",
            "274/274 [==============================] - 9s 33ms/step - loss: 0.0354 - root_mean_squared_error: 0.1518 - val_loss: 0.0374 - val_root_mean_squared_error: 0.1590\n",
            "Epoch 81/100\n",
            "274/274 [==============================] - 9s 33ms/step - loss: 0.0366 - root_mean_squared_error: 0.1559 - val_loss: 0.0345 - val_root_mean_squared_error: 0.1500\n",
            "Epoch 82/100\n",
            "274/274 [==============================] - 9s 33ms/step - loss: 0.0345 - root_mean_squared_error: 0.1500 - val_loss: 0.0393 - val_root_mean_squared_error: 0.1661\n",
            "Epoch 83/100\n",
            "274/274 [==============================] - 9s 33ms/step - loss: 0.0367 - root_mean_squared_error: 0.1574 - val_loss: 0.0357 - val_root_mean_squared_error: 0.1552\n",
            "Epoch 84/100\n",
            "274/274 [==============================] - 9s 33ms/step - loss: 0.0358 - root_mean_squared_error: 0.1552 - val_loss: 0.0356 - val_root_mean_squared_error: 0.1542\n",
            "Epoch 85/100\n",
            "274/274 [==============================] - 9s 33ms/step - loss: 0.0355 - root_mean_squared_error: 0.1539 - val_loss: 0.0376 - val_root_mean_squared_error: 0.1611\n",
            "Epoch 86/100\n",
            "274/274 [==============================] - 9s 34ms/step - loss: 0.0340 - root_mean_squared_error: 0.1495 - val_loss: 0.0333 - val_root_mean_squared_error: 0.1475\n",
            "Epoch 87/100\n",
            "274/274 [==============================] - 9s 34ms/step - loss: 0.0355 - root_mean_squared_error: 0.1551 - val_loss: 0.0333 - val_root_mean_squared_error: 0.1482\n",
            "Epoch 88/100\n",
            "274/274 [==============================] - 9s 34ms/step - loss: 0.0353 - root_mean_squared_error: 0.1545 - val_loss: 0.0331 - val_root_mean_squared_error: 0.1477\n",
            "Epoch 89/100\n",
            "274/274 [==============================] - 9s 32ms/step - loss: 0.0371 - root_mean_squared_error: 0.1604 - val_loss: 0.0331 - val_root_mean_squared_error: 0.1483\n",
            "Epoch 90/100\n",
            "274/274 [==============================] - 9s 33ms/step - loss: 0.0343 - root_mean_squared_error: 0.1521 - val_loss: 0.0331 - val_root_mean_squared_error: 0.1486\n",
            "Epoch 91/100\n",
            "274/274 [==============================] - 9s 34ms/step - loss: 0.0344 - root_mean_squared_error: 0.1525 - val_loss: 0.0327 - val_root_mean_squared_error: 0.1481\n",
            "Epoch 92/100\n",
            "274/274 [==============================] - 9s 34ms/step - loss: 0.0343 - root_mean_squared_error: 0.1530 - val_loss: 0.0334 - val_root_mean_squared_error: 0.1499\n",
            "Epoch 93/100\n",
            "274/274 [==============================] - 9s 34ms/step - loss: 0.0350 - root_mean_squared_error: 0.1552 - val_loss: 0.0332 - val_root_mean_squared_error: 0.1495\n",
            "Epoch 94/100\n",
            "274/274 [==============================] - 9s 33ms/step - loss: 0.0357 - root_mean_squared_error: 0.1572 - val_loss: 0.0344 - val_root_mean_squared_error: 0.1537\n",
            "Epoch 95/100\n",
            "274/274 [==============================] - 9s 33ms/step - loss: 0.0346 - root_mean_squared_error: 0.1545 - val_loss: 0.0327 - val_root_mean_squared_error: 0.1488\n",
            "Epoch 96/100\n",
            "274/274 [==============================] - 9s 33ms/step - loss: 0.0350 - root_mean_squared_error: 0.1561 - val_loss: 0.0368 - val_root_mean_squared_error: 0.1619\n",
            "Epoch 97/100\n",
            "274/274 [==============================] - 9s 33ms/step - loss: 0.0342 - root_mean_squared_error: 0.1536 - val_loss: 0.0341 - val_root_mean_squared_error: 0.1525\n",
            "Epoch 98/100\n",
            "274/274 [==============================] - 9s 33ms/step - loss: 0.0351 - root_mean_squared_error: 0.1559 - val_loss: 0.0324 - val_root_mean_squared_error: 0.1485\n",
            "Epoch 99/100\n",
            "274/274 [==============================] - 9s 33ms/step - loss: 0.0345 - root_mean_squared_error: 0.1553 - val_loss: 0.0321 - val_root_mean_squared_error: 0.1480\n",
            "Epoch 100/100\n",
            "274/274 [==============================] - 9s 33ms/step - loss: 0.0333 - root_mean_squared_error: 0.1512 - val_loss: 0.0386 - val_root_mean_squared_error: 0.1691\n",
            "Model: \"sequential_6\"\n",
            "_________________________________________________________________\n",
            "Layer (type)                 Output Shape              Param #   \n",
            "=================================================================\n",
            "lstm_18 (LSTM)               (None, 24, 32)            6912      \n",
            "_________________________________________________________________\n",
            "lstm_19 (LSTM)               (None, 24, 32)            8320      \n",
            "_________________________________________________________________\n",
            "lstm_20 (LSTM)               (None, 24, 32)            8320      \n",
            "_________________________________________________________________\n",
            "dense_6 (Dense)              (None, 24, 1)             33        \n",
            "=================================================================\n",
            "Total params: 23,585\n",
            "Trainable params: 23,585\n",
            "Non-trainable params: 0\n",
            "_________________________________________________________________\n"
          ],
          "name": "stdout"
        }
      ]
    },
    {
      "cell_type": "markdown",
      "metadata": {
        "id": "lgCQhL6vKIxn"
      },
      "source": [
        "Plot Loss vs Epochs"
      ]
    },
    {
      "cell_type": "code",
      "metadata": {
        "colab": {
          "base_uri": "https://localhost:8080/",
          "height": 331
        },
        "id": "0Gy7ivcUKIGp",
        "outputId": "a63f814b-a653-4a32-8c69-e2b511ced7a3"
      },
      "source": [
        "plt.plot(history.history['loss'])\n",
        "plt.plot(history.history['val_loss'])\n",
        "plt.title('Model Loss')\n",
        "plt.ylabel('Loss')\n",
        "plt.xlabel('Epoch')\n",
        "plt.legend(['Train', 'Validation'], loc='upper right')\n",
        "plt.grid(True)\n",
        "plt.show()"
      ],
      "execution_count": 168,
      "outputs": [
        {
          "output_type": "execute_result",
          "data": {
            "text/plain": [
              "[<matplotlib.lines.Line2D at 0x7f0f91923668>]"
            ]
          },
          "metadata": {
            "tags": []
          },
          "execution_count": 168
        },
        {
          "output_type": "execute_result",
          "data": {
            "text/plain": [
              "[<matplotlib.lines.Line2D at 0x7f0f84f05ef0>]"
            ]
          },
          "metadata": {
            "tags": []
          },
          "execution_count": 168
        },
        {
          "output_type": "execute_result",
          "data": {
            "text/plain": [
              "Text(0.5, 1.0, 'Model Loss')"
            ]
          },
          "metadata": {
            "tags": []
          },
          "execution_count": 168
        },
        {
          "output_type": "execute_result",
          "data": {
            "text/plain": [
              "Text(0, 0.5, 'Loss')"
            ]
          },
          "metadata": {
            "tags": []
          },
          "execution_count": 168
        },
        {
          "output_type": "execute_result",
          "data": {
            "text/plain": [
              "Text(0.5, 0, 'Epoch')"
            ]
          },
          "metadata": {
            "tags": []
          },
          "execution_count": 168
        },
        {
          "output_type": "execute_result",
          "data": {
            "text/plain": [
              "<matplotlib.legend.Legend at 0x7f0f91923630>"
            ]
          },
          "metadata": {
            "tags": []
          },
          "execution_count": 168
        },
        {
          "output_type": "display_data",
          "data": {
            "image/png": "[encoded data removed]",
            "text/plain": [
              "<Figure size 432x288 with 1 Axes>"
            ]
          },
          "metadata": {
            "tags": [],
            "needs_background": "light"
          }
        }
      ]
    },
    {
      "cell_type": "markdown",
      "metadata": {
        "id": "c_UzSdCboqyb"
      },
      "source": [
        "Accuracy & Evaluation"
      ]
    },
    {
      "cell_type": "code",
      "metadata": {
        "id": "8RBLih4hLT6e"
      },
      "source": [
        "Y_train = Y_train[:8766-window_size]\n",
        "Y_test = Y_test[:2922-window_size]"
      ],
      "execution_count": 169,
      "outputs": []
    },
    {
      "cell_type": "code",
      "metadata": {
        "id": "2RejGB3q8bUS",
        "colab": {
          "base_uri": "https://localhost:8080/",
          "height": 845
        },
        "outputId": "1e405d65-ceb1-498f-9f8c-9ea127ae131e"
      },
      "source": [
        "# train set performance\n",
        "Y_train_pred_scaled = model.predict(X_train_scaled)\n",
        "print(np.shape(Y_train_pred_scaled))\n",
        "\n",
        "Y_train_pred_scaled= Y_train_pred_scaled[:,1,0]\n",
        "print(np.shape(Y_train_pred_scaled))\n",
        "\n",
        "Y_train_pred = scalerY.inverse_transform(Y_train_pred_scaled)\n",
        "\n",
        "print(np.shape(Y_train_pred))\n",
        "\n",
        "# visualize predicted vs actual in train set\n",
        "plt.figure(figsize=(10,5))\n",
        "plt.plot(Y_train, label='Actual')\n",
        "plt.plot(Y_train_pred, label='Predicted')\n",
        "plt.xlabel('index in train set')\n",
        "plt.ylabel('Consumption - kWh')\n",
        "plt.title('Predicted vs Actual in Train set')\n",
        "plt.legend(loc='upper left')\n",
        "plt.show()\n",
        "\n",
        "plt.figure(figsize=(10,5))\n",
        "plt.plot(Y_train.head(168), label='Actual')\n",
        "plt.plot(Y_train_pred[:168], label='Predicted')\n",
        "plt.xlabel('index in train set')\n",
        "plt.ylabel('Consumption - kWh')\n",
        "plt.title('Predicted vs Actual in Train set')\n",
        "plt.legend(loc='upper left')\n",
        "plt.show()"
      ],
      "execution_count": 170,
      "outputs": [
        {
          "output_type": "stream",
          "text": [
            "(8742, 24, 1)\n",
            "(8742,)\n",
            "(8742,)\n"
          ],
          "name": "stdout"
        },
        {
          "output_type": "execute_result",
          "data": {
            "text/plain": [
              "<Figure size 720x360 with 0 Axes>"
            ]
          },
          "metadata": {
            "tags": []
          },
          "execution_count": 170
        },
        {
          "output_type": "execute_result",
          "data": {
            "text/plain": [
              "[<matplotlib.lines.Line2D at 0x7f0f8b834e10>]"
            ]
          },
          "metadata": {
            "tags": []
          },
          "execution_count": 170
        },
        {
          "output_type": "execute_result",
          "data": {
            "text/plain": [
              "[<matplotlib.lines.Line2D at 0x7f0f86f8afd0>]"
            ]
          },
          "metadata": {
            "tags": []
          },
          "execution_count": 170
        },
        {
          "output_type": "execute_result",
          "data": {
            "text/plain": [
              "Text(0.5, 0, 'index in train set')"
            ]
          },
          "metadata": {
            "tags": []
          },
          "execution_count": 170
        },
        {
          "output_type": "execute_result",
          "data": {
            "text/plain": [
              "Text(0, 0.5, 'Consumption - kWh')"
            ]
          },
          "metadata": {
            "tags": []
          },
          "execution_count": 170
        },
        {
          "output_type": "execute_result",
          "data": {
            "text/plain": [
              "Text(0.5, 1.0, 'Predicted vs Actual in Train set')"
            ]
          },
          "metadata": {
            "tags": []
          },
          "execution_count": 170
        },
        {
          "output_type": "execute_result",
          "data": {
            "text/plain": [
              "<matplotlib.legend.Legend at 0x7f0f86f8a0b8>"
            ]
          },
          "metadata": {
            "tags": []
          },
          "execution_count": 170
        },
        {
          "output_type": "display_data",
          "data": {
            "image/png": "[encoded data removed]",
            "text/plain": [
              "<Figure size 720x360 with 1 Axes>"
            ]
          },
          "metadata": {
            "tags": [],
            "needs_background": "light"
          }
        },
        {
          "output_type": "execute_result",
          "data": {
            "text/plain": [
              "<Figure size 720x360 with 0 Axes>"
            ]
          },
          "metadata": {
            "tags": []
          },
          "execution_count": 170
        },
        {
          "output_type": "execute_result",
          "data": {
            "text/plain": [
              "[<matplotlib.lines.Line2D at 0x7f0f8b78b908>]"
            ]
          },
          "metadata": {
            "tags": []
          },
          "execution_count": 170
        },
        {
          "output_type": "execute_result",
          "data": {
            "text/plain": [
              "[<matplotlib.lines.Line2D at 0x7f0f8b7e9c50>]"
            ]
          },
          "metadata": {
            "tags": []
          },
          "execution_count": 170
        },
        {
          "output_type": "execute_result",
          "data": {
            "text/plain": [
              "Text(0.5, 0, 'index in train set')"
            ]
          },
          "metadata": {
            "tags": []
          },
          "execution_count": 170
        },
        {
          "output_type": "execute_result",
          "data": {
            "text/plain": [
              "Text(0, 0.5, 'Consumption - kWh')"
            ]
          },
          "metadata": {
            "tags": []
          },
          "execution_count": 170
        },
        {
          "output_type": "execute_result",
          "data": {
            "text/plain": [
              "Text(0.5, 1.0, 'Predicted vs Actual in Train set')"
            ]
          },
          "metadata": {
            "tags": []
          },
          "execution_count": 170
        },
        {
          "output_type": "execute_result",
          "data": {
            "text/plain": [
              "<matplotlib.legend.Legend at 0x7f0f8b78bd30>"
            ]
          },
          "metadata": {
            "tags": []
          },
          "execution_count": 170
        },
        {
          "output_type": "display_data",
          "data": {
            "image/png": "[encoded data removed]",
            "text/plain": [
              "<Figure size 720x360 with 1 Axes>"
            ]
          },
          "metadata": {
            "tags": [],
            "needs_background": "light"
          }
        }
      ]
    },
    {
      "cell_type": "code",
      "metadata": {
        "colab": {
          "base_uri": "https://localhost:8080/",
          "height": 845
        },
        "id": "EjlpfrZh8rU2",
        "outputId": "5c15a844-c94e-47ce-99db-9a53f9c0dbe6"
      },
      "source": [
        "# test set performance\n",
        "Y_test_pred_scaled = model.predict(X_test_scaled)\n",
        "print(np.shape(Y_test_pred_scaled))\n",
        "\n",
        "Y_test_pred_scaled= Y_test_pred_scaled[:,1,0]\n",
        "print(np.shape(Y_test_pred_scaled))\n",
        "\n",
        "Y_test_pred = scalerY.inverse_transform(Y_test_pred_scaled)\n",
        "\n",
        "print(np.shape(Y_test_pred))\n",
        "\n",
        "Y_test = pd.DataFrame.reset_index(Y_test, drop=True)\n",
        "\n",
        "# visualize predicted vs actual in test set\n",
        "plt.figure(figsize=(10,5))\n",
        "plt.plot(Y_test, label='Actual')\n",
        "plt.plot(Y_test_pred, label='Predicted')\n",
        "plt.xlabel('index in test set')\n",
        "plt.ylabel('Consumption - kWh')\n",
        "plt.title('Predicted vs Actual in Test set')\n",
        "plt.legend(loc='upper left')\n",
        "plt.show()\n",
        "\n",
        "plt.figure(figsize=(10,5))\n",
        "plt.plot(Y_test.head(168), label='Actual')\n",
        "plt.plot(Y_test_pred[:168], label='Predicted')\n",
        "plt.xlabel('index in test set')\n",
        "plt.ylabel('Consumption - kWh')\n",
        "plt.title('Predicted vs Actual in Test set')\n",
        "plt.legend(loc='upper left')\n",
        "plt.show()"
      ],
      "execution_count": 171,
      "outputs": [
        {
          "output_type": "stream",
          "text": [
            "(2898, 24, 1)\n",
            "(2898,)\n",
            "(2898,)\n"
          ],
          "name": "stdout"
        },
        {
          "output_type": "execute_result",
          "data": {
            "text/plain": [
              "<Figure size 720x360 with 0 Axes>"
            ]
          },
          "metadata": {
            "tags": []
          },
          "execution_count": 171
        },
        {
          "output_type": "execute_result",
          "data": {
            "text/plain": [
              "[<matplotlib.lines.Line2D at 0x7f0f8b7271d0>]"
            ]
          },
          "metadata": {
            "tags": []
          },
          "execution_count": 171
        },
        {
          "output_type": "execute_result",
          "data": {
            "text/plain": [
              "[<matplotlib.lines.Line2D at 0x7f0f8b75cda0>]"
            ]
          },
          "metadata": {
            "tags": []
          },
          "execution_count": 171
        },
        {
          "output_type": "execute_result",
          "data": {
            "text/plain": [
              "Text(0.5, 0, 'index in test set')"
            ]
          },
          "metadata": {
            "tags": []
          },
          "execution_count": 171
        },
        {
          "output_type": "execute_result",
          "data": {
            "text/plain": [
              "Text(0, 0.5, 'Consumption - kWh')"
            ]
          },
          "metadata": {
            "tags": []
          },
          "execution_count": 171
        },
        {
          "output_type": "execute_result",
          "data": {
            "text/plain": [
              "Text(0.5, 1.0, 'Predicted vs Actual in Test set')"
            ]
          },
          "metadata": {
            "tags": []
          },
          "execution_count": 171
        },
        {
          "output_type": "execute_result",
          "data": {
            "text/plain": [
              "<matplotlib.legend.Legend at 0x7f0f8b7274e0>"
            ]
          },
          "metadata": {
            "tags": []
          },
          "execution_count": 171
        },
        {
          "output_type": "display_data",
          "data": {
            "image/png": "[encoded data removed]",
            "text/plain": [
              "<Figure size 720x360 with 1 Axes>"
            ]
          },
          "metadata": {
            "tags": [],
            "needs_background": "light"
          }
        },
        {
          "output_type": "execute_result",
          "data": {
            "text/plain": [
              "<Figure size 720x360 with 0 Axes>"
            ]
          },
          "metadata": {
            "tags": []
          },
          "execution_count": 171
        },
        {
          "output_type": "execute_result",
          "data": {
            "text/plain": [
              "[<matplotlib.lines.Line2D at 0x7f0f8b74d940>]"
            ]
          },
          "metadata": {
            "tags": []
          },
          "execution_count": 171
        },
        {
          "output_type": "execute_result",
          "data": {
            "text/plain": [
              "[<matplotlib.lines.Line2D at 0x7f0f90fd4320>]"
            ]
          },
          "metadata": {
            "tags": []
          },
          "execution_count": 171
        },
        {
          "output_type": "execute_result",
          "data": {
            "text/plain": [
              "Text(0.5, 0, 'index in test set')"
            ]
          },
          "metadata": {
            "tags": []
          },
          "execution_count": 171
        },
        {
          "output_type": "execute_result",
          "data": {
            "text/plain": [
              "Text(0, 0.5, 'Consumption - kWh')"
            ]
          },
          "metadata": {
            "tags": []
          },
          "execution_count": 171
        },
        {
          "output_type": "execute_result",
          "data": {
            "text/plain": [
              "Text(0.5, 1.0, 'Predicted vs Actual in Test set')"
            ]
          },
          "metadata": {
            "tags": []
          },
          "execution_count": 171
        },
        {
          "output_type": "execute_result",
          "data": {
            "text/plain": [
              "<matplotlib.legend.Legend at 0x7f0f8b74dcc0>"
            ]
          },
          "metadata": {
            "tags": []
          },
          "execution_count": 171
        },
        {
          "output_type": "display_data",
          "data": {
            "image/png": "[encoded data removed]",
            "text/plain": [
              "<Figure size 720x360 with 1 Axes>"
            ]
          },
          "metadata": {
            "tags": [],
            "needs_background": "light"
          }
        }
      ]
    },
    {
      "cell_type": "code",
      "metadata": {
        "id": "IPLNc6wsLgj5"
      },
      "source": [
        "mape = tf.keras.losses.MeanAbsolutePercentageError()"
      ],
      "execution_count": 172,
      "outputs": []
    },
    {
      "cell_type": "code",
      "metadata": {
        "colab": {
          "base_uri": "https://localhost:8080/",
          "height": 79
        },
        "id": "EKgQwFGV8nw9",
        "outputId": "be899b8d-6c49-4413-dc25-666a8f3c59df"
      },
      "source": [
        "# Error Metric summary\n",
        "model_performance = pd.DataFrame(columns=['Train MAE', 'Train RMSE', 'Train MAPE', 'Test MAE', 'Test RMSE', 'Test MAPE'])\n",
        "\n",
        "Train_MAE = mean_absolute_error(Y_train, Y_train_pred)\n",
        "Train_RMSE = np.sqrt(mean_squared_error(Y_train, Y_train_pred))\n",
        "Train_MAPE = mape(Y_train, Y_train_pred).numpy()\n",
        "\n",
        "Test_MAE = mean_absolute_error(Y_test, Y_test_pred)\n",
        "Test_RMSE = np.sqrt(mean_squared_error(Y_test, Y_test_pred))\n",
        "Test_MAPE = mape(Y_test, Y_test_pred).numpy()\n",
        "\n",
        "model_performance = model_performance.append({\n",
        "                        'Train MAE': Train_MAE,\n",
        "                        'Train RMSE': Train_RMSE,\n",
        "                        'Train MAPE': Train_MAPE,\n",
        "                        'Test MAE': Test_MAE,\n",
        "                        'Test RMSE': Test_RMSE,\n",
        "                        'Test MAPE': Test_MAPE,},\n",
        "                        ignore_index=True)\n",
        "\n",
        "model_performance.round(2)"
      ],
      "execution_count": 173,
      "outputs": [
        {
          "output_type": "execute_result",
          "data": {
            "text/html": [
              "<div>\n",
              "<style scoped>\n",
              "    .dataframe tbody tr th:only-of-type {\n",
              "        vertical-align: middle;\n",
              "    }\n",
              "\n",
              "    .dataframe tbody tr th {\n",
              "        vertical-align: top;\n",
              "    }\n",
              "\n",
              "    .dataframe thead th {\n",
              "        text-align: right;\n",
              "    }\n",
              "</style>\n",
              "<table border=\"1\" class=\"dataframe\">\n",
              "  <thead>\n",
              "    <tr style=\"text-align: right;\">\n",
              "      <th></th>\n",
              "      <th>Train MAE</th>\n",
              "      <th>Train RMSE</th>\n",
              "      <th>Train MAPE</th>\n",
              "      <th>Test MAE</th>\n",
              "      <th>Test RMSE</th>\n",
              "      <th>Test MAPE</th>\n",
              "    </tr>\n",
              "  </thead>\n",
              "  <tbody>\n",
              "    <tr>\n",
              "      <th>0</th>\n",
              "      <td>0.2</td>\n",
              "      <td>0.25</td>\n",
              "      <td>100.52</td>\n",
              "      <td>0.21</td>\n",
              "      <td>0.27</td>\n",
              "      <td>84.22</td>\n",
              "    </tr>\n",
              "  </tbody>\n",
              "</table>\n",
              "</div>"
            ],
            "text/plain": [
              "   Train MAE  Train RMSE  Train MAPE  Test MAE  Test RMSE  Test MAPE\n",
              "0        0.2        0.25      100.52      0.21       0.27      84.22"
            ]
          },
          "metadata": {
            "tags": []
          },
          "execution_count": 173
        }
      ]
    }
  ]
}