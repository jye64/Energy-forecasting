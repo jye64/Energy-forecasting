{
  "nbformat": 4,
  "nbformat_minor": 0,
  "metadata": {
    "colab": {
      "name": "LSTM.ipynb",
      "provenance": [],
      "collapsed_sections": []
    },
    "kernelspec": {
      "display_name": "Python 3",
      "name": "python3"
    }
  },
  "cells": [
    {
      "cell_type": "markdown",
      "metadata": {
        "id": "-ikqIghrLbtp"
      },
      "source": [
        "ECE 9063 Data Analytics Project"
      ]
    },
    {
      "cell_type": "code",
      "metadata": {
        "id": "M2i7OmiyKisJ"
      },
      "source": [
        "!pip install -q -U keras-tuner\n",
        "import matplotlib.pyplot as plt\n",
        "import numpy as np\n",
        "import pandas as pd\n",
        "import seaborn as sns\n",
        "import os\n",
        "import tensorflow as tf\n",
        "import kerastuner as kt\n",
        "\n",
        "from tensorflow import keras\n",
        "from tensorflow.keras.regularizers import l2\n",
        "from tensorflow.keras import layers\n",
        "\n",
        "from sklearn.preprocessing import StandardScaler\n",
        "from sklearn.preprocessing import MinMaxScaler\n",
        "from sklearn.metrics import mean_squared_error\n",
        "from sklearn.metrics import mean_absolute_error\n",
        "from sklearn.model_selection import train_test_split\n",
        "\n",
        "from IPython.core.interactiveshell import InteractiveShell\n",
        "InteractiveShell.ast_node_interactivity = \"all\""
      ],
      "execution_count": 381,
      "outputs": []
    },
    {
      "cell_type": "markdown",
      "metadata": {
        "id": "j9O6TLc_NitT"
      },
      "source": [
        "Set Random Seeds"
      ]
    },
    {
      "cell_type": "code",
      "metadata": {
        "id": "ZdCdbh8KNlQ-"
      },
      "source": [
        "np.random.seed(42)\n",
        "tf.random.set_seed(42)"
      ],
      "execution_count": 382,
      "outputs": []
    },
    {
      "cell_type": "markdown",
      "metadata": {
        "id": "Q-wSb_-gLPxT"
      },
      "source": [
        "Importing Data"
      ]
    },
    {
      "cell_type": "code",
      "metadata": {
        "colab": {
          "base_uri": "https://localhost:8080/",
          "height": 661
        },
        "id": "-zJauRCsLSP1",
        "outputId": "2a0ab51f-7031-40d3-fa09-bdf4ab84a832"
      },
      "source": [
        "# ============== Importing data ======================\n",
        "featureFile = 'combined_data.csv'\n",
        "featureData = pd.read_csv(featureFile)\n",
        "\n",
        "labelFile = 'SyedHouse-GreenButton-2018-07-01-2020-02-29.csv'\n",
        "labelData = pd.read_csv(labelFile)\n",
        "\n",
        "# put feature and label in one object\n",
        "data = pd.concat([featureData, labelData['Usage (kilowatt-hours)']], axis=1)\n",
        "data"
      ],
      "execution_count": 383,
      "outputs": [
        {
          "output_type": "execute_result",
          "data": {
            "text/html": [
              "<div>\n",
              "<style scoped>\n",
              "    .dataframe tbody tr th:only-of-type {\n",
              "        vertical-align: middle;\n",
              "    }\n",
              "\n",
              "    .dataframe tbody tr th {\n",
              "        vertical-align: top;\n",
              "    }\n",
              "\n",
              "    .dataframe thead th {\n",
              "        text-align: right;\n",
              "    }\n",
              "</style>\n",
              "<table border=\"1\" class=\"dataframe\">\n",
              "  <thead>\n",
              "    <tr style=\"text-align: right;\">\n",
              "      <th></th>\n",
              "      <th>Longitude (x)</th>\n",
              "      <th>Latitude (y)</th>\n",
              "      <th>Station Name</th>\n",
              "      <th>Climate ID</th>\n",
              "      <th>Date/Time</th>\n",
              "      <th>Year</th>\n",
              "      <th>Month</th>\n",
              "      <th>Day</th>\n",
              "      <th>Time</th>\n",
              "      <th>Temp (°C)</th>\n",
              "      <th>Temp Flag</th>\n",
              "      <th>Dew Point Temp (°C)</th>\n",
              "      <th>Dew Point Temp Flag</th>\n",
              "      <th>Rel Hum (%)</th>\n",
              "      <th>Rel Hum Flag</th>\n",
              "      <th>Wind Dir (10s deg)</th>\n",
              "      <th>Wind Dir Flag</th>\n",
              "      <th>Wind Spd (km/h)</th>\n",
              "      <th>Wind Spd Flag</th>\n",
              "      <th>Visibility (km)</th>\n",
              "      <th>Visibility Flag</th>\n",
              "      <th>Stn Press (kPa)</th>\n",
              "      <th>Stn Press Flag</th>\n",
              "      <th>Hmdx</th>\n",
              "      <th>Hmdx Flag</th>\n",
              "      <th>Wind Chill</th>\n",
              "      <th>Wind Chill Flag</th>\n",
              "      <th>Weather</th>\n",
              "      <th>Usage (kilowatt-hours)</th>\n",
              "    </tr>\n",
              "  </thead>\n",
              "  <tbody>\n",
              "    <tr>\n",
              "      <th>0</th>\n",
              "      <td>-81.15</td>\n",
              "      <td>43.03</td>\n",
              "      <td>LONDON A</td>\n",
              "      <td>6144473</td>\n",
              "      <td>2018-07-01 00:00</td>\n",
              "      <td>2018</td>\n",
              "      <td>7</td>\n",
              "      <td>1</td>\n",
              "      <td>00:00</td>\n",
              "      <td>25.0</td>\n",
              "      <td>NaN</td>\n",
              "      <td>20.9</td>\n",
              "      <td>NaN</td>\n",
              "      <td>78.0</td>\n",
              "      <td>NaN</td>\n",
              "      <td>21.0</td>\n",
              "      <td>NaN</td>\n",
              "      <td>10.0</td>\n",
              "      <td>NaN</td>\n",
              "      <td>24.1</td>\n",
              "      <td>NaN</td>\n",
              "      <td>98.35</td>\n",
              "      <td>NaN</td>\n",
              "      <td>33.0</td>\n",
              "      <td>NaN</td>\n",
              "      <td>NaN</td>\n",
              "      <td>NaN</td>\n",
              "      <td>NaN</td>\n",
              "      <td>3.53</td>\n",
              "    </tr>\n",
              "    <tr>\n",
              "      <th>1</th>\n",
              "      <td>-81.15</td>\n",
              "      <td>43.03</td>\n",
              "      <td>LONDON A</td>\n",
              "      <td>6144473</td>\n",
              "      <td>2018-07-01 01:00</td>\n",
              "      <td>2018</td>\n",
              "      <td>7</td>\n",
              "      <td>1</td>\n",
              "      <td>01:00</td>\n",
              "      <td>23.5</td>\n",
              "      <td>NaN</td>\n",
              "      <td>20.8</td>\n",
              "      <td>NaN</td>\n",
              "      <td>84.0</td>\n",
              "      <td>NaN</td>\n",
              "      <td>20.0</td>\n",
              "      <td>NaN</td>\n",
              "      <td>7.0</td>\n",
              "      <td>NaN</td>\n",
              "      <td>24.1</td>\n",
              "      <td>NaN</td>\n",
              "      <td>98.39</td>\n",
              "      <td>NaN</td>\n",
              "      <td>32.0</td>\n",
              "      <td>NaN</td>\n",
              "      <td>NaN</td>\n",
              "      <td>NaN</td>\n",
              "      <td>Clear</td>\n",
              "      <td>3.45</td>\n",
              "    </tr>\n",
              "    <tr>\n",
              "      <th>2</th>\n",
              "      <td>-81.15</td>\n",
              "      <td>43.03</td>\n",
              "      <td>LONDON A</td>\n",
              "      <td>6144473</td>\n",
              "      <td>2018-07-01 02:00</td>\n",
              "      <td>2018</td>\n",
              "      <td>7</td>\n",
              "      <td>1</td>\n",
              "      <td>02:00</td>\n",
              "      <td>22.9</td>\n",
              "      <td>NaN</td>\n",
              "      <td>20.6</td>\n",
              "      <td>NaN</td>\n",
              "      <td>86.0</td>\n",
              "      <td>NaN</td>\n",
              "      <td>19.0</td>\n",
              "      <td>NaN</td>\n",
              "      <td>5.0</td>\n",
              "      <td>NaN</td>\n",
              "      <td>24.1</td>\n",
              "      <td>NaN</td>\n",
              "      <td>98.39</td>\n",
              "      <td>NaN</td>\n",
              "      <td>31.0</td>\n",
              "      <td>NaN</td>\n",
              "      <td>NaN</td>\n",
              "      <td>NaN</td>\n",
              "      <td>NaN</td>\n",
              "      <td>3.36</td>\n",
              "    </tr>\n",
              "    <tr>\n",
              "      <th>3</th>\n",
              "      <td>-81.15</td>\n",
              "      <td>43.03</td>\n",
              "      <td>LONDON A</td>\n",
              "      <td>6144473</td>\n",
              "      <td>2018-07-01 03:00</td>\n",
              "      <td>2018</td>\n",
              "      <td>7</td>\n",
              "      <td>1</td>\n",
              "      <td>03:00</td>\n",
              "      <td>19.9</td>\n",
              "      <td>NaN</td>\n",
              "      <td>19.3</td>\n",
              "      <td>NaN</td>\n",
              "      <td>96.0</td>\n",
              "      <td>NaN</td>\n",
              "      <td>0.0</td>\n",
              "      <td>NaN</td>\n",
              "      <td>1.0</td>\n",
              "      <td>NaN</td>\n",
              "      <td>24.1</td>\n",
              "      <td>NaN</td>\n",
              "      <td>98.42</td>\n",
              "      <td>NaN</td>\n",
              "      <td>NaN</td>\n",
              "      <td>NaN</td>\n",
              "      <td>NaN</td>\n",
              "      <td>NaN</td>\n",
              "      <td>NaN</td>\n",
              "      <td>2.90</td>\n",
              "    </tr>\n",
              "    <tr>\n",
              "      <th>4</th>\n",
              "      <td>-81.15</td>\n",
              "      <td>43.03</td>\n",
              "      <td>LONDON A</td>\n",
              "      <td>6144473</td>\n",
              "      <td>2018-07-01 04:00</td>\n",
              "      <td>2018</td>\n",
              "      <td>7</td>\n",
              "      <td>1</td>\n",
              "      <td>04:00</td>\n",
              "      <td>20.1</td>\n",
              "      <td>NaN</td>\n",
              "      <td>19.6</td>\n",
              "      <td>NaN</td>\n",
              "      <td>97.0</td>\n",
              "      <td>NaN</td>\n",
              "      <td>26.0</td>\n",
              "      <td>NaN</td>\n",
              "      <td>5.0</td>\n",
              "      <td>NaN</td>\n",
              "      <td>24.1</td>\n",
              "      <td>NaN</td>\n",
              "      <td>98.38</td>\n",
              "      <td>NaN</td>\n",
              "      <td>27.0</td>\n",
              "      <td>NaN</td>\n",
              "      <td>NaN</td>\n",
              "      <td>NaN</td>\n",
              "      <td>Mainly Clear</td>\n",
              "      <td>2.77</td>\n",
              "    </tr>\n",
              "    <tr>\n",
              "      <th>...</th>\n",
              "      <td>...</td>\n",
              "      <td>...</td>\n",
              "      <td>...</td>\n",
              "      <td>...</td>\n",
              "      <td>...</td>\n",
              "      <td>...</td>\n",
              "      <td>...</td>\n",
              "      <td>...</td>\n",
              "      <td>...</td>\n",
              "      <td>...</td>\n",
              "      <td>...</td>\n",
              "      <td>...</td>\n",
              "      <td>...</td>\n",
              "      <td>...</td>\n",
              "      <td>...</td>\n",
              "      <td>...</td>\n",
              "      <td>...</td>\n",
              "      <td>...</td>\n",
              "      <td>...</td>\n",
              "      <td>...</td>\n",
              "      <td>...</td>\n",
              "      <td>...</td>\n",
              "      <td>...</td>\n",
              "      <td>...</td>\n",
              "      <td>...</td>\n",
              "      <td>...</td>\n",
              "      <td>...</td>\n",
              "      <td>...</td>\n",
              "      <td>...</td>\n",
              "    </tr>\n",
              "    <tr>\n",
              "      <th>14611</th>\n",
              "      <td>-81.15</td>\n",
              "      <td>43.03</td>\n",
              "      <td>LONDON A</td>\n",
              "      <td>6144473</td>\n",
              "      <td>2020-02-29 19:00</td>\n",
              "      <td>2020</td>\n",
              "      <td>2</td>\n",
              "      <td>29</td>\n",
              "      <td>19:00</td>\n",
              "      <td>-6.7</td>\n",
              "      <td>NaN</td>\n",
              "      <td>-11.7</td>\n",
              "      <td>NaN</td>\n",
              "      <td>68.0</td>\n",
              "      <td>NaN</td>\n",
              "      <td>24.0</td>\n",
              "      <td>NaN</td>\n",
              "      <td>11.0</td>\n",
              "      <td>NaN</td>\n",
              "      <td>24.1</td>\n",
              "      <td>NaN</td>\n",
              "      <td>98.52</td>\n",
              "      <td>NaN</td>\n",
              "      <td>NaN</td>\n",
              "      <td>NaN</td>\n",
              "      <td>-12.0</td>\n",
              "      <td>NaN</td>\n",
              "      <td>Mainly Clear</td>\n",
              "      <td>0.84</td>\n",
              "    </tr>\n",
              "    <tr>\n",
              "      <th>14612</th>\n",
              "      <td>-81.15</td>\n",
              "      <td>43.03</td>\n",
              "      <td>LONDON A</td>\n",
              "      <td>6144473</td>\n",
              "      <td>2020-02-29 20:00</td>\n",
              "      <td>2020</td>\n",
              "      <td>2</td>\n",
              "      <td>29</td>\n",
              "      <td>20:00</td>\n",
              "      <td>-7.0</td>\n",
              "      <td>NaN</td>\n",
              "      <td>-11.5</td>\n",
              "      <td>NaN</td>\n",
              "      <td>71.0</td>\n",
              "      <td>NaN</td>\n",
              "      <td>23.0</td>\n",
              "      <td>NaN</td>\n",
              "      <td>11.0</td>\n",
              "      <td>NaN</td>\n",
              "      <td>24.1</td>\n",
              "      <td>NaN</td>\n",
              "      <td>98.53</td>\n",
              "      <td>NaN</td>\n",
              "      <td>NaN</td>\n",
              "      <td>NaN</td>\n",
              "      <td>-12.0</td>\n",
              "      <td>NaN</td>\n",
              "      <td>NaN</td>\n",
              "      <td>0.88</td>\n",
              "    </tr>\n",
              "    <tr>\n",
              "      <th>14613</th>\n",
              "      <td>-81.15</td>\n",
              "      <td>43.03</td>\n",
              "      <td>LONDON A</td>\n",
              "      <td>6144473</td>\n",
              "      <td>2020-02-29 21:00</td>\n",
              "      <td>2020</td>\n",
              "      <td>2</td>\n",
              "      <td>29</td>\n",
              "      <td>21:00</td>\n",
              "      <td>-7.1</td>\n",
              "      <td>NaN</td>\n",
              "      <td>-11.2</td>\n",
              "      <td>NaN</td>\n",
              "      <td>73.0</td>\n",
              "      <td>NaN</td>\n",
              "      <td>20.0</td>\n",
              "      <td>NaN</td>\n",
              "      <td>9.0</td>\n",
              "      <td>NaN</td>\n",
              "      <td>24.1</td>\n",
              "      <td>NaN</td>\n",
              "      <td>98.52</td>\n",
              "      <td>NaN</td>\n",
              "      <td>NaN</td>\n",
              "      <td>NaN</td>\n",
              "      <td>-11.0</td>\n",
              "      <td>NaN</td>\n",
              "      <td>NaN</td>\n",
              "      <td>0.98</td>\n",
              "    </tr>\n",
              "    <tr>\n",
              "      <th>14614</th>\n",
              "      <td>-81.15</td>\n",
              "      <td>43.03</td>\n",
              "      <td>LONDON A</td>\n",
              "      <td>6144473</td>\n",
              "      <td>2020-02-29 22:00</td>\n",
              "      <td>2020</td>\n",
              "      <td>2</td>\n",
              "      <td>29</td>\n",
              "      <td>22:00</td>\n",
              "      <td>-9.1</td>\n",
              "      <td>NaN</td>\n",
              "      <td>-12.0</td>\n",
              "      <td>NaN</td>\n",
              "      <td>80.0</td>\n",
              "      <td>NaN</td>\n",
              "      <td>20.0</td>\n",
              "      <td>NaN</td>\n",
              "      <td>8.0</td>\n",
              "      <td>NaN</td>\n",
              "      <td>24.1</td>\n",
              "      <td>NaN</td>\n",
              "      <td>98.52</td>\n",
              "      <td>NaN</td>\n",
              "      <td>NaN</td>\n",
              "      <td>NaN</td>\n",
              "      <td>-13.0</td>\n",
              "      <td>NaN</td>\n",
              "      <td>Clear</td>\n",
              "      <td>0.93</td>\n",
              "    </tr>\n",
              "    <tr>\n",
              "      <th>14615</th>\n",
              "      <td>-81.15</td>\n",
              "      <td>43.03</td>\n",
              "      <td>LONDON A</td>\n",
              "      <td>6144473</td>\n",
              "      <td>2020-02-29 23:00</td>\n",
              "      <td>2020</td>\n",
              "      <td>2</td>\n",
              "      <td>29</td>\n",
              "      <td>23:00</td>\n",
              "      <td>-9.2</td>\n",
              "      <td>NaN</td>\n",
              "      <td>-12.2</td>\n",
              "      <td>NaN</td>\n",
              "      <td>79.0</td>\n",
              "      <td>NaN</td>\n",
              "      <td>22.0</td>\n",
              "      <td>NaN</td>\n",
              "      <td>7.0</td>\n",
              "      <td>NaN</td>\n",
              "      <td>24.1</td>\n",
              "      <td>NaN</td>\n",
              "      <td>98.52</td>\n",
              "      <td>NaN</td>\n",
              "      <td>NaN</td>\n",
              "      <td>NaN</td>\n",
              "      <td>-13.0</td>\n",
              "      <td>NaN</td>\n",
              "      <td>NaN</td>\n",
              "      <td>6.34</td>\n",
              "    </tr>\n",
              "  </tbody>\n",
              "</table>\n",
              "<p>14616 rows × 29 columns</p>\n",
              "</div>"
            ],
            "text/plain": [
              "       Longitude (x)  Latitude (y)  ...       Weather  Usage (kilowatt-hours)\n",
              "0             -81.15         43.03  ...           NaN                    3.53\n",
              "1             -81.15         43.03  ...         Clear                    3.45\n",
              "2             -81.15         43.03  ...           NaN                    3.36\n",
              "3             -81.15         43.03  ...           NaN                    2.90\n",
              "4             -81.15         43.03  ...  Mainly Clear                    2.77\n",
              "...              ...           ...  ...           ...                     ...\n",
              "14611         -81.15         43.03  ...  Mainly Clear                    0.84\n",
              "14612         -81.15         43.03  ...           NaN                    0.88\n",
              "14613         -81.15         43.03  ...           NaN                    0.98\n",
              "14614         -81.15         43.03  ...         Clear                    0.93\n",
              "14615         -81.15         43.03  ...           NaN                    6.34\n",
              "\n",
              "[14616 rows x 29 columns]"
            ]
          },
          "metadata": {
            "tags": []
          },
          "execution_count": 383
        }
      ]
    },
    {
      "cell_type": "code",
      "metadata": {
        "colab": {
          "base_uri": "https://localhost:8080/",
          "height": 604
        },
        "id": "bs4A4El1LVJc",
        "outputId": "6c32ddf1-568e-475b-dbf8-ef3522a634fd"
      },
      "source": [
        "plt.figure(figsize=(10,5))\n",
        "plt.plot(data['Usage (kilowatt-hours)'])\n",
        "plt.show()\n",
        "\n",
        "# close up on the first week\n",
        "plt.plot(data['Usage (kilowatt-hours)'].head(168))\n",
        "plt.show()"
      ],
      "execution_count": 384,
      "outputs": [
        {
          "output_type": "execute_result",
          "data": {
            "text/plain": [
              "<Figure size 720x360 with 0 Axes>"
            ]
          },
          "metadata": {
            "tags": []
          },
          "execution_count": 384
        },
        {
          "output_type": "execute_result",
          "data": {
            "text/plain": [
              "[<matplotlib.lines.Line2D at 0x7f73a6d14dd8>]"
            ]
          },
          "metadata": {
            "tags": []
          },
          "execution_count": 384
        },
        {
          "output_type": "display_data",
          "data": {
            "image/png": "[encoded data removed]",
            "text/plain": [
              "<Figure size 720x360 with 1 Axes>"
            ]
          },
          "metadata": {
            "tags": [],
            "needs_background": "light"
          }
        },
        {
          "output_type": "execute_result",
          "data": {
            "text/plain": [
              "[<matplotlib.lines.Line2D at 0x7f73a7198080>]"
            ]
          },
          "metadata": {
            "tags": []
          },
          "execution_count": 384
        },
        {
          "output_type": "display_data",
          "data": {
            "image/png": "[encoded data removed]",
            "text/plain": [
              "<Figure size 432x288 with 1 Axes>"
            ]
          },
          "metadata": {
            "tags": [],
            "needs_background": "light"
          }
        }
      ]
    },
    {
      "cell_type": "markdown",
      "metadata": {
        "id": "BvWxI8bXy98q"
      },
      "source": [
        "Data Cleaning"
      ]
    },
    {
      "cell_type": "code",
      "metadata": {
        "colab": {
          "base_uri": "https://localhost:8080/"
        },
        "id": "E04KQ1a2N6AL",
        "outputId": "7fce9e08-8d37-4717-f287-c85a591a44ba"
      },
      "source": [
        "# ================= Data Cleaning =======================\n",
        "\n",
        "# drop the columns with mostly missing values\n",
        "data = data.drop(columns=[\"Temp Flag\", \"Dew Point Temp Flag\", \"Rel Hum Flag\", \"Wind Dir Flag\", \"Wind Spd Flag\",\n",
        "                   \"Visibility Flag\", \"Stn Press Flag\", \"Hmdx\", \"Hmdx Flag\", \"Wind Chill\", \"Wind Chill Flag\"])\n",
        "\n",
        "# drop columns with constant data\n",
        "data = data.drop(columns=[\"Longitude (x)\", \"Latitude (y)\", \"Station Name\", \"Climate ID\", 'Date/Time'])\n",
        "\n",
        "print(data.isnull().sum())"
      ],
      "execution_count": 385,
      "outputs": [
        {
          "output_type": "stream",
          "text": [
            "Year                         0\n",
            "Month                        0\n",
            "Day                          0\n",
            "Time                         0\n",
            "Temp (°C)                    9\n",
            "Dew Point Temp (°C)          9\n",
            "Rel Hum (%)                  9\n",
            "Wind Dir (10s deg)          19\n",
            "Wind Spd (km/h)              9\n",
            "Visibility (km)              8\n",
            "Stn Press (kPa)              9\n",
            "Weather                   7211\n",
            "Usage (kilowatt-hours)       0\n",
            "dtype: int64\n"
          ],
          "name": "stdout"
        }
      ]
    },
    {
      "cell_type": "code",
      "metadata": {
        "colab": {
          "base_uri": "https://localhost:8080/"
        },
        "id": "pPURAF8LOBB2",
        "outputId": "dfffcd96-3068-4425-d4ba-e2b23afe57e3"
      },
      "source": [
        "# Deal with missing values\n",
        "columns_to_clean = [\"Temp (°C)\", \"Dew Point Temp (°C)\", \"Rel Hum (%)\", \"Wind Dir (10s deg)\", \"Wind Spd (km/h)\",\n",
        "                    \"Visibility (km)\", \"Stn Press (kPa)\"]\n",
        "\n",
        "# replace with previous hour data\n",
        "for col in columns_to_clean:\n",
        "    data[col].fillna(method='ffill', inplace=True)\n",
        "\n",
        "print(data.isnull().sum())"
      ],
      "execution_count": 386,
      "outputs": [
        {
          "output_type": "stream",
          "text": [
            "Year                         0\n",
            "Month                        0\n",
            "Day                          0\n",
            "Time                         0\n",
            "Temp (°C)                    0\n",
            "Dew Point Temp (°C)          0\n",
            "Rel Hum (%)                  0\n",
            "Wind Dir (10s deg)           0\n",
            "Wind Spd (km/h)              0\n",
            "Visibility (km)              0\n",
            "Stn Press (kPa)              0\n",
            "Weather                   7211\n",
            "Usage (kilowatt-hours)       0\n",
            "dtype: int64\n"
          ],
          "name": "stdout"
        }
      ]
    },
    {
      "cell_type": "markdown",
      "metadata": {
        "id": "95vM-kC0y4Z_"
      },
      "source": [
        "Weather Attribute"
      ]
    },
    {
      "cell_type": "code",
      "metadata": {
        "colab": {
          "base_uri": "https://localhost:8080/"
        },
        "id": "sD_wHRE6OC7i",
        "outputId": "afb6754f-1b00-47bf-df44-cc3c25db8c23"
      },
      "source": [
        "# clean the \"weather\" attribute: replace missing values with previous observations\n",
        "data[\"Weather\"].fillna(method='ffill', inplace=True)\n",
        "\n",
        "print(data.isnull().sum())"
      ],
      "execution_count": 387,
      "outputs": [
        {
          "output_type": "stream",
          "text": [
            "Year                      0\n",
            "Month                     0\n",
            "Day                       0\n",
            "Time                      0\n",
            "Temp (°C)                 0\n",
            "Dew Point Temp (°C)       0\n",
            "Rel Hum (%)               0\n",
            "Wind Dir (10s deg)        0\n",
            "Wind Spd (km/h)           0\n",
            "Visibility (km)           0\n",
            "Stn Press (kPa)           0\n",
            "Weather                   1\n",
            "Usage (kilowatt-hours)    0\n",
            "dtype: int64\n"
          ],
          "name": "stdout"
        }
      ]
    },
    {
      "cell_type": "code",
      "metadata": {
        "colab": {
          "base_uri": "https://localhost:8080/",
          "height": 297
        },
        "id": "FVBmH11iEYCO",
        "outputId": "64fc55b1-8786-4d05-a3a2-0776c3a8bad1"
      },
      "source": [
        "sns.scatterplot(data=data, x=\"Temp (°C)\", y=\"Usage (kilowatt-hours)\")"
      ],
      "execution_count": 388,
      "outputs": [
        {
          "output_type": "execute_result",
          "data": {
            "text/plain": [
              "<matplotlib.axes._subplots.AxesSubplot at 0x7f73a2acda58>"
            ]
          },
          "metadata": {
            "tags": []
          },
          "execution_count": 388
        },
        {
          "output_type": "display_data",
          "data": {
            "image/png": "[encoded data removed]",
            "text/plain": [
              "<Figure size 432x288 with 1 Axes>"
            ]
          },
          "metadata": {
            "tags": [],
            "needs_background": "light"
          }
        }
      ]
    },
    {
      "cell_type": "markdown",
      "metadata": {
        "id": "tnzBzPyuA_Qb"
      },
      "source": [
        "Feature Engineering"
      ]
    },
    {
      "cell_type": "markdown",
      "metadata": {
        "id": "hAYQUhh-AoVN"
      },
      "source": [
        "Hour of Day"
      ]
    },
    {
      "cell_type": "code",
      "metadata": {
        "colab": {
          "base_uri": "https://localhost:8080/",
          "height": 502
        },
        "id": "1huatERRxZRK",
        "outputId": "04eee92d-d6e3-4993-f9c9-a83bacbb7f80"
      },
      "source": [
        "data['Time'] = data['Time'].apply(lambda s: float(s.split(':')[0]))\n",
        "data"
      ],
      "execution_count": 389,
      "outputs": [
        {
          "output_type": "execute_result",
          "data": {
            "text/html": [
              "<div>\n",
              "<style scoped>\n",
              "    .dataframe tbody tr th:only-of-type {\n",
              "        vertical-align: middle;\n",
              "    }\n",
              "\n",
              "    .dataframe tbody tr th {\n",
              "        vertical-align: top;\n",
              "    }\n",
              "\n",
              "    .dataframe thead th {\n",
              "        text-align: right;\n",
              "    }\n",
              "</style>\n",
              "<table border=\"1\" class=\"dataframe\">\n",
              "  <thead>\n",
              "    <tr style=\"text-align: right;\">\n",
              "      <th></th>\n",
              "      <th>Year</th>\n",
              "      <th>Month</th>\n",
              "      <th>Day</th>\n",
              "      <th>Time</th>\n",
              "      <th>Temp (°C)</th>\n",
              "      <th>Dew Point Temp (°C)</th>\n",
              "      <th>Rel Hum (%)</th>\n",
              "      <th>Wind Dir (10s deg)</th>\n",
              "      <th>Wind Spd (km/h)</th>\n",
              "      <th>Visibility (km)</th>\n",
              "      <th>Stn Press (kPa)</th>\n",
              "      <th>Weather</th>\n",
              "      <th>Usage (kilowatt-hours)</th>\n",
              "    </tr>\n",
              "  </thead>\n",
              "  <tbody>\n",
              "    <tr>\n",
              "      <th>0</th>\n",
              "      <td>2018</td>\n",
              "      <td>7</td>\n",
              "      <td>1</td>\n",
              "      <td>0.0</td>\n",
              "      <td>25.0</td>\n",
              "      <td>20.9</td>\n",
              "      <td>78.0</td>\n",
              "      <td>21.0</td>\n",
              "      <td>10.0</td>\n",
              "      <td>24.1</td>\n",
              "      <td>98.35</td>\n",
              "      <td>NaN</td>\n",
              "      <td>3.53</td>\n",
              "    </tr>\n",
              "    <tr>\n",
              "      <th>1</th>\n",
              "      <td>2018</td>\n",
              "      <td>7</td>\n",
              "      <td>1</td>\n",
              "      <td>1.0</td>\n",
              "      <td>23.5</td>\n",
              "      <td>20.8</td>\n",
              "      <td>84.0</td>\n",
              "      <td>20.0</td>\n",
              "      <td>7.0</td>\n",
              "      <td>24.1</td>\n",
              "      <td>98.39</td>\n",
              "      <td>Clear</td>\n",
              "      <td>3.45</td>\n",
              "    </tr>\n",
              "    <tr>\n",
              "      <th>2</th>\n",
              "      <td>2018</td>\n",
              "      <td>7</td>\n",
              "      <td>1</td>\n",
              "      <td>2.0</td>\n",
              "      <td>22.9</td>\n",
              "      <td>20.6</td>\n",
              "      <td>86.0</td>\n",
              "      <td>19.0</td>\n",
              "      <td>5.0</td>\n",
              "      <td>24.1</td>\n",
              "      <td>98.39</td>\n",
              "      <td>Clear</td>\n",
              "      <td>3.36</td>\n",
              "    </tr>\n",
              "    <tr>\n",
              "      <th>3</th>\n",
              "      <td>2018</td>\n",
              "      <td>7</td>\n",
              "      <td>1</td>\n",
              "      <td>3.0</td>\n",
              "      <td>19.9</td>\n",
              "      <td>19.3</td>\n",
              "      <td>96.0</td>\n",
              "      <td>0.0</td>\n",
              "      <td>1.0</td>\n",
              "      <td>24.1</td>\n",
              "      <td>98.42</td>\n",
              "      <td>Clear</td>\n",
              "      <td>2.90</td>\n",
              "    </tr>\n",
              "    <tr>\n",
              "      <th>4</th>\n",
              "      <td>2018</td>\n",
              "      <td>7</td>\n",
              "      <td>1</td>\n",
              "      <td>4.0</td>\n",
              "      <td>20.1</td>\n",
              "      <td>19.6</td>\n",
              "      <td>97.0</td>\n",
              "      <td>26.0</td>\n",
              "      <td>5.0</td>\n",
              "      <td>24.1</td>\n",
              "      <td>98.38</td>\n",
              "      <td>Mainly Clear</td>\n",
              "      <td>2.77</td>\n",
              "    </tr>\n",
              "    <tr>\n",
              "      <th>...</th>\n",
              "      <td>...</td>\n",
              "      <td>...</td>\n",
              "      <td>...</td>\n",
              "      <td>...</td>\n",
              "      <td>...</td>\n",
              "      <td>...</td>\n",
              "      <td>...</td>\n",
              "      <td>...</td>\n",
              "      <td>...</td>\n",
              "      <td>...</td>\n",
              "      <td>...</td>\n",
              "      <td>...</td>\n",
              "      <td>...</td>\n",
              "    </tr>\n",
              "    <tr>\n",
              "      <th>14611</th>\n",
              "      <td>2020</td>\n",
              "      <td>2</td>\n",
              "      <td>29</td>\n",
              "      <td>19.0</td>\n",
              "      <td>-6.7</td>\n",
              "      <td>-11.7</td>\n",
              "      <td>68.0</td>\n",
              "      <td>24.0</td>\n",
              "      <td>11.0</td>\n",
              "      <td>24.1</td>\n",
              "      <td>98.52</td>\n",
              "      <td>Mainly Clear</td>\n",
              "      <td>0.84</td>\n",
              "    </tr>\n",
              "    <tr>\n",
              "      <th>14612</th>\n",
              "      <td>2020</td>\n",
              "      <td>2</td>\n",
              "      <td>29</td>\n",
              "      <td>20.0</td>\n",
              "      <td>-7.0</td>\n",
              "      <td>-11.5</td>\n",
              "      <td>71.0</td>\n",
              "      <td>23.0</td>\n",
              "      <td>11.0</td>\n",
              "      <td>24.1</td>\n",
              "      <td>98.53</td>\n",
              "      <td>Mainly Clear</td>\n",
              "      <td>0.88</td>\n",
              "    </tr>\n",
              "    <tr>\n",
              "      <th>14613</th>\n",
              "      <td>2020</td>\n",
              "      <td>2</td>\n",
              "      <td>29</td>\n",
              "      <td>21.0</td>\n",
              "      <td>-7.1</td>\n",
              "      <td>-11.2</td>\n",
              "      <td>73.0</td>\n",
              "      <td>20.0</td>\n",
              "      <td>9.0</td>\n",
              "      <td>24.1</td>\n",
              "      <td>98.52</td>\n",
              "      <td>Mainly Clear</td>\n",
              "      <td>0.98</td>\n",
              "    </tr>\n",
              "    <tr>\n",
              "      <th>14614</th>\n",
              "      <td>2020</td>\n",
              "      <td>2</td>\n",
              "      <td>29</td>\n",
              "      <td>22.0</td>\n",
              "      <td>-9.1</td>\n",
              "      <td>-12.0</td>\n",
              "      <td>80.0</td>\n",
              "      <td>20.0</td>\n",
              "      <td>8.0</td>\n",
              "      <td>24.1</td>\n",
              "      <td>98.52</td>\n",
              "      <td>Clear</td>\n",
              "      <td>0.93</td>\n",
              "    </tr>\n",
              "    <tr>\n",
              "      <th>14615</th>\n",
              "      <td>2020</td>\n",
              "      <td>2</td>\n",
              "      <td>29</td>\n",
              "      <td>23.0</td>\n",
              "      <td>-9.2</td>\n",
              "      <td>-12.2</td>\n",
              "      <td>79.0</td>\n",
              "      <td>22.0</td>\n",
              "      <td>7.0</td>\n",
              "      <td>24.1</td>\n",
              "      <td>98.52</td>\n",
              "      <td>Clear</td>\n",
              "      <td>6.34</td>\n",
              "    </tr>\n",
              "  </tbody>\n",
              "</table>\n",
              "<p>14616 rows × 13 columns</p>\n",
              "</div>"
            ],
            "text/plain": [
              "       Year  Month  Day  ...  Stn Press (kPa)       Weather  Usage (kilowatt-hours)\n",
              "0      2018      7    1  ...            98.35           NaN                    3.53\n",
              "1      2018      7    1  ...            98.39         Clear                    3.45\n",
              "2      2018      7    1  ...            98.39         Clear                    3.36\n",
              "3      2018      7    1  ...            98.42         Clear                    2.90\n",
              "4      2018      7    1  ...            98.38  Mainly Clear                    2.77\n",
              "...     ...    ...  ...  ...              ...           ...                     ...\n",
              "14611  2020      2   29  ...            98.52  Mainly Clear                    0.84\n",
              "14612  2020      2   29  ...            98.53  Mainly Clear                    0.88\n",
              "14613  2020      2   29  ...            98.52  Mainly Clear                    0.98\n",
              "14614  2020      2   29  ...            98.52         Clear                    0.93\n",
              "14615  2020      2   29  ...            98.52         Clear                    6.34\n",
              "\n",
              "[14616 rows x 13 columns]"
            ]
          },
          "metadata": {
            "tags": []
          },
          "execution_count": 389
        }
      ]
    },
    {
      "cell_type": "markdown",
      "metadata": {
        "id": "R6FSnV9OGgJI"
      },
      "source": [
        "Day of week"
      ]
    },
    {
      "cell_type": "code",
      "metadata": {
        "colab": {
          "base_uri": "https://localhost:8080/",
          "height": 415
        },
        "id": "nfl5IHmiICKg",
        "outputId": "38d82929-d4cb-4c7d-9da7-1a8aa3a5e4d3"
      },
      "source": [
        "day_week = []\n",
        "counter = 0\n",
        "\n",
        "for day in range(len(data)):\n",
        "  if 0<= counter <= 23:\n",
        "    day_week.append(7)\n",
        "  elif 24 <= counter <=47:\n",
        "    day_week.append(1)\n",
        "  elif 48<= counter <= 71:\n",
        "    day_week.append(2)\n",
        "  elif 72 <= counter <= 95:\n",
        "    day_week.append(3)\n",
        "  elif 96 <= counter <=119:\n",
        "    day_week.append(4)\n",
        "  elif 120 <=counter <= 143:\n",
        "    day_week.append(5)\n",
        "  elif 144 <= counter <=167:\n",
        "    day_week.append(6)\n",
        "  \n",
        "  counter += 1\n",
        "\n",
        "  if counter > 167:\n",
        "    counter = 0\n",
        "\n",
        "day_week = pd.DataFrame(data=day_week, columns=['day_week'])\n",
        "day_week\n",
        "\n",
        "data = pd.concat([data, day_week], axis=1)"
      ],
      "execution_count": 390,
      "outputs": [
        {
          "output_type": "execute_result",
          "data": {
            "text/html": [
              "<div>\n",
              "<style scoped>\n",
              "    .dataframe tbody tr th:only-of-type {\n",
              "        vertical-align: middle;\n",
              "    }\n",
              "\n",
              "    .dataframe tbody tr th {\n",
              "        vertical-align: top;\n",
              "    }\n",
              "\n",
              "    .dataframe thead th {\n",
              "        text-align: right;\n",
              "    }\n",
              "</style>\n",
              "<table border=\"1\" class=\"dataframe\">\n",
              "  <thead>\n",
              "    <tr style=\"text-align: right;\">\n",
              "      <th></th>\n",
              "      <th>day_week</th>\n",
              "    </tr>\n",
              "  </thead>\n",
              "  <tbody>\n",
              "    <tr>\n",
              "      <th>0</th>\n",
              "      <td>7</td>\n",
              "    </tr>\n",
              "    <tr>\n",
              "      <th>1</th>\n",
              "      <td>7</td>\n",
              "    </tr>\n",
              "    <tr>\n",
              "      <th>2</th>\n",
              "      <td>7</td>\n",
              "    </tr>\n",
              "    <tr>\n",
              "      <th>3</th>\n",
              "      <td>7</td>\n",
              "    </tr>\n",
              "    <tr>\n",
              "      <th>4</th>\n",
              "      <td>7</td>\n",
              "    </tr>\n",
              "    <tr>\n",
              "      <th>...</th>\n",
              "      <td>...</td>\n",
              "    </tr>\n",
              "    <tr>\n",
              "      <th>14611</th>\n",
              "      <td>6</td>\n",
              "    </tr>\n",
              "    <tr>\n",
              "      <th>14612</th>\n",
              "      <td>6</td>\n",
              "    </tr>\n",
              "    <tr>\n",
              "      <th>14613</th>\n",
              "      <td>6</td>\n",
              "    </tr>\n",
              "    <tr>\n",
              "      <th>14614</th>\n",
              "      <td>6</td>\n",
              "    </tr>\n",
              "    <tr>\n",
              "      <th>14615</th>\n",
              "      <td>6</td>\n",
              "    </tr>\n",
              "  </tbody>\n",
              "</table>\n",
              "<p>14616 rows × 1 columns</p>\n",
              "</div>"
            ],
            "text/plain": [
              "       day_week\n",
              "0             7\n",
              "1             7\n",
              "2             7\n",
              "3             7\n",
              "4             7\n",
              "...         ...\n",
              "14611         6\n",
              "14612         6\n",
              "14613         6\n",
              "14614         6\n",
              "14615         6\n",
              "\n",
              "[14616 rows x 1 columns]"
            ]
          },
          "metadata": {
            "tags": []
          },
          "execution_count": 390
        }
      ]
    },
    {
      "cell_type": "markdown",
      "metadata": {
        "id": "0VvxFLfHAtDa"
      },
      "source": [
        "Usage at previous timesteps as features"
      ]
    },
    {
      "cell_type": "code",
      "metadata": {
        "id": "d8BUKxTlAucV"
      },
      "source": [
        "# steps = 7\n",
        "\n",
        "# for i in range(1,steps):\n",
        "#   data['Previous_Usage' + str(i)] = data['Usage (kilowatt-hours)'].shift(i)\n",
        "  \n",
        "# for i in range(steps-1):\n",
        "#   data.drop(index=i, inplace=True)\n",
        "\n",
        "# data = pd.DataFrame.reset_index(data, drop=True)\n",
        "# data"
      ],
      "execution_count": 391,
      "outputs": []
    },
    {
      "cell_type": "markdown",
      "metadata": {
        "id": "dZA7yIE5WGAA"
      },
      "source": [
        "Season Feature"
      ]
    },
    {
      "cell_type": "code",
      "metadata": {
        "colab": {
          "base_uri": "https://localhost:8080/",
          "height": 415
        },
        "id": "igBHVV1pOu6d",
        "outputId": "614b8c96-2273-4b6c-dd4a-afefbbceac3f"
      },
      "source": [
        "season = []\n",
        "for month in data['Month']:\n",
        "  if 4 <= month <= 5:\n",
        "    season.append(1)\n",
        "  elif 6 <= month <= 9:\n",
        "    season.append(2)\n",
        "  elif 10 <= month <= 11:\n",
        "    season.append(3)\n",
        "  elif 12 == month or month <= 3:\n",
        "    season.append(4)\n",
        "\n",
        "season = pd.DataFrame(data=season, columns=['Season'])\n",
        "season\n",
        "\n",
        "data = pd.concat([data, season], axis=1)"
      ],
      "execution_count": 392,
      "outputs": [
        {
          "output_type": "execute_result",
          "data": {
            "text/html": [
              "<div>\n",
              "<style scoped>\n",
              "    .dataframe tbody tr th:only-of-type {\n",
              "        vertical-align: middle;\n",
              "    }\n",
              "\n",
              "    .dataframe tbody tr th {\n",
              "        vertical-align: top;\n",
              "    }\n",
              "\n",
              "    .dataframe thead th {\n",
              "        text-align: right;\n",
              "    }\n",
              "</style>\n",
              "<table border=\"1\" class=\"dataframe\">\n",
              "  <thead>\n",
              "    <tr style=\"text-align: right;\">\n",
              "      <th></th>\n",
              "      <th>Season</th>\n",
              "    </tr>\n",
              "  </thead>\n",
              "  <tbody>\n",
              "    <tr>\n",
              "      <th>0</th>\n",
              "      <td>2</td>\n",
              "    </tr>\n",
              "    <tr>\n",
              "      <th>1</th>\n",
              "      <td>2</td>\n",
              "    </tr>\n",
              "    <tr>\n",
              "      <th>2</th>\n",
              "      <td>2</td>\n",
              "    </tr>\n",
              "    <tr>\n",
              "      <th>3</th>\n",
              "      <td>2</td>\n",
              "    </tr>\n",
              "    <tr>\n",
              "      <th>4</th>\n",
              "      <td>2</td>\n",
              "    </tr>\n",
              "    <tr>\n",
              "      <th>...</th>\n",
              "      <td>...</td>\n",
              "    </tr>\n",
              "    <tr>\n",
              "      <th>14611</th>\n",
              "      <td>4</td>\n",
              "    </tr>\n",
              "    <tr>\n",
              "      <th>14612</th>\n",
              "      <td>4</td>\n",
              "    </tr>\n",
              "    <tr>\n",
              "      <th>14613</th>\n",
              "      <td>4</td>\n",
              "    </tr>\n",
              "    <tr>\n",
              "      <th>14614</th>\n",
              "      <td>4</td>\n",
              "    </tr>\n",
              "    <tr>\n",
              "      <th>14615</th>\n",
              "      <td>4</td>\n",
              "    </tr>\n",
              "  </tbody>\n",
              "</table>\n",
              "<p>14616 rows × 1 columns</p>\n",
              "</div>"
            ],
            "text/plain": [
              "       Season\n",
              "0           2\n",
              "1           2\n",
              "2           2\n",
              "3           2\n",
              "4           2\n",
              "...       ...\n",
              "14611       4\n",
              "14612       4\n",
              "14613       4\n",
              "14614       4\n",
              "14615       4\n",
              "\n",
              "[14616 rows x 1 columns]"
            ]
          },
          "metadata": {
            "tags": []
          },
          "execution_count": 392
        }
      ]
    },
    {
      "cell_type": "markdown",
      "metadata": {
        "id": "EtRXlp8kZPZb"
      },
      "source": [
        "Unit Circle Mapping for Cyclical Features"
      ]
    },
    {
      "cell_type": "code",
      "metadata": {
        "id": "IswOibaqZRV4"
      },
      "source": [
        "def encode_cyclical(data, col, max_val):\n",
        "  data[col + '_sin'] = np.sin(2*np.pi*data[col]/max_val)\n",
        "  data[col + '_cos'] = np.cos(2*np.pi*data[col]/max_val)\n",
        "\n",
        "  data.drop(columns=[col], inplace=True)\n",
        "  return data\n",
        "\n",
        "\n",
        "data = encode_cyclical(data, 'Month', 12)\n",
        "data = encode_cyclical(data, 'Time', 24)\n",
        "data = encode_cyclical(data, 'day_week', 7)\n",
        "data = encode_cyclical(data, 'Season', 4)"
      ],
      "execution_count": 393,
      "outputs": []
    },
    {
      "cell_type": "code",
      "metadata": {
        "colab": {
          "base_uri": "https://localhost:8080/",
          "height": 661
        },
        "id": "bv-QYa7oxh9k",
        "outputId": "5408a3b6-5a2a-4a1d-d065-653d52c6926e"
      },
      "source": [
        "data_onehot = data.copy()\n",
        "\n",
        "# Discard Weather and Year feature\n",
        "data_onehot = data_onehot.drop(columns=['Weather', 'Year', 'Day'], axis=1)\n",
        "\n",
        "data_onehot"
      ],
      "execution_count": 394,
      "outputs": [
        {
          "output_type": "execute_result",
          "data": {
            "text/html": [
              "<div>\n",
              "<style scoped>\n",
              "    .dataframe tbody tr th:only-of-type {\n",
              "        vertical-align: middle;\n",
              "    }\n",
              "\n",
              "    .dataframe tbody tr th {\n",
              "        vertical-align: top;\n",
              "    }\n",
              "\n",
              "    .dataframe thead th {\n",
              "        text-align: right;\n",
              "    }\n",
              "</style>\n",
              "<table border=\"1\" class=\"dataframe\">\n",
              "  <thead>\n",
              "    <tr style=\"text-align: right;\">\n",
              "      <th></th>\n",
              "      <th>Temp (°C)</th>\n",
              "      <th>Dew Point Temp (°C)</th>\n",
              "      <th>Rel Hum (%)</th>\n",
              "      <th>Wind Dir (10s deg)</th>\n",
              "      <th>Wind Spd (km/h)</th>\n",
              "      <th>Visibility (km)</th>\n",
              "      <th>Stn Press (kPa)</th>\n",
              "      <th>Usage (kilowatt-hours)</th>\n",
              "      <th>Month_sin</th>\n",
              "      <th>Month_cos</th>\n",
              "      <th>Time_sin</th>\n",
              "      <th>Time_cos</th>\n",
              "      <th>day_week_sin</th>\n",
              "      <th>day_week_cos</th>\n",
              "      <th>Season_sin</th>\n",
              "      <th>Season_cos</th>\n",
              "    </tr>\n",
              "  </thead>\n",
              "  <tbody>\n",
              "    <tr>\n",
              "      <th>0</th>\n",
              "      <td>25.0</td>\n",
              "      <td>20.9</td>\n",
              "      <td>78.0</td>\n",
              "      <td>21.0</td>\n",
              "      <td>10.0</td>\n",
              "      <td>24.1</td>\n",
              "      <td>98.35</td>\n",
              "      <td>3.53</td>\n",
              "      <td>-0.500000</td>\n",
              "      <td>-0.866025</td>\n",
              "      <td>0.000000</td>\n",
              "      <td>1.000000</td>\n",
              "      <td>-2.449294e-16</td>\n",
              "      <td>1.00000</td>\n",
              "      <td>1.224647e-16</td>\n",
              "      <td>-1.0</td>\n",
              "    </tr>\n",
              "    <tr>\n",
              "      <th>1</th>\n",
              "      <td>23.5</td>\n",
              "      <td>20.8</td>\n",
              "      <td>84.0</td>\n",
              "      <td>20.0</td>\n",
              "      <td>7.0</td>\n",
              "      <td>24.1</td>\n",
              "      <td>98.39</td>\n",
              "      <td>3.45</td>\n",
              "      <td>-0.500000</td>\n",
              "      <td>-0.866025</td>\n",
              "      <td>0.258819</td>\n",
              "      <td>0.965926</td>\n",
              "      <td>-2.449294e-16</td>\n",
              "      <td>1.00000</td>\n",
              "      <td>1.224647e-16</td>\n",
              "      <td>-1.0</td>\n",
              "    </tr>\n",
              "    <tr>\n",
              "      <th>2</th>\n",
              "      <td>22.9</td>\n",
              "      <td>20.6</td>\n",
              "      <td>86.0</td>\n",
              "      <td>19.0</td>\n",
              "      <td>5.0</td>\n",
              "      <td>24.1</td>\n",
              "      <td>98.39</td>\n",
              "      <td>3.36</td>\n",
              "      <td>-0.500000</td>\n",
              "      <td>-0.866025</td>\n",
              "      <td>0.500000</td>\n",
              "      <td>0.866025</td>\n",
              "      <td>-2.449294e-16</td>\n",
              "      <td>1.00000</td>\n",
              "      <td>1.224647e-16</td>\n",
              "      <td>-1.0</td>\n",
              "    </tr>\n",
              "    <tr>\n",
              "      <th>3</th>\n",
              "      <td>19.9</td>\n",
              "      <td>19.3</td>\n",
              "      <td>96.0</td>\n",
              "      <td>0.0</td>\n",
              "      <td>1.0</td>\n",
              "      <td>24.1</td>\n",
              "      <td>98.42</td>\n",
              "      <td>2.90</td>\n",
              "      <td>-0.500000</td>\n",
              "      <td>-0.866025</td>\n",
              "      <td>0.707107</td>\n",
              "      <td>0.707107</td>\n",
              "      <td>-2.449294e-16</td>\n",
              "      <td>1.00000</td>\n",
              "      <td>1.224647e-16</td>\n",
              "      <td>-1.0</td>\n",
              "    </tr>\n",
              "    <tr>\n",
              "      <th>4</th>\n",
              "      <td>20.1</td>\n",
              "      <td>19.6</td>\n",
              "      <td>97.0</td>\n",
              "      <td>26.0</td>\n",
              "      <td>5.0</td>\n",
              "      <td>24.1</td>\n",
              "      <td>98.38</td>\n",
              "      <td>2.77</td>\n",
              "      <td>-0.500000</td>\n",
              "      <td>-0.866025</td>\n",
              "      <td>0.866025</td>\n",
              "      <td>0.500000</td>\n",
              "      <td>-2.449294e-16</td>\n",
              "      <td>1.00000</td>\n",
              "      <td>1.224647e-16</td>\n",
              "      <td>-1.0</td>\n",
              "    </tr>\n",
              "    <tr>\n",
              "      <th>...</th>\n",
              "      <td>...</td>\n",
              "      <td>...</td>\n",
              "      <td>...</td>\n",
              "      <td>...</td>\n",
              "      <td>...</td>\n",
              "      <td>...</td>\n",
              "      <td>...</td>\n",
              "      <td>...</td>\n",
              "      <td>...</td>\n",
              "      <td>...</td>\n",
              "      <td>...</td>\n",
              "      <td>...</td>\n",
              "      <td>...</td>\n",
              "      <td>...</td>\n",
              "      <td>...</td>\n",
              "      <td>...</td>\n",
              "    </tr>\n",
              "    <tr>\n",
              "      <th>14611</th>\n",
              "      <td>-6.7</td>\n",
              "      <td>-11.7</td>\n",
              "      <td>68.0</td>\n",
              "      <td>24.0</td>\n",
              "      <td>11.0</td>\n",
              "      <td>24.1</td>\n",
              "      <td>98.52</td>\n",
              "      <td>0.84</td>\n",
              "      <td>0.866025</td>\n",
              "      <td>0.500000</td>\n",
              "      <td>-0.965926</td>\n",
              "      <td>0.258819</td>\n",
              "      <td>-7.818315e-01</td>\n",
              "      <td>0.62349</td>\n",
              "      <td>-2.449294e-16</td>\n",
              "      <td>1.0</td>\n",
              "    </tr>\n",
              "    <tr>\n",
              "      <th>14612</th>\n",
              "      <td>-7.0</td>\n",
              "      <td>-11.5</td>\n",
              "      <td>71.0</td>\n",
              "      <td>23.0</td>\n",
              "      <td>11.0</td>\n",
              "      <td>24.1</td>\n",
              "      <td>98.53</td>\n",
              "      <td>0.88</td>\n",
              "      <td>0.866025</td>\n",
              "      <td>0.500000</td>\n",
              "      <td>-0.866025</td>\n",
              "      <td>0.500000</td>\n",
              "      <td>-7.818315e-01</td>\n",
              "      <td>0.62349</td>\n",
              "      <td>-2.449294e-16</td>\n",
              "      <td>1.0</td>\n",
              "    </tr>\n",
              "    <tr>\n",
              "      <th>14613</th>\n",
              "      <td>-7.1</td>\n",
              "      <td>-11.2</td>\n",
              "      <td>73.0</td>\n",
              "      <td>20.0</td>\n",
              "      <td>9.0</td>\n",
              "      <td>24.1</td>\n",
              "      <td>98.52</td>\n",
              "      <td>0.98</td>\n",
              "      <td>0.866025</td>\n",
              "      <td>0.500000</td>\n",
              "      <td>-0.707107</td>\n",
              "      <td>0.707107</td>\n",
              "      <td>-7.818315e-01</td>\n",
              "      <td>0.62349</td>\n",
              "      <td>-2.449294e-16</td>\n",
              "      <td>1.0</td>\n",
              "    </tr>\n",
              "    <tr>\n",
              "      <th>14614</th>\n",
              "      <td>-9.1</td>\n",
              "      <td>-12.0</td>\n",
              "      <td>80.0</td>\n",
              "      <td>20.0</td>\n",
              "      <td>8.0</td>\n",
              "      <td>24.1</td>\n",
              "      <td>98.52</td>\n",
              "      <td>0.93</td>\n",
              "      <td>0.866025</td>\n",
              "      <td>0.500000</td>\n",
              "      <td>-0.500000</td>\n",
              "      <td>0.866025</td>\n",
              "      <td>-7.818315e-01</td>\n",
              "      <td>0.62349</td>\n",
              "      <td>-2.449294e-16</td>\n",
              "      <td>1.0</td>\n",
              "    </tr>\n",
              "    <tr>\n",
              "      <th>14615</th>\n",
              "      <td>-9.2</td>\n",
              "      <td>-12.2</td>\n",
              "      <td>79.0</td>\n",
              "      <td>22.0</td>\n",
              "      <td>7.0</td>\n",
              "      <td>24.1</td>\n",
              "      <td>98.52</td>\n",
              "      <td>6.34</td>\n",
              "      <td>0.866025</td>\n",
              "      <td>0.500000</td>\n",
              "      <td>-0.258819</td>\n",
              "      <td>0.965926</td>\n",
              "      <td>-7.818315e-01</td>\n",
              "      <td>0.62349</td>\n",
              "      <td>-2.449294e-16</td>\n",
              "      <td>1.0</td>\n",
              "    </tr>\n",
              "  </tbody>\n",
              "</table>\n",
              "<p>14616 rows × 16 columns</p>\n",
              "</div>"
            ],
            "text/plain": [
              "       Temp (°C)  Dew Point Temp (°C)  ...    Season_sin  Season_cos\n",
              "0           25.0                 20.9  ...  1.224647e-16        -1.0\n",
              "1           23.5                 20.8  ...  1.224647e-16        -1.0\n",
              "2           22.9                 20.6  ...  1.224647e-16        -1.0\n",
              "3           19.9                 19.3  ...  1.224647e-16        -1.0\n",
              "4           20.1                 19.6  ...  1.224647e-16        -1.0\n",
              "...          ...                  ...  ...           ...         ...\n",
              "14611       -6.7                -11.7  ... -2.449294e-16         1.0\n",
              "14612       -7.0                -11.5  ... -2.449294e-16         1.0\n",
              "14613       -7.1                -11.2  ... -2.449294e-16         1.0\n",
              "14614       -9.1                -12.0  ... -2.449294e-16         1.0\n",
              "14615       -9.2                -12.2  ... -2.449294e-16         1.0\n",
              "\n",
              "[14616 rows x 16 columns]"
            ]
          },
          "metadata": {
            "tags": []
          },
          "execution_count": 394
        }
      ]
    },
    {
      "cell_type": "markdown",
      "metadata": {
        "id": "0aeWzpjY6732"
      },
      "source": [
        "Data Preprocessing"
      ]
    },
    {
      "cell_type": "code",
      "metadata": {
        "id": "-RKy0KJlz5av",
        "colab": {
          "base_uri": "https://localhost:8080/",
          "height": 715
        },
        "outputId": "d163efc7-2e80-4b4b-c509-7430e534b1ad"
      },
      "source": [
        "X = data_onehot\n",
        "Y = data_onehot[['Usage (kilowatt-hours)']]\n",
        "\n",
        "# split training, validation, test set as 60% : 20% : 20%\n",
        "X_train_full, X_test, Y_train_full, Y_test = train_test_split(X, Y, test_size=0.2, random_state=42, shuffle=False)\n",
        "\n",
        "X_train, X_valid, Y_train, Y_valid = train_test_split(X_train_full, Y_train_full, test_size=0.25, random_state=42, shuffle=False)\n",
        "\n",
        "\n",
        "print(X_train.shape)\n",
        "print(X_valid.shape)\n",
        "print(X_test.shape)\n",
        "\n",
        "# standardization\n",
        "# scalerX = StandardScaler()\n",
        "# X_train_scaled = scalerX.fit_transform(X_train)\n",
        "# X_valid_scaled = scalerX.transform(X_valid)\n",
        "# X_test_scaled = scalerX.transform(X_test)\n",
        "\n",
        "# ========= Avoid scaling on one-hot and unit-mapped features ============\n",
        "X_train_scaled = X_train.copy()\n",
        "X_valid_scaled = X_valid.copy()\n",
        "X_test_scaled = X_test.copy()\n",
        "\n",
        "scale_cols = ['Temp (°C)', 'Dew Point Temp (°C)', 'Rel Hum (%)', \n",
        "              'Wind Dir (10s deg)', 'Wind Spd (km/h)',\n",
        "              'Visibility (km)', 'Stn Press (kPa)']\n",
        "\n",
        "# previous_usage_cols = []\n",
        "# for i in range(1,steps):\n",
        "#   previous_usage_cols.append('Previous_Usage' + str(i))\n",
        "\n",
        "# scale_cols = scale_cols + previous_usage_cols\n",
        "\n",
        "for col in scale_cols:\n",
        "  scalerX = StandardScaler().fit(X_train[[col]])\n",
        "  X_train_scaled[col] = scalerX.transform(X_train_scaled[[col]])\n",
        "  X_valid_scaled[col] = scalerX.transform(X_valid_scaled[[col]])\n",
        "  X_test_scaled[col] = scalerX.transform(X_test_scaled[[col]])\n",
        "\n",
        "\n",
        "scalerY = StandardScaler()\n",
        "Y_train_scaled = scalerY.fit_transform(Y_train)\n",
        "Y_valid_scaled = scalerY.transform(Y_valid)\n",
        "Y_test_scaled = scalerY.transform(Y_test)\n",
        "\n",
        "X_train_scaled\n"
      ],
      "execution_count": 395,
      "outputs": [
        {
          "output_type": "stream",
          "text": [
            "(8769, 16)\n",
            "(2923, 16)\n",
            "(2924, 16)\n"
          ],
          "name": "stdout"
        },
        {
          "output_type": "execute_result",
          "data": {
            "text/html": [
              "<div>\n",
              "<style scoped>\n",
              "    .dataframe tbody tr th:only-of-type {\n",
              "        vertical-align: middle;\n",
              "    }\n",
              "\n",
              "    .dataframe tbody tr th {\n",
              "        vertical-align: top;\n",
              "    }\n",
              "\n",
              "    .dataframe thead th {\n",
              "        text-align: right;\n",
              "    }\n",
              "</style>\n",
              "<table border=\"1\" class=\"dataframe\">\n",
              "  <thead>\n",
              "    <tr style=\"text-align: right;\">\n",
              "      <th></th>\n",
              "      <th>Temp (°C)</th>\n",
              "      <th>Dew Point Temp (°C)</th>\n",
              "      <th>Rel Hum (%)</th>\n",
              "      <th>Wind Dir (10s deg)</th>\n",
              "      <th>Wind Spd (km/h)</th>\n",
              "      <th>Visibility (km)</th>\n",
              "      <th>Stn Press (kPa)</th>\n",
              "      <th>Usage (kilowatt-hours)</th>\n",
              "      <th>Month_sin</th>\n",
              "      <th>Month_cos</th>\n",
              "      <th>Time_sin</th>\n",
              "      <th>Time_cos</th>\n",
              "      <th>day_week_sin</th>\n",
              "      <th>day_week_cos</th>\n",
              "      <th>Season_sin</th>\n",
              "      <th>Season_cos</th>\n",
              "    </tr>\n",
              "  </thead>\n",
              "  <tbody>\n",
              "    <tr>\n",
              "      <th>0</th>\n",
              "      <td>1.531761</td>\n",
              "      <td>1.538307</td>\n",
              "      <td>-0.022151</td>\n",
              "      <td>0.049704</td>\n",
              "      <td>-0.540206</td>\n",
              "      <td>0.600902</td>\n",
              "      <td>-0.035319</td>\n",
              "      <td>3.53</td>\n",
              "      <td>-0.5</td>\n",
              "      <td>-0.866025</td>\n",
              "      <td>0.000000</td>\n",
              "      <td>1.000000e+00</td>\n",
              "      <td>-2.449294e-16</td>\n",
              "      <td>1.00000</td>\n",
              "      <td>1.224647e-16</td>\n",
              "      <td>-1.0</td>\n",
              "    </tr>\n",
              "    <tr>\n",
              "      <th>1</th>\n",
              "      <td>1.398230</td>\n",
              "      <td>1.529231</td>\n",
              "      <td>0.361727</td>\n",
              "      <td>-0.048950</td>\n",
              "      <td>-0.891786</td>\n",
              "      <td>0.600902</td>\n",
              "      <td>0.019741</td>\n",
              "      <td>3.45</td>\n",
              "      <td>-0.5</td>\n",
              "      <td>-0.866025</td>\n",
              "      <td>0.258819</td>\n",
              "      <td>9.659258e-01</td>\n",
              "      <td>-2.449294e-16</td>\n",
              "      <td>1.00000</td>\n",
              "      <td>1.224647e-16</td>\n",
              "      <td>-1.0</td>\n",
              "    </tr>\n",
              "    <tr>\n",
              "      <th>2</th>\n",
              "      <td>1.344817</td>\n",
              "      <td>1.511079</td>\n",
              "      <td>0.489686</td>\n",
              "      <td>-0.147604</td>\n",
              "      <td>-1.126172</td>\n",
              "      <td>0.600902</td>\n",
              "      <td>0.019741</td>\n",
              "      <td>3.36</td>\n",
              "      <td>-0.5</td>\n",
              "      <td>-0.866025</td>\n",
              "      <td>0.500000</td>\n",
              "      <td>8.660254e-01</td>\n",
              "      <td>-2.449294e-16</td>\n",
              "      <td>1.00000</td>\n",
              "      <td>1.224647e-16</td>\n",
              "      <td>-1.0</td>\n",
              "    </tr>\n",
              "    <tr>\n",
              "      <th>3</th>\n",
              "      <td>1.077755</td>\n",
              "      <td>1.393089</td>\n",
              "      <td>1.129482</td>\n",
              "      <td>-2.022032</td>\n",
              "      <td>-1.594945</td>\n",
              "      <td>0.600902</td>\n",
              "      <td>0.061036</td>\n",
              "      <td>2.90</td>\n",
              "      <td>-0.5</td>\n",
              "      <td>-0.866025</td>\n",
              "      <td>0.707107</td>\n",
              "      <td>7.071068e-01</td>\n",
              "      <td>-2.449294e-16</td>\n",
              "      <td>1.00000</td>\n",
              "      <td>1.224647e-16</td>\n",
              "      <td>-1.0</td>\n",
              "    </tr>\n",
              "    <tr>\n",
              "      <th>4</th>\n",
              "      <td>1.095560</td>\n",
              "      <td>1.420317</td>\n",
              "      <td>1.193462</td>\n",
              "      <td>0.542974</td>\n",
              "      <td>-1.126172</td>\n",
              "      <td>0.600902</td>\n",
              "      <td>0.005976</td>\n",
              "      <td>2.77</td>\n",
              "      <td>-0.5</td>\n",
              "      <td>-0.866025</td>\n",
              "      <td>0.866025</td>\n",
              "      <td>5.000000e-01</td>\n",
              "      <td>-2.449294e-16</td>\n",
              "      <td>1.00000</td>\n",
              "      <td>1.224647e-16</td>\n",
              "      <td>-1.0</td>\n",
              "    </tr>\n",
              "    <tr>\n",
              "      <th>...</th>\n",
              "      <td>...</td>\n",
              "      <td>...</td>\n",
              "      <td>...</td>\n",
              "      <td>...</td>\n",
              "      <td>...</td>\n",
              "      <td>...</td>\n",
              "      <td>...</td>\n",
              "      <td>...</td>\n",
              "      <td>...</td>\n",
              "      <td>...</td>\n",
              "      <td>...</td>\n",
              "      <td>...</td>\n",
              "      <td>...</td>\n",
              "      <td>...</td>\n",
              "      <td>...</td>\n",
              "      <td>...</td>\n",
              "    </tr>\n",
              "    <tr>\n",
              "      <th>8764</th>\n",
              "      <td>0.401199</td>\n",
              "      <td>0.730529</td>\n",
              "      <td>1.257442</td>\n",
              "      <td>-1.430107</td>\n",
              "      <td>-1.360558</td>\n",
              "      <td>0.600902</td>\n",
              "      <td>-0.104144</td>\n",
              "      <td>0.63</td>\n",
              "      <td>-0.5</td>\n",
              "      <td>-0.866025</td>\n",
              "      <td>0.866025</td>\n",
              "      <td>5.000000e-01</td>\n",
              "      <td>7.818315e-01</td>\n",
              "      <td>0.62349</td>\n",
              "      <td>1.224647e-16</td>\n",
              "      <td>-1.0</td>\n",
              "    </tr>\n",
              "    <tr>\n",
              "      <th>8765</th>\n",
              "      <td>0.392297</td>\n",
              "      <td>0.712377</td>\n",
              "      <td>1.257442</td>\n",
              "      <td>-1.824723</td>\n",
              "      <td>-1.360558</td>\n",
              "      <td>0.600902</td>\n",
              "      <td>0.033506</td>\n",
              "      <td>0.60</td>\n",
              "      <td>-0.5</td>\n",
              "      <td>-0.866025</td>\n",
              "      <td>0.965926</td>\n",
              "      <td>2.588190e-01</td>\n",
              "      <td>7.818315e-01</td>\n",
              "      <td>0.62349</td>\n",
              "      <td>1.224647e-16</td>\n",
              "      <td>-1.0</td>\n",
              "    </tr>\n",
              "    <tr>\n",
              "      <th>8766</th>\n",
              "      <td>0.632652</td>\n",
              "      <td>0.812215</td>\n",
              "      <td>0.617645</td>\n",
              "      <td>-1.331453</td>\n",
              "      <td>-0.891786</td>\n",
              "      <td>0.600902</td>\n",
              "      <td>0.047271</td>\n",
              "      <td>1.04</td>\n",
              "      <td>-0.5</td>\n",
              "      <td>-0.866025</td>\n",
              "      <td>1.000000</td>\n",
              "      <td>6.123234e-17</td>\n",
              "      <td>7.818315e-01</td>\n",
              "      <td>0.62349</td>\n",
              "      <td>1.224647e-16</td>\n",
              "      <td>-1.0</td>\n",
              "    </tr>\n",
              "    <tr>\n",
              "      <th>8767</th>\n",
              "      <td>0.837400</td>\n",
              "      <td>0.893900</td>\n",
              "      <td>0.105808</td>\n",
              "      <td>-1.035491</td>\n",
              "      <td>-0.657399</td>\n",
              "      <td>0.600902</td>\n",
              "      <td>0.047271</td>\n",
              "      <td>0.75</td>\n",
              "      <td>-0.5</td>\n",
              "      <td>-0.866025</td>\n",
              "      <td>0.965926</td>\n",
              "      <td>-2.588190e-01</td>\n",
              "      <td>7.818315e-01</td>\n",
              "      <td>0.62349</td>\n",
              "      <td>1.224647e-16</td>\n",
              "      <td>-1.0</td>\n",
              "    </tr>\n",
              "    <tr>\n",
              "      <th>8768</th>\n",
              "      <td>1.086657</td>\n",
              "      <td>1.057271</td>\n",
              "      <td>-0.214090</td>\n",
              "      <td>-0.443566</td>\n",
              "      <td>-0.657399</td>\n",
              "      <td>0.600902</td>\n",
              "      <td>0.019741</td>\n",
              "      <td>0.74</td>\n",
              "      <td>-0.5</td>\n",
              "      <td>-0.866025</td>\n",
              "      <td>0.866025</td>\n",
              "      <td>-5.000000e-01</td>\n",
              "      <td>7.818315e-01</td>\n",
              "      <td>0.62349</td>\n",
              "      <td>1.224647e-16</td>\n",
              "      <td>-1.0</td>\n",
              "    </tr>\n",
              "  </tbody>\n",
              "</table>\n",
              "<p>8769 rows × 16 columns</p>\n",
              "</div>"
            ],
            "text/plain": [
              "      Temp (°C)  Dew Point Temp (°C)  ...    Season_sin  Season_cos\n",
              "0      1.531761             1.538307  ...  1.224647e-16        -1.0\n",
              "1      1.398230             1.529231  ...  1.224647e-16        -1.0\n",
              "2      1.344817             1.511079  ...  1.224647e-16        -1.0\n",
              "3      1.077755             1.393089  ...  1.224647e-16        -1.0\n",
              "4      1.095560             1.420317  ...  1.224647e-16        -1.0\n",
              "...         ...                  ...  ...           ...         ...\n",
              "8764   0.401199             0.730529  ...  1.224647e-16        -1.0\n",
              "8765   0.392297             0.712377  ...  1.224647e-16        -1.0\n",
              "8766   0.632652             0.812215  ...  1.224647e-16        -1.0\n",
              "8767   0.837400             0.893900  ...  1.224647e-16        -1.0\n",
              "8768   1.086657             1.057271  ...  1.224647e-16        -1.0\n",
              "\n",
              "[8769 rows x 16 columns]"
            ]
          },
          "metadata": {
            "tags": []
          },
          "execution_count": 395
        }
      ]
    },
    {
      "cell_type": "markdown",
      "metadata": {
        "id": "n4xidaQBX7F8"
      },
      "source": [
        "Sliding Window"
      ]
    },
    {
      "cell_type": "code",
      "metadata": {
        "id": "Xn2R7fOprIMT"
      },
      "source": [
        "def generate_sliding_window(ts, ws):\r\n",
        "  data= []\r\n",
        "  for i in range(len(ts)-ws):\r\n",
        "    data.append(ts[i:i+ws])\r\n",
        "  return np.stack(data)"
      ],
      "execution_count": 396,
      "outputs": []
    },
    {
      "cell_type": "code",
      "metadata": {
        "colab": {
          "base_uri": "https://localhost:8080/"
        },
        "id": "cXpeYM5qrWm9",
        "outputId": "7add698f-8234-49d2-c8dd-2c3cc8dfa906"
      },
      "source": [
        "window_size = 24\r\n",
        "\r\n",
        "X_train_scaled = generate_sliding_window(X_train_scaled, window_size)\r\n",
        "X_valid_scaled = generate_sliding_window(X_valid_scaled, window_size)\r\n",
        "X_test_scaled = generate_sliding_window(X_test_scaled, window_size)\r\n",
        "\r\n",
        "# As forecasting one single value for each series, should expect Y_train_scaled has shape [8742, 1]\r\n",
        "\r\n",
        "Y_train_scaled = Y_train_scaled[window_size:]\r\n",
        "Y_valid_scaled = Y_valid_scaled[window_size:]\r\n",
        "\r\n",
        "print(X_train_scaled.shape)\r\n",
        "print(Y_train_scaled.shape)\r\n"
      ],
      "execution_count": 397,
      "outputs": [
        {
          "output_type": "stream",
          "text": [
            "(8745, 24, 16)\n",
            "(8745, 1)\n"
          ],
          "name": "stdout"
        }
      ]
    },
    {
      "cell_type": "markdown",
      "metadata": {
        "id": "2Kf1lUbs7A2T"
      },
      "source": [
        "Modeling"
      ]
    },
    {
      "cell_type": "code",
      "metadata": {
        "id": "1wKh7CcTv3C-"
      },
      "source": [
        "# ========================= Hyper-parameters Tuning ==============================\n",
        "\n",
        "# tune batch size\n",
        "# class MyTuner(kt.tuners.RandomSearch):\n",
        "#   def run_trial(self, trial, *args, **kwargs):\n",
        "#     # You can add additional HyperParameters for preprocessing and custom training loops\n",
        "#     # via overriding `run_trial`\n",
        "#     kwargs['batch_size'] = trial.hyperparameters.Choice('batch', values=[16, 32])\n",
        "#     super(MyTuner, self).run_trial(trial, *args, **kwargs)\n",
        "\n",
        "\n",
        "# def build_model(hp):\n",
        "#     model = keras.models.Sequential()\n",
        "\n",
        "#     hp_neurons = hp.Choice('neurons', values=[30, 40, 50])\n",
        "#     hp_layers = hp.Choice('layers', values=[1, 2, 3])\n",
        "#     hp_regularize = hp.Choice('regularize', values=[0.01, 0.02])\n",
        "\n",
        "#     # hidden layers\n",
        "#     for layer in range(hp_layers):\n",
        "#         model.add(layers.LSTM(units=hp_neurons, return_sequences=True, activation='elu', kernel_initializer='he_normal', kernel_regularizer=l2(hp_regularize)))\n",
        "\n",
        "#     # output layer\n",
        "#     model.add(layers.Dense(1, kernel_initializer='he_normal'))\n",
        "\n",
        "#     optimizer = keras.optimizers.Nadam()\n",
        "#     model.compile(loss='mse', optimizer=optimizer)\n",
        "#     return model\n",
        "\n",
        "\n",
        "# early_stopping_cb = tf.keras.callbacks.EarlyStopping(patience=30, restore_best_weights=True, mode='min')\n",
        "\n",
        "# tuner = MyTuner(build_model, objective='val_loss', max_trials=30, seed=42)\n",
        "\n",
        "# tuner.search(X_train_scaled, Y_train_scaled, epochs=100, validation_data=(X_valid_scaled, Y_valid_scaled), callbacks=[early_stopping_cb])"
      ],
      "execution_count": 398,
      "outputs": []
    },
    {
      "cell_type": "code",
      "metadata": {
        "id": "TIuvCiXYrV0p"
      },
      "source": [
        "# display tuning results\n",
        "# tuner.results_summary()"
      ],
      "execution_count": 399,
      "outputs": []
    },
    {
      "cell_type": "code",
      "metadata": {
        "id": "4xe_WW59w4P6"
      },
      "source": [
        "#Retain the optimal hyper-parameters found and re-train the model\n",
        "\n",
        "# best_hps = tuner.get_best_hyperparameters(num_trials = 1)[0]\n",
        "\n",
        "# model = tuner.hypermodel.build(best_hps)\n",
        "\n",
        "# history = model.fit(X_train_scaled, Y_train_scaled, epochs=100, validation_data=(X_valid_scaled, Y_valid_scaled), callbacks=[early_stopping_cb])\n",
        "\n",
        "# model.summary()"
      ],
      "execution_count": 400,
      "outputs": []
    },
    {
      "cell_type": "code",
      "metadata": {
        "id": "t8XexVKM7YWx",
        "colab": {
          "base_uri": "https://localhost:8080/"
        },
        "outputId": "0bfc52d7-7989-402d-f7a0-9d5d4d96c922"
      },
      "source": [
        "model = tf.keras.Sequential([\n",
        "    tf.keras.layers.LSTM(32,return_sequences=True, activation='relu', kernel_regularizer=l2(0.01)),\n",
        "    tf.keras.layers.LSTM(32,return_sequences=True, activation='relu', kernel_regularizer=l2(0.01)),\n",
        "    tf.keras.layers.LSTM(32,return_sequences=False, activation='relu', kernel_regularizer=l2(0.01)),\n",
        "    tf.keras.layers.Dense(1)\n",
        "])\n",
        "\n",
        "early_stopping = tf.keras.callbacks.EarlyStopping(patience=30, mode='min', restore_best_weights=True)\n",
        "\n",
        "model.compile(loss='mse', optimizer='Nadam', metrics=[keras.metrics.RootMeanSquaredError()])\n",
        "history = model.fit(X_train_scaled, Y_train_scaled, epochs=100, validation_data=(X_valid_scaled, Y_valid_scaled), callbacks=[early_stopping])\n",
        "\n",
        "model.summary()"
      ],
      "execution_count": 401,
      "outputs": [
        {
          "output_type": "stream",
          "text": [
            "Epoch 1/100\n",
            "274/274 [==============================] - 14s 34ms/step - loss: 1.6013 - root_mean_squared_error: 0.9476 - val_loss: 0.7730 - val_root_mean_squared_error: 0.7859\n",
            "Epoch 2/100\n",
            "274/274 [==============================] - 9s 32ms/step - loss: 0.7327 - root_mean_squared_error: 0.7687 - val_loss: 0.6583 - val_root_mean_squared_error: 0.7429\n",
            "Epoch 3/100\n",
            "274/274 [==============================] - 9s 34ms/step - loss: 0.5755 - root_mean_squared_error: 0.6888 - val_loss: 0.6206 - val_root_mean_squared_error: 0.7340\n",
            "Epoch 4/100\n",
            "274/274 [==============================] - 9s 32ms/step - loss: 0.5643 - root_mean_squared_error: 0.6963 - val_loss: 0.6515 - val_root_mean_squared_error: 0.7634\n",
            "Epoch 5/100\n",
            "274/274 [==============================] - 9s 32ms/step - loss: 0.6056 - root_mean_squared_error: 0.7328 - val_loss: 0.5606 - val_root_mean_squared_error: 0.7080\n",
            "Epoch 6/100\n",
            "274/274 [==============================] - 9s 32ms/step - loss: 0.5540 - root_mean_squared_error: 0.7027 - val_loss: 0.5594 - val_root_mean_squared_error: 0.7113\n",
            "Epoch 7/100\n",
            "274/274 [==============================] - 9s 32ms/step - loss: 0.5756 - root_mean_squared_error: 0.7211 - val_loss: 0.5754 - val_root_mean_squared_error: 0.7253\n",
            "Epoch 8/100\n",
            "274/274 [==============================] - 9s 32ms/step - loss: 0.5864 - root_mean_squared_error: 0.7315 - val_loss: 0.5544 - val_root_mean_squared_error: 0.7129\n",
            "Epoch 9/100\n",
            "274/274 [==============================] - 9s 32ms/step - loss: 0.5219 - root_mean_squared_error: 0.6872 - val_loss: 0.5463 - val_root_mean_squared_error: 0.7084\n",
            "Epoch 10/100\n",
            "274/274 [==============================] - 9s 32ms/step - loss: 0.5214 - root_mean_squared_error: 0.6888 - val_loss: 0.5903 - val_root_mean_squared_error: 0.7397\n",
            "Epoch 11/100\n",
            "274/274 [==============================] - 9s 33ms/step - loss: 0.5547 - root_mean_squared_error: 0.7124 - val_loss: 0.6048 - val_root_mean_squared_error: 0.7507\n",
            "Epoch 12/100\n",
            "274/274 [==============================] - 9s 32ms/step - loss: 0.4926 - root_mean_squared_error: 0.6692 - val_loss: 0.5666 - val_root_mean_squared_error: 0.7249\n",
            "Epoch 13/100\n",
            "274/274 [==============================] - 9s 32ms/step - loss: 0.4822 - root_mean_squared_error: 0.6633 - val_loss: 0.5575 - val_root_mean_squared_error: 0.7196\n",
            "Epoch 14/100\n",
            "274/274 [==============================] - 9s 32ms/step - loss: 0.5155 - root_mean_squared_error: 0.6891 - val_loss: 0.5588 - val_root_mean_squared_error: 0.7207\n",
            "Epoch 15/100\n",
            "274/274 [==============================] - 9s 32ms/step - loss: 0.5255 - root_mean_squared_error: 0.6962 - val_loss: 0.5521 - val_root_mean_squared_error: 0.7165\n",
            "Epoch 16/100\n",
            "274/274 [==============================] - 9s 33ms/step - loss: 0.5602 - root_mean_squared_error: 0.7191 - val_loss: 0.5490 - val_root_mean_squared_error: 0.7158\n",
            "Epoch 17/100\n",
            "274/274 [==============================] - 9s 32ms/step - loss: 0.5413 - root_mean_squared_error: 0.7066 - val_loss: 0.5720 - val_root_mean_squared_error: 0.7309\n",
            "Epoch 18/100\n",
            "274/274 [==============================] - 9s 32ms/step - loss: 0.4924 - root_mean_squared_error: 0.6734 - val_loss: 0.6555 - val_root_mean_squared_error: 0.7858\n",
            "Epoch 19/100\n",
            "274/274 [==============================] - 9s 34ms/step - loss: 0.5335 - root_mean_squared_error: 0.7021 - val_loss: 0.5785 - val_root_mean_squared_error: 0.7355\n",
            "Epoch 20/100\n",
            "274/274 [==============================] - 9s 32ms/step - loss: 0.5476 - root_mean_squared_error: 0.7106 - val_loss: 0.5684 - val_root_mean_squared_error: 0.7280\n",
            "Epoch 21/100\n",
            "274/274 [==============================] - 9s 32ms/step - loss: 0.5052 - root_mean_squared_error: 0.6822 - val_loss: 0.5577 - val_root_mean_squared_error: 0.7207\n",
            "Epoch 22/100\n",
            "274/274 [==============================] - 9s 32ms/step - loss: 0.5237 - root_mean_squared_error: 0.6948 - val_loss: 0.6246 - val_root_mean_squared_error: 0.7641\n",
            "Epoch 23/100\n",
            "274/274 [==============================] - 9s 32ms/step - loss: 0.4636 - root_mean_squared_error: 0.6461 - val_loss: 0.5476 - val_root_mean_squared_error: 0.7136\n",
            "Epoch 24/100\n",
            "274/274 [==============================] - 9s 32ms/step - loss: 0.5073 - root_mean_squared_error: 0.6824 - val_loss: 0.6005 - val_root_mean_squared_error: 0.7490\n",
            "Epoch 25/100\n",
            "274/274 [==============================] - 9s 32ms/step - loss: 0.5051 - root_mean_squared_error: 0.6810 - val_loss: 0.5425 - val_root_mean_squared_error: 0.7093\n",
            "Epoch 26/100\n",
            "274/274 [==============================] - 9s 32ms/step - loss: 0.5246 - root_mean_squared_error: 0.6937 - val_loss: 0.6268 - val_root_mean_squared_error: 0.7665\n",
            "Epoch 27/100\n",
            "274/274 [==============================] - 9s 32ms/step - loss: 0.4993 - root_mean_squared_error: 0.6767 - val_loss: 0.5488 - val_root_mean_squared_error: 0.7146\n",
            "Epoch 28/100\n",
            "274/274 [==============================] - 9s 32ms/step - loss: 0.5311 - root_mean_squared_error: 0.6983 - val_loss: 0.5735 - val_root_mean_squared_error: 0.7298\n",
            "Epoch 29/100\n",
            "274/274 [==============================] - 9s 32ms/step - loss: 0.4464 - root_mean_squared_error: 0.6345 - val_loss: 0.6306 - val_root_mean_squared_error: 0.7686\n",
            "Epoch 30/100\n",
            "274/274 [==============================] - 9s 33ms/step - loss: 0.4921 - root_mean_squared_error: 0.6697 - val_loss: 0.5967 - val_root_mean_squared_error: 0.7469\n",
            "Epoch 31/100\n",
            "274/274 [==============================] - 9s 33ms/step - loss: 0.5062 - root_mean_squared_error: 0.6823 - val_loss: 0.6002 - val_root_mean_squared_error: 0.7493\n",
            "Epoch 32/100\n",
            "274/274 [==============================] - 9s 32ms/step - loss: 0.5012 - root_mean_squared_error: 0.6752 - val_loss: 0.5697 - val_root_mean_squared_error: 0.7282\n",
            "Epoch 33/100\n",
            "274/274 [==============================] - 9s 32ms/step - loss: 0.4842 - root_mean_squared_error: 0.6650 - val_loss: 0.5794 - val_root_mean_squared_error: 0.7350\n",
            "Epoch 34/100\n",
            "274/274 [==============================] - 9s 32ms/step - loss: 0.4436 - root_mean_squared_error: 0.6342 - val_loss: 0.5623 - val_root_mean_squared_error: 0.7236\n",
            "Epoch 35/100\n",
            "274/274 [==============================] - 9s 32ms/step - loss: 0.5973 - root_mean_squared_error: 0.7432 - val_loss: 0.5526 - val_root_mean_squared_error: 0.7160\n",
            "Epoch 36/100\n",
            "274/274 [==============================] - 9s 32ms/step - loss: 0.4470 - root_mean_squared_error: 0.6358 - val_loss: 0.6028 - val_root_mean_squared_error: 0.7502\n",
            "Epoch 37/100\n",
            "274/274 [==============================] - 9s 33ms/step - loss: 0.5010 - root_mean_squared_error: 0.6772 - val_loss: 0.5763 - val_root_mean_squared_error: 0.7323\n",
            "Epoch 38/100\n",
            "274/274 [==============================] - 9s 33ms/step - loss: 0.4924 - root_mean_squared_error: 0.6706 - val_loss: 0.5851 - val_root_mean_squared_error: 0.7382\n",
            "Epoch 39/100\n",
            "274/274 [==============================] - 9s 32ms/step - loss: 0.3837 - root_mean_squared_error: 0.5815 - val_loss: 0.5856 - val_root_mean_squared_error: 0.7387\n",
            "Epoch 40/100\n",
            "274/274 [==============================] - 9s 32ms/step - loss: 0.4969 - root_mean_squared_error: 0.6742 - val_loss: 0.6644 - val_root_mean_squared_error: 0.7898\n",
            "Epoch 41/100\n",
            "274/274 [==============================] - 9s 32ms/step - loss: 0.4798 - root_mean_squared_error: 0.6611 - val_loss: 0.6671 - val_root_mean_squared_error: 0.7904\n",
            "Epoch 42/100\n",
            "274/274 [==============================] - 9s 32ms/step - loss: 0.4163 - root_mean_squared_error: 0.6111 - val_loss: 0.8471 - val_root_mean_squared_error: 0.8970\n",
            "Epoch 43/100\n",
            "274/274 [==============================] - 9s 32ms/step - loss: 0.4243 - root_mean_squared_error: 0.6164 - val_loss: 0.6071 - val_root_mean_squared_error: 0.7517\n",
            "Epoch 44/100\n",
            "274/274 [==============================] - 9s 32ms/step - loss: 0.4011 - root_mean_squared_error: 0.5958 - val_loss: 0.6204 - val_root_mean_squared_error: 0.7591\n",
            "Epoch 45/100\n",
            "274/274 [==============================] - 9s 32ms/step - loss: 0.4084 - root_mean_squared_error: 0.6015 - val_loss: 0.6601 - val_root_mean_squared_error: 0.7859\n",
            "Epoch 46/100\n",
            "274/274 [==============================] - 9s 32ms/step - loss: 0.4101 - root_mean_squared_error: 0.6041 - val_loss: 0.6256 - val_root_mean_squared_error: 0.7638\n",
            "Epoch 47/100\n",
            "274/274 [==============================] - 9s 32ms/step - loss: 0.4273 - root_mean_squared_error: 0.6191 - val_loss: 0.5877 - val_root_mean_squared_error: 0.7380\n",
            "Epoch 48/100\n",
            "274/274 [==============================] - 9s 32ms/step - loss: 0.4077 - root_mean_squared_error: 0.6022 - val_loss: 0.5747 - val_root_mean_squared_error: 0.7272\n",
            "Epoch 49/100\n",
            "274/274 [==============================] - 9s 32ms/step - loss: 0.4504 - root_mean_squared_error: 0.6332 - val_loss: 0.6400 - val_root_mean_squared_error: 0.7716\n",
            "Epoch 50/100\n",
            "274/274 [==============================] - 9s 32ms/step - loss: 0.3989 - root_mean_squared_error: 0.5938 - val_loss: 0.6746 - val_root_mean_squared_error: 0.7905\n",
            "Epoch 51/100\n",
            "274/274 [==============================] - 9s 32ms/step - loss: 0.4424 - root_mean_squared_error: 0.6238 - val_loss: 0.6472 - val_root_mean_squared_error: 0.7741\n",
            "Epoch 52/100\n",
            "274/274 [==============================] - 9s 32ms/step - loss: 0.5010 - root_mean_squared_error: 0.6696 - val_loss: 0.5992 - val_root_mean_squared_error: 0.7436\n",
            "Epoch 53/100\n",
            "274/274 [==============================] - 9s 32ms/step - loss: 0.3999 - root_mean_squared_error: 0.5926 - val_loss: 0.7258 - val_root_mean_squared_error: 0.8240\n",
            "Epoch 54/100\n",
            "274/274 [==============================] - 9s 33ms/step - loss: 0.4497 - root_mean_squared_error: 0.6341 - val_loss: 0.6065 - val_root_mean_squared_error: 0.7494\n",
            "Epoch 55/100\n",
            "274/274 [==============================] - 9s 32ms/step - loss: 0.4015 - root_mean_squared_error: 0.5959 - val_loss: 0.6448 - val_root_mean_squared_error: 0.7742\n",
            "Model: \"sequential_15\"\n",
            "_________________________________________________________________\n",
            "Layer (type)                 Output Shape              Param #   \n",
            "=================================================================\n",
            "lstm_36 (LSTM)               (None, 24, 32)            6272      \n",
            "_________________________________________________________________\n",
            "lstm_37 (LSTM)               (None, 24, 32)            8320      \n",
            "_________________________________________________________________\n",
            "lstm_38 (LSTM)               (None, 32)                8320      \n",
            "_________________________________________________________________\n",
            "dense_15 (Dense)             (None, 1)                 33        \n",
            "=================================================================\n",
            "Total params: 22,945\n",
            "Trainable params: 22,945\n",
            "Non-trainable params: 0\n",
            "_________________________________________________________________\n"
          ],
          "name": "stdout"
        }
      ]
    },
    {
      "cell_type": "markdown",
      "metadata": {
        "id": "lgCQhL6vKIxn"
      },
      "source": [
        "Plot Loss vs Epochs"
      ]
    },
    {
      "cell_type": "code",
      "metadata": {
        "colab": {
          "base_uri": "https://localhost:8080/",
          "height": 331
        },
        "id": "0Gy7ivcUKIGp",
        "outputId": "1ade91db-38ad-42c9-f71d-96567377b158"
      },
      "source": [
        "plt.plot(history.history['loss'])\n",
        "plt.plot(history.history['val_loss'])\n",
        "plt.title('Model Loss')\n",
        "plt.ylabel('Loss')\n",
        "plt.xlabel('Epoch')\n",
        "plt.legend(['Train', 'Validation'], loc='upper right')\n",
        "plt.grid(True)\n",
        "plt.show()"
      ],
      "execution_count": 402,
      "outputs": [
        {
          "output_type": "execute_result",
          "data": {
            "text/plain": [
              "[<matplotlib.lines.Line2D at 0x7f73a82f0278>]"
            ]
          },
          "metadata": {
            "tags": []
          },
          "execution_count": 402
        },
        {
          "output_type": "execute_result",
          "data": {
            "text/plain": [
              "[<matplotlib.lines.Line2D at 0x7f73a2acdc88>]"
            ]
          },
          "metadata": {
            "tags": []
          },
          "execution_count": 402
        },
        {
          "output_type": "execute_result",
          "data": {
            "text/plain": [
              "Text(0.5, 1.0, 'Model Loss')"
            ]
          },
          "metadata": {
            "tags": []
          },
          "execution_count": 402
        },
        {
          "output_type": "execute_result",
          "data": {
            "text/plain": [
              "Text(0, 0.5, 'Loss')"
            ]
          },
          "metadata": {
            "tags": []
          },
          "execution_count": 402
        },
        {
          "output_type": "execute_result",
          "data": {
            "text/plain": [
              "Text(0.5, 0, 'Epoch')"
            ]
          },
          "metadata": {
            "tags": []
          },
          "execution_count": 402
        },
        {
          "output_type": "execute_result",
          "data": {
            "text/plain": [
              "<matplotlib.legend.Legend at 0x7f73aab76ef0>"
            ]
          },
          "metadata": {
            "tags": []
          },
          "execution_count": 402
        },
        {
          "output_type": "display_data",
          "data": {
            "image/png": "[encoded data removed]",
            "text/plain": [
              "<Figure size 432x288 with 1 Axes>"
            ]
          },
          "metadata": {
            "tags": [],
            "needs_background": "light"
          }
        }
      ]
    },
    {
      "cell_type": "markdown",
      "metadata": {
        "id": "c_UzSdCboqyb"
      },
      "source": [
        "Accuracy & Evaluation"
      ]
    },
    {
      "cell_type": "code",
      "metadata": {
        "id": "8RBLih4hLT6e"
      },
      "source": [
        "Y_train = Y_train[window_size:]\n",
        "Y_test = Y_test[window_size:]"
      ],
      "execution_count": 403,
      "outputs": []
    },
    {
      "cell_type": "code",
      "metadata": {
        "id": "2RejGB3q8bUS",
        "colab": {
          "base_uri": "https://localhost:8080/",
          "height": 827
        },
        "outputId": "d8c6fdf3-bfc2-41d3-eff7-d36b20cead03"
      },
      "source": [
        "# train set performance\n",
        "Y_train_pred_scaled = model.predict(X_train_scaled)\n",
        "print(np.shape(Y_train_pred_scaled))\n",
        "\n",
        "Y_train_pred = scalerY.inverse_transform(Y_train_pred_scaled)\n",
        "print(np.shape(Y_train_pred))\n",
        "\n",
        "Y_train = pd.DataFrame.reset_index(Y_train, drop=True)\n",
        "\n",
        "# visualize predicted vs actual in train set\n",
        "plt.figure(figsize=(10,5))\n",
        "plt.plot(Y_train, label='Actual')\n",
        "plt.plot(Y_train_pred, label='Predicted')\n",
        "plt.xlabel('index in train set')\n",
        "plt.ylabel('Consumption - kWh')\n",
        "plt.title('Predicted vs Actual in Train set')\n",
        "plt.legend(loc='upper left')\n",
        "plt.show()\n",
        "\n",
        "plt.figure(figsize=(10,5))\n",
        "plt.plot(Y_train.head(168), label='Actual')\n",
        "plt.plot(Y_train_pred[:168], label='Predicted')\n",
        "plt.xlabel('index in train set')\n",
        "plt.ylabel('Consumption - kWh')\n",
        "plt.title('Predicted vs Actual in Train set')\n",
        "plt.legend(loc='upper left')\n",
        "plt.show()"
      ],
      "execution_count": 404,
      "outputs": [
        {
          "output_type": "stream",
          "text": [
            "(8745, 1)\n",
            "(8745, 1)\n"
          ],
          "name": "stdout"
        },
        {
          "output_type": "execute_result",
          "data": {
            "text/plain": [
              "<Figure size 720x360 with 0 Axes>"
            ]
          },
          "metadata": {
            "tags": []
          },
          "execution_count": 404
        },
        {
          "output_type": "execute_result",
          "data": {
            "text/plain": [
              "[<matplotlib.lines.Line2D at 0x7f73a82874a8>]"
            ]
          },
          "metadata": {
            "tags": []
          },
          "execution_count": 404
        },
        {
          "output_type": "execute_result",
          "data": {
            "text/plain": [
              "[<matplotlib.lines.Line2D at 0x7f73a8124278>]"
            ]
          },
          "metadata": {
            "tags": []
          },
          "execution_count": 404
        },
        {
          "output_type": "execute_result",
          "data": {
            "text/plain": [
              "Text(0.5, 0, 'index in train set')"
            ]
          },
          "metadata": {
            "tags": []
          },
          "execution_count": 404
        },
        {
          "output_type": "execute_result",
          "data": {
            "text/plain": [
              "Text(0, 0.5, 'Consumption - kWh')"
            ]
          },
          "metadata": {
            "tags": []
          },
          "execution_count": 404
        },
        {
          "output_type": "execute_result",
          "data": {
            "text/plain": [
              "Text(0.5, 1.0, 'Predicted vs Actual in Train set')"
            ]
          },
          "metadata": {
            "tags": []
          },
          "execution_count": 404
        },
        {
          "output_type": "execute_result",
          "data": {
            "text/plain": [
              "<matplotlib.legend.Legend at 0x7f73a82877b8>"
            ]
          },
          "metadata": {
            "tags": []
          },
          "execution_count": 404
        },
        {
          "output_type": "display_data",
          "data": {
            "image/png": "[encoded data removed]",
            "text/plain": [
              "<Figure size 720x360 with 1 Axes>"
            ]
          },
          "metadata": {
            "tags": [],
            "needs_background": "light"
          }
        },
        {
          "output_type": "execute_result",
          "data": {
            "text/plain": [
              "<Figure size 720x360 with 0 Axes>"
            ]
          },
          "metadata": {
            "tags": []
          },
          "execution_count": 404
        },
        {
          "output_type": "execute_result",
          "data": {
            "text/plain": [
              "[<matplotlib.lines.Line2D at 0x7f73a8236908>]"
            ]
          },
          "metadata": {
            "tags": []
          },
          "execution_count": 404
        },
        {
          "output_type": "execute_result",
          "data": {
            "text/plain": [
              "[<matplotlib.lines.Line2D at 0x7f73a83106d8>]"
            ]
          },
          "metadata": {
            "tags": []
          },
          "execution_count": 404
        },
        {
          "output_type": "execute_result",
          "data": {
            "text/plain": [
              "Text(0.5, 0, 'index in train set')"
            ]
          },
          "metadata": {
            "tags": []
          },
          "execution_count": 404
        },
        {
          "output_type": "execute_result",
          "data": {
            "text/plain": [
              "Text(0, 0.5, 'Consumption - kWh')"
            ]
          },
          "metadata": {
            "tags": []
          },
          "execution_count": 404
        },
        {
          "output_type": "execute_result",
          "data": {
            "text/plain": [
              "Text(0.5, 1.0, 'Predicted vs Actual in Train set')"
            ]
          },
          "metadata": {
            "tags": []
          },
          "execution_count": 404
        },
        {
          "output_type": "execute_result",
          "data": {
            "text/plain": [
              "<matplotlib.legend.Legend at 0x7f73a82262b0>"
            ]
          },
          "metadata": {
            "tags": []
          },
          "execution_count": 404
        },
        {
          "output_type": "display_data",
          "data": {
            "image/png": "[encoded data removed]",
            "text/plain": [
              "<Figure size 720x360 with 1 Axes>"
            ]
          },
          "metadata": {
            "tags": [],
            "needs_background": "light"
          }
        }
      ]
    },
    {
      "cell_type": "code",
      "metadata": {
        "colab": {
          "base_uri": "https://localhost:8080/",
          "height": 827
        },
        "id": "EjlpfrZh8rU2",
        "outputId": "58e9625a-fc05-4fe4-cdb1-647ba41cf07e"
      },
      "source": [
        "# test set performance\n",
        "Y_test_pred_scaled = model.predict(X_test_scaled)\n",
        "print(np.shape(Y_test_pred_scaled))\n",
        "\n",
        "Y_test_pred = scalerY.inverse_transform(Y_test_pred_scaled)\n",
        "print(np.shape(Y_test_pred))\n",
        "\n",
        "Y_test = pd.DataFrame.reset_index(Y_test, drop=True)\n",
        "\n",
        "# visualize predicted vs actual in test set\n",
        "plt.figure(figsize=(10,5))\n",
        "plt.plot(Y_test, label='Actual')\n",
        "plt.plot(Y_test_pred, label='Predicted')\n",
        "plt.xlabel('index in test set')\n",
        "plt.ylabel('Consumption - kWh')\n",
        "plt.title('Predicted vs Actual in Test set')\n",
        "plt.legend(loc='upper left')\n",
        "plt.show()\n",
        "\n",
        "plt.figure(figsize=(10,5))\n",
        "plt.plot(Y_test.head(168), label='Actual')\n",
        "plt.plot(Y_test_pred[:168], label='Predicted')\n",
        "plt.xlabel('index in test set')\n",
        "plt.ylabel('Consumption - kWh')\n",
        "plt.title('Predicted vs Actual in Test set')\n",
        "plt.legend(loc='upper left')\n",
        "plt.show()"
      ],
      "execution_count": 405,
      "outputs": [
        {
          "output_type": "stream",
          "text": [
            "(2900, 1)\n",
            "(2900, 1)\n"
          ],
          "name": "stdout"
        },
        {
          "output_type": "execute_result",
          "data": {
            "text/plain": [
              "<Figure size 720x360 with 0 Axes>"
            ]
          },
          "metadata": {
            "tags": []
          },
          "execution_count": 405
        },
        {
          "output_type": "execute_result",
          "data": {
            "text/plain": [
              "[<matplotlib.lines.Line2D at 0x7f73a81c1a20>]"
            ]
          },
          "metadata": {
            "tags": []
          },
          "execution_count": 405
        },
        {
          "output_type": "execute_result",
          "data": {
            "text/plain": [
              "[<matplotlib.lines.Line2D at 0x7f73a8197940>]"
            ]
          },
          "metadata": {
            "tags": []
          },
          "execution_count": 405
        },
        {
          "output_type": "execute_result",
          "data": {
            "text/plain": [
              "Text(0.5, 0, 'index in test set')"
            ]
          },
          "metadata": {
            "tags": []
          },
          "execution_count": 405
        },
        {
          "output_type": "execute_result",
          "data": {
            "text/plain": [
              "Text(0, 0.5, 'Consumption - kWh')"
            ]
          },
          "metadata": {
            "tags": []
          },
          "execution_count": 405
        },
        {
          "output_type": "execute_result",
          "data": {
            "text/plain": [
              "Text(0.5, 1.0, 'Predicted vs Actual in Test set')"
            ]
          },
          "metadata": {
            "tags": []
          },
          "execution_count": 405
        },
        {
          "output_type": "execute_result",
          "data": {
            "text/plain": [
              "<matplotlib.legend.Legend at 0x7f73a81c1b38>"
            ]
          },
          "metadata": {
            "tags": []
          },
          "execution_count": 405
        },
        {
          "output_type": "display_data",
          "data": {
            "image/png": "[encoded data removed]",
            "text/plain": [
              "<Figure size 720x360 with 1 Axes>"
            ]
          },
          "metadata": {
            "tags": [],
            "needs_background": "light"
          }
        },
        {
          "output_type": "execute_result",
          "data": {
            "text/plain": [
              "<Figure size 720x360 with 0 Axes>"
            ]
          },
          "metadata": {
            "tags": []
          },
          "execution_count": 405
        },
        {
          "output_type": "execute_result",
          "data": {
            "text/plain": [
              "[<matplotlib.lines.Line2D at 0x7f73a818b780>]"
            ]
          },
          "metadata": {
            "tags": []
          },
          "execution_count": 405
        },
        {
          "output_type": "execute_result",
          "data": {
            "text/plain": [
              "[<matplotlib.lines.Line2D at 0x7f73a81d2c88>]"
            ]
          },
          "metadata": {
            "tags": []
          },
          "execution_count": 405
        },
        {
          "output_type": "execute_result",
          "data": {
            "text/plain": [
              "Text(0.5, 0, 'index in test set')"
            ]
          },
          "metadata": {
            "tags": []
          },
          "execution_count": 405
        },
        {
          "output_type": "execute_result",
          "data": {
            "text/plain": [
              "Text(0, 0.5, 'Consumption - kWh')"
            ]
          },
          "metadata": {
            "tags": []
          },
          "execution_count": 405
        },
        {
          "output_type": "execute_result",
          "data": {
            "text/plain": [
              "Text(0.5, 1.0, 'Predicted vs Actual in Test set')"
            ]
          },
          "metadata": {
            "tags": []
          },
          "execution_count": 405
        },
        {
          "output_type": "execute_result",
          "data": {
            "text/plain": [
              "<matplotlib.legend.Legend at 0x7f73a81edcc0>"
            ]
          },
          "metadata": {
            "tags": []
          },
          "execution_count": 405
        },
        {
          "output_type": "display_data",
          "data": {
            "image/png": "[encoded data removed]",
            "text/plain": [
              "<Figure size 720x360 with 1 Axes>"
            ]
          },
          "metadata": {
            "tags": [],
            "needs_background": "light"
          }
        }
      ]
    },
    {
      "cell_type": "code",
      "metadata": {
        "id": "IPLNc6wsLgj5"
      },
      "source": [
        "mape = tf.keras.losses.MeanAbsolutePercentageError()"
      ],
      "execution_count": 406,
      "outputs": []
    },
    {
      "cell_type": "code",
      "metadata": {
        "colab": {
          "base_uri": "https://localhost:8080/",
          "height": 79
        },
        "id": "EKgQwFGV8nw9",
        "outputId": "52594f9a-1abf-4e0a-8f55-ef7436d02103"
      },
      "source": [
        "# Error Metric summary\n",
        "model_performance = pd.DataFrame(columns=['Train MAE', 'Train RMSE', 'Train MAPE', 'Test MAE', 'Test RMSE', 'Test MAPE'])\n",
        "\n",
        "Train_MAE = mean_absolute_error(Y_train, Y_train_pred)\n",
        "Train_RMSE = np.sqrt(mean_squared_error(Y_train, Y_train_pred))\n",
        "Train_MAPE = mape(Y_train, Y_train_pred).numpy()\n",
        "\n",
        "Test_MAE = mean_absolute_error(Y_test, Y_test_pred)\n",
        "Test_RMSE = np.sqrt(mean_squared_error(Y_test, Y_test_pred))\n",
        "Test_MAPE = mape(Y_test, Y_test_pred).numpy()\n",
        "\n",
        "model_performance = model_performance.append({\n",
        "                        'Train MAE': Train_MAE,\n",
        "                        'Train RMSE': Train_RMSE,\n",
        "                        'Train MAPE': Train_MAPE,\n",
        "                        'Test MAE': Test_MAE,\n",
        "                        'Test RMSE': Test_RMSE,\n",
        "                        'Test MAPE': Test_MAPE,},\n",
        "                        ignore_index=True)\n",
        "\n",
        "model_performance.round(2)"
      ],
      "execution_count": 407,
      "outputs": [
        {
          "output_type": "execute_result",
          "data": {
            "text/html": [
              "<div>\n",
              "<style scoped>\n",
              "    .dataframe tbody tr th:only-of-type {\n",
              "        vertical-align: middle;\n",
              "    }\n",
              "\n",
              "    .dataframe tbody tr th {\n",
              "        vertical-align: top;\n",
              "    }\n",
              "\n",
              "    .dataframe thead th {\n",
              "        text-align: right;\n",
              "    }\n",
              "</style>\n",
              "<table border=\"1\" class=\"dataframe\">\n",
              "  <thead>\n",
              "    <tr style=\"text-align: right;\">\n",
              "      <th></th>\n",
              "      <th>Train MAE</th>\n",
              "      <th>Train RMSE</th>\n",
              "      <th>Train MAPE</th>\n",
              "      <th>Test MAE</th>\n",
              "      <th>Test RMSE</th>\n",
              "      <th>Test MAPE</th>\n",
              "    </tr>\n",
              "  </thead>\n",
              "  <tbody>\n",
              "    <tr>\n",
              "      <th>0</th>\n",
              "      <td>0.71</td>\n",
              "      <td>1.78</td>\n",
              "      <td>36.89</td>\n",
              "      <td>0.79</td>\n",
              "      <td>1.99</td>\n",
              "      <td>42.05</td>\n",
              "    </tr>\n",
              "  </tbody>\n",
              "</table>\n",
              "</div>"
            ],
            "text/plain": [
              "   Train MAE  Train RMSE  Train MAPE  Test MAE  Test RMSE  Test MAPE\n",
              "0       0.71        1.78       36.89      0.79       1.99      42.05"
            ]
          },
          "metadata": {
            "tags": []
          },
          "execution_count": 407
        }
      ]
    }
  ]
}