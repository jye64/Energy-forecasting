{
  "nbformat": 4,
  "nbformat_minor": 0,
  "metadata": {
    "colab": {
      "name": "LSTM.ipynb",
      "provenance": [],
      "collapsed_sections": []
    },
    "kernelspec": {
      "display_name": "Python 3",
      "name": "python3"
    }
  },
  "cells": [
    {
      "cell_type": "markdown",
      "metadata": {
        "id": "-ikqIghrLbtp"
      },
      "source": [
        "ECE 9063 Data Analytics Project"
      ]
    },
    {
      "cell_type": "code",
      "metadata": {
        "id": "M2i7OmiyKisJ"
      },
      "source": [
        "import matplotlib.pyplot as plt\n",
        "import numpy as np\n",
        "import pandas as pd\n",
        "import seaborn as sns\n",
        "import os\n",
        "import tensorflow as tf\n",
        "\n",
        "from tensorflow import keras\n",
        "from tensorflow.keras.regularizers import l2\n",
        "from tensorflow.keras import layers\n",
        "\n",
        "from sklearn.preprocessing import StandardScaler\n",
        "from sklearn.preprocessing import MinMaxScaler\n",
        "from sklearn.metrics import mean_squared_error\n",
        "from sklearn.metrics import mean_absolute_error\n",
        "from sklearn.model_selection import train_test_split\n",
        "\n",
        "from IPython.core.interactiveshell import InteractiveShell\n",
        "InteractiveShell.ast_node_interactivity = \"all\""
      ],
      "execution_count": 2,
      "outputs": []
    },
    {
      "cell_type": "markdown",
      "metadata": {
        "id": "j9O6TLc_NitT"
      },
      "source": [
        "Set Random Seeds"
      ]
    },
    {
      "cell_type": "code",
      "metadata": {
        "id": "ZdCdbh8KNlQ-"
      },
      "source": [
        "np.random.seed(42)\n",
        "tf.random.set_seed(42)"
      ],
      "execution_count": 3,
      "outputs": []
    },
    {
      "cell_type": "markdown",
      "metadata": {
        "id": "Q-wSb_-gLPxT"
      },
      "source": [
        "Importing Data"
      ]
    },
    {
      "cell_type": "code",
      "metadata": {
        "colab": {
          "base_uri": "https://localhost:8080/",
          "height": 661
        },
        "id": "-zJauRCsLSP1",
        "outputId": "67fda3b5-ece7-4645-ebef-638b1ad9c590"
      },
      "source": [
        "# ============== Importing data ======================\n",
        "featureFile = 'combined_data.csv'\n",
        "featureData = pd.read_csv(featureFile)\n",
        "\n",
        "labelFile = 'SyedHouse-GreenButton-2018-07-01-2020-02-29.csv'\n",
        "labelData = pd.read_csv(labelFile)\n",
        "\n",
        "# put feature and label in one object\n",
        "data = pd.concat([featureData, labelData['Usage (kilowatt-hours)']], axis=1)\n",
        "data"
      ],
      "execution_count": 4,
      "outputs": [
        {
          "output_type": "execute_result",
          "data": {
            "text/html": [
              "<div>\n",
              "<style scoped>\n",
              "    .dataframe tbody tr th:only-of-type {\n",
              "        vertical-align: middle;\n",
              "    }\n",
              "\n",
              "    .dataframe tbody tr th {\n",
              "        vertical-align: top;\n",
              "    }\n",
              "\n",
              "    .dataframe thead th {\n",
              "        text-align: right;\n",
              "    }\n",
              "</style>\n",
              "<table border=\"1\" class=\"dataframe\">\n",
              "  <thead>\n",
              "    <tr style=\"text-align: right;\">\n",
              "      <th></th>\n",
              "      <th>Longitude (x)</th>\n",
              "      <th>Latitude (y)</th>\n",
              "      <th>Station Name</th>\n",
              "      <th>Climate ID</th>\n",
              "      <th>Date/Time</th>\n",
              "      <th>Year</th>\n",
              "      <th>Month</th>\n",
              "      <th>Day</th>\n",
              "      <th>Time</th>\n",
              "      <th>Temp (°C)</th>\n",
              "      <th>Temp Flag</th>\n",
              "      <th>Dew Point Temp (°C)</th>\n",
              "      <th>Dew Point Temp Flag</th>\n",
              "      <th>Rel Hum (%)</th>\n",
              "      <th>Rel Hum Flag</th>\n",
              "      <th>Wind Dir (10s deg)</th>\n",
              "      <th>Wind Dir Flag</th>\n",
              "      <th>Wind Spd (km/h)</th>\n",
              "      <th>Wind Spd Flag</th>\n",
              "      <th>Visibility (km)</th>\n",
              "      <th>Visibility Flag</th>\n",
              "      <th>Stn Press (kPa)</th>\n",
              "      <th>Stn Press Flag</th>\n",
              "      <th>Hmdx</th>\n",
              "      <th>Hmdx Flag</th>\n",
              "      <th>Wind Chill</th>\n",
              "      <th>Wind Chill Flag</th>\n",
              "      <th>Weather</th>\n",
              "      <th>Usage (kilowatt-hours)</th>\n",
              "    </tr>\n",
              "  </thead>\n",
              "  <tbody>\n",
              "    <tr>\n",
              "      <th>0</th>\n",
              "      <td>-81.15</td>\n",
              "      <td>43.03</td>\n",
              "      <td>LONDON A</td>\n",
              "      <td>6144473</td>\n",
              "      <td>2018-07-01 00:00</td>\n",
              "      <td>2018</td>\n",
              "      <td>7</td>\n",
              "      <td>1</td>\n",
              "      <td>00:00</td>\n",
              "      <td>25.0</td>\n",
              "      <td>NaN</td>\n",
              "      <td>20.9</td>\n",
              "      <td>NaN</td>\n",
              "      <td>78.0</td>\n",
              "      <td>NaN</td>\n",
              "      <td>21.0</td>\n",
              "      <td>NaN</td>\n",
              "      <td>10.0</td>\n",
              "      <td>NaN</td>\n",
              "      <td>24.1</td>\n",
              "      <td>NaN</td>\n",
              "      <td>98.35</td>\n",
              "      <td>NaN</td>\n",
              "      <td>33.0</td>\n",
              "      <td>NaN</td>\n",
              "      <td>NaN</td>\n",
              "      <td>NaN</td>\n",
              "      <td>NaN</td>\n",
              "      <td>3.53</td>\n",
              "    </tr>\n",
              "    <tr>\n",
              "      <th>1</th>\n",
              "      <td>-81.15</td>\n",
              "      <td>43.03</td>\n",
              "      <td>LONDON A</td>\n",
              "      <td>6144473</td>\n",
              "      <td>2018-07-01 01:00</td>\n",
              "      <td>2018</td>\n",
              "      <td>7</td>\n",
              "      <td>1</td>\n",
              "      <td>01:00</td>\n",
              "      <td>23.5</td>\n",
              "      <td>NaN</td>\n",
              "      <td>20.8</td>\n",
              "      <td>NaN</td>\n",
              "      <td>84.0</td>\n",
              "      <td>NaN</td>\n",
              "      <td>20.0</td>\n",
              "      <td>NaN</td>\n",
              "      <td>7.0</td>\n",
              "      <td>NaN</td>\n",
              "      <td>24.1</td>\n",
              "      <td>NaN</td>\n",
              "      <td>98.39</td>\n",
              "      <td>NaN</td>\n",
              "      <td>32.0</td>\n",
              "      <td>NaN</td>\n",
              "      <td>NaN</td>\n",
              "      <td>NaN</td>\n",
              "      <td>Clear</td>\n",
              "      <td>3.45</td>\n",
              "    </tr>\n",
              "    <tr>\n",
              "      <th>2</th>\n",
              "      <td>-81.15</td>\n",
              "      <td>43.03</td>\n",
              "      <td>LONDON A</td>\n",
              "      <td>6144473</td>\n",
              "      <td>2018-07-01 02:00</td>\n",
              "      <td>2018</td>\n",
              "      <td>7</td>\n",
              "      <td>1</td>\n",
              "      <td>02:00</td>\n",
              "      <td>22.9</td>\n",
              "      <td>NaN</td>\n",
              "      <td>20.6</td>\n",
              "      <td>NaN</td>\n",
              "      <td>86.0</td>\n",
              "      <td>NaN</td>\n",
              "      <td>19.0</td>\n",
              "      <td>NaN</td>\n",
              "      <td>5.0</td>\n",
              "      <td>NaN</td>\n",
              "      <td>24.1</td>\n",
              "      <td>NaN</td>\n",
              "      <td>98.39</td>\n",
              "      <td>NaN</td>\n",
              "      <td>31.0</td>\n",
              "      <td>NaN</td>\n",
              "      <td>NaN</td>\n",
              "      <td>NaN</td>\n",
              "      <td>NaN</td>\n",
              "      <td>3.36</td>\n",
              "    </tr>\n",
              "    <tr>\n",
              "      <th>3</th>\n",
              "      <td>-81.15</td>\n",
              "      <td>43.03</td>\n",
              "      <td>LONDON A</td>\n",
              "      <td>6144473</td>\n",
              "      <td>2018-07-01 03:00</td>\n",
              "      <td>2018</td>\n",
              "      <td>7</td>\n",
              "      <td>1</td>\n",
              "      <td>03:00</td>\n",
              "      <td>19.9</td>\n",
              "      <td>NaN</td>\n",
              "      <td>19.3</td>\n",
              "      <td>NaN</td>\n",
              "      <td>96.0</td>\n",
              "      <td>NaN</td>\n",
              "      <td>0.0</td>\n",
              "      <td>NaN</td>\n",
              "      <td>1.0</td>\n",
              "      <td>NaN</td>\n",
              "      <td>24.1</td>\n",
              "      <td>NaN</td>\n",
              "      <td>98.42</td>\n",
              "      <td>NaN</td>\n",
              "      <td>NaN</td>\n",
              "      <td>NaN</td>\n",
              "      <td>NaN</td>\n",
              "      <td>NaN</td>\n",
              "      <td>NaN</td>\n",
              "      <td>2.90</td>\n",
              "    </tr>\n",
              "    <tr>\n",
              "      <th>4</th>\n",
              "      <td>-81.15</td>\n",
              "      <td>43.03</td>\n",
              "      <td>LONDON A</td>\n",
              "      <td>6144473</td>\n",
              "      <td>2018-07-01 04:00</td>\n",
              "      <td>2018</td>\n",
              "      <td>7</td>\n",
              "      <td>1</td>\n",
              "      <td>04:00</td>\n",
              "      <td>20.1</td>\n",
              "      <td>NaN</td>\n",
              "      <td>19.6</td>\n",
              "      <td>NaN</td>\n",
              "      <td>97.0</td>\n",
              "      <td>NaN</td>\n",
              "      <td>26.0</td>\n",
              "      <td>NaN</td>\n",
              "      <td>5.0</td>\n",
              "      <td>NaN</td>\n",
              "      <td>24.1</td>\n",
              "      <td>NaN</td>\n",
              "      <td>98.38</td>\n",
              "      <td>NaN</td>\n",
              "      <td>27.0</td>\n",
              "      <td>NaN</td>\n",
              "      <td>NaN</td>\n",
              "      <td>NaN</td>\n",
              "      <td>Mainly Clear</td>\n",
              "      <td>2.77</td>\n",
              "    </tr>\n",
              "    <tr>\n",
              "      <th>...</th>\n",
              "      <td>...</td>\n",
              "      <td>...</td>\n",
              "      <td>...</td>\n",
              "      <td>...</td>\n",
              "      <td>...</td>\n",
              "      <td>...</td>\n",
              "      <td>...</td>\n",
              "      <td>...</td>\n",
              "      <td>...</td>\n",
              "      <td>...</td>\n",
              "      <td>...</td>\n",
              "      <td>...</td>\n",
              "      <td>...</td>\n",
              "      <td>...</td>\n",
              "      <td>...</td>\n",
              "      <td>...</td>\n",
              "      <td>...</td>\n",
              "      <td>...</td>\n",
              "      <td>...</td>\n",
              "      <td>...</td>\n",
              "      <td>...</td>\n",
              "      <td>...</td>\n",
              "      <td>...</td>\n",
              "      <td>...</td>\n",
              "      <td>...</td>\n",
              "      <td>...</td>\n",
              "      <td>...</td>\n",
              "      <td>...</td>\n",
              "      <td>...</td>\n",
              "    </tr>\n",
              "    <tr>\n",
              "      <th>14611</th>\n",
              "      <td>-81.15</td>\n",
              "      <td>43.03</td>\n",
              "      <td>LONDON A</td>\n",
              "      <td>6144473</td>\n",
              "      <td>2020-02-29 19:00</td>\n",
              "      <td>2020</td>\n",
              "      <td>2</td>\n",
              "      <td>29</td>\n",
              "      <td>19:00</td>\n",
              "      <td>-6.7</td>\n",
              "      <td>NaN</td>\n",
              "      <td>-11.7</td>\n",
              "      <td>NaN</td>\n",
              "      <td>68.0</td>\n",
              "      <td>NaN</td>\n",
              "      <td>24.0</td>\n",
              "      <td>NaN</td>\n",
              "      <td>11.0</td>\n",
              "      <td>NaN</td>\n",
              "      <td>24.1</td>\n",
              "      <td>NaN</td>\n",
              "      <td>98.52</td>\n",
              "      <td>NaN</td>\n",
              "      <td>NaN</td>\n",
              "      <td>NaN</td>\n",
              "      <td>-12.0</td>\n",
              "      <td>NaN</td>\n",
              "      <td>Mainly Clear</td>\n",
              "      <td>0.84</td>\n",
              "    </tr>\n",
              "    <tr>\n",
              "      <th>14612</th>\n",
              "      <td>-81.15</td>\n",
              "      <td>43.03</td>\n",
              "      <td>LONDON A</td>\n",
              "      <td>6144473</td>\n",
              "      <td>2020-02-29 20:00</td>\n",
              "      <td>2020</td>\n",
              "      <td>2</td>\n",
              "      <td>29</td>\n",
              "      <td>20:00</td>\n",
              "      <td>-7.0</td>\n",
              "      <td>NaN</td>\n",
              "      <td>-11.5</td>\n",
              "      <td>NaN</td>\n",
              "      <td>71.0</td>\n",
              "      <td>NaN</td>\n",
              "      <td>23.0</td>\n",
              "      <td>NaN</td>\n",
              "      <td>11.0</td>\n",
              "      <td>NaN</td>\n",
              "      <td>24.1</td>\n",
              "      <td>NaN</td>\n",
              "      <td>98.53</td>\n",
              "      <td>NaN</td>\n",
              "      <td>NaN</td>\n",
              "      <td>NaN</td>\n",
              "      <td>-12.0</td>\n",
              "      <td>NaN</td>\n",
              "      <td>NaN</td>\n",
              "      <td>0.88</td>\n",
              "    </tr>\n",
              "    <tr>\n",
              "      <th>14613</th>\n",
              "      <td>-81.15</td>\n",
              "      <td>43.03</td>\n",
              "      <td>LONDON A</td>\n",
              "      <td>6144473</td>\n",
              "      <td>2020-02-29 21:00</td>\n",
              "      <td>2020</td>\n",
              "      <td>2</td>\n",
              "      <td>29</td>\n",
              "      <td>21:00</td>\n",
              "      <td>-7.1</td>\n",
              "      <td>NaN</td>\n",
              "      <td>-11.2</td>\n",
              "      <td>NaN</td>\n",
              "      <td>73.0</td>\n",
              "      <td>NaN</td>\n",
              "      <td>20.0</td>\n",
              "      <td>NaN</td>\n",
              "      <td>9.0</td>\n",
              "      <td>NaN</td>\n",
              "      <td>24.1</td>\n",
              "      <td>NaN</td>\n",
              "      <td>98.52</td>\n",
              "      <td>NaN</td>\n",
              "      <td>NaN</td>\n",
              "      <td>NaN</td>\n",
              "      <td>-11.0</td>\n",
              "      <td>NaN</td>\n",
              "      <td>NaN</td>\n",
              "      <td>0.98</td>\n",
              "    </tr>\n",
              "    <tr>\n",
              "      <th>14614</th>\n",
              "      <td>-81.15</td>\n",
              "      <td>43.03</td>\n",
              "      <td>LONDON A</td>\n",
              "      <td>6144473</td>\n",
              "      <td>2020-02-29 22:00</td>\n",
              "      <td>2020</td>\n",
              "      <td>2</td>\n",
              "      <td>29</td>\n",
              "      <td>22:00</td>\n",
              "      <td>-9.1</td>\n",
              "      <td>NaN</td>\n",
              "      <td>-12.0</td>\n",
              "      <td>NaN</td>\n",
              "      <td>80.0</td>\n",
              "      <td>NaN</td>\n",
              "      <td>20.0</td>\n",
              "      <td>NaN</td>\n",
              "      <td>8.0</td>\n",
              "      <td>NaN</td>\n",
              "      <td>24.1</td>\n",
              "      <td>NaN</td>\n",
              "      <td>98.52</td>\n",
              "      <td>NaN</td>\n",
              "      <td>NaN</td>\n",
              "      <td>NaN</td>\n",
              "      <td>-13.0</td>\n",
              "      <td>NaN</td>\n",
              "      <td>Clear</td>\n",
              "      <td>0.93</td>\n",
              "    </tr>\n",
              "    <tr>\n",
              "      <th>14615</th>\n",
              "      <td>-81.15</td>\n",
              "      <td>43.03</td>\n",
              "      <td>LONDON A</td>\n",
              "      <td>6144473</td>\n",
              "      <td>2020-02-29 23:00</td>\n",
              "      <td>2020</td>\n",
              "      <td>2</td>\n",
              "      <td>29</td>\n",
              "      <td>23:00</td>\n",
              "      <td>-9.2</td>\n",
              "      <td>NaN</td>\n",
              "      <td>-12.2</td>\n",
              "      <td>NaN</td>\n",
              "      <td>79.0</td>\n",
              "      <td>NaN</td>\n",
              "      <td>22.0</td>\n",
              "      <td>NaN</td>\n",
              "      <td>7.0</td>\n",
              "      <td>NaN</td>\n",
              "      <td>24.1</td>\n",
              "      <td>NaN</td>\n",
              "      <td>98.52</td>\n",
              "      <td>NaN</td>\n",
              "      <td>NaN</td>\n",
              "      <td>NaN</td>\n",
              "      <td>-13.0</td>\n",
              "      <td>NaN</td>\n",
              "      <td>NaN</td>\n",
              "      <td>6.34</td>\n",
              "    </tr>\n",
              "  </tbody>\n",
              "</table>\n",
              "<p>14616 rows × 29 columns</p>\n",
              "</div>"
            ],
            "text/plain": [
              "       Longitude (x)  Latitude (y)  ...       Weather  Usage (kilowatt-hours)\n",
              "0             -81.15         43.03  ...           NaN                    3.53\n",
              "1             -81.15         43.03  ...         Clear                    3.45\n",
              "2             -81.15         43.03  ...           NaN                    3.36\n",
              "3             -81.15         43.03  ...           NaN                    2.90\n",
              "4             -81.15         43.03  ...  Mainly Clear                    2.77\n",
              "...              ...           ...  ...           ...                     ...\n",
              "14611         -81.15         43.03  ...  Mainly Clear                    0.84\n",
              "14612         -81.15         43.03  ...           NaN                    0.88\n",
              "14613         -81.15         43.03  ...           NaN                    0.98\n",
              "14614         -81.15         43.03  ...         Clear                    0.93\n",
              "14615         -81.15         43.03  ...           NaN                    6.34\n",
              "\n",
              "[14616 rows x 29 columns]"
            ]
          },
          "metadata": {
            "tags": []
          },
          "execution_count": 4
        }
      ]
    },
    {
      "cell_type": "code",
      "metadata": {
        "colab": {
          "base_uri": "https://localhost:8080/",
          "height": 604
        },
        "id": "bs4A4El1LVJc",
        "outputId": "db879479-fb40-4e2d-9242-fb8438bd57c0"
      },
      "source": [
        "plt.figure(figsize=(10,5))\n",
        "plt.plot(data['Usage (kilowatt-hours)'])\n",
        "plt.show()\n",
        "\n",
        "# close up on the first week\n",
        "plt.plot(data['Usage (kilowatt-hours)'].head(168))\n",
        "plt.show()"
      ],
      "execution_count": 5,
      "outputs": [
        {
          "output_type": "execute_result",
          "data": {
            "text/plain": [
              "<Figure size 720x360 with 0 Axes>"
            ]
          },
          "metadata": {
            "tags": []
          },
          "execution_count": 5
        },
        {
          "output_type": "execute_result",
          "data": {
            "text/plain": [
              "[<matplotlib.lines.Line2D at 0x7fa19b7984e0>]"
            ]
          },
          "metadata": {
            "tags": []
          },
          "execution_count": 5
        },
        {
          "output_type": "display_data",
          "data": {
            "image/png": "[encoded data removed]",
            "text/plain": [
              "<Figure size 720x360 with 1 Axes>"
            ]
          },
          "metadata": {
            "tags": [],
            "needs_background": "light"
          }
        },
        {
          "output_type": "execute_result",
          "data": {
            "text/plain": [
              "[<matplotlib.lines.Line2D at 0x7fa19b25dc50>]"
            ]
          },
          "metadata": {
            "tags": []
          },
          "execution_count": 5
        },
        {
          "output_type": "display_data",
          "data": {
            "image/png": "[encoded data removed]",
            "text/plain": [
              "<Figure size 432x288 with 1 Axes>"
            ]
          },
          "metadata": {
            "tags": [],
            "needs_background": "light"
          }
        }
      ]
    },
    {
      "cell_type": "markdown",
      "metadata": {
        "id": "BvWxI8bXy98q"
      },
      "source": [
        "Data Cleaning"
      ]
    },
    {
      "cell_type": "code",
      "metadata": {
        "colab": {
          "base_uri": "https://localhost:8080/"
        },
        "id": "E04KQ1a2N6AL",
        "outputId": "9274b1fc-31f0-4133-a13b-2fc5aee24a0e"
      },
      "source": [
        "# ================= Data Cleaning =======================\n",
        "\n",
        "# drop the columns with mostly missing values\n",
        "data = data.drop(columns=[\"Temp Flag\", \"Dew Point Temp Flag\", \"Rel Hum Flag\", \"Wind Dir Flag\", \"Wind Spd Flag\",\n",
        "                   \"Visibility Flag\", \"Stn Press Flag\", \"Hmdx\", \"Hmdx Flag\", \"Wind Chill\", \"Wind Chill Flag\"])\n",
        "\n",
        "# drop columns with constant data\n",
        "data = data.drop(columns=[\"Longitude (x)\", \"Latitude (y)\", \"Station Name\", \"Climate ID\", 'Date/Time'])\n",
        "\n",
        "print(data.isnull().sum())"
      ],
      "execution_count": 6,
      "outputs": [
        {
          "output_type": "stream",
          "text": [
            "Year                         0\n",
            "Month                        0\n",
            "Day                          0\n",
            "Time                         0\n",
            "Temp (°C)                    9\n",
            "Dew Point Temp (°C)          9\n",
            "Rel Hum (%)                  9\n",
            "Wind Dir (10s deg)          19\n",
            "Wind Spd (km/h)              9\n",
            "Visibility (km)              8\n",
            "Stn Press (kPa)              9\n",
            "Weather                   7211\n",
            "Usage (kilowatt-hours)       0\n",
            "dtype: int64\n"
          ],
          "name": "stdout"
        }
      ]
    },
    {
      "cell_type": "code",
      "metadata": {
        "colab": {
          "base_uri": "https://localhost:8080/"
        },
        "id": "pPURAF8LOBB2",
        "outputId": "0d335dfe-8d39-4a50-daff-7132093b20b0"
      },
      "source": [
        "# Deal with missing values\n",
        "columns_to_clean = [\"Temp (°C)\", \"Dew Point Temp (°C)\", \"Rel Hum (%)\", \"Wind Dir (10s deg)\", \"Wind Spd (km/h)\",\n",
        "                    \"Visibility (km)\", \"Stn Press (kPa)\"]\n",
        "\n",
        "# replace with previous hour data\n",
        "for col in columns_to_clean:\n",
        "    data[col].fillna(method='ffill', inplace=True)\n",
        "\n",
        "print(data.isnull().sum())"
      ],
      "execution_count": 7,
      "outputs": [
        {
          "output_type": "stream",
          "text": [
            "Year                         0\n",
            "Month                        0\n",
            "Day                          0\n",
            "Time                         0\n",
            "Temp (°C)                    0\n",
            "Dew Point Temp (°C)          0\n",
            "Rel Hum (%)                  0\n",
            "Wind Dir (10s deg)           0\n",
            "Wind Spd (km/h)              0\n",
            "Visibility (km)              0\n",
            "Stn Press (kPa)              0\n",
            "Weather                   7211\n",
            "Usage (kilowatt-hours)       0\n",
            "dtype: int64\n"
          ],
          "name": "stdout"
        }
      ]
    },
    {
      "cell_type": "markdown",
      "metadata": {
        "id": "95vM-kC0y4Z_"
      },
      "source": [
        "Weather Attribute"
      ]
    },
    {
      "cell_type": "code",
      "metadata": {
        "colab": {
          "base_uri": "https://localhost:8080/"
        },
        "id": "sD_wHRE6OC7i",
        "outputId": "df8b6aa7-b8c1-4861-ce65-5cecd5688337"
      },
      "source": [
        "# clean the \"weather\" attribute: replace missing values with previous observations\n",
        "data[\"Weather\"].fillna(method='ffill', inplace=True)\n",
        "\n",
        "print(data.isnull().sum())"
      ],
      "execution_count": 8,
      "outputs": [
        {
          "output_type": "stream",
          "text": [
            "Year                      0\n",
            "Month                     0\n",
            "Day                       0\n",
            "Time                      0\n",
            "Temp (°C)                 0\n",
            "Dew Point Temp (°C)       0\n",
            "Rel Hum (%)               0\n",
            "Wind Dir (10s deg)        0\n",
            "Wind Spd (km/h)           0\n",
            "Visibility (km)           0\n",
            "Stn Press (kPa)           0\n",
            "Weather                   1\n",
            "Usage (kilowatt-hours)    0\n",
            "dtype: int64\n"
          ],
          "name": "stdout"
        }
      ]
    },
    {
      "cell_type": "code",
      "metadata": {
        "colab": {
          "base_uri": "https://localhost:8080/",
          "height": 297
        },
        "id": "FVBmH11iEYCO",
        "outputId": "03744207-3199-4cd5-88a8-ef0216a455ac"
      },
      "source": [
        "sns.scatterplot(data=data, x=\"Temp (°C)\", y=\"Usage (kilowatt-hours)\")"
      ],
      "execution_count": 9,
      "outputs": [
        {
          "output_type": "execute_result",
          "data": {
            "text/plain": [
              "<matplotlib.axes._subplots.AxesSubplot at 0x7fa1cf3317f0>"
            ]
          },
          "metadata": {
            "tags": []
          },
          "execution_count": 9
        },
        {
          "output_type": "display_data",
          "data": {
            "image/png": "[encoded data removed]",
            "text/plain": [
              "<Figure size 432x288 with 1 Axes>"
            ]
          },
          "metadata": {
            "tags": [],
            "needs_background": "light"
          }
        }
      ]
    },
    {
      "cell_type": "markdown",
      "metadata": {
        "id": "tnzBzPyuA_Qb"
      },
      "source": [
        "Feature Engineering"
      ]
    },
    {
      "cell_type": "markdown",
      "metadata": {
        "id": "hAYQUhh-AoVN"
      },
      "source": [
        "Hour of Day"
      ]
    },
    {
      "cell_type": "code",
      "metadata": {
        "colab": {
          "base_uri": "https://localhost:8080/",
          "height": 502
        },
        "id": "1huatERRxZRK",
        "outputId": "dea257d4-35ce-48c0-9327-cc3abef69b36"
      },
      "source": [
        "data['Time'] = data['Time'].apply(lambda s: float(s.split(':')[0]))\n",
        "data"
      ],
      "execution_count": 10,
      "outputs": [
        {
          "output_type": "execute_result",
          "data": {
            "text/html": [
              "<div>\n",
              "<style scoped>\n",
              "    .dataframe tbody tr th:only-of-type {\n",
              "        vertical-align: middle;\n",
              "    }\n",
              "\n",
              "    .dataframe tbody tr th {\n",
              "        vertical-align: top;\n",
              "    }\n",
              "\n",
              "    .dataframe thead th {\n",
              "        text-align: right;\n",
              "    }\n",
              "</style>\n",
              "<table border=\"1\" class=\"dataframe\">\n",
              "  <thead>\n",
              "    <tr style=\"text-align: right;\">\n",
              "      <th></th>\n",
              "      <th>Year</th>\n",
              "      <th>Month</th>\n",
              "      <th>Day</th>\n",
              "      <th>Time</th>\n",
              "      <th>Temp (°C)</th>\n",
              "      <th>Dew Point Temp (°C)</th>\n",
              "      <th>Rel Hum (%)</th>\n",
              "      <th>Wind Dir (10s deg)</th>\n",
              "      <th>Wind Spd (km/h)</th>\n",
              "      <th>Visibility (km)</th>\n",
              "      <th>Stn Press (kPa)</th>\n",
              "      <th>Weather</th>\n",
              "      <th>Usage (kilowatt-hours)</th>\n",
              "    </tr>\n",
              "  </thead>\n",
              "  <tbody>\n",
              "    <tr>\n",
              "      <th>0</th>\n",
              "      <td>2018</td>\n",
              "      <td>7</td>\n",
              "      <td>1</td>\n",
              "      <td>0.0</td>\n",
              "      <td>25.0</td>\n",
              "      <td>20.9</td>\n",
              "      <td>78.0</td>\n",
              "      <td>21.0</td>\n",
              "      <td>10.0</td>\n",
              "      <td>24.1</td>\n",
              "      <td>98.35</td>\n",
              "      <td>NaN</td>\n",
              "      <td>3.53</td>\n",
              "    </tr>\n",
              "    <tr>\n",
              "      <th>1</th>\n",
              "      <td>2018</td>\n",
              "      <td>7</td>\n",
              "      <td>1</td>\n",
              "      <td>1.0</td>\n",
              "      <td>23.5</td>\n",
              "      <td>20.8</td>\n",
              "      <td>84.0</td>\n",
              "      <td>20.0</td>\n",
              "      <td>7.0</td>\n",
              "      <td>24.1</td>\n",
              "      <td>98.39</td>\n",
              "      <td>Clear</td>\n",
              "      <td>3.45</td>\n",
              "    </tr>\n",
              "    <tr>\n",
              "      <th>2</th>\n",
              "      <td>2018</td>\n",
              "      <td>7</td>\n",
              "      <td>1</td>\n",
              "      <td>2.0</td>\n",
              "      <td>22.9</td>\n",
              "      <td>20.6</td>\n",
              "      <td>86.0</td>\n",
              "      <td>19.0</td>\n",
              "      <td>5.0</td>\n",
              "      <td>24.1</td>\n",
              "      <td>98.39</td>\n",
              "      <td>Clear</td>\n",
              "      <td>3.36</td>\n",
              "    </tr>\n",
              "    <tr>\n",
              "      <th>3</th>\n",
              "      <td>2018</td>\n",
              "      <td>7</td>\n",
              "      <td>1</td>\n",
              "      <td>3.0</td>\n",
              "      <td>19.9</td>\n",
              "      <td>19.3</td>\n",
              "      <td>96.0</td>\n",
              "      <td>0.0</td>\n",
              "      <td>1.0</td>\n",
              "      <td>24.1</td>\n",
              "      <td>98.42</td>\n",
              "      <td>Clear</td>\n",
              "      <td>2.90</td>\n",
              "    </tr>\n",
              "    <tr>\n",
              "      <th>4</th>\n",
              "      <td>2018</td>\n",
              "      <td>7</td>\n",
              "      <td>1</td>\n",
              "      <td>4.0</td>\n",
              "      <td>20.1</td>\n",
              "      <td>19.6</td>\n",
              "      <td>97.0</td>\n",
              "      <td>26.0</td>\n",
              "      <td>5.0</td>\n",
              "      <td>24.1</td>\n",
              "      <td>98.38</td>\n",
              "      <td>Mainly Clear</td>\n",
              "      <td>2.77</td>\n",
              "    </tr>\n",
              "    <tr>\n",
              "      <th>...</th>\n",
              "      <td>...</td>\n",
              "      <td>...</td>\n",
              "      <td>...</td>\n",
              "      <td>...</td>\n",
              "      <td>...</td>\n",
              "      <td>...</td>\n",
              "      <td>...</td>\n",
              "      <td>...</td>\n",
              "      <td>...</td>\n",
              "      <td>...</td>\n",
              "      <td>...</td>\n",
              "      <td>...</td>\n",
              "      <td>...</td>\n",
              "    </tr>\n",
              "    <tr>\n",
              "      <th>14611</th>\n",
              "      <td>2020</td>\n",
              "      <td>2</td>\n",
              "      <td>29</td>\n",
              "      <td>19.0</td>\n",
              "      <td>-6.7</td>\n",
              "      <td>-11.7</td>\n",
              "      <td>68.0</td>\n",
              "      <td>24.0</td>\n",
              "      <td>11.0</td>\n",
              "      <td>24.1</td>\n",
              "      <td>98.52</td>\n",
              "      <td>Mainly Clear</td>\n",
              "      <td>0.84</td>\n",
              "    </tr>\n",
              "    <tr>\n",
              "      <th>14612</th>\n",
              "      <td>2020</td>\n",
              "      <td>2</td>\n",
              "      <td>29</td>\n",
              "      <td>20.0</td>\n",
              "      <td>-7.0</td>\n",
              "      <td>-11.5</td>\n",
              "      <td>71.0</td>\n",
              "      <td>23.0</td>\n",
              "      <td>11.0</td>\n",
              "      <td>24.1</td>\n",
              "      <td>98.53</td>\n",
              "      <td>Mainly Clear</td>\n",
              "      <td>0.88</td>\n",
              "    </tr>\n",
              "    <tr>\n",
              "      <th>14613</th>\n",
              "      <td>2020</td>\n",
              "      <td>2</td>\n",
              "      <td>29</td>\n",
              "      <td>21.0</td>\n",
              "      <td>-7.1</td>\n",
              "      <td>-11.2</td>\n",
              "      <td>73.0</td>\n",
              "      <td>20.0</td>\n",
              "      <td>9.0</td>\n",
              "      <td>24.1</td>\n",
              "      <td>98.52</td>\n",
              "      <td>Mainly Clear</td>\n",
              "      <td>0.98</td>\n",
              "    </tr>\n",
              "    <tr>\n",
              "      <th>14614</th>\n",
              "      <td>2020</td>\n",
              "      <td>2</td>\n",
              "      <td>29</td>\n",
              "      <td>22.0</td>\n",
              "      <td>-9.1</td>\n",
              "      <td>-12.0</td>\n",
              "      <td>80.0</td>\n",
              "      <td>20.0</td>\n",
              "      <td>8.0</td>\n",
              "      <td>24.1</td>\n",
              "      <td>98.52</td>\n",
              "      <td>Clear</td>\n",
              "      <td>0.93</td>\n",
              "    </tr>\n",
              "    <tr>\n",
              "      <th>14615</th>\n",
              "      <td>2020</td>\n",
              "      <td>2</td>\n",
              "      <td>29</td>\n",
              "      <td>23.0</td>\n",
              "      <td>-9.2</td>\n",
              "      <td>-12.2</td>\n",
              "      <td>79.0</td>\n",
              "      <td>22.0</td>\n",
              "      <td>7.0</td>\n",
              "      <td>24.1</td>\n",
              "      <td>98.52</td>\n",
              "      <td>Clear</td>\n",
              "      <td>6.34</td>\n",
              "    </tr>\n",
              "  </tbody>\n",
              "</table>\n",
              "<p>14616 rows × 13 columns</p>\n",
              "</div>"
            ],
            "text/plain": [
              "       Year  Month  Day  ...  Stn Press (kPa)       Weather  Usage (kilowatt-hours)\n",
              "0      2018      7    1  ...            98.35           NaN                    3.53\n",
              "1      2018      7    1  ...            98.39         Clear                    3.45\n",
              "2      2018      7    1  ...            98.39         Clear                    3.36\n",
              "3      2018      7    1  ...            98.42         Clear                    2.90\n",
              "4      2018      7    1  ...            98.38  Mainly Clear                    2.77\n",
              "...     ...    ...  ...  ...              ...           ...                     ...\n",
              "14611  2020      2   29  ...            98.52  Mainly Clear                    0.84\n",
              "14612  2020      2   29  ...            98.53  Mainly Clear                    0.88\n",
              "14613  2020      2   29  ...            98.52  Mainly Clear                    0.98\n",
              "14614  2020      2   29  ...            98.52         Clear                    0.93\n",
              "14615  2020      2   29  ...            98.52         Clear                    6.34\n",
              "\n",
              "[14616 rows x 13 columns]"
            ]
          },
          "metadata": {
            "tags": []
          },
          "execution_count": 10
        }
      ]
    },
    {
      "cell_type": "markdown",
      "metadata": {
        "id": "R6FSnV9OGgJI"
      },
      "source": [
        "Day of week"
      ]
    },
    {
      "cell_type": "code",
      "metadata": {
        "colab": {
          "base_uri": "https://localhost:8080/",
          "height": 415
        },
        "id": "nfl5IHmiICKg",
        "outputId": "70bcd4f0-90dd-4cd9-bfb9-8e08c8352d11"
      },
      "source": [
        "day_week = []\n",
        "counter = 0\n",
        "\n",
        "for day in range(len(data)):\n",
        "  if 0<= counter <= 23:\n",
        "    day_week.append(7)\n",
        "  elif 24 <= counter <=47:\n",
        "    day_week.append(1)\n",
        "  elif 48<= counter <= 71:\n",
        "    day_week.append(2)\n",
        "  elif 72 <= counter <= 95:\n",
        "    day_week.append(3)\n",
        "  elif 96 <= counter <=119:\n",
        "    day_week.append(4)\n",
        "  elif 120 <=counter <= 143:\n",
        "    day_week.append(5)\n",
        "  elif 144 <= counter <=167:\n",
        "    day_week.append(6)\n",
        "  \n",
        "  counter += 1\n",
        "\n",
        "  if counter > 167:\n",
        "    counter = 0\n",
        "\n",
        "day_week = pd.DataFrame(data=day_week, columns=['day_week'])\n",
        "day_week\n",
        "\n",
        "data = pd.concat([data, day_week], axis=1)"
      ],
      "execution_count": 11,
      "outputs": [
        {
          "output_type": "execute_result",
          "data": {
            "text/html": [
              "<div>\n",
              "<style scoped>\n",
              "    .dataframe tbody tr th:only-of-type {\n",
              "        vertical-align: middle;\n",
              "    }\n",
              "\n",
              "    .dataframe tbody tr th {\n",
              "        vertical-align: top;\n",
              "    }\n",
              "\n",
              "    .dataframe thead th {\n",
              "        text-align: right;\n",
              "    }\n",
              "</style>\n",
              "<table border=\"1\" class=\"dataframe\">\n",
              "  <thead>\n",
              "    <tr style=\"text-align: right;\">\n",
              "      <th></th>\n",
              "      <th>day_week</th>\n",
              "    </tr>\n",
              "  </thead>\n",
              "  <tbody>\n",
              "    <tr>\n",
              "      <th>0</th>\n",
              "      <td>7</td>\n",
              "    </tr>\n",
              "    <tr>\n",
              "      <th>1</th>\n",
              "      <td>7</td>\n",
              "    </tr>\n",
              "    <tr>\n",
              "      <th>2</th>\n",
              "      <td>7</td>\n",
              "    </tr>\n",
              "    <tr>\n",
              "      <th>3</th>\n",
              "      <td>7</td>\n",
              "    </tr>\n",
              "    <tr>\n",
              "      <th>4</th>\n",
              "      <td>7</td>\n",
              "    </tr>\n",
              "    <tr>\n",
              "      <th>...</th>\n",
              "      <td>...</td>\n",
              "    </tr>\n",
              "    <tr>\n",
              "      <th>14611</th>\n",
              "      <td>6</td>\n",
              "    </tr>\n",
              "    <tr>\n",
              "      <th>14612</th>\n",
              "      <td>6</td>\n",
              "    </tr>\n",
              "    <tr>\n",
              "      <th>14613</th>\n",
              "      <td>6</td>\n",
              "    </tr>\n",
              "    <tr>\n",
              "      <th>14614</th>\n",
              "      <td>6</td>\n",
              "    </tr>\n",
              "    <tr>\n",
              "      <th>14615</th>\n",
              "      <td>6</td>\n",
              "    </tr>\n",
              "  </tbody>\n",
              "</table>\n",
              "<p>14616 rows × 1 columns</p>\n",
              "</div>"
            ],
            "text/plain": [
              "       day_week\n",
              "0             7\n",
              "1             7\n",
              "2             7\n",
              "3             7\n",
              "4             7\n",
              "...         ...\n",
              "14611         6\n",
              "14612         6\n",
              "14613         6\n",
              "14614         6\n",
              "14615         6\n",
              "\n",
              "[14616 rows x 1 columns]"
            ]
          },
          "metadata": {
            "tags": []
          },
          "execution_count": 11
        }
      ]
    },
    {
      "cell_type": "markdown",
      "metadata": {
        "id": "0VvxFLfHAtDa"
      },
      "source": [
        "Usage at previous timesteps as features"
      ]
    },
    {
      "cell_type": "code",
      "metadata": {
        "id": "d8BUKxTlAucV"
      },
      "source": [
        "# steps = 7\n",
        "\n",
        "# for i in range(1,steps):\n",
        "#   data['Previous_Usage' + str(i)] = data['Usage (kilowatt-hours)'].shift(i)\n",
        "  \n",
        "# for i in range(steps-1):\n",
        "#   data.drop(index=i, inplace=True)\n",
        "\n",
        "# data = pd.DataFrame.reset_index(data, drop=True)\n",
        "# data"
      ],
      "execution_count": 12,
      "outputs": []
    },
    {
      "cell_type": "markdown",
      "metadata": {
        "id": "dZA7yIE5WGAA"
      },
      "source": [
        "Season Feature"
      ]
    },
    {
      "cell_type": "code",
      "metadata": {
        "colab": {
          "base_uri": "https://localhost:8080/",
          "height": 415
        },
        "id": "igBHVV1pOu6d",
        "outputId": "549542c3-031d-4475-8f81-1e5fc5905ecd"
      },
      "source": [
        "season = []\n",
        "for month in data['Month']:\n",
        "  if 4 <= month <= 5:\n",
        "    season.append(1)\n",
        "  elif 6 <= month <= 9:\n",
        "    season.append(2)\n",
        "  elif 10 <= month <= 11:\n",
        "    season.append(3)\n",
        "  elif 12 == month or month <= 3:\n",
        "    season.append(4)\n",
        "\n",
        "season = pd.DataFrame(data=season, columns=['Season'])\n",
        "season\n",
        "\n",
        "data = pd.concat([data, season], axis=1)"
      ],
      "execution_count": 13,
      "outputs": [
        {
          "output_type": "execute_result",
          "data": {
            "text/html": [
              "<div>\n",
              "<style scoped>\n",
              "    .dataframe tbody tr th:only-of-type {\n",
              "        vertical-align: middle;\n",
              "    }\n",
              "\n",
              "    .dataframe tbody tr th {\n",
              "        vertical-align: top;\n",
              "    }\n",
              "\n",
              "    .dataframe thead th {\n",
              "        text-align: right;\n",
              "    }\n",
              "</style>\n",
              "<table border=\"1\" class=\"dataframe\">\n",
              "  <thead>\n",
              "    <tr style=\"text-align: right;\">\n",
              "      <th></th>\n",
              "      <th>Season</th>\n",
              "    </tr>\n",
              "  </thead>\n",
              "  <tbody>\n",
              "    <tr>\n",
              "      <th>0</th>\n",
              "      <td>2</td>\n",
              "    </tr>\n",
              "    <tr>\n",
              "      <th>1</th>\n",
              "      <td>2</td>\n",
              "    </tr>\n",
              "    <tr>\n",
              "      <th>2</th>\n",
              "      <td>2</td>\n",
              "    </tr>\n",
              "    <tr>\n",
              "      <th>3</th>\n",
              "      <td>2</td>\n",
              "    </tr>\n",
              "    <tr>\n",
              "      <th>4</th>\n",
              "      <td>2</td>\n",
              "    </tr>\n",
              "    <tr>\n",
              "      <th>...</th>\n",
              "      <td>...</td>\n",
              "    </tr>\n",
              "    <tr>\n",
              "      <th>14611</th>\n",
              "      <td>4</td>\n",
              "    </tr>\n",
              "    <tr>\n",
              "      <th>14612</th>\n",
              "      <td>4</td>\n",
              "    </tr>\n",
              "    <tr>\n",
              "      <th>14613</th>\n",
              "      <td>4</td>\n",
              "    </tr>\n",
              "    <tr>\n",
              "      <th>14614</th>\n",
              "      <td>4</td>\n",
              "    </tr>\n",
              "    <tr>\n",
              "      <th>14615</th>\n",
              "      <td>4</td>\n",
              "    </tr>\n",
              "  </tbody>\n",
              "</table>\n",
              "<p>14616 rows × 1 columns</p>\n",
              "</div>"
            ],
            "text/plain": [
              "       Season\n",
              "0           2\n",
              "1           2\n",
              "2           2\n",
              "3           2\n",
              "4           2\n",
              "...       ...\n",
              "14611       4\n",
              "14612       4\n",
              "14613       4\n",
              "14614       4\n",
              "14615       4\n",
              "\n",
              "[14616 rows x 1 columns]"
            ]
          },
          "metadata": {
            "tags": []
          },
          "execution_count": 13
        }
      ]
    },
    {
      "cell_type": "markdown",
      "metadata": {
        "id": "EtRXlp8kZPZb"
      },
      "source": [
        "Unit Circle Mapping for Cyclical Features"
      ]
    },
    {
      "cell_type": "code",
      "metadata": {
        "id": "IswOibaqZRV4"
      },
      "source": [
        "def encode_cyclical(data, col, max_val):\n",
        "  data[col + '_sin'] = np.sin(2*np.pi*data[col]/max_val)\n",
        "  data[col + '_cos'] = np.cos(2*np.pi*data[col]/max_val)\n",
        "\n",
        "  data.drop(columns=[col], inplace=True)\n",
        "  return data\n",
        "\n",
        "\n",
        "data = encode_cyclical(data, 'Month', 12)\n",
        "data = encode_cyclical(data, 'Time', 24)\n",
        "data = encode_cyclical(data, 'day_week', 7)\n",
        "data = encode_cyclical(data, 'Season', 4)"
      ],
      "execution_count": 14,
      "outputs": []
    },
    {
      "cell_type": "code",
      "metadata": {
        "colab": {
          "base_uri": "https://localhost:8080/",
          "height": 661
        },
        "id": "bv-QYa7oxh9k",
        "outputId": "3a7c75ea-dcfa-47bf-b5d7-4b92519e4e40"
      },
      "source": [
        "data_onehot = data.copy()\n",
        "\n",
        "# Discard Weather and Year feature\n",
        "data_onehot = data_onehot.drop(columns=['Weather', 'Year', 'Day'], axis=1)\n",
        "\n",
        "data_onehot"
      ],
      "execution_count": 15,
      "outputs": [
        {
          "output_type": "execute_result",
          "data": {
            "text/html": [
              "<div>\n",
              "<style scoped>\n",
              "    .dataframe tbody tr th:only-of-type {\n",
              "        vertical-align: middle;\n",
              "    }\n",
              "\n",
              "    .dataframe tbody tr th {\n",
              "        vertical-align: top;\n",
              "    }\n",
              "\n",
              "    .dataframe thead th {\n",
              "        text-align: right;\n",
              "    }\n",
              "</style>\n",
              "<table border=\"1\" class=\"dataframe\">\n",
              "  <thead>\n",
              "    <tr style=\"text-align: right;\">\n",
              "      <th></th>\n",
              "      <th>Temp (°C)</th>\n",
              "      <th>Dew Point Temp (°C)</th>\n",
              "      <th>Rel Hum (%)</th>\n",
              "      <th>Wind Dir (10s deg)</th>\n",
              "      <th>Wind Spd (km/h)</th>\n",
              "      <th>Visibility (km)</th>\n",
              "      <th>Stn Press (kPa)</th>\n",
              "      <th>Usage (kilowatt-hours)</th>\n",
              "      <th>Month_sin</th>\n",
              "      <th>Month_cos</th>\n",
              "      <th>Time_sin</th>\n",
              "      <th>Time_cos</th>\n",
              "      <th>day_week_sin</th>\n",
              "      <th>day_week_cos</th>\n",
              "      <th>Season_sin</th>\n",
              "      <th>Season_cos</th>\n",
              "    </tr>\n",
              "  </thead>\n",
              "  <tbody>\n",
              "    <tr>\n",
              "      <th>0</th>\n",
              "      <td>25.0</td>\n",
              "      <td>20.9</td>\n",
              "      <td>78.0</td>\n",
              "      <td>21.0</td>\n",
              "      <td>10.0</td>\n",
              "      <td>24.1</td>\n",
              "      <td>98.35</td>\n",
              "      <td>3.53</td>\n",
              "      <td>-0.500000</td>\n",
              "      <td>-0.866025</td>\n",
              "      <td>0.000000</td>\n",
              "      <td>1.000000</td>\n",
              "      <td>-2.449294e-16</td>\n",
              "      <td>1.00000</td>\n",
              "      <td>1.224647e-16</td>\n",
              "      <td>-1.0</td>\n",
              "    </tr>\n",
              "    <tr>\n",
              "      <th>1</th>\n",
              "      <td>23.5</td>\n",
              "      <td>20.8</td>\n",
              "      <td>84.0</td>\n",
              "      <td>20.0</td>\n",
              "      <td>7.0</td>\n",
              "      <td>24.1</td>\n",
              "      <td>98.39</td>\n",
              "      <td>3.45</td>\n",
              "      <td>-0.500000</td>\n",
              "      <td>-0.866025</td>\n",
              "      <td>0.258819</td>\n",
              "      <td>0.965926</td>\n",
              "      <td>-2.449294e-16</td>\n",
              "      <td>1.00000</td>\n",
              "      <td>1.224647e-16</td>\n",
              "      <td>-1.0</td>\n",
              "    </tr>\n",
              "    <tr>\n",
              "      <th>2</th>\n",
              "      <td>22.9</td>\n",
              "      <td>20.6</td>\n",
              "      <td>86.0</td>\n",
              "      <td>19.0</td>\n",
              "      <td>5.0</td>\n",
              "      <td>24.1</td>\n",
              "      <td>98.39</td>\n",
              "      <td>3.36</td>\n",
              "      <td>-0.500000</td>\n",
              "      <td>-0.866025</td>\n",
              "      <td>0.500000</td>\n",
              "      <td>0.866025</td>\n",
              "      <td>-2.449294e-16</td>\n",
              "      <td>1.00000</td>\n",
              "      <td>1.224647e-16</td>\n",
              "      <td>-1.0</td>\n",
              "    </tr>\n",
              "    <tr>\n",
              "      <th>3</th>\n",
              "      <td>19.9</td>\n",
              "      <td>19.3</td>\n",
              "      <td>96.0</td>\n",
              "      <td>0.0</td>\n",
              "      <td>1.0</td>\n",
              "      <td>24.1</td>\n",
              "      <td>98.42</td>\n",
              "      <td>2.90</td>\n",
              "      <td>-0.500000</td>\n",
              "      <td>-0.866025</td>\n",
              "      <td>0.707107</td>\n",
              "      <td>0.707107</td>\n",
              "      <td>-2.449294e-16</td>\n",
              "      <td>1.00000</td>\n",
              "      <td>1.224647e-16</td>\n",
              "      <td>-1.0</td>\n",
              "    </tr>\n",
              "    <tr>\n",
              "      <th>4</th>\n",
              "      <td>20.1</td>\n",
              "      <td>19.6</td>\n",
              "      <td>97.0</td>\n",
              "      <td>26.0</td>\n",
              "      <td>5.0</td>\n",
              "      <td>24.1</td>\n",
              "      <td>98.38</td>\n",
              "      <td>2.77</td>\n",
              "      <td>-0.500000</td>\n",
              "      <td>-0.866025</td>\n",
              "      <td>0.866025</td>\n",
              "      <td>0.500000</td>\n",
              "      <td>-2.449294e-16</td>\n",
              "      <td>1.00000</td>\n",
              "      <td>1.224647e-16</td>\n",
              "      <td>-1.0</td>\n",
              "    </tr>\n",
              "    <tr>\n",
              "      <th>...</th>\n",
              "      <td>...</td>\n",
              "      <td>...</td>\n",
              "      <td>...</td>\n",
              "      <td>...</td>\n",
              "      <td>...</td>\n",
              "      <td>...</td>\n",
              "      <td>...</td>\n",
              "      <td>...</td>\n",
              "      <td>...</td>\n",
              "      <td>...</td>\n",
              "      <td>...</td>\n",
              "      <td>...</td>\n",
              "      <td>...</td>\n",
              "      <td>...</td>\n",
              "      <td>...</td>\n",
              "      <td>...</td>\n",
              "    </tr>\n",
              "    <tr>\n",
              "      <th>14611</th>\n",
              "      <td>-6.7</td>\n",
              "      <td>-11.7</td>\n",
              "      <td>68.0</td>\n",
              "      <td>24.0</td>\n",
              "      <td>11.0</td>\n",
              "      <td>24.1</td>\n",
              "      <td>98.52</td>\n",
              "      <td>0.84</td>\n",
              "      <td>0.866025</td>\n",
              "      <td>0.500000</td>\n",
              "      <td>-0.965926</td>\n",
              "      <td>0.258819</td>\n",
              "      <td>-7.818315e-01</td>\n",
              "      <td>0.62349</td>\n",
              "      <td>-2.449294e-16</td>\n",
              "      <td>1.0</td>\n",
              "    </tr>\n",
              "    <tr>\n",
              "      <th>14612</th>\n",
              "      <td>-7.0</td>\n",
              "      <td>-11.5</td>\n",
              "      <td>71.0</td>\n",
              "      <td>23.0</td>\n",
              "      <td>11.0</td>\n",
              "      <td>24.1</td>\n",
              "      <td>98.53</td>\n",
              "      <td>0.88</td>\n",
              "      <td>0.866025</td>\n",
              "      <td>0.500000</td>\n",
              "      <td>-0.866025</td>\n",
              "      <td>0.500000</td>\n",
              "      <td>-7.818315e-01</td>\n",
              "      <td>0.62349</td>\n",
              "      <td>-2.449294e-16</td>\n",
              "      <td>1.0</td>\n",
              "    </tr>\n",
              "    <tr>\n",
              "      <th>14613</th>\n",
              "      <td>-7.1</td>\n",
              "      <td>-11.2</td>\n",
              "      <td>73.0</td>\n",
              "      <td>20.0</td>\n",
              "      <td>9.0</td>\n",
              "      <td>24.1</td>\n",
              "      <td>98.52</td>\n",
              "      <td>0.98</td>\n",
              "      <td>0.866025</td>\n",
              "      <td>0.500000</td>\n",
              "      <td>-0.707107</td>\n",
              "      <td>0.707107</td>\n",
              "      <td>-7.818315e-01</td>\n",
              "      <td>0.62349</td>\n",
              "      <td>-2.449294e-16</td>\n",
              "      <td>1.0</td>\n",
              "    </tr>\n",
              "    <tr>\n",
              "      <th>14614</th>\n",
              "      <td>-9.1</td>\n",
              "      <td>-12.0</td>\n",
              "      <td>80.0</td>\n",
              "      <td>20.0</td>\n",
              "      <td>8.0</td>\n",
              "      <td>24.1</td>\n",
              "      <td>98.52</td>\n",
              "      <td>0.93</td>\n",
              "      <td>0.866025</td>\n",
              "      <td>0.500000</td>\n",
              "      <td>-0.500000</td>\n",
              "      <td>0.866025</td>\n",
              "      <td>-7.818315e-01</td>\n",
              "      <td>0.62349</td>\n",
              "      <td>-2.449294e-16</td>\n",
              "      <td>1.0</td>\n",
              "    </tr>\n",
              "    <tr>\n",
              "      <th>14615</th>\n",
              "      <td>-9.2</td>\n",
              "      <td>-12.2</td>\n",
              "      <td>79.0</td>\n",
              "      <td>22.0</td>\n",
              "      <td>7.0</td>\n",
              "      <td>24.1</td>\n",
              "      <td>98.52</td>\n",
              "      <td>6.34</td>\n",
              "      <td>0.866025</td>\n",
              "      <td>0.500000</td>\n",
              "      <td>-0.258819</td>\n",
              "      <td>0.965926</td>\n",
              "      <td>-7.818315e-01</td>\n",
              "      <td>0.62349</td>\n",
              "      <td>-2.449294e-16</td>\n",
              "      <td>1.0</td>\n",
              "    </tr>\n",
              "  </tbody>\n",
              "</table>\n",
              "<p>14616 rows × 16 columns</p>\n",
              "</div>"
            ],
            "text/plain": [
              "       Temp (°C)  Dew Point Temp (°C)  ...    Season_sin  Season_cos\n",
              "0           25.0                 20.9  ...  1.224647e-16        -1.0\n",
              "1           23.5                 20.8  ...  1.224647e-16        -1.0\n",
              "2           22.9                 20.6  ...  1.224647e-16        -1.0\n",
              "3           19.9                 19.3  ...  1.224647e-16        -1.0\n",
              "4           20.1                 19.6  ...  1.224647e-16        -1.0\n",
              "...          ...                  ...  ...           ...         ...\n",
              "14611       -6.7                -11.7  ... -2.449294e-16         1.0\n",
              "14612       -7.0                -11.5  ... -2.449294e-16         1.0\n",
              "14613       -7.1                -11.2  ... -2.449294e-16         1.0\n",
              "14614       -9.1                -12.0  ... -2.449294e-16         1.0\n",
              "14615       -9.2                -12.2  ... -2.449294e-16         1.0\n",
              "\n",
              "[14616 rows x 16 columns]"
            ]
          },
          "metadata": {
            "tags": []
          },
          "execution_count": 15
        }
      ]
    },
    {
      "cell_type": "markdown",
      "metadata": {
        "id": "0aeWzpjY6732"
      },
      "source": [
        "Data Preprocessing"
      ]
    },
    {
      "cell_type": "code",
      "metadata": {
        "id": "-RKy0KJlz5av",
        "colab": {
          "base_uri": "https://localhost:8080/",
          "height": 715
        },
        "outputId": "78a1ca86-175f-4539-bc80-9eacea67af49"
      },
      "source": [
        "X = data_onehot\n",
        "Y = data_onehot[['Usage (kilowatt-hours)']]\n",
        "\n",
        "# split training, validation, test set as 60% : 20% : 20%\n",
        "X_train_full, X_test, Y_train_full, Y_test = train_test_split(X, Y, test_size=0.2, random_state=42, shuffle=False)\n",
        "\n",
        "X_train, X_valid, Y_train, Y_valid = train_test_split(X_train_full, Y_train_full, test_size=0.25, random_state=42, shuffle=False)\n",
        "\n",
        "\n",
        "print(X_train.shape)\n",
        "print(X_valid.shape)\n",
        "print(X_test.shape)\n",
        "\n",
        "# standardization\n",
        "# scalerX = StandardScaler()\n",
        "# X_train_scaled = scalerX.fit_transform(X_train)\n",
        "# X_valid_scaled = scalerX.transform(X_valid)\n",
        "# X_test_scaled = scalerX.transform(X_test)\n",
        "\n",
        "# ========= Avoid scaling on one-hot and unit-mapped features ============\n",
        "X_train_scaled = X_train.copy()\n",
        "X_valid_scaled = X_valid.copy()\n",
        "X_test_scaled = X_test.copy()\n",
        "\n",
        "scale_cols = ['Temp (°C)', 'Dew Point Temp (°C)', 'Rel Hum (%)', \n",
        "              'Wind Dir (10s deg)', 'Wind Spd (km/h)',\n",
        "              'Visibility (km)', 'Stn Press (kPa)']\n",
        "\n",
        "# previous_usage_cols = []\n",
        "# for i in range(1,steps):\n",
        "#   previous_usage_cols.append('Previous_Usage' + str(i))\n",
        "\n",
        "# scale_cols = scale_cols + previous_usage_cols\n",
        "\n",
        "for col in scale_cols:\n",
        "  scalerX = StandardScaler().fit(X_train[[col]])\n",
        "  X_train_scaled[col] = scalerX.transform(X_train_scaled[[col]])\n",
        "  X_valid_scaled[col] = scalerX.transform(X_valid_scaled[[col]])\n",
        "  X_test_scaled[col] = scalerX.transform(X_test_scaled[[col]])\n",
        "\n",
        "\n",
        "scalerY = StandardScaler()\n",
        "Y_train_scaled = scalerY.fit_transform(Y_train)\n",
        "Y_valid_scaled = scalerY.transform(Y_valid)\n",
        "Y_test_scaled = scalerY.transform(Y_test)\n",
        "\n",
        "X_train_scaled\n"
      ],
      "execution_count": 16,
      "outputs": [
        {
          "output_type": "stream",
          "text": [
            "(8769, 16)\n",
            "(2923, 16)\n",
            "(2924, 16)\n"
          ],
          "name": "stdout"
        },
        {
          "output_type": "execute_result",
          "data": {
            "text/html": [
              "<div>\n",
              "<style scoped>\n",
              "    .dataframe tbody tr th:only-of-type {\n",
              "        vertical-align: middle;\n",
              "    }\n",
              "\n",
              "    .dataframe tbody tr th {\n",
              "        vertical-align: top;\n",
              "    }\n",
              "\n",
              "    .dataframe thead th {\n",
              "        text-align: right;\n",
              "    }\n",
              "</style>\n",
              "<table border=\"1\" class=\"dataframe\">\n",
              "  <thead>\n",
              "    <tr style=\"text-align: right;\">\n",
              "      <th></th>\n",
              "      <th>Temp (°C)</th>\n",
              "      <th>Dew Point Temp (°C)</th>\n",
              "      <th>Rel Hum (%)</th>\n",
              "      <th>Wind Dir (10s deg)</th>\n",
              "      <th>Wind Spd (km/h)</th>\n",
              "      <th>Visibility (km)</th>\n",
              "      <th>Stn Press (kPa)</th>\n",
              "      <th>Usage (kilowatt-hours)</th>\n",
              "      <th>Month_sin</th>\n",
              "      <th>Month_cos</th>\n",
              "      <th>Time_sin</th>\n",
              "      <th>Time_cos</th>\n",
              "      <th>day_week_sin</th>\n",
              "      <th>day_week_cos</th>\n",
              "      <th>Season_sin</th>\n",
              "      <th>Season_cos</th>\n",
              "    </tr>\n",
              "  </thead>\n",
              "  <tbody>\n",
              "    <tr>\n",
              "      <th>0</th>\n",
              "      <td>1.531761</td>\n",
              "      <td>1.538307</td>\n",
              "      <td>-0.022151</td>\n",
              "      <td>0.049704</td>\n",
              "      <td>-0.540206</td>\n",
              "      <td>0.600902</td>\n",
              "      <td>-0.035319</td>\n",
              "      <td>3.53</td>\n",
              "      <td>-0.5</td>\n",
              "      <td>-0.866025</td>\n",
              "      <td>0.000000</td>\n",
              "      <td>1.000000e+00</td>\n",
              "      <td>-2.449294e-16</td>\n",
              "      <td>1.00000</td>\n",
              "      <td>1.224647e-16</td>\n",
              "      <td>-1.0</td>\n",
              "    </tr>\n",
              "    <tr>\n",
              "      <th>1</th>\n",
              "      <td>1.398230</td>\n",
              "      <td>1.529231</td>\n",
              "      <td>0.361727</td>\n",
              "      <td>-0.048950</td>\n",
              "      <td>-0.891786</td>\n",
              "      <td>0.600902</td>\n",
              "      <td>0.019741</td>\n",
              "      <td>3.45</td>\n",
              "      <td>-0.5</td>\n",
              "      <td>-0.866025</td>\n",
              "      <td>0.258819</td>\n",
              "      <td>9.659258e-01</td>\n",
              "      <td>-2.449294e-16</td>\n",
              "      <td>1.00000</td>\n",
              "      <td>1.224647e-16</td>\n",
              "      <td>-1.0</td>\n",
              "    </tr>\n",
              "    <tr>\n",
              "      <th>2</th>\n",
              "      <td>1.344817</td>\n",
              "      <td>1.511079</td>\n",
              "      <td>0.489686</td>\n",
              "      <td>-0.147604</td>\n",
              "      <td>-1.126172</td>\n",
              "      <td>0.600902</td>\n",
              "      <td>0.019741</td>\n",
              "      <td>3.36</td>\n",
              "      <td>-0.5</td>\n",
              "      <td>-0.866025</td>\n",
              "      <td>0.500000</td>\n",
              "      <td>8.660254e-01</td>\n",
              "      <td>-2.449294e-16</td>\n",
              "      <td>1.00000</td>\n",
              "      <td>1.224647e-16</td>\n",
              "      <td>-1.0</td>\n",
              "    </tr>\n",
              "    <tr>\n",
              "      <th>3</th>\n",
              "      <td>1.077755</td>\n",
              "      <td>1.393089</td>\n",
              "      <td>1.129482</td>\n",
              "      <td>-2.022032</td>\n",
              "      <td>-1.594945</td>\n",
              "      <td>0.600902</td>\n",
              "      <td>0.061036</td>\n",
              "      <td>2.90</td>\n",
              "      <td>-0.5</td>\n",
              "      <td>-0.866025</td>\n",
              "      <td>0.707107</td>\n",
              "      <td>7.071068e-01</td>\n",
              "      <td>-2.449294e-16</td>\n",
              "      <td>1.00000</td>\n",
              "      <td>1.224647e-16</td>\n",
              "      <td>-1.0</td>\n",
              "    </tr>\n",
              "    <tr>\n",
              "      <th>4</th>\n",
              "      <td>1.095560</td>\n",
              "      <td>1.420317</td>\n",
              "      <td>1.193462</td>\n",
              "      <td>0.542974</td>\n",
              "      <td>-1.126172</td>\n",
              "      <td>0.600902</td>\n",
              "      <td>0.005976</td>\n",
              "      <td>2.77</td>\n",
              "      <td>-0.5</td>\n",
              "      <td>-0.866025</td>\n",
              "      <td>0.866025</td>\n",
              "      <td>5.000000e-01</td>\n",
              "      <td>-2.449294e-16</td>\n",
              "      <td>1.00000</td>\n",
              "      <td>1.224647e-16</td>\n",
              "      <td>-1.0</td>\n",
              "    </tr>\n",
              "    <tr>\n",
              "      <th>...</th>\n",
              "      <td>...</td>\n",
              "      <td>...</td>\n",
              "      <td>...</td>\n",
              "      <td>...</td>\n",
              "      <td>...</td>\n",
              "      <td>...</td>\n",
              "      <td>...</td>\n",
              "      <td>...</td>\n",
              "      <td>...</td>\n",
              "      <td>...</td>\n",
              "      <td>...</td>\n",
              "      <td>...</td>\n",
              "      <td>...</td>\n",
              "      <td>...</td>\n",
              "      <td>...</td>\n",
              "      <td>...</td>\n",
              "    </tr>\n",
              "    <tr>\n",
              "      <th>8764</th>\n",
              "      <td>0.401199</td>\n",
              "      <td>0.730529</td>\n",
              "      <td>1.257442</td>\n",
              "      <td>-1.430107</td>\n",
              "      <td>-1.360558</td>\n",
              "      <td>0.600902</td>\n",
              "      <td>-0.104144</td>\n",
              "      <td>0.63</td>\n",
              "      <td>-0.5</td>\n",
              "      <td>-0.866025</td>\n",
              "      <td>0.866025</td>\n",
              "      <td>5.000000e-01</td>\n",
              "      <td>7.818315e-01</td>\n",
              "      <td>0.62349</td>\n",
              "      <td>1.224647e-16</td>\n",
              "      <td>-1.0</td>\n",
              "    </tr>\n",
              "    <tr>\n",
              "      <th>8765</th>\n",
              "      <td>0.392297</td>\n",
              "      <td>0.712377</td>\n",
              "      <td>1.257442</td>\n",
              "      <td>-1.824723</td>\n",
              "      <td>-1.360558</td>\n",
              "      <td>0.600902</td>\n",
              "      <td>0.033506</td>\n",
              "      <td>0.60</td>\n",
              "      <td>-0.5</td>\n",
              "      <td>-0.866025</td>\n",
              "      <td>0.965926</td>\n",
              "      <td>2.588190e-01</td>\n",
              "      <td>7.818315e-01</td>\n",
              "      <td>0.62349</td>\n",
              "      <td>1.224647e-16</td>\n",
              "      <td>-1.0</td>\n",
              "    </tr>\n",
              "    <tr>\n",
              "      <th>8766</th>\n",
              "      <td>0.632652</td>\n",
              "      <td>0.812215</td>\n",
              "      <td>0.617645</td>\n",
              "      <td>-1.331453</td>\n",
              "      <td>-0.891786</td>\n",
              "      <td>0.600902</td>\n",
              "      <td>0.047271</td>\n",
              "      <td>1.04</td>\n",
              "      <td>-0.5</td>\n",
              "      <td>-0.866025</td>\n",
              "      <td>1.000000</td>\n",
              "      <td>6.123234e-17</td>\n",
              "      <td>7.818315e-01</td>\n",
              "      <td>0.62349</td>\n",
              "      <td>1.224647e-16</td>\n",
              "      <td>-1.0</td>\n",
              "    </tr>\n",
              "    <tr>\n",
              "      <th>8767</th>\n",
              "      <td>0.837400</td>\n",
              "      <td>0.893900</td>\n",
              "      <td>0.105808</td>\n",
              "      <td>-1.035491</td>\n",
              "      <td>-0.657399</td>\n",
              "      <td>0.600902</td>\n",
              "      <td>0.047271</td>\n",
              "      <td>0.75</td>\n",
              "      <td>-0.5</td>\n",
              "      <td>-0.866025</td>\n",
              "      <td>0.965926</td>\n",
              "      <td>-2.588190e-01</td>\n",
              "      <td>7.818315e-01</td>\n",
              "      <td>0.62349</td>\n",
              "      <td>1.224647e-16</td>\n",
              "      <td>-1.0</td>\n",
              "    </tr>\n",
              "    <tr>\n",
              "      <th>8768</th>\n",
              "      <td>1.086657</td>\n",
              "      <td>1.057271</td>\n",
              "      <td>-0.214090</td>\n",
              "      <td>-0.443566</td>\n",
              "      <td>-0.657399</td>\n",
              "      <td>0.600902</td>\n",
              "      <td>0.019741</td>\n",
              "      <td>0.74</td>\n",
              "      <td>-0.5</td>\n",
              "      <td>-0.866025</td>\n",
              "      <td>0.866025</td>\n",
              "      <td>-5.000000e-01</td>\n",
              "      <td>7.818315e-01</td>\n",
              "      <td>0.62349</td>\n",
              "      <td>1.224647e-16</td>\n",
              "      <td>-1.0</td>\n",
              "    </tr>\n",
              "  </tbody>\n",
              "</table>\n",
              "<p>8769 rows × 16 columns</p>\n",
              "</div>"
            ],
            "text/plain": [
              "      Temp (°C)  Dew Point Temp (°C)  ...    Season_sin  Season_cos\n",
              "0      1.531761             1.538307  ...  1.224647e-16        -1.0\n",
              "1      1.398230             1.529231  ...  1.224647e-16        -1.0\n",
              "2      1.344817             1.511079  ...  1.224647e-16        -1.0\n",
              "3      1.077755             1.393089  ...  1.224647e-16        -1.0\n",
              "4      1.095560             1.420317  ...  1.224647e-16        -1.0\n",
              "...         ...                  ...  ...           ...         ...\n",
              "8764   0.401199             0.730529  ...  1.224647e-16        -1.0\n",
              "8765   0.392297             0.712377  ...  1.224647e-16        -1.0\n",
              "8766   0.632652             0.812215  ...  1.224647e-16        -1.0\n",
              "8767   0.837400             0.893900  ...  1.224647e-16        -1.0\n",
              "8768   1.086657             1.057271  ...  1.224647e-16        -1.0\n",
              "\n",
              "[8769 rows x 16 columns]"
            ]
          },
          "metadata": {
            "tags": []
          },
          "execution_count": 16
        }
      ]
    },
    {
      "cell_type": "markdown",
      "metadata": {
        "id": "n4xidaQBX7F8"
      },
      "source": [
        "Sliding Window"
      ]
    },
    {
      "cell_type": "code",
      "metadata": {
        "id": "Xn2R7fOprIMT"
      },
      "source": [
        "def generate_sliding_window(ts, ws):\r\n",
        "  data= []\r\n",
        "  for i in range(len(ts)-ws):\r\n",
        "    data.append(ts[i:i+ws])\r\n",
        "  return np.stack(data)"
      ],
      "execution_count": 17,
      "outputs": []
    },
    {
      "cell_type": "code",
      "metadata": {
        "colab": {
          "base_uri": "https://localhost:8080/"
        },
        "id": "cXpeYM5qrWm9",
        "outputId": "216f58da-b0e7-4100-98f7-5c2773c3a5db"
      },
      "source": [
        "window_size = 24\r\n",
        "\r\n",
        "X_train_scaled = generate_sliding_window(X_train_scaled, window_size)\r\n",
        "X_valid_scaled = generate_sliding_window(X_valid_scaled, window_size)\r\n",
        "X_test_scaled = generate_sliding_window(X_test_scaled, window_size)\r\n",
        "\r\n",
        "# As forecasting one single value for each series, should expect Y_train_scaled has shape [8742, 1]\r\n",
        "\r\n",
        "Y_train_scaled = Y_train_scaled[window_size:]\r\n",
        "Y_valid_scaled = Y_valid_scaled[window_size:]\r\n",
        "\r\n",
        "print(X_train_scaled.shape)\r\n",
        "print(Y_train_scaled.shape)\r\n"
      ],
      "execution_count": 18,
      "outputs": [
        {
          "output_type": "stream",
          "text": [
            "(8745, 24, 16)\n",
            "(8745, 1)\n"
          ],
          "name": "stdout"
        }
      ]
    },
    {
      "cell_type": "markdown",
      "metadata": {
        "id": "2Kf1lUbs7A2T"
      },
      "source": [
        "Modeling"
      ]
    },
    {
      "cell_type": "code",
      "metadata": {
        "colab": {
          "base_uri": "https://localhost:8080/"
        },
        "id": "fACi1v4kmfKs",
        "outputId": "6b82de38-1b51-4a21-84c8-30f3925881dd"
      },
      "source": [
        "!pip install -q -U keras-tuner\r\n",
        "import kerastuner as kt"
      ],
      "execution_count": 19,
      "outputs": [
        {
          "output_type": "stream",
          "text": [
            "\u001b[?25l\r\u001b[K     |█████▏                          | 10kB 22.9MB/s eta 0:00:01\r\u001b[K     |██████████▍                     | 20kB 27.6MB/s eta 0:00:01\r\u001b[K     |███████████████▋                | 30kB 14.3MB/s eta 0:00:01\r\u001b[K     |████████████████████▉           | 40kB 10.7MB/s eta 0:00:01\r\u001b[K     |██████████████████████████      | 51kB 9.4MB/s eta 0:00:01\r\u001b[K     |███████████████████████████████▎| 61kB 9.8MB/s eta 0:00:01\r\u001b[K     |████████████████████████████████| 71kB 5.3MB/s \n",
            "\u001b[?25h  Building wheel for keras-tuner (setup.py) ... \u001b[?25l\u001b[?25hdone\n",
            "  Building wheel for terminaltables (setup.py) ... \u001b[?25l\u001b[?25hdone\n"
          ],
          "name": "stdout"
        }
      ]
    },
    {
      "cell_type": "code",
      "metadata": {
        "id": "1wKh7CcTv3C-",
        "colab": {
          "base_uri": "https://localhost:8080/"
        },
        "outputId": "66de84a1-bb23-42b3-8c11-1b201ac91f21"
      },
      "source": [
        "# ========================= Hyper-parameters Tuning ==============================\n",
        "\n",
        "# tune batch size\n",
        "class MyTuner(kt.tuners.RandomSearch):\n",
        "  def run_trial(self, trial, *args, **kwargs):\n",
        "    # You can add additional HyperParameters for preprocessing and custom training loops\n",
        "    # via overriding `run_trial`\n",
        "    kwargs['batch_size'] = trial.hyperparameters.Choice('batch', values=[32])\n",
        "    super(MyTuner, self).run_trial(trial, *args, **kwargs)\n",
        "\n",
        "\n",
        "def build_model(hp):\n",
        "    model = keras.models.Sequential()\n",
        "\n",
        "    hp_neurons = hp.Choice('neurons', values=[32, 64])\n",
        "    hp_layers = hp.Choice('layers', values=[1, 2, 3])\n",
        "    hp_regularize = hp.Choice('regularize', values=[0.01, 0.02])\n",
        "\n",
        "    # hidden layers\n",
        "    for layer in range(hp_layers-1):\n",
        "        model.add(layers.LSTM(units=hp_neurons, return_sequences=True, activation='relu', kernel_regularizer=l2(hp_regularize)))\n",
        "\n",
        "    model.add(layers.LSTM(units=hp_neurons, return_sequences=False, activation='relu', kernel_regularizer=l2(hp_regularize)))\n",
        "\n",
        "    # output layer\n",
        "    model.add(layers.Dense(1))\n",
        "\n",
        "    optimizer = keras.optimizers.Nadam()\n",
        "    model.compile(loss='mse', optimizer=optimizer)\n",
        "    return model\n",
        "\n",
        "\n",
        "early_stopping_cb = tf.keras.callbacks.EarlyStopping(patience=15, restore_best_weights=True, mode='min')\n",
        "\n",
        "tuner = MyTuner(build_model, objective='val_loss', max_trials=15, seed=42)\n",
        "\n",
        "tuner.search(X_train_scaled, Y_train_scaled, epochs=100, validation_data=(X_valid_scaled, Y_valid_scaled), callbacks=[early_stopping_cb])"
      ],
      "execution_count": 20,
      "outputs": [
        {
          "output_type": "stream",
          "text": [
            "Trial 13 Complete [00h 03m 13s]\n",
            "val_loss: 0.5272136330604553\n",
            "\n",
            "Best val_loss So Far: 0.5183728933334351\n",
            "Total elapsed time: 00h 42m 04s\n",
            "INFO:tensorflow:Oracle triggered exit\n"
          ],
          "name": "stdout"
        }
      ]
    },
    {
      "cell_type": "code",
      "metadata": {
        "id": "TIuvCiXYrV0p",
        "colab": {
          "base_uri": "https://localhost:8080/"
        },
        "outputId": "24c14b57-69d7-40d2-c897-85755683f400"
      },
      "source": [
        "# display tuning results\n",
        "tuner.results_summary()"
      ],
      "execution_count": 21,
      "outputs": [
        {
          "output_type": "stream",
          "text": [
            "Results summary\n",
            "Results in ./untitled_project\n",
            "Showing 10 best trials\n",
            "Objective(name='val_loss', direction='min')\n",
            "Trial summary\n",
            "Hyperparameters:\n",
            "neurons: 32\n",
            "layers: 1\n",
            "regularize: 0.02\n",
            "batch: 32\n",
            "Score: 0.5183728933334351\n",
            "Trial summary\n",
            "Hyperparameters:\n",
            "neurons: 32\n",
            "layers: 1\n",
            "regularize: 0.02\n",
            "batch: 32\n",
            "Score: 0.5204318761825562\n",
            "Trial summary\n",
            "Hyperparameters:\n",
            "neurons: 64\n",
            "layers: 2\n",
            "regularize: 0.02\n",
            "batch: 32\n",
            "Score: 0.5272136330604553\n",
            "Trial summary\n",
            "Hyperparameters:\n",
            "neurons: 64\n",
            "layers: 1\n",
            "regularize: 0.01\n",
            "batch: 32\n",
            "Score: 0.5273237824440002\n",
            "Trial summary\n",
            "Hyperparameters:\n",
            "neurons: 32\n",
            "layers: 1\n",
            "regularize: 0.01\n",
            "batch: 32\n",
            "Score: 0.529946506023407\n",
            "Trial summary\n",
            "Hyperparameters:\n",
            "neurons: 32\n",
            "layers: 2\n",
            "regularize: 0.02\n",
            "batch: 32\n",
            "Score: 0.5334979891777039\n",
            "Trial summary\n",
            "Hyperparameters:\n",
            "neurons: 64\n",
            "layers: 3\n",
            "regularize: 0.02\n",
            "batch: 32\n",
            "Score: 0.5339968204498291\n",
            "Trial summary\n",
            "Hyperparameters:\n",
            "neurons: 32\n",
            "layers: 3\n",
            "regularize: 0.02\n",
            "batch: 32\n",
            "Score: 0.5351484417915344\n",
            "Trial summary\n",
            "Hyperparameters:\n",
            "neurons: 64\n",
            "layers: 1\n",
            "regularize: 0.02\n",
            "batch: 32\n",
            "Score: 0.5375020503997803\n",
            "Trial summary\n",
            "Hyperparameters:\n",
            "neurons: 64\n",
            "layers: 2\n",
            "regularize: 0.01\n",
            "batch: 32\n",
            "Score: 0.5409626364707947\n"
          ],
          "name": "stdout"
        }
      ]
    },
    {
      "cell_type": "code",
      "metadata": {
        "id": "4xe_WW59w4P6",
        "colab": {
          "base_uri": "https://localhost:8080/"
        },
        "outputId": "07bd8d9a-83ab-44a4-dfac-cd4fdc95d2a5"
      },
      "source": [
        "#Retain the optimal hyper-parameters found and re-train the model\n",
        "\n",
        "best_hps = tuner.get_best_hyperparameters(num_trials = 1)[0]\n",
        "\n",
        "model = tuner.hypermodel.build(best_hps)\n",
        "\n",
        "history = model.fit(X_train_scaled, Y_train_scaled, epochs=100, validation_data=(X_valid_scaled, Y_valid_scaled), callbacks=[early_stopping_cb])\n",
        "\n",
        "model.summary()"
      ],
      "execution_count": 22,
      "outputs": [
        {
          "output_type": "stream",
          "text": [
            "Epoch 1/100\n",
            "274/274 [==============================] - 4s 11ms/step - loss: 1.2051 - val_loss: 0.6828\n",
            "Epoch 2/100\n",
            "274/274 [==============================] - 3s 11ms/step - loss: 0.6199 - val_loss: 0.6394\n",
            "Epoch 3/100\n",
            "274/274 [==============================] - 3s 10ms/step - loss: 0.5127 - val_loss: 0.6242\n",
            "Epoch 4/100\n",
            "274/274 [==============================] - 3s 11ms/step - loss: 0.5183 - val_loss: 0.5573\n",
            "Epoch 5/100\n",
            "274/274 [==============================] - 3s 10ms/step - loss: 0.5503 - val_loss: 0.5290\n",
            "Epoch 6/100\n",
            "274/274 [==============================] - 3s 10ms/step - loss: 0.5187 - val_loss: 0.5361\n",
            "Epoch 7/100\n",
            "274/274 [==============================] - 3s 10ms/step - loss: 0.5331 - val_loss: 0.5308\n",
            "Epoch 8/100\n",
            "274/274 [==============================] - 3s 10ms/step - loss: 0.5532 - val_loss: 0.5318\n",
            "Epoch 9/100\n",
            "274/274 [==============================] - 3s 10ms/step - loss: 0.4900 - val_loss: 0.5200\n",
            "Epoch 10/100\n",
            "274/274 [==============================] - 3s 10ms/step - loss: 0.4926 - val_loss: 0.5513\n",
            "Epoch 11/100\n",
            "274/274 [==============================] - 3s 10ms/step - loss: 0.5344 - val_loss: 0.5515\n",
            "Epoch 12/100\n",
            "274/274 [==============================] - 3s 11ms/step - loss: 0.4696 - val_loss: 0.5292\n",
            "Epoch 13/100\n",
            "274/274 [==============================] - 3s 10ms/step - loss: 0.4688 - val_loss: 0.5412\n",
            "Epoch 14/100\n",
            "274/274 [==============================] - 3s 10ms/step - loss: 0.4922 - val_loss: 0.5296\n",
            "Epoch 15/100\n",
            "274/274 [==============================] - 3s 11ms/step - loss: 0.5009 - val_loss: 0.5316\n",
            "Epoch 16/100\n",
            "274/274 [==============================] - 3s 10ms/step - loss: 0.5439 - val_loss: 0.5325\n",
            "Epoch 17/100\n",
            "274/274 [==============================] - 3s 10ms/step - loss: 0.5354 - val_loss: 0.5698\n",
            "Epoch 18/100\n",
            "274/274 [==============================] - 3s 11ms/step - loss: 0.4741 - val_loss: 0.6317\n",
            "Epoch 19/100\n",
            "274/274 [==============================] - 3s 11ms/step - loss: 0.5125 - val_loss: 0.5766\n",
            "Epoch 20/100\n",
            "274/274 [==============================] - 3s 11ms/step - loss: 0.5419 - val_loss: 0.5530\n",
            "Epoch 21/100\n",
            "274/274 [==============================] - 3s 11ms/step - loss: 0.5034 - val_loss: 0.5449\n",
            "Epoch 22/100\n",
            "274/274 [==============================] - 3s 11ms/step - loss: 0.4902 - val_loss: 0.6115\n",
            "Epoch 23/100\n",
            "274/274 [==============================] - 3s 11ms/step - loss: 0.4398 - val_loss: 0.5327\n",
            "Epoch 24/100\n",
            "274/274 [==============================] - 3s 11ms/step - loss: 0.4806 - val_loss: 0.5491\n",
            "Model: \"sequential\"\n",
            "_________________________________________________________________\n",
            "Layer (type)                 Output Shape              Param #   \n",
            "=================================================================\n",
            "lstm (LSTM)                  (None, 32)                6272      \n",
            "_________________________________________________________________\n",
            "dense (Dense)                (None, 1)                 33        \n",
            "=================================================================\n",
            "Total params: 6,305\n",
            "Trainable params: 6,305\n",
            "Non-trainable params: 0\n",
            "_________________________________________________________________\n"
          ],
          "name": "stdout"
        }
      ]
    },
    {
      "cell_type": "code",
      "metadata": {
        "id": "t8XexVKM7YWx"
      },
      "source": [
        "# model = tf.keras.Sequential([\n",
        "#     layers.LSTM(32,return_sequences=True, activation='relu', kernel_regularizer=l2(0.02)),\n",
        "#     layers.LSTM(32,return_sequences=True, activation='relu', kernel_regularizer=l2(0.02)),\n",
        "#     layers.LSTM(32,return_sequences=False, activation='relu', kernel_regularizer=l2(0.02)),\n",
        "#     layers.Dense(1)\n",
        "# ])\n",
        "\n",
        "# early_stopping = tf.keras.callbacks.EarlyStopping(patience=15, mode='min', restore_best_weights=True)\n",
        "\n",
        "# model.compile(loss='mse', optimizer='Nadam', metrics=[keras.metrics.RootMeanSquaredError()])\n",
        "# history = model.fit(X_train_scaled, Y_train_scaled, epochs=100, validation_data=(X_valid_scaled, Y_valid_scaled), callbacks=[early_stopping])\n",
        "\n",
        "# model.summary()"
      ],
      "execution_count": 23,
      "outputs": []
    },
    {
      "cell_type": "markdown",
      "metadata": {
        "id": "lgCQhL6vKIxn"
      },
      "source": [
        "Plot Loss vs Epochs"
      ]
    },
    {
      "cell_type": "code",
      "metadata": {
        "id": "0Gy7ivcUKIGp",
        "colab": {
          "base_uri": "https://localhost:8080/",
          "height": 331
        },
        "outputId": "03458cd3-372b-4a32-86ee-f0f9e73a8edf"
      },
      "source": [
        "plt.plot(history.history['loss'])\n",
        "plt.plot(history.history['val_loss'])\n",
        "plt.title('Model Loss')\n",
        "plt.ylabel('Loss')\n",
        "plt.xlabel('Epoch')\n",
        "plt.legend(['Train', 'Validation'], loc='upper right')\n",
        "plt.grid(True)\n",
        "plt.show()"
      ],
      "execution_count": 24,
      "outputs": [
        {
          "output_type": "execute_result",
          "data": {
            "text/plain": [
              "[<matplotlib.lines.Line2D at 0x7fa1998d1710>]"
            ]
          },
          "metadata": {
            "tags": []
          },
          "execution_count": 24
        },
        {
          "output_type": "execute_result",
          "data": {
            "text/plain": [
              "[<matplotlib.lines.Line2D at 0x7fa199cc3ba8>]"
            ]
          },
          "metadata": {
            "tags": []
          },
          "execution_count": 24
        },
        {
          "output_type": "execute_result",
          "data": {
            "text/plain": [
              "Text(0.5, 1.0, 'Model Loss')"
            ]
          },
          "metadata": {
            "tags": []
          },
          "execution_count": 24
        },
        {
          "output_type": "execute_result",
          "data": {
            "text/plain": [
              "Text(0, 0.5, 'Loss')"
            ]
          },
          "metadata": {
            "tags": []
          },
          "execution_count": 24
        },
        {
          "output_type": "execute_result",
          "data": {
            "text/plain": [
              "Text(0.5, 0, 'Epoch')"
            ]
          },
          "metadata": {
            "tags": []
          },
          "execution_count": 24
        },
        {
          "output_type": "execute_result",
          "data": {
            "text/plain": [
              "<matplotlib.legend.Legend at 0x7fa1998d1320>"
            ]
          },
          "metadata": {
            "tags": []
          },
          "execution_count": 24
        },
        {
          "output_type": "display_data",
          "data": {
            "image/png": "[encoded data removed]",
            "text/plain": [
              "<Figure size 432x288 with 1 Axes>"
            ]
          },
          "metadata": {
            "tags": [],
            "needs_background": "light"
          }
        }
      ]
    },
    {
      "cell_type": "markdown",
      "metadata": {
        "id": "c_UzSdCboqyb"
      },
      "source": [
        "Accuracy & Evaluation"
      ]
    },
    {
      "cell_type": "code",
      "metadata": {
        "id": "8RBLih4hLT6e"
      },
      "source": [
        "Y_train = Y_train[window_size:]\n",
        "Y_test = Y_test[window_size:]"
      ],
      "execution_count": 25,
      "outputs": []
    },
    {
      "cell_type": "code",
      "metadata": {
        "id": "2RejGB3q8bUS",
        "colab": {
          "base_uri": "https://localhost:8080/",
          "height": 827
        },
        "outputId": "2f85c40d-88ef-470a-e6fb-e35641193cfe"
      },
      "source": [
        "# train set performance\n",
        "Y_train_pred_scaled = model.predict(X_train_scaled)\n",
        "print(np.shape(Y_train_pred_scaled))\n",
        "\n",
        "Y_train_pred = scalerY.inverse_transform(Y_train_pred_scaled)\n",
        "print(np.shape(Y_train_pred))\n",
        "\n",
        "Y_train = pd.DataFrame.reset_index(Y_train, drop=True)\n",
        "\n",
        "# visualize predicted vs actual in train set\n",
        "plt.figure(figsize=(10,5))\n",
        "plt.plot(Y_train, label='Actual')\n",
        "plt.plot(Y_train_pred, label='Predicted')\n",
        "plt.xlabel('index in train set')\n",
        "plt.ylabel('Consumption - kWh')\n",
        "plt.title('Predicted vs Actual in Train set')\n",
        "plt.legend(loc='upper left')\n",
        "plt.show()\n",
        "\n",
        "plt.figure(figsize=(10,5))\n",
        "plt.plot(Y_train.head(168), label='Actual')\n",
        "plt.plot(Y_train_pred[:168], label='Predicted')\n",
        "plt.xlabel('index in train set')\n",
        "plt.ylabel('Consumption - kWh')\n",
        "plt.title('Predicted vs Actual in Train set')\n",
        "plt.legend(loc='upper left')\n",
        "plt.show()"
      ],
      "execution_count": 26,
      "outputs": [
        {
          "output_type": "stream",
          "text": [
            "(8745, 1)\n",
            "(8745, 1)\n"
          ],
          "name": "stdout"
        },
        {
          "output_type": "execute_result",
          "data": {
            "text/plain": [
              "<Figure size 720x360 with 0 Axes>"
            ]
          },
          "metadata": {
            "tags": []
          },
          "execution_count": 26
        },
        {
          "output_type": "execute_result",
          "data": {
            "text/plain": [
              "[<matplotlib.lines.Line2D at 0x7fa194eb56a0>]"
            ]
          },
          "metadata": {
            "tags": []
          },
          "execution_count": 26
        },
        {
          "output_type": "execute_result",
          "data": {
            "text/plain": [
              "[<matplotlib.lines.Line2D at 0x7fa195128160>]"
            ]
          },
          "metadata": {
            "tags": []
          },
          "execution_count": 26
        },
        {
          "output_type": "execute_result",
          "data": {
            "text/plain": [
              "Text(0.5, 0, 'index in train set')"
            ]
          },
          "metadata": {
            "tags": []
          },
          "execution_count": 26
        },
        {
          "output_type": "execute_result",
          "data": {
            "text/plain": [
              "Text(0, 0.5, 'Consumption - kWh')"
            ]
          },
          "metadata": {
            "tags": []
          },
          "execution_count": 26
        },
        {
          "output_type": "execute_result",
          "data": {
            "text/plain": [
              "Text(0.5, 1.0, 'Predicted vs Actual in Train set')"
            ]
          },
          "metadata": {
            "tags": []
          },
          "execution_count": 26
        },
        {
          "output_type": "execute_result",
          "data": {
            "text/plain": [
              "<matplotlib.legend.Legend at 0x7fa199dd5048>"
            ]
          },
          "metadata": {
            "tags": []
          },
          "execution_count": 26
        },
        {
          "output_type": "display_data",
          "data": {
            "image/png": "[encoded data removed]",
            "text/plain": [
              "<Figure size 720x360 with 1 Axes>"
            ]
          },
          "metadata": {
            "tags": [],
            "needs_background": "light"
          }
        },
        {
          "output_type": "execute_result",
          "data": {
            "text/plain": [
              "<Figure size 720x360 with 0 Axes>"
            ]
          },
          "metadata": {
            "tags": []
          },
          "execution_count": 26
        },
        {
          "output_type": "execute_result",
          "data": {
            "text/plain": [
              "[<matplotlib.lines.Line2D at 0x7fa199d3f7f0>]"
            ]
          },
          "metadata": {
            "tags": []
          },
          "execution_count": 26
        },
        {
          "output_type": "execute_result",
          "data": {
            "text/plain": [
              "[<matplotlib.lines.Line2D at 0x7fa199dd9978>]"
            ]
          },
          "metadata": {
            "tags": []
          },
          "execution_count": 26
        },
        {
          "output_type": "execute_result",
          "data": {
            "text/plain": [
              "Text(0.5, 0, 'index in train set')"
            ]
          },
          "metadata": {
            "tags": []
          },
          "execution_count": 26
        },
        {
          "output_type": "execute_result",
          "data": {
            "text/plain": [
              "Text(0, 0.5, 'Consumption - kWh')"
            ]
          },
          "metadata": {
            "tags": []
          },
          "execution_count": 26
        },
        {
          "output_type": "execute_result",
          "data": {
            "text/plain": [
              "Text(0.5, 1.0, 'Predicted vs Actual in Train set')"
            ]
          },
          "metadata": {
            "tags": []
          },
          "execution_count": 26
        },
        {
          "output_type": "execute_result",
          "data": {
            "text/plain": [
              "<matplotlib.legend.Legend at 0x7fa199d6b550>"
            ]
          },
          "metadata": {
            "tags": []
          },
          "execution_count": 26
        },
        {
          "output_type": "display_data",
          "data": {
            "image/png": "[encoded data removed]",
            "text/plain": [
              "<Figure size 720x360 with 1 Axes>"
            ]
          },
          "metadata": {
            "tags": [],
            "needs_background": "light"
          }
        }
      ]
    },
    {
      "cell_type": "code",
      "metadata": {
        "id": "EjlpfrZh8rU2",
        "colab": {
          "base_uri": "https://localhost:8080/",
          "height": 827
        },
        "outputId": "b510ae5a-d894-4ec8-9e1b-f160bb8a90de"
      },
      "source": [
        "# test set performance\n",
        "Y_test_pred_scaled = model.predict(X_test_scaled)\n",
        "print(np.shape(Y_test_pred_scaled))\n",
        "\n",
        "Y_test_pred = scalerY.inverse_transform(Y_test_pred_scaled)\n",
        "print(np.shape(Y_test_pred))\n",
        "\n",
        "Y_test = pd.DataFrame.reset_index(Y_test, drop=True)\n",
        "\n",
        "# visualize predicted vs actual in test set\n",
        "plt.figure(figsize=(10,5))\n",
        "plt.plot(Y_test, label='Actual')\n",
        "plt.plot(Y_test_pred, label='Predicted')\n",
        "plt.xlabel('index in test set')\n",
        "plt.ylabel('Consumption - kWh')\n",
        "plt.title('Predicted vs Actual in Test set')\n",
        "plt.legend(loc='upper left')\n",
        "plt.show()\n",
        "\n",
        "plt.figure(figsize=(10,5))\n",
        "plt.plot(Y_test.head(168), label='Actual')\n",
        "plt.plot(Y_test_pred[:168], label='Predicted')\n",
        "plt.xlabel('index in test set')\n",
        "plt.ylabel('Consumption - kWh')\n",
        "plt.title('Predicted vs Actual in Test set')\n",
        "plt.legend(loc='upper left')\n",
        "plt.show()"
      ],
      "execution_count": 27,
      "outputs": [
        {
          "output_type": "stream",
          "text": [
            "(2900, 1)\n",
            "(2900, 1)\n"
          ],
          "name": "stdout"
        },
        {
          "output_type": "execute_result",
          "data": {
            "text/plain": [
              "<Figure size 720x360 with 0 Axes>"
            ]
          },
          "metadata": {
            "tags": []
          },
          "execution_count": 27
        },
        {
          "output_type": "execute_result",
          "data": {
            "text/plain": [
              "[<matplotlib.lines.Line2D at 0x7fa194c6a358>]"
            ]
          },
          "metadata": {
            "tags": []
          },
          "execution_count": 27
        },
        {
          "output_type": "execute_result",
          "data": {
            "text/plain": [
              "[<matplotlib.lines.Line2D at 0x7fa195001cc0>]"
            ]
          },
          "metadata": {
            "tags": []
          },
          "execution_count": 27
        },
        {
          "output_type": "execute_result",
          "data": {
            "text/plain": [
              "Text(0.5, 0, 'index in test set')"
            ]
          },
          "metadata": {
            "tags": []
          },
          "execution_count": 27
        },
        {
          "output_type": "execute_result",
          "data": {
            "text/plain": [
              "Text(0, 0.5, 'Consumption - kWh')"
            ]
          },
          "metadata": {
            "tags": []
          },
          "execution_count": 27
        },
        {
          "output_type": "execute_result",
          "data": {
            "text/plain": [
              "Text(0.5, 1.0, 'Predicted vs Actual in Test set')"
            ]
          },
          "metadata": {
            "tags": []
          },
          "execution_count": 27
        },
        {
          "output_type": "execute_result",
          "data": {
            "text/plain": [
              "<matplotlib.legend.Legend at 0x7fa195007748>"
            ]
          },
          "metadata": {
            "tags": []
          },
          "execution_count": 27
        },
        {
          "output_type": "display_data",
          "data": {
            "image/png": "[encoded data removed]",
            "text/plain": [
              "<Figure size 720x360 with 1 Axes>"
            ]
          },
          "metadata": {
            "tags": [],
            "needs_background": "light"
          }
        },
        {
          "output_type": "execute_result",
          "data": {
            "text/plain": [
              "<Figure size 720x360 with 0 Axes>"
            ]
          },
          "metadata": {
            "tags": []
          },
          "execution_count": 27
        },
        {
          "output_type": "execute_result",
          "data": {
            "text/plain": [
              "[<matplotlib.lines.Line2D at 0x7fa19a4c69b0>]"
            ]
          },
          "metadata": {
            "tags": []
          },
          "execution_count": 27
        },
        {
          "output_type": "execute_result",
          "data": {
            "text/plain": [
              "[<matplotlib.lines.Line2D at 0x7fa1950ee080>]"
            ]
          },
          "metadata": {
            "tags": []
          },
          "execution_count": 27
        },
        {
          "output_type": "execute_result",
          "data": {
            "text/plain": [
              "Text(0.5, 0, 'index in test set')"
            ]
          },
          "metadata": {
            "tags": []
          },
          "execution_count": 27
        },
        {
          "output_type": "execute_result",
          "data": {
            "text/plain": [
              "Text(0, 0.5, 'Consumption - kWh')"
            ]
          },
          "metadata": {
            "tags": []
          },
          "execution_count": 27
        },
        {
          "output_type": "execute_result",
          "data": {
            "text/plain": [
              "Text(0.5, 1.0, 'Predicted vs Actual in Test set')"
            ]
          },
          "metadata": {
            "tags": []
          },
          "execution_count": 27
        },
        {
          "output_type": "execute_result",
          "data": {
            "text/plain": [
              "<matplotlib.legend.Legend at 0x7fa19a544a58>"
            ]
          },
          "metadata": {
            "tags": []
          },
          "execution_count": 27
        },
        {
          "output_type": "display_data",
          "data": {
            "image/png": "[encoded data removed]",
            "text/plain": [
              "<Figure size 720x360 with 1 Axes>"
            ]
          },
          "metadata": {
            "tags": [],
            "needs_background": "light"
          }
        }
      ]
    },
    {
      "cell_type": "code",
      "metadata": {
        "id": "IPLNc6wsLgj5"
      },
      "source": [
        "mape = tf.keras.losses.MeanAbsolutePercentageError()"
      ],
      "execution_count": 28,
      "outputs": []
    },
    {
      "cell_type": "code",
      "metadata": {
        "id": "EKgQwFGV8nw9",
        "colab": {
          "base_uri": "https://localhost:8080/",
          "height": 79
        },
        "outputId": "b5884e99-4b9a-4799-f665-77b028c15542"
      },
      "source": [
        "# Error Metric summary\n",
        "model_performance = pd.DataFrame(columns=['Train MAE', 'Train RMSE', 'Train MAPE', 'Test MAE', 'Test RMSE', 'Test MAPE'])\n",
        "\n",
        "Train_MAE = mean_absolute_error(Y_train, Y_train_pred)\n",
        "Train_RMSE = np.sqrt(mean_squared_error(Y_train, Y_train_pred))\n",
        "Train_MAPE = mape(Y_train, Y_train_pred).numpy()\n",
        "\n",
        "Test_MAE = mean_absolute_error(Y_test, Y_test_pred)\n",
        "Test_RMSE = np.sqrt(mean_squared_error(Y_test, Y_test_pred))\n",
        "Test_MAPE = mape(Y_test, Y_test_pred).numpy()\n",
        "\n",
        "model_performance = model_performance.append({\n",
        "                        'Train MAE': Train_MAE,\n",
        "                        'Train RMSE': Train_RMSE,\n",
        "                        'Train MAPE': Train_MAPE,\n",
        "                        'Test MAE': Test_MAE,\n",
        "                        'Test RMSE': Test_RMSE,\n",
        "                        'Test MAPE': Test_MAPE,},\n",
        "                        ignore_index=True)\n",
        "\n",
        "model_performance.round(2)"
      ],
      "execution_count": 29,
      "outputs": [
        {
          "output_type": "execute_result",
          "data": {
            "text/html": [
              "<div>\n",
              "<style scoped>\n",
              "    .dataframe tbody tr th:only-of-type {\n",
              "        vertical-align: middle;\n",
              "    }\n",
              "\n",
              "    .dataframe tbody tr th {\n",
              "        vertical-align: top;\n",
              "    }\n",
              "\n",
              "    .dataframe thead th {\n",
              "        text-align: right;\n",
              "    }\n",
              "</style>\n",
              "<table border=\"1\" class=\"dataframe\">\n",
              "  <thead>\n",
              "    <tr style=\"text-align: right;\">\n",
              "      <th></th>\n",
              "      <th>Train MAE</th>\n",
              "      <th>Train RMSE</th>\n",
              "      <th>Train MAPE</th>\n",
              "      <th>Test MAE</th>\n",
              "      <th>Test RMSE</th>\n",
              "      <th>Test MAPE</th>\n",
              "    </tr>\n",
              "  </thead>\n",
              "  <tbody>\n",
              "    <tr>\n",
              "      <th>0</th>\n",
              "      <td>0.68</td>\n",
              "      <td>1.81</td>\n",
              "      <td>33.31</td>\n",
              "      <td>0.72</td>\n",
              "      <td>1.98</td>\n",
              "      <td>35.76</td>\n",
              "    </tr>\n",
              "  </tbody>\n",
              "</table>\n",
              "</div>"
            ],
            "text/plain": [
              "   Train MAE  Train RMSE  Train MAPE  Test MAE  Test RMSE  Test MAPE\n",
              "0       0.68        1.81       33.31      0.72       1.98      35.76"
            ]
          },
          "metadata": {
            "tags": []
          },
          "execution_count": 29
        }
      ]
    }
  ]
}