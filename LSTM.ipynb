{
  "nbformat": 4,
  "nbformat_minor": 0,
  "metadata": {
    "colab": {
      "name": "LSTM.ipynb",
      "provenance": [],
      "collapsed_sections": []
    },
    "kernelspec": {
      "display_name": "Python 3",
      "name": "python3"
    }
  },
  "cells": [
    {
      "cell_type": "markdown",
      "metadata": {
        "id": "-ikqIghrLbtp"
      },
      "source": [
        "ECE 9063 Data Analytics Project"
      ]
    },
    {
      "cell_type": "code",
      "metadata": {
        "id": "M2i7OmiyKisJ"
      },
      "source": [
        "!pip install -q -U keras-tuner\n",
        "import matplotlib.pyplot as plt\n",
        "import numpy as np\n",
        "import pandas as pd\n",
        "import seaborn as sns\n",
        "import os\n",
        "import tensorflow as tf\n",
        "import kerastuner as kt\n",
        "\n",
        "from tensorflow import keras\n",
        "from tensorflow.keras.regularizers import l2\n",
        "from tensorflow.keras import layers\n",
        "from tensorflow.keras.wrappers.scikit_learn import KerasRegressor\n",
        "\n",
        "from sklearn.preprocessing import StandardScaler\n",
        "from sklearn.preprocessing import MinMaxScaler\n",
        "from sklearn.metrics import mean_squared_error\n",
        "from sklearn.metrics import mean_absolute_error\n",
        "from sklearn.model_selection import RandomizedSearchCV\n",
        "from sklearn.model_selection import GridSearchCV\n",
        "from sklearn.model_selection import train_test_split\n",
        "\n",
        "from IPython.core.interactiveshell import InteractiveShell\n",
        "InteractiveShell.ast_node_interactivity = \"all\""
      ],
      "execution_count": 28,
      "outputs": []
    },
    {
      "cell_type": "markdown",
      "metadata": {
        "id": "j9O6TLc_NitT"
      },
      "source": [
        "Set Random Seeds"
      ]
    },
    {
      "cell_type": "code",
      "metadata": {
        "id": "ZdCdbh8KNlQ-"
      },
      "source": [
        "np.random.seed(42)\n",
        "tf.random.set_seed(42)"
      ],
      "execution_count": 29,
      "outputs": []
    },
    {
      "cell_type": "markdown",
      "metadata": {
        "id": "Q-wSb_-gLPxT"
      },
      "source": [
        "Importing Data"
      ]
    },
    {
      "cell_type": "code",
      "metadata": {
        "colab": {
          "base_uri": "https://localhost:8080/",
          "height": 661
        },
        "id": "-zJauRCsLSP1",
        "outputId": "1b810a6e-341a-4c30-f1a8-307a0c74c198"
      },
      "source": [
        "# ============== Importing data ======================\n",
        "featureFile = 'combined_data.csv'\n",
        "featureData = pd.read_csv(featureFile)\n",
        "\n",
        "labelFile = 'SyedHouse-GreenButton-2018-07-01-2020-02-29.csv'\n",
        "labelData = pd.read_csv(labelFile)\n",
        "\n",
        "# put feature and label in one object\n",
        "data = pd.concat([featureData, labelData['Usage (kilowatt-hours)']], axis=1)\n",
        "data"
      ],
      "execution_count": 30,
      "outputs": [
        {
          "output_type": "execute_result",
          "data": {
            "text/html": [
              "<div>\n",
              "<style scoped>\n",
              "    .dataframe tbody tr th:only-of-type {\n",
              "        vertical-align: middle;\n",
              "    }\n",
              "\n",
              "    .dataframe tbody tr th {\n",
              "        vertical-align: top;\n",
              "    }\n",
              "\n",
              "    .dataframe thead th {\n",
              "        text-align: right;\n",
              "    }\n",
              "</style>\n",
              "<table border=\"1\" class=\"dataframe\">\n",
              "  <thead>\n",
              "    <tr style=\"text-align: right;\">\n",
              "      <th></th>\n",
              "      <th>Longitude (x)</th>\n",
              "      <th>Latitude (y)</th>\n",
              "      <th>Station Name</th>\n",
              "      <th>Climate ID</th>\n",
              "      <th>Date/Time</th>\n",
              "      <th>Year</th>\n",
              "      <th>Month</th>\n",
              "      <th>Day</th>\n",
              "      <th>Time</th>\n",
              "      <th>Temp (°C)</th>\n",
              "      <th>Temp Flag</th>\n",
              "      <th>Dew Point Temp (°C)</th>\n",
              "      <th>Dew Point Temp Flag</th>\n",
              "      <th>Rel Hum (%)</th>\n",
              "      <th>Rel Hum Flag</th>\n",
              "      <th>Wind Dir (10s deg)</th>\n",
              "      <th>Wind Dir Flag</th>\n",
              "      <th>Wind Spd (km/h)</th>\n",
              "      <th>Wind Spd Flag</th>\n",
              "      <th>Visibility (km)</th>\n",
              "      <th>Visibility Flag</th>\n",
              "      <th>Stn Press (kPa)</th>\n",
              "      <th>Stn Press Flag</th>\n",
              "      <th>Hmdx</th>\n",
              "      <th>Hmdx Flag</th>\n",
              "      <th>Wind Chill</th>\n",
              "      <th>Wind Chill Flag</th>\n",
              "      <th>Weather</th>\n",
              "      <th>Usage (kilowatt-hours)</th>\n",
              "    </tr>\n",
              "  </thead>\n",
              "  <tbody>\n",
              "    <tr>\n",
              "      <th>0</th>\n",
              "      <td>-81.15</td>\n",
              "      <td>43.03</td>\n",
              "      <td>LONDON A</td>\n",
              "      <td>6144473</td>\n",
              "      <td>2018-07-01 00:00</td>\n",
              "      <td>2018</td>\n",
              "      <td>7</td>\n",
              "      <td>1</td>\n",
              "      <td>00:00</td>\n",
              "      <td>25.0</td>\n",
              "      <td>NaN</td>\n",
              "      <td>20.9</td>\n",
              "      <td>NaN</td>\n",
              "      <td>78.0</td>\n",
              "      <td>NaN</td>\n",
              "      <td>21.0</td>\n",
              "      <td>NaN</td>\n",
              "      <td>10.0</td>\n",
              "      <td>NaN</td>\n",
              "      <td>24.1</td>\n",
              "      <td>NaN</td>\n",
              "      <td>98.35</td>\n",
              "      <td>NaN</td>\n",
              "      <td>33.0</td>\n",
              "      <td>NaN</td>\n",
              "      <td>NaN</td>\n",
              "      <td>NaN</td>\n",
              "      <td>NaN</td>\n",
              "      <td>3.53</td>\n",
              "    </tr>\n",
              "    <tr>\n",
              "      <th>1</th>\n",
              "      <td>-81.15</td>\n",
              "      <td>43.03</td>\n",
              "      <td>LONDON A</td>\n",
              "      <td>6144473</td>\n",
              "      <td>2018-07-01 01:00</td>\n",
              "      <td>2018</td>\n",
              "      <td>7</td>\n",
              "      <td>1</td>\n",
              "      <td>01:00</td>\n",
              "      <td>23.5</td>\n",
              "      <td>NaN</td>\n",
              "      <td>20.8</td>\n",
              "      <td>NaN</td>\n",
              "      <td>84.0</td>\n",
              "      <td>NaN</td>\n",
              "      <td>20.0</td>\n",
              "      <td>NaN</td>\n",
              "      <td>7.0</td>\n",
              "      <td>NaN</td>\n",
              "      <td>24.1</td>\n",
              "      <td>NaN</td>\n",
              "      <td>98.39</td>\n",
              "      <td>NaN</td>\n",
              "      <td>32.0</td>\n",
              "      <td>NaN</td>\n",
              "      <td>NaN</td>\n",
              "      <td>NaN</td>\n",
              "      <td>Clear</td>\n",
              "      <td>3.45</td>\n",
              "    </tr>\n",
              "    <tr>\n",
              "      <th>2</th>\n",
              "      <td>-81.15</td>\n",
              "      <td>43.03</td>\n",
              "      <td>LONDON A</td>\n",
              "      <td>6144473</td>\n",
              "      <td>2018-07-01 02:00</td>\n",
              "      <td>2018</td>\n",
              "      <td>7</td>\n",
              "      <td>1</td>\n",
              "      <td>02:00</td>\n",
              "      <td>22.9</td>\n",
              "      <td>NaN</td>\n",
              "      <td>20.6</td>\n",
              "      <td>NaN</td>\n",
              "      <td>86.0</td>\n",
              "      <td>NaN</td>\n",
              "      <td>19.0</td>\n",
              "      <td>NaN</td>\n",
              "      <td>5.0</td>\n",
              "      <td>NaN</td>\n",
              "      <td>24.1</td>\n",
              "      <td>NaN</td>\n",
              "      <td>98.39</td>\n",
              "      <td>NaN</td>\n",
              "      <td>31.0</td>\n",
              "      <td>NaN</td>\n",
              "      <td>NaN</td>\n",
              "      <td>NaN</td>\n",
              "      <td>NaN</td>\n",
              "      <td>3.36</td>\n",
              "    </tr>\n",
              "    <tr>\n",
              "      <th>3</th>\n",
              "      <td>-81.15</td>\n",
              "      <td>43.03</td>\n",
              "      <td>LONDON A</td>\n",
              "      <td>6144473</td>\n",
              "      <td>2018-07-01 03:00</td>\n",
              "      <td>2018</td>\n",
              "      <td>7</td>\n",
              "      <td>1</td>\n",
              "      <td>03:00</td>\n",
              "      <td>19.9</td>\n",
              "      <td>NaN</td>\n",
              "      <td>19.3</td>\n",
              "      <td>NaN</td>\n",
              "      <td>96.0</td>\n",
              "      <td>NaN</td>\n",
              "      <td>0.0</td>\n",
              "      <td>NaN</td>\n",
              "      <td>1.0</td>\n",
              "      <td>NaN</td>\n",
              "      <td>24.1</td>\n",
              "      <td>NaN</td>\n",
              "      <td>98.42</td>\n",
              "      <td>NaN</td>\n",
              "      <td>NaN</td>\n",
              "      <td>NaN</td>\n",
              "      <td>NaN</td>\n",
              "      <td>NaN</td>\n",
              "      <td>NaN</td>\n",
              "      <td>2.90</td>\n",
              "    </tr>\n",
              "    <tr>\n",
              "      <th>4</th>\n",
              "      <td>-81.15</td>\n",
              "      <td>43.03</td>\n",
              "      <td>LONDON A</td>\n",
              "      <td>6144473</td>\n",
              "      <td>2018-07-01 04:00</td>\n",
              "      <td>2018</td>\n",
              "      <td>7</td>\n",
              "      <td>1</td>\n",
              "      <td>04:00</td>\n",
              "      <td>20.1</td>\n",
              "      <td>NaN</td>\n",
              "      <td>19.6</td>\n",
              "      <td>NaN</td>\n",
              "      <td>97.0</td>\n",
              "      <td>NaN</td>\n",
              "      <td>26.0</td>\n",
              "      <td>NaN</td>\n",
              "      <td>5.0</td>\n",
              "      <td>NaN</td>\n",
              "      <td>24.1</td>\n",
              "      <td>NaN</td>\n",
              "      <td>98.38</td>\n",
              "      <td>NaN</td>\n",
              "      <td>27.0</td>\n",
              "      <td>NaN</td>\n",
              "      <td>NaN</td>\n",
              "      <td>NaN</td>\n",
              "      <td>Mainly Clear</td>\n",
              "      <td>2.77</td>\n",
              "    </tr>\n",
              "    <tr>\n",
              "      <th>...</th>\n",
              "      <td>...</td>\n",
              "      <td>...</td>\n",
              "      <td>...</td>\n",
              "      <td>...</td>\n",
              "      <td>...</td>\n",
              "      <td>...</td>\n",
              "      <td>...</td>\n",
              "      <td>...</td>\n",
              "      <td>...</td>\n",
              "      <td>...</td>\n",
              "      <td>...</td>\n",
              "      <td>...</td>\n",
              "      <td>...</td>\n",
              "      <td>...</td>\n",
              "      <td>...</td>\n",
              "      <td>...</td>\n",
              "      <td>...</td>\n",
              "      <td>...</td>\n",
              "      <td>...</td>\n",
              "      <td>...</td>\n",
              "      <td>...</td>\n",
              "      <td>...</td>\n",
              "      <td>...</td>\n",
              "      <td>...</td>\n",
              "      <td>...</td>\n",
              "      <td>...</td>\n",
              "      <td>...</td>\n",
              "      <td>...</td>\n",
              "      <td>...</td>\n",
              "    </tr>\n",
              "    <tr>\n",
              "      <th>14611</th>\n",
              "      <td>-81.15</td>\n",
              "      <td>43.03</td>\n",
              "      <td>LONDON A</td>\n",
              "      <td>6144473</td>\n",
              "      <td>2020-02-29 19:00</td>\n",
              "      <td>2020</td>\n",
              "      <td>2</td>\n",
              "      <td>29</td>\n",
              "      <td>19:00</td>\n",
              "      <td>-6.7</td>\n",
              "      <td>NaN</td>\n",
              "      <td>-11.7</td>\n",
              "      <td>NaN</td>\n",
              "      <td>68.0</td>\n",
              "      <td>NaN</td>\n",
              "      <td>24.0</td>\n",
              "      <td>NaN</td>\n",
              "      <td>11.0</td>\n",
              "      <td>NaN</td>\n",
              "      <td>24.1</td>\n",
              "      <td>NaN</td>\n",
              "      <td>98.52</td>\n",
              "      <td>NaN</td>\n",
              "      <td>NaN</td>\n",
              "      <td>NaN</td>\n",
              "      <td>-12.0</td>\n",
              "      <td>NaN</td>\n",
              "      <td>Mainly Clear</td>\n",
              "      <td>0.84</td>\n",
              "    </tr>\n",
              "    <tr>\n",
              "      <th>14612</th>\n",
              "      <td>-81.15</td>\n",
              "      <td>43.03</td>\n",
              "      <td>LONDON A</td>\n",
              "      <td>6144473</td>\n",
              "      <td>2020-02-29 20:00</td>\n",
              "      <td>2020</td>\n",
              "      <td>2</td>\n",
              "      <td>29</td>\n",
              "      <td>20:00</td>\n",
              "      <td>-7.0</td>\n",
              "      <td>NaN</td>\n",
              "      <td>-11.5</td>\n",
              "      <td>NaN</td>\n",
              "      <td>71.0</td>\n",
              "      <td>NaN</td>\n",
              "      <td>23.0</td>\n",
              "      <td>NaN</td>\n",
              "      <td>11.0</td>\n",
              "      <td>NaN</td>\n",
              "      <td>24.1</td>\n",
              "      <td>NaN</td>\n",
              "      <td>98.53</td>\n",
              "      <td>NaN</td>\n",
              "      <td>NaN</td>\n",
              "      <td>NaN</td>\n",
              "      <td>-12.0</td>\n",
              "      <td>NaN</td>\n",
              "      <td>NaN</td>\n",
              "      <td>0.88</td>\n",
              "    </tr>\n",
              "    <tr>\n",
              "      <th>14613</th>\n",
              "      <td>-81.15</td>\n",
              "      <td>43.03</td>\n",
              "      <td>LONDON A</td>\n",
              "      <td>6144473</td>\n",
              "      <td>2020-02-29 21:00</td>\n",
              "      <td>2020</td>\n",
              "      <td>2</td>\n",
              "      <td>29</td>\n",
              "      <td>21:00</td>\n",
              "      <td>-7.1</td>\n",
              "      <td>NaN</td>\n",
              "      <td>-11.2</td>\n",
              "      <td>NaN</td>\n",
              "      <td>73.0</td>\n",
              "      <td>NaN</td>\n",
              "      <td>20.0</td>\n",
              "      <td>NaN</td>\n",
              "      <td>9.0</td>\n",
              "      <td>NaN</td>\n",
              "      <td>24.1</td>\n",
              "      <td>NaN</td>\n",
              "      <td>98.52</td>\n",
              "      <td>NaN</td>\n",
              "      <td>NaN</td>\n",
              "      <td>NaN</td>\n",
              "      <td>-11.0</td>\n",
              "      <td>NaN</td>\n",
              "      <td>NaN</td>\n",
              "      <td>0.98</td>\n",
              "    </tr>\n",
              "    <tr>\n",
              "      <th>14614</th>\n",
              "      <td>-81.15</td>\n",
              "      <td>43.03</td>\n",
              "      <td>LONDON A</td>\n",
              "      <td>6144473</td>\n",
              "      <td>2020-02-29 22:00</td>\n",
              "      <td>2020</td>\n",
              "      <td>2</td>\n",
              "      <td>29</td>\n",
              "      <td>22:00</td>\n",
              "      <td>-9.1</td>\n",
              "      <td>NaN</td>\n",
              "      <td>-12.0</td>\n",
              "      <td>NaN</td>\n",
              "      <td>80.0</td>\n",
              "      <td>NaN</td>\n",
              "      <td>20.0</td>\n",
              "      <td>NaN</td>\n",
              "      <td>8.0</td>\n",
              "      <td>NaN</td>\n",
              "      <td>24.1</td>\n",
              "      <td>NaN</td>\n",
              "      <td>98.52</td>\n",
              "      <td>NaN</td>\n",
              "      <td>NaN</td>\n",
              "      <td>NaN</td>\n",
              "      <td>-13.0</td>\n",
              "      <td>NaN</td>\n",
              "      <td>Clear</td>\n",
              "      <td>0.93</td>\n",
              "    </tr>\n",
              "    <tr>\n",
              "      <th>14615</th>\n",
              "      <td>-81.15</td>\n",
              "      <td>43.03</td>\n",
              "      <td>LONDON A</td>\n",
              "      <td>6144473</td>\n",
              "      <td>2020-02-29 23:00</td>\n",
              "      <td>2020</td>\n",
              "      <td>2</td>\n",
              "      <td>29</td>\n",
              "      <td>23:00</td>\n",
              "      <td>-9.2</td>\n",
              "      <td>NaN</td>\n",
              "      <td>-12.2</td>\n",
              "      <td>NaN</td>\n",
              "      <td>79.0</td>\n",
              "      <td>NaN</td>\n",
              "      <td>22.0</td>\n",
              "      <td>NaN</td>\n",
              "      <td>7.0</td>\n",
              "      <td>NaN</td>\n",
              "      <td>24.1</td>\n",
              "      <td>NaN</td>\n",
              "      <td>98.52</td>\n",
              "      <td>NaN</td>\n",
              "      <td>NaN</td>\n",
              "      <td>NaN</td>\n",
              "      <td>-13.0</td>\n",
              "      <td>NaN</td>\n",
              "      <td>NaN</td>\n",
              "      <td>6.34</td>\n",
              "    </tr>\n",
              "  </tbody>\n",
              "</table>\n",
              "<p>14616 rows × 29 columns</p>\n",
              "</div>"
            ],
            "text/plain": [
              "       Longitude (x)  Latitude (y)  ...       Weather  Usage (kilowatt-hours)\n",
              "0             -81.15         43.03  ...           NaN                    3.53\n",
              "1             -81.15         43.03  ...         Clear                    3.45\n",
              "2             -81.15         43.03  ...           NaN                    3.36\n",
              "3             -81.15         43.03  ...           NaN                    2.90\n",
              "4             -81.15         43.03  ...  Mainly Clear                    2.77\n",
              "...              ...           ...  ...           ...                     ...\n",
              "14611         -81.15         43.03  ...  Mainly Clear                    0.84\n",
              "14612         -81.15         43.03  ...           NaN                    0.88\n",
              "14613         -81.15         43.03  ...           NaN                    0.98\n",
              "14614         -81.15         43.03  ...         Clear                    0.93\n",
              "14615         -81.15         43.03  ...           NaN                    6.34\n",
              "\n",
              "[14616 rows x 29 columns]"
            ]
          },
          "metadata": {
            "tags": []
          },
          "execution_count": 30
        }
      ]
    },
    {
      "cell_type": "code",
      "metadata": {
        "colab": {
          "base_uri": "https://localhost:8080/",
          "height": 604
        },
        "id": "bs4A4El1LVJc",
        "outputId": "6806a8a5-528d-4969-df18-7f808db43fa3"
      },
      "source": [
        "plt.figure(figsize=(10,5))\n",
        "plt.plot(data['Usage (kilowatt-hours)'])\n",
        "plt.show()\n",
        "\n",
        "# close up on the first week\n",
        "plt.plot(data['Usage (kilowatt-hours)'].head(168))\n",
        "plt.show()"
      ],
      "execution_count": 31,
      "outputs": [
        {
          "output_type": "execute_result",
          "data": {
            "text/plain": [
              "<Figure size 720x360 with 0 Axes>"
            ]
          },
          "metadata": {
            "tags": []
          },
          "execution_count": 31
        },
        {
          "output_type": "execute_result",
          "data": {
            "text/plain": [
              "[<matplotlib.lines.Line2D at 0x7f16d8adf438>]"
            ]
          },
          "metadata": {
            "tags": []
          },
          "execution_count": 31
        },
        {
          "output_type": "display_data",
          "data": {
            "image/png": "[encoded data removed]",
            "text/plain": [
              "<Figure size 720x360 with 1 Axes>"
            ]
          },
          "metadata": {
            "tags": [],
            "needs_background": "light"
          }
        },
        {
          "output_type": "execute_result",
          "data": {
            "text/plain": [
              "[<matplotlib.lines.Line2D at 0x7f16cfdcd668>]"
            ]
          },
          "metadata": {
            "tags": []
          },
          "execution_count": 31
        },
        {
          "output_type": "display_data",
          "data": {
            "image/png": "[encoded data removed]",
            "text/plain": [
              "<Figure size 432x288 with 1 Axes>"
            ]
          },
          "metadata": {
            "tags": [],
            "needs_background": "light"
          }
        }
      ]
    },
    {
      "cell_type": "markdown",
      "metadata": {
        "id": "BvWxI8bXy98q"
      },
      "source": [
        "Data Cleaning"
      ]
    },
    {
      "cell_type": "code",
      "metadata": {
        "colab": {
          "base_uri": "https://localhost:8080/"
        },
        "id": "E04KQ1a2N6AL",
        "outputId": "cfe1cbc8-e5a2-4eb1-a6e3-8a6dd2a0965f"
      },
      "source": [
        "# ================= Data Cleaning =======================\n",
        "\n",
        "# drop the columns with mostly missing values\n",
        "data = data.drop(columns=[\"Temp Flag\", \"Dew Point Temp Flag\", \"Rel Hum Flag\", \"Wind Dir Flag\", \"Wind Spd Flag\",\n",
        "                   \"Visibility Flag\", \"Stn Press Flag\", \"Hmdx\", \"Hmdx Flag\", \"Wind Chill\", \"Wind Chill Flag\"])\n",
        "\n",
        "# drop columns with constant data\n",
        "data = data.drop(columns=[\"Longitude (x)\", \"Latitude (y)\", \"Station Name\", \"Climate ID\", 'Date/Time'])\n",
        "\n",
        "print(data.isnull().sum())"
      ],
      "execution_count": 32,
      "outputs": [
        {
          "output_type": "stream",
          "text": [
            "Year                         0\n",
            "Month                        0\n",
            "Day                          0\n",
            "Time                         0\n",
            "Temp (°C)                    9\n",
            "Dew Point Temp (°C)          9\n",
            "Rel Hum (%)                  9\n",
            "Wind Dir (10s deg)          19\n",
            "Wind Spd (km/h)              9\n",
            "Visibility (km)              8\n",
            "Stn Press (kPa)              9\n",
            "Weather                   7211\n",
            "Usage (kilowatt-hours)       0\n",
            "dtype: int64\n"
          ],
          "name": "stdout"
        }
      ]
    },
    {
      "cell_type": "code",
      "metadata": {
        "colab": {
          "base_uri": "https://localhost:8080/"
        },
        "id": "pPURAF8LOBB2",
        "outputId": "0d864299-8df0-4c1b-9b9c-4452c426743c"
      },
      "source": [
        "# Deal with missing values\n",
        "columns_to_clean = [\"Temp (°C)\", \"Dew Point Temp (°C)\", \"Rel Hum (%)\", \"Wind Dir (10s deg)\", \"Wind Spd (km/h)\",\n",
        "                    \"Visibility (km)\", \"Stn Press (kPa)\"]\n",
        "\n",
        "# replace with previous hour data\n",
        "for col in columns_to_clean:\n",
        "    data[col].fillna(method='ffill', inplace=True)\n",
        "\n",
        "print(data.isnull().sum())"
      ],
      "execution_count": 33,
      "outputs": [
        {
          "output_type": "stream",
          "text": [
            "Year                         0\n",
            "Month                        0\n",
            "Day                          0\n",
            "Time                         0\n",
            "Temp (°C)                    0\n",
            "Dew Point Temp (°C)          0\n",
            "Rel Hum (%)                  0\n",
            "Wind Dir (10s deg)           0\n",
            "Wind Spd (km/h)              0\n",
            "Visibility (km)              0\n",
            "Stn Press (kPa)              0\n",
            "Weather                   7211\n",
            "Usage (kilowatt-hours)       0\n",
            "dtype: int64\n"
          ],
          "name": "stdout"
        }
      ]
    },
    {
      "cell_type": "markdown",
      "metadata": {
        "id": "95vM-kC0y4Z_"
      },
      "source": [
        "Weather Attribute"
      ]
    },
    {
      "cell_type": "code",
      "metadata": {
        "colab": {
          "base_uri": "https://localhost:8080/"
        },
        "id": "sD_wHRE6OC7i",
        "outputId": "a41b7a29-1e84-42f4-9f92-38fc078e470b"
      },
      "source": [
        "# clean the \"weather\" attribute: replace missing values with previous observations\n",
        "data[\"Weather\"].fillna(method='ffill', inplace=True)\n",
        "\n",
        "print(data.isnull().sum())"
      ],
      "execution_count": 34,
      "outputs": [
        {
          "output_type": "stream",
          "text": [
            "Year                      0\n",
            "Month                     0\n",
            "Day                       0\n",
            "Time                      0\n",
            "Temp (°C)                 0\n",
            "Dew Point Temp (°C)       0\n",
            "Rel Hum (%)               0\n",
            "Wind Dir (10s deg)        0\n",
            "Wind Spd (km/h)           0\n",
            "Visibility (km)           0\n",
            "Stn Press (kPa)           0\n",
            "Weather                   1\n",
            "Usage (kilowatt-hours)    0\n",
            "dtype: int64\n"
          ],
          "name": "stdout"
        }
      ]
    },
    {
      "cell_type": "code",
      "metadata": {
        "colab": {
          "base_uri": "https://localhost:8080/",
          "height": 297
        },
        "id": "FVBmH11iEYCO",
        "outputId": "da57a988-7a3b-47f6-8f99-39b01bab1889"
      },
      "source": [
        "sns.scatterplot(data=data, x=\"Temp (°C)\", y=\"Usage (kilowatt-hours)\")"
      ],
      "execution_count": 35,
      "outputs": [
        {
          "output_type": "execute_result",
          "data": {
            "text/plain": [
              "<matplotlib.axes._subplots.AxesSubplot at 0x7f16d8ab71d0>"
            ]
          },
          "metadata": {
            "tags": []
          },
          "execution_count": 35
        },
        {
          "output_type": "display_data",
          "data": {
            "image/png": "[encoded data removed]",
            "text/plain": [
              "<Figure size 432x288 with 1 Axes>"
            ]
          },
          "metadata": {
            "tags": [],
            "needs_background": "light"
          }
        }
      ]
    },
    {
      "cell_type": "markdown",
      "metadata": {
        "id": "tnzBzPyuA_Qb"
      },
      "source": [
        "Feature Engineering"
      ]
    },
    {
      "cell_type": "markdown",
      "metadata": {
        "id": "hAYQUhh-AoVN"
      },
      "source": [
        "Hour of Day"
      ]
    },
    {
      "cell_type": "code",
      "metadata": {
        "colab": {
          "base_uri": "https://localhost:8080/",
          "height": 502
        },
        "id": "1huatERRxZRK",
        "outputId": "5d60a339-7e86-4e3d-90c7-00c70889c2c6"
      },
      "source": [
        "data['Time'] = data['Time'].apply(lambda s: float(s.split(':')[0]))\n",
        "data"
      ],
      "execution_count": 36,
      "outputs": [
        {
          "output_type": "execute_result",
          "data": {
            "text/html": [
              "<div>\n",
              "<style scoped>\n",
              "    .dataframe tbody tr th:only-of-type {\n",
              "        vertical-align: middle;\n",
              "    }\n",
              "\n",
              "    .dataframe tbody tr th {\n",
              "        vertical-align: top;\n",
              "    }\n",
              "\n",
              "    .dataframe thead th {\n",
              "        text-align: right;\n",
              "    }\n",
              "</style>\n",
              "<table border=\"1\" class=\"dataframe\">\n",
              "  <thead>\n",
              "    <tr style=\"text-align: right;\">\n",
              "      <th></th>\n",
              "      <th>Year</th>\n",
              "      <th>Month</th>\n",
              "      <th>Day</th>\n",
              "      <th>Time</th>\n",
              "      <th>Temp (°C)</th>\n",
              "      <th>Dew Point Temp (°C)</th>\n",
              "      <th>Rel Hum (%)</th>\n",
              "      <th>Wind Dir (10s deg)</th>\n",
              "      <th>Wind Spd (km/h)</th>\n",
              "      <th>Visibility (km)</th>\n",
              "      <th>Stn Press (kPa)</th>\n",
              "      <th>Weather</th>\n",
              "      <th>Usage (kilowatt-hours)</th>\n",
              "    </tr>\n",
              "  </thead>\n",
              "  <tbody>\n",
              "    <tr>\n",
              "      <th>0</th>\n",
              "      <td>2018</td>\n",
              "      <td>7</td>\n",
              "      <td>1</td>\n",
              "      <td>0.0</td>\n",
              "      <td>25.0</td>\n",
              "      <td>20.9</td>\n",
              "      <td>78.0</td>\n",
              "      <td>21.0</td>\n",
              "      <td>10.0</td>\n",
              "      <td>24.1</td>\n",
              "      <td>98.35</td>\n",
              "      <td>NaN</td>\n",
              "      <td>3.53</td>\n",
              "    </tr>\n",
              "    <tr>\n",
              "      <th>1</th>\n",
              "      <td>2018</td>\n",
              "      <td>7</td>\n",
              "      <td>1</td>\n",
              "      <td>1.0</td>\n",
              "      <td>23.5</td>\n",
              "      <td>20.8</td>\n",
              "      <td>84.0</td>\n",
              "      <td>20.0</td>\n",
              "      <td>7.0</td>\n",
              "      <td>24.1</td>\n",
              "      <td>98.39</td>\n",
              "      <td>Clear</td>\n",
              "      <td>3.45</td>\n",
              "    </tr>\n",
              "    <tr>\n",
              "      <th>2</th>\n",
              "      <td>2018</td>\n",
              "      <td>7</td>\n",
              "      <td>1</td>\n",
              "      <td>2.0</td>\n",
              "      <td>22.9</td>\n",
              "      <td>20.6</td>\n",
              "      <td>86.0</td>\n",
              "      <td>19.0</td>\n",
              "      <td>5.0</td>\n",
              "      <td>24.1</td>\n",
              "      <td>98.39</td>\n",
              "      <td>Clear</td>\n",
              "      <td>3.36</td>\n",
              "    </tr>\n",
              "    <tr>\n",
              "      <th>3</th>\n",
              "      <td>2018</td>\n",
              "      <td>7</td>\n",
              "      <td>1</td>\n",
              "      <td>3.0</td>\n",
              "      <td>19.9</td>\n",
              "      <td>19.3</td>\n",
              "      <td>96.0</td>\n",
              "      <td>0.0</td>\n",
              "      <td>1.0</td>\n",
              "      <td>24.1</td>\n",
              "      <td>98.42</td>\n",
              "      <td>Clear</td>\n",
              "      <td>2.90</td>\n",
              "    </tr>\n",
              "    <tr>\n",
              "      <th>4</th>\n",
              "      <td>2018</td>\n",
              "      <td>7</td>\n",
              "      <td>1</td>\n",
              "      <td>4.0</td>\n",
              "      <td>20.1</td>\n",
              "      <td>19.6</td>\n",
              "      <td>97.0</td>\n",
              "      <td>26.0</td>\n",
              "      <td>5.0</td>\n",
              "      <td>24.1</td>\n",
              "      <td>98.38</td>\n",
              "      <td>Mainly Clear</td>\n",
              "      <td>2.77</td>\n",
              "    </tr>\n",
              "    <tr>\n",
              "      <th>...</th>\n",
              "      <td>...</td>\n",
              "      <td>...</td>\n",
              "      <td>...</td>\n",
              "      <td>...</td>\n",
              "      <td>...</td>\n",
              "      <td>...</td>\n",
              "      <td>...</td>\n",
              "      <td>...</td>\n",
              "      <td>...</td>\n",
              "      <td>...</td>\n",
              "      <td>...</td>\n",
              "      <td>...</td>\n",
              "      <td>...</td>\n",
              "    </tr>\n",
              "    <tr>\n",
              "      <th>14611</th>\n",
              "      <td>2020</td>\n",
              "      <td>2</td>\n",
              "      <td>29</td>\n",
              "      <td>19.0</td>\n",
              "      <td>-6.7</td>\n",
              "      <td>-11.7</td>\n",
              "      <td>68.0</td>\n",
              "      <td>24.0</td>\n",
              "      <td>11.0</td>\n",
              "      <td>24.1</td>\n",
              "      <td>98.52</td>\n",
              "      <td>Mainly Clear</td>\n",
              "      <td>0.84</td>\n",
              "    </tr>\n",
              "    <tr>\n",
              "      <th>14612</th>\n",
              "      <td>2020</td>\n",
              "      <td>2</td>\n",
              "      <td>29</td>\n",
              "      <td>20.0</td>\n",
              "      <td>-7.0</td>\n",
              "      <td>-11.5</td>\n",
              "      <td>71.0</td>\n",
              "      <td>23.0</td>\n",
              "      <td>11.0</td>\n",
              "      <td>24.1</td>\n",
              "      <td>98.53</td>\n",
              "      <td>Mainly Clear</td>\n",
              "      <td>0.88</td>\n",
              "    </tr>\n",
              "    <tr>\n",
              "      <th>14613</th>\n",
              "      <td>2020</td>\n",
              "      <td>2</td>\n",
              "      <td>29</td>\n",
              "      <td>21.0</td>\n",
              "      <td>-7.1</td>\n",
              "      <td>-11.2</td>\n",
              "      <td>73.0</td>\n",
              "      <td>20.0</td>\n",
              "      <td>9.0</td>\n",
              "      <td>24.1</td>\n",
              "      <td>98.52</td>\n",
              "      <td>Mainly Clear</td>\n",
              "      <td>0.98</td>\n",
              "    </tr>\n",
              "    <tr>\n",
              "      <th>14614</th>\n",
              "      <td>2020</td>\n",
              "      <td>2</td>\n",
              "      <td>29</td>\n",
              "      <td>22.0</td>\n",
              "      <td>-9.1</td>\n",
              "      <td>-12.0</td>\n",
              "      <td>80.0</td>\n",
              "      <td>20.0</td>\n",
              "      <td>8.0</td>\n",
              "      <td>24.1</td>\n",
              "      <td>98.52</td>\n",
              "      <td>Clear</td>\n",
              "      <td>0.93</td>\n",
              "    </tr>\n",
              "    <tr>\n",
              "      <th>14615</th>\n",
              "      <td>2020</td>\n",
              "      <td>2</td>\n",
              "      <td>29</td>\n",
              "      <td>23.0</td>\n",
              "      <td>-9.2</td>\n",
              "      <td>-12.2</td>\n",
              "      <td>79.0</td>\n",
              "      <td>22.0</td>\n",
              "      <td>7.0</td>\n",
              "      <td>24.1</td>\n",
              "      <td>98.52</td>\n",
              "      <td>Clear</td>\n",
              "      <td>6.34</td>\n",
              "    </tr>\n",
              "  </tbody>\n",
              "</table>\n",
              "<p>14616 rows × 13 columns</p>\n",
              "</div>"
            ],
            "text/plain": [
              "       Year  Month  Day  ...  Stn Press (kPa)       Weather  Usage (kilowatt-hours)\n",
              "0      2018      7    1  ...            98.35           NaN                    3.53\n",
              "1      2018      7    1  ...            98.39         Clear                    3.45\n",
              "2      2018      7    1  ...            98.39         Clear                    3.36\n",
              "3      2018      7    1  ...            98.42         Clear                    2.90\n",
              "4      2018      7    1  ...            98.38  Mainly Clear                    2.77\n",
              "...     ...    ...  ...  ...              ...           ...                     ...\n",
              "14611  2020      2   29  ...            98.52  Mainly Clear                    0.84\n",
              "14612  2020      2   29  ...            98.53  Mainly Clear                    0.88\n",
              "14613  2020      2   29  ...            98.52  Mainly Clear                    0.98\n",
              "14614  2020      2   29  ...            98.52         Clear                    0.93\n",
              "14615  2020      2   29  ...            98.52         Clear                    6.34\n",
              "\n",
              "[14616 rows x 13 columns]"
            ]
          },
          "metadata": {
            "tags": []
          },
          "execution_count": 36
        }
      ]
    },
    {
      "cell_type": "markdown",
      "metadata": {
        "id": "R6FSnV9OGgJI"
      },
      "source": [
        "Day of week"
      ]
    },
    {
      "cell_type": "code",
      "metadata": {
        "colab": {
          "base_uri": "https://localhost:8080/",
          "height": 415
        },
        "id": "nfl5IHmiICKg",
        "outputId": "3cb2937f-45fd-40e0-beeb-098be287575c"
      },
      "source": [
        "day_week = []\n",
        "counter = 0\n",
        "\n",
        "for day in range(len(data)):\n",
        "  if 0<= counter <= 23:\n",
        "    day_week.append(7)\n",
        "  elif 24 <= counter <=47:\n",
        "    day_week.append(1)\n",
        "  elif 48<= counter <= 71:\n",
        "    day_week.append(2)\n",
        "  elif 72 <= counter <= 95:\n",
        "    day_week.append(3)\n",
        "  elif 96 <= counter <=119:\n",
        "    day_week.append(4)\n",
        "  elif 120 <=counter <= 143:\n",
        "    day_week.append(5)\n",
        "  elif 144 <= counter <=167:\n",
        "    day_week.append(6)\n",
        "  \n",
        "  counter += 1\n",
        "\n",
        "  if counter > 167:\n",
        "    counter = 0\n",
        "\n",
        "day_week = pd.DataFrame(data=day_week, columns=['day_week'])\n",
        "day_week\n",
        "\n",
        "data = pd.concat([data, day_week], axis=1)"
      ],
      "execution_count": 37,
      "outputs": [
        {
          "output_type": "execute_result",
          "data": {
            "text/html": [
              "<div>\n",
              "<style scoped>\n",
              "    .dataframe tbody tr th:only-of-type {\n",
              "        vertical-align: middle;\n",
              "    }\n",
              "\n",
              "    .dataframe tbody tr th {\n",
              "        vertical-align: top;\n",
              "    }\n",
              "\n",
              "    .dataframe thead th {\n",
              "        text-align: right;\n",
              "    }\n",
              "</style>\n",
              "<table border=\"1\" class=\"dataframe\">\n",
              "  <thead>\n",
              "    <tr style=\"text-align: right;\">\n",
              "      <th></th>\n",
              "      <th>day_week</th>\n",
              "    </tr>\n",
              "  </thead>\n",
              "  <tbody>\n",
              "    <tr>\n",
              "      <th>0</th>\n",
              "      <td>7</td>\n",
              "    </tr>\n",
              "    <tr>\n",
              "      <th>1</th>\n",
              "      <td>7</td>\n",
              "    </tr>\n",
              "    <tr>\n",
              "      <th>2</th>\n",
              "      <td>7</td>\n",
              "    </tr>\n",
              "    <tr>\n",
              "      <th>3</th>\n",
              "      <td>7</td>\n",
              "    </tr>\n",
              "    <tr>\n",
              "      <th>4</th>\n",
              "      <td>7</td>\n",
              "    </tr>\n",
              "    <tr>\n",
              "      <th>...</th>\n",
              "      <td>...</td>\n",
              "    </tr>\n",
              "    <tr>\n",
              "      <th>14611</th>\n",
              "      <td>6</td>\n",
              "    </tr>\n",
              "    <tr>\n",
              "      <th>14612</th>\n",
              "      <td>6</td>\n",
              "    </tr>\n",
              "    <tr>\n",
              "      <th>14613</th>\n",
              "      <td>6</td>\n",
              "    </tr>\n",
              "    <tr>\n",
              "      <th>14614</th>\n",
              "      <td>6</td>\n",
              "    </tr>\n",
              "    <tr>\n",
              "      <th>14615</th>\n",
              "      <td>6</td>\n",
              "    </tr>\n",
              "  </tbody>\n",
              "</table>\n",
              "<p>14616 rows × 1 columns</p>\n",
              "</div>"
            ],
            "text/plain": [
              "       day_week\n",
              "0             7\n",
              "1             7\n",
              "2             7\n",
              "3             7\n",
              "4             7\n",
              "...         ...\n",
              "14611         6\n",
              "14612         6\n",
              "14613         6\n",
              "14614         6\n",
              "14615         6\n",
              "\n",
              "[14616 rows x 1 columns]"
            ]
          },
          "metadata": {
            "tags": []
          },
          "execution_count": 37
        }
      ]
    },
    {
      "cell_type": "markdown",
      "metadata": {
        "id": "0VvxFLfHAtDa"
      },
      "source": [
        "Usage at previous timesteps as features"
      ]
    },
    {
      "cell_type": "code",
      "metadata": {
        "id": "d8BUKxTlAucV",
        "colab": {
          "base_uri": "https://localhost:8080/",
          "height": 626
        },
        "outputId": "cc466605-cb6f-45ba-d6db-a06a95cf7986"
      },
      "source": [
        "steps = 7\n",
        "\n",
        "for i in range(1,steps):\n",
        "  data['Previous_Usage' + str(i)] = data['Usage (kilowatt-hours)'].shift(i)\n",
        "  \n",
        "for i in range(steps-1):\n",
        "  data.drop(index=i, inplace=True)\n",
        "\n",
        "data = pd.DataFrame.reset_index(data, drop=True)\n",
        "data"
      ],
      "execution_count": 38,
      "outputs": [
        {
          "output_type": "execute_result",
          "data": {
            "text/html": [
              "<div>\n",
              "<style scoped>\n",
              "    .dataframe tbody tr th:only-of-type {\n",
              "        vertical-align: middle;\n",
              "    }\n",
              "\n",
              "    .dataframe tbody tr th {\n",
              "        vertical-align: top;\n",
              "    }\n",
              "\n",
              "    .dataframe thead th {\n",
              "        text-align: right;\n",
              "    }\n",
              "</style>\n",
              "<table border=\"1\" class=\"dataframe\">\n",
              "  <thead>\n",
              "    <tr style=\"text-align: right;\">\n",
              "      <th></th>\n",
              "      <th>Year</th>\n",
              "      <th>Month</th>\n",
              "      <th>Day</th>\n",
              "      <th>Time</th>\n",
              "      <th>Temp (°C)</th>\n",
              "      <th>Dew Point Temp (°C)</th>\n",
              "      <th>Rel Hum (%)</th>\n",
              "      <th>Wind Dir (10s deg)</th>\n",
              "      <th>Wind Spd (km/h)</th>\n",
              "      <th>Visibility (km)</th>\n",
              "      <th>Stn Press (kPa)</th>\n",
              "      <th>Weather</th>\n",
              "      <th>Usage (kilowatt-hours)</th>\n",
              "      <th>day_week</th>\n",
              "      <th>Previous_Usage1</th>\n",
              "      <th>Previous_Usage2</th>\n",
              "      <th>Previous_Usage3</th>\n",
              "      <th>Previous_Usage4</th>\n",
              "      <th>Previous_Usage5</th>\n",
              "      <th>Previous_Usage6</th>\n",
              "    </tr>\n",
              "  </thead>\n",
              "  <tbody>\n",
              "    <tr>\n",
              "      <th>0</th>\n",
              "      <td>2018</td>\n",
              "      <td>7</td>\n",
              "      <td>1</td>\n",
              "      <td>6.0</td>\n",
              "      <td>21.8</td>\n",
              "      <td>20.8</td>\n",
              "      <td>94.0</td>\n",
              "      <td>16.0</td>\n",
              "      <td>4.0</td>\n",
              "      <td>16.1</td>\n",
              "      <td>98.39</td>\n",
              "      <td>Mainly Clear</td>\n",
              "      <td>2.08</td>\n",
              "      <td>7</td>\n",
              "      <td>2.83</td>\n",
              "      <td>2.77</td>\n",
              "      <td>2.90</td>\n",
              "      <td>3.36</td>\n",
              "      <td>3.45</td>\n",
              "      <td>3.53</td>\n",
              "    </tr>\n",
              "    <tr>\n",
              "      <th>1</th>\n",
              "      <td>2018</td>\n",
              "      <td>7</td>\n",
              "      <td>1</td>\n",
              "      <td>7.0</td>\n",
              "      <td>24.8</td>\n",
              "      <td>21.8</td>\n",
              "      <td>83.0</td>\n",
              "      <td>19.0</td>\n",
              "      <td>9.0</td>\n",
              "      <td>24.1</td>\n",
              "      <td>98.43</td>\n",
              "      <td>Mainly Clear</td>\n",
              "      <td>1.18</td>\n",
              "      <td>7</td>\n",
              "      <td>2.08</td>\n",
              "      <td>2.83</td>\n",
              "      <td>2.77</td>\n",
              "      <td>2.90</td>\n",
              "      <td>3.36</td>\n",
              "      <td>3.45</td>\n",
              "    </tr>\n",
              "    <tr>\n",
              "      <th>2</th>\n",
              "      <td>2018</td>\n",
              "      <td>7</td>\n",
              "      <td>1</td>\n",
              "      <td>8.0</td>\n",
              "      <td>26.6</td>\n",
              "      <td>22.7</td>\n",
              "      <td>79.0</td>\n",
              "      <td>18.0</td>\n",
              "      <td>9.0</td>\n",
              "      <td>24.1</td>\n",
              "      <td>98.44</td>\n",
              "      <td>Mainly Clear</td>\n",
              "      <td>2.46</td>\n",
              "      <td>7</td>\n",
              "      <td>1.18</td>\n",
              "      <td>2.08</td>\n",
              "      <td>2.83</td>\n",
              "      <td>2.77</td>\n",
              "      <td>2.90</td>\n",
              "      <td>3.36</td>\n",
              "    </tr>\n",
              "    <tr>\n",
              "      <th>3</th>\n",
              "      <td>2018</td>\n",
              "      <td>7</td>\n",
              "      <td>1</td>\n",
              "      <td>9.0</td>\n",
              "      <td>28.2</td>\n",
              "      <td>23.4</td>\n",
              "      <td>75.0</td>\n",
              "      <td>18.0</td>\n",
              "      <td>14.0</td>\n",
              "      <td>24.1</td>\n",
              "      <td>98.46</td>\n",
              "      <td>Mainly Clear</td>\n",
              "      <td>2.95</td>\n",
              "      <td>7</td>\n",
              "      <td>2.46</td>\n",
              "      <td>1.18</td>\n",
              "      <td>2.08</td>\n",
              "      <td>2.83</td>\n",
              "      <td>2.77</td>\n",
              "      <td>2.90</td>\n",
              "    </tr>\n",
              "    <tr>\n",
              "      <th>4</th>\n",
              "      <td>2018</td>\n",
              "      <td>7</td>\n",
              "      <td>1</td>\n",
              "      <td>10.0</td>\n",
              "      <td>29.4</td>\n",
              "      <td>23.7</td>\n",
              "      <td>71.0</td>\n",
              "      <td>17.0</td>\n",
              "      <td>14.0</td>\n",
              "      <td>24.1</td>\n",
              "      <td>98.42</td>\n",
              "      <td>Mainly Clear</td>\n",
              "      <td>2.96</td>\n",
              "      <td>7</td>\n",
              "      <td>2.95</td>\n",
              "      <td>2.46</td>\n",
              "      <td>1.18</td>\n",
              "      <td>2.08</td>\n",
              "      <td>2.83</td>\n",
              "      <td>2.77</td>\n",
              "    </tr>\n",
              "    <tr>\n",
              "      <th>...</th>\n",
              "      <td>...</td>\n",
              "      <td>...</td>\n",
              "      <td>...</td>\n",
              "      <td>...</td>\n",
              "      <td>...</td>\n",
              "      <td>...</td>\n",
              "      <td>...</td>\n",
              "      <td>...</td>\n",
              "      <td>...</td>\n",
              "      <td>...</td>\n",
              "      <td>...</td>\n",
              "      <td>...</td>\n",
              "      <td>...</td>\n",
              "      <td>...</td>\n",
              "      <td>...</td>\n",
              "      <td>...</td>\n",
              "      <td>...</td>\n",
              "      <td>...</td>\n",
              "      <td>...</td>\n",
              "      <td>...</td>\n",
              "    </tr>\n",
              "    <tr>\n",
              "      <th>14605</th>\n",
              "      <td>2020</td>\n",
              "      <td>2</td>\n",
              "      <td>29</td>\n",
              "      <td>19.0</td>\n",
              "      <td>-6.7</td>\n",
              "      <td>-11.7</td>\n",
              "      <td>68.0</td>\n",
              "      <td>24.0</td>\n",
              "      <td>11.0</td>\n",
              "      <td>24.1</td>\n",
              "      <td>98.52</td>\n",
              "      <td>Mainly Clear</td>\n",
              "      <td>0.84</td>\n",
              "      <td>6</td>\n",
              "      <td>0.87</td>\n",
              "      <td>0.71</td>\n",
              "      <td>0.83</td>\n",
              "      <td>0.67</td>\n",
              "      <td>0.86</td>\n",
              "      <td>0.82</td>\n",
              "    </tr>\n",
              "    <tr>\n",
              "      <th>14606</th>\n",
              "      <td>2020</td>\n",
              "      <td>2</td>\n",
              "      <td>29</td>\n",
              "      <td>20.0</td>\n",
              "      <td>-7.0</td>\n",
              "      <td>-11.5</td>\n",
              "      <td>71.0</td>\n",
              "      <td>23.0</td>\n",
              "      <td>11.0</td>\n",
              "      <td>24.1</td>\n",
              "      <td>98.53</td>\n",
              "      <td>Mainly Clear</td>\n",
              "      <td>0.88</td>\n",
              "      <td>6</td>\n",
              "      <td>0.84</td>\n",
              "      <td>0.87</td>\n",
              "      <td>0.71</td>\n",
              "      <td>0.83</td>\n",
              "      <td>0.67</td>\n",
              "      <td>0.86</td>\n",
              "    </tr>\n",
              "    <tr>\n",
              "      <th>14607</th>\n",
              "      <td>2020</td>\n",
              "      <td>2</td>\n",
              "      <td>29</td>\n",
              "      <td>21.0</td>\n",
              "      <td>-7.1</td>\n",
              "      <td>-11.2</td>\n",
              "      <td>73.0</td>\n",
              "      <td>20.0</td>\n",
              "      <td>9.0</td>\n",
              "      <td>24.1</td>\n",
              "      <td>98.52</td>\n",
              "      <td>Mainly Clear</td>\n",
              "      <td>0.98</td>\n",
              "      <td>6</td>\n",
              "      <td>0.88</td>\n",
              "      <td>0.84</td>\n",
              "      <td>0.87</td>\n",
              "      <td>0.71</td>\n",
              "      <td>0.83</td>\n",
              "      <td>0.67</td>\n",
              "    </tr>\n",
              "    <tr>\n",
              "      <th>14608</th>\n",
              "      <td>2020</td>\n",
              "      <td>2</td>\n",
              "      <td>29</td>\n",
              "      <td>22.0</td>\n",
              "      <td>-9.1</td>\n",
              "      <td>-12.0</td>\n",
              "      <td>80.0</td>\n",
              "      <td>20.0</td>\n",
              "      <td>8.0</td>\n",
              "      <td>24.1</td>\n",
              "      <td>98.52</td>\n",
              "      <td>Clear</td>\n",
              "      <td>0.93</td>\n",
              "      <td>6</td>\n",
              "      <td>0.98</td>\n",
              "      <td>0.88</td>\n",
              "      <td>0.84</td>\n",
              "      <td>0.87</td>\n",
              "      <td>0.71</td>\n",
              "      <td>0.83</td>\n",
              "    </tr>\n",
              "    <tr>\n",
              "      <th>14609</th>\n",
              "      <td>2020</td>\n",
              "      <td>2</td>\n",
              "      <td>29</td>\n",
              "      <td>23.0</td>\n",
              "      <td>-9.2</td>\n",
              "      <td>-12.2</td>\n",
              "      <td>79.0</td>\n",
              "      <td>22.0</td>\n",
              "      <td>7.0</td>\n",
              "      <td>24.1</td>\n",
              "      <td>98.52</td>\n",
              "      <td>Clear</td>\n",
              "      <td>6.34</td>\n",
              "      <td>6</td>\n",
              "      <td>0.93</td>\n",
              "      <td>0.98</td>\n",
              "      <td>0.88</td>\n",
              "      <td>0.84</td>\n",
              "      <td>0.87</td>\n",
              "      <td>0.71</td>\n",
              "    </tr>\n",
              "  </tbody>\n",
              "</table>\n",
              "<p>14610 rows × 20 columns</p>\n",
              "</div>"
            ],
            "text/plain": [
              "       Year  Month  Day  ...  Previous_Usage4  Previous_Usage5  Previous_Usage6\n",
              "0      2018      7    1  ...             3.36             3.45             3.53\n",
              "1      2018      7    1  ...             2.90             3.36             3.45\n",
              "2      2018      7    1  ...             2.77             2.90             3.36\n",
              "3      2018      7    1  ...             2.83             2.77             2.90\n",
              "4      2018      7    1  ...             2.08             2.83             2.77\n",
              "...     ...    ...  ...  ...              ...              ...              ...\n",
              "14605  2020      2   29  ...             0.67             0.86             0.82\n",
              "14606  2020      2   29  ...             0.83             0.67             0.86\n",
              "14607  2020      2   29  ...             0.71             0.83             0.67\n",
              "14608  2020      2   29  ...             0.87             0.71             0.83\n",
              "14609  2020      2   29  ...             0.84             0.87             0.71\n",
              "\n",
              "[14610 rows x 20 columns]"
            ]
          },
          "metadata": {
            "tags": []
          },
          "execution_count": 38
        }
      ]
    },
    {
      "cell_type": "markdown",
      "metadata": {
        "id": "dZA7yIE5WGAA"
      },
      "source": [
        "Season Feature"
      ]
    },
    {
      "cell_type": "code",
      "metadata": {
        "colab": {
          "base_uri": "https://localhost:8080/",
          "height": 415
        },
        "id": "igBHVV1pOu6d",
        "outputId": "1decd818-6eb5-4b5a-b81b-eec5de5961dc"
      },
      "source": [
        "season = []\n",
        "for month in data['Month']:\n",
        "  if 4 <= month <= 5:\n",
        "    season.append(1)\n",
        "  elif 6 <= month <= 9:\n",
        "    season.append(2)\n",
        "  elif 10 <= month <= 11:\n",
        "    season.append(3)\n",
        "  elif 12 == month or month <= 3:\n",
        "    season.append(4)\n",
        "\n",
        "season = pd.DataFrame(data=season, columns=['Season'])\n",
        "season\n",
        "\n",
        "data = pd.concat([data, season], axis=1)"
      ],
      "execution_count": 39,
      "outputs": [
        {
          "output_type": "execute_result",
          "data": {
            "text/html": [
              "<div>\n",
              "<style scoped>\n",
              "    .dataframe tbody tr th:only-of-type {\n",
              "        vertical-align: middle;\n",
              "    }\n",
              "\n",
              "    .dataframe tbody tr th {\n",
              "        vertical-align: top;\n",
              "    }\n",
              "\n",
              "    .dataframe thead th {\n",
              "        text-align: right;\n",
              "    }\n",
              "</style>\n",
              "<table border=\"1\" class=\"dataframe\">\n",
              "  <thead>\n",
              "    <tr style=\"text-align: right;\">\n",
              "      <th></th>\n",
              "      <th>Season</th>\n",
              "    </tr>\n",
              "  </thead>\n",
              "  <tbody>\n",
              "    <tr>\n",
              "      <th>0</th>\n",
              "      <td>2</td>\n",
              "    </tr>\n",
              "    <tr>\n",
              "      <th>1</th>\n",
              "      <td>2</td>\n",
              "    </tr>\n",
              "    <tr>\n",
              "      <th>2</th>\n",
              "      <td>2</td>\n",
              "    </tr>\n",
              "    <tr>\n",
              "      <th>3</th>\n",
              "      <td>2</td>\n",
              "    </tr>\n",
              "    <tr>\n",
              "      <th>4</th>\n",
              "      <td>2</td>\n",
              "    </tr>\n",
              "    <tr>\n",
              "      <th>...</th>\n",
              "      <td>...</td>\n",
              "    </tr>\n",
              "    <tr>\n",
              "      <th>14605</th>\n",
              "      <td>4</td>\n",
              "    </tr>\n",
              "    <tr>\n",
              "      <th>14606</th>\n",
              "      <td>4</td>\n",
              "    </tr>\n",
              "    <tr>\n",
              "      <th>14607</th>\n",
              "      <td>4</td>\n",
              "    </tr>\n",
              "    <tr>\n",
              "      <th>14608</th>\n",
              "      <td>4</td>\n",
              "    </tr>\n",
              "    <tr>\n",
              "      <th>14609</th>\n",
              "      <td>4</td>\n",
              "    </tr>\n",
              "  </tbody>\n",
              "</table>\n",
              "<p>14610 rows × 1 columns</p>\n",
              "</div>"
            ],
            "text/plain": [
              "       Season\n",
              "0           2\n",
              "1           2\n",
              "2           2\n",
              "3           2\n",
              "4           2\n",
              "...       ...\n",
              "14605       4\n",
              "14606       4\n",
              "14607       4\n",
              "14608       4\n",
              "14609       4\n",
              "\n",
              "[14610 rows x 1 columns]"
            ]
          },
          "metadata": {
            "tags": []
          },
          "execution_count": 39
        }
      ]
    },
    {
      "cell_type": "markdown",
      "metadata": {
        "id": "EtRXlp8kZPZb"
      },
      "source": [
        "Unit Circle Mapping for Cyclical Features"
      ]
    },
    {
      "cell_type": "code",
      "metadata": {
        "id": "IswOibaqZRV4"
      },
      "source": [
        "def encode_cyclical(data, col, max_val):\n",
        "  data[col + '_sin'] = np.sin(2*np.pi*data[col]/max_val)\n",
        "  data[col + '_cos'] = np.cos(2*np.pi*data[col]/max_val)\n",
        "\n",
        "  data.drop(columns=[col], inplace=True)\n",
        "  return data\n",
        "\n",
        "\n",
        "data = encode_cyclical(data, 'Month', 12)\n",
        "data = encode_cyclical(data, 'Time', 24)\n",
        "data = encode_cyclical(data, 'day_week', 7)\n",
        "data = encode_cyclical(data, 'Season', 4)"
      ],
      "execution_count": 40,
      "outputs": []
    },
    {
      "cell_type": "code",
      "metadata": {
        "colab": {
          "base_uri": "https://localhost:8080/",
          "height": 661
        },
        "id": "bv-QYa7oxh9k",
        "outputId": "cdde63a5-9ba1-43c5-e8f4-8eebcff85383"
      },
      "source": [
        "data_onehot = data.copy()\n",
        "\n",
        "# Discard Weather and Year feature\n",
        "data_onehot = data_onehot.drop(columns=['Weather', 'Year', 'Day'], axis=1)\n",
        "\n",
        "data_onehot"
      ],
      "execution_count": 41,
      "outputs": [
        {
          "output_type": "execute_result",
          "data": {
            "text/html": [
              "<div>\n",
              "<style scoped>\n",
              "    .dataframe tbody tr th:only-of-type {\n",
              "        vertical-align: middle;\n",
              "    }\n",
              "\n",
              "    .dataframe tbody tr th {\n",
              "        vertical-align: top;\n",
              "    }\n",
              "\n",
              "    .dataframe thead th {\n",
              "        text-align: right;\n",
              "    }\n",
              "</style>\n",
              "<table border=\"1\" class=\"dataframe\">\n",
              "  <thead>\n",
              "    <tr style=\"text-align: right;\">\n",
              "      <th></th>\n",
              "      <th>Temp (°C)</th>\n",
              "      <th>Dew Point Temp (°C)</th>\n",
              "      <th>Rel Hum (%)</th>\n",
              "      <th>Wind Dir (10s deg)</th>\n",
              "      <th>Wind Spd (km/h)</th>\n",
              "      <th>Visibility (km)</th>\n",
              "      <th>Stn Press (kPa)</th>\n",
              "      <th>Usage (kilowatt-hours)</th>\n",
              "      <th>Previous_Usage1</th>\n",
              "      <th>Previous_Usage2</th>\n",
              "      <th>Previous_Usage3</th>\n",
              "      <th>Previous_Usage4</th>\n",
              "      <th>Previous_Usage5</th>\n",
              "      <th>Previous_Usage6</th>\n",
              "      <th>Month_sin</th>\n",
              "      <th>Month_cos</th>\n",
              "      <th>Time_sin</th>\n",
              "      <th>Time_cos</th>\n",
              "      <th>day_week_sin</th>\n",
              "      <th>day_week_cos</th>\n",
              "      <th>Season_sin</th>\n",
              "      <th>Season_cos</th>\n",
              "    </tr>\n",
              "  </thead>\n",
              "  <tbody>\n",
              "    <tr>\n",
              "      <th>0</th>\n",
              "      <td>21.8</td>\n",
              "      <td>20.8</td>\n",
              "      <td>94.0</td>\n",
              "      <td>16.0</td>\n",
              "      <td>4.0</td>\n",
              "      <td>16.1</td>\n",
              "      <td>98.39</td>\n",
              "      <td>2.08</td>\n",
              "      <td>2.83</td>\n",
              "      <td>2.77</td>\n",
              "      <td>2.90</td>\n",
              "      <td>3.36</td>\n",
              "      <td>3.45</td>\n",
              "      <td>3.53</td>\n",
              "      <td>-0.500000</td>\n",
              "      <td>-0.866025</td>\n",
              "      <td>1.000000</td>\n",
              "      <td>6.123234e-17</td>\n",
              "      <td>-2.449294e-16</td>\n",
              "      <td>1.00000</td>\n",
              "      <td>1.224647e-16</td>\n",
              "      <td>-1.0</td>\n",
              "    </tr>\n",
              "    <tr>\n",
              "      <th>1</th>\n",
              "      <td>24.8</td>\n",
              "      <td>21.8</td>\n",
              "      <td>83.0</td>\n",
              "      <td>19.0</td>\n",
              "      <td>9.0</td>\n",
              "      <td>24.1</td>\n",
              "      <td>98.43</td>\n",
              "      <td>1.18</td>\n",
              "      <td>2.08</td>\n",
              "      <td>2.83</td>\n",
              "      <td>2.77</td>\n",
              "      <td>2.90</td>\n",
              "      <td>3.36</td>\n",
              "      <td>3.45</td>\n",
              "      <td>-0.500000</td>\n",
              "      <td>-0.866025</td>\n",
              "      <td>0.965926</td>\n",
              "      <td>-2.588190e-01</td>\n",
              "      <td>-2.449294e-16</td>\n",
              "      <td>1.00000</td>\n",
              "      <td>1.224647e-16</td>\n",
              "      <td>-1.0</td>\n",
              "    </tr>\n",
              "    <tr>\n",
              "      <th>2</th>\n",
              "      <td>26.6</td>\n",
              "      <td>22.7</td>\n",
              "      <td>79.0</td>\n",
              "      <td>18.0</td>\n",
              "      <td>9.0</td>\n",
              "      <td>24.1</td>\n",
              "      <td>98.44</td>\n",
              "      <td>2.46</td>\n",
              "      <td>1.18</td>\n",
              "      <td>2.08</td>\n",
              "      <td>2.83</td>\n",
              "      <td>2.77</td>\n",
              "      <td>2.90</td>\n",
              "      <td>3.36</td>\n",
              "      <td>-0.500000</td>\n",
              "      <td>-0.866025</td>\n",
              "      <td>0.866025</td>\n",
              "      <td>-5.000000e-01</td>\n",
              "      <td>-2.449294e-16</td>\n",
              "      <td>1.00000</td>\n",
              "      <td>1.224647e-16</td>\n",
              "      <td>-1.0</td>\n",
              "    </tr>\n",
              "    <tr>\n",
              "      <th>3</th>\n",
              "      <td>28.2</td>\n",
              "      <td>23.4</td>\n",
              "      <td>75.0</td>\n",
              "      <td>18.0</td>\n",
              "      <td>14.0</td>\n",
              "      <td>24.1</td>\n",
              "      <td>98.46</td>\n",
              "      <td>2.95</td>\n",
              "      <td>2.46</td>\n",
              "      <td>1.18</td>\n",
              "      <td>2.08</td>\n",
              "      <td>2.83</td>\n",
              "      <td>2.77</td>\n",
              "      <td>2.90</td>\n",
              "      <td>-0.500000</td>\n",
              "      <td>-0.866025</td>\n",
              "      <td>0.707107</td>\n",
              "      <td>-7.071068e-01</td>\n",
              "      <td>-2.449294e-16</td>\n",
              "      <td>1.00000</td>\n",
              "      <td>1.224647e-16</td>\n",
              "      <td>-1.0</td>\n",
              "    </tr>\n",
              "    <tr>\n",
              "      <th>4</th>\n",
              "      <td>29.4</td>\n",
              "      <td>23.7</td>\n",
              "      <td>71.0</td>\n",
              "      <td>17.0</td>\n",
              "      <td>14.0</td>\n",
              "      <td>24.1</td>\n",
              "      <td>98.42</td>\n",
              "      <td>2.96</td>\n",
              "      <td>2.95</td>\n",
              "      <td>2.46</td>\n",
              "      <td>1.18</td>\n",
              "      <td>2.08</td>\n",
              "      <td>2.83</td>\n",
              "      <td>2.77</td>\n",
              "      <td>-0.500000</td>\n",
              "      <td>-0.866025</td>\n",
              "      <td>0.500000</td>\n",
              "      <td>-8.660254e-01</td>\n",
              "      <td>-2.449294e-16</td>\n",
              "      <td>1.00000</td>\n",
              "      <td>1.224647e-16</td>\n",
              "      <td>-1.0</td>\n",
              "    </tr>\n",
              "    <tr>\n",
              "      <th>...</th>\n",
              "      <td>...</td>\n",
              "      <td>...</td>\n",
              "      <td>...</td>\n",
              "      <td>...</td>\n",
              "      <td>...</td>\n",
              "      <td>...</td>\n",
              "      <td>...</td>\n",
              "      <td>...</td>\n",
              "      <td>...</td>\n",
              "      <td>...</td>\n",
              "      <td>...</td>\n",
              "      <td>...</td>\n",
              "      <td>...</td>\n",
              "      <td>...</td>\n",
              "      <td>...</td>\n",
              "      <td>...</td>\n",
              "      <td>...</td>\n",
              "      <td>...</td>\n",
              "      <td>...</td>\n",
              "      <td>...</td>\n",
              "      <td>...</td>\n",
              "      <td>...</td>\n",
              "    </tr>\n",
              "    <tr>\n",
              "      <th>14605</th>\n",
              "      <td>-6.7</td>\n",
              "      <td>-11.7</td>\n",
              "      <td>68.0</td>\n",
              "      <td>24.0</td>\n",
              "      <td>11.0</td>\n",
              "      <td>24.1</td>\n",
              "      <td>98.52</td>\n",
              "      <td>0.84</td>\n",
              "      <td>0.87</td>\n",
              "      <td>0.71</td>\n",
              "      <td>0.83</td>\n",
              "      <td>0.67</td>\n",
              "      <td>0.86</td>\n",
              "      <td>0.82</td>\n",
              "      <td>0.866025</td>\n",
              "      <td>0.500000</td>\n",
              "      <td>-0.965926</td>\n",
              "      <td>2.588190e-01</td>\n",
              "      <td>-7.818315e-01</td>\n",
              "      <td>0.62349</td>\n",
              "      <td>-2.449294e-16</td>\n",
              "      <td>1.0</td>\n",
              "    </tr>\n",
              "    <tr>\n",
              "      <th>14606</th>\n",
              "      <td>-7.0</td>\n",
              "      <td>-11.5</td>\n",
              "      <td>71.0</td>\n",
              "      <td>23.0</td>\n",
              "      <td>11.0</td>\n",
              "      <td>24.1</td>\n",
              "      <td>98.53</td>\n",
              "      <td>0.88</td>\n",
              "      <td>0.84</td>\n",
              "      <td>0.87</td>\n",
              "      <td>0.71</td>\n",
              "      <td>0.83</td>\n",
              "      <td>0.67</td>\n",
              "      <td>0.86</td>\n",
              "      <td>0.866025</td>\n",
              "      <td>0.500000</td>\n",
              "      <td>-0.866025</td>\n",
              "      <td>5.000000e-01</td>\n",
              "      <td>-7.818315e-01</td>\n",
              "      <td>0.62349</td>\n",
              "      <td>-2.449294e-16</td>\n",
              "      <td>1.0</td>\n",
              "    </tr>\n",
              "    <tr>\n",
              "      <th>14607</th>\n",
              "      <td>-7.1</td>\n",
              "      <td>-11.2</td>\n",
              "      <td>73.0</td>\n",
              "      <td>20.0</td>\n",
              "      <td>9.0</td>\n",
              "      <td>24.1</td>\n",
              "      <td>98.52</td>\n",
              "      <td>0.98</td>\n",
              "      <td>0.88</td>\n",
              "      <td>0.84</td>\n",
              "      <td>0.87</td>\n",
              "      <td>0.71</td>\n",
              "      <td>0.83</td>\n",
              "      <td>0.67</td>\n",
              "      <td>0.866025</td>\n",
              "      <td>0.500000</td>\n",
              "      <td>-0.707107</td>\n",
              "      <td>7.071068e-01</td>\n",
              "      <td>-7.818315e-01</td>\n",
              "      <td>0.62349</td>\n",
              "      <td>-2.449294e-16</td>\n",
              "      <td>1.0</td>\n",
              "    </tr>\n",
              "    <tr>\n",
              "      <th>14608</th>\n",
              "      <td>-9.1</td>\n",
              "      <td>-12.0</td>\n",
              "      <td>80.0</td>\n",
              "      <td>20.0</td>\n",
              "      <td>8.0</td>\n",
              "      <td>24.1</td>\n",
              "      <td>98.52</td>\n",
              "      <td>0.93</td>\n",
              "      <td>0.98</td>\n",
              "      <td>0.88</td>\n",
              "      <td>0.84</td>\n",
              "      <td>0.87</td>\n",
              "      <td>0.71</td>\n",
              "      <td>0.83</td>\n",
              "      <td>0.866025</td>\n",
              "      <td>0.500000</td>\n",
              "      <td>-0.500000</td>\n",
              "      <td>8.660254e-01</td>\n",
              "      <td>-7.818315e-01</td>\n",
              "      <td>0.62349</td>\n",
              "      <td>-2.449294e-16</td>\n",
              "      <td>1.0</td>\n",
              "    </tr>\n",
              "    <tr>\n",
              "      <th>14609</th>\n",
              "      <td>-9.2</td>\n",
              "      <td>-12.2</td>\n",
              "      <td>79.0</td>\n",
              "      <td>22.0</td>\n",
              "      <td>7.0</td>\n",
              "      <td>24.1</td>\n",
              "      <td>98.52</td>\n",
              "      <td>6.34</td>\n",
              "      <td>0.93</td>\n",
              "      <td>0.98</td>\n",
              "      <td>0.88</td>\n",
              "      <td>0.84</td>\n",
              "      <td>0.87</td>\n",
              "      <td>0.71</td>\n",
              "      <td>0.866025</td>\n",
              "      <td>0.500000</td>\n",
              "      <td>-0.258819</td>\n",
              "      <td>9.659258e-01</td>\n",
              "      <td>-7.818315e-01</td>\n",
              "      <td>0.62349</td>\n",
              "      <td>-2.449294e-16</td>\n",
              "      <td>1.0</td>\n",
              "    </tr>\n",
              "  </tbody>\n",
              "</table>\n",
              "<p>14610 rows × 22 columns</p>\n",
              "</div>"
            ],
            "text/plain": [
              "       Temp (°C)  Dew Point Temp (°C)  ...    Season_sin  Season_cos\n",
              "0           21.8                 20.8  ...  1.224647e-16        -1.0\n",
              "1           24.8                 21.8  ...  1.224647e-16        -1.0\n",
              "2           26.6                 22.7  ...  1.224647e-16        -1.0\n",
              "3           28.2                 23.4  ...  1.224647e-16        -1.0\n",
              "4           29.4                 23.7  ...  1.224647e-16        -1.0\n",
              "...          ...                  ...  ...           ...         ...\n",
              "14605       -6.7                -11.7  ... -2.449294e-16         1.0\n",
              "14606       -7.0                -11.5  ... -2.449294e-16         1.0\n",
              "14607       -7.1                -11.2  ... -2.449294e-16         1.0\n",
              "14608       -9.1                -12.0  ... -2.449294e-16         1.0\n",
              "14609       -9.2                -12.2  ... -2.449294e-16         1.0\n",
              "\n",
              "[14610 rows x 22 columns]"
            ]
          },
          "metadata": {
            "tags": []
          },
          "execution_count": 41
        }
      ]
    },
    {
      "cell_type": "markdown",
      "metadata": {
        "id": "0aeWzpjY6732"
      },
      "source": [
        "Data Preprocessing"
      ]
    },
    {
      "cell_type": "code",
      "metadata": {
        "id": "-RKy0KJlz5av",
        "colab": {
          "base_uri": "https://localhost:8080/",
          "height": 715
        },
        "outputId": "227f350d-515f-478b-f038-356a600f01d6"
      },
      "source": [
        "X = data_onehot.drop(columns=['Usage (kilowatt-hours)'], axis=1)\n",
        "Y = data_onehot[['Usage (kilowatt-hours)']]\n",
        "\n",
        "# split training, validation, test set as 60% : 20% : 20%\n",
        "X_train_full, X_test, Y_train_full, Y_test = train_test_split(X, Y, test_size=0.2, random_state=42, shuffle=False)\n",
        "\n",
        "X_train, X_valid, Y_train, Y_valid = train_test_split(X_train_full, Y_train_full, test_size=0.25, random_state=42, shuffle=False)\n",
        "\n",
        "\n",
        "print(X_train.shape)\n",
        "print(X_valid.shape)\n",
        "print(X_test.shape)\n",
        "\n",
        "# standardization\n",
        "# scalerX = StandardScaler()\n",
        "# X_train_scaled = scalerX.fit_transform(X_train)\n",
        "# X_valid_scaled = scalerX.transform(X_valid)\n",
        "# X_test_scaled = scalerX.transform(X_test)\n",
        "\n",
        "# ========= Avoid scaling on one-hot and unit-mapped features ============\n",
        "X_train_scaled = X_train.copy()\n",
        "X_valid_scaled = X_valid.copy()\n",
        "X_test_scaled = X_test.copy()\n",
        "\n",
        "scale_cols = ['Temp (°C)', 'Dew Point Temp (°C)', 'Rel Hum (%)', \n",
        "              'Wind Dir (10s deg)', 'Wind Spd (km/h)',\n",
        "              'Visibility (km)', 'Stn Press (kPa)']\n",
        "\n",
        "previous_usage_cols = []\n",
        "for i in range(1,steps):\n",
        "  previous_usage_cols.append('Previous_Usage' + str(i))\n",
        "\n",
        "\n",
        "scale_cols = scale_cols + previous_usage_cols\n",
        "\n",
        "for col in scale_cols:\n",
        "  scalerX = StandardScaler().fit(X_train[[col]])\n",
        "  X_train_scaled[col] = scalerX.transform(X_train_scaled[[col]])\n",
        "  X_valid_scaled[col] = scalerX.transform(X_valid_scaled[[col]])\n",
        "  X_test_scaled[col] = scalerX.transform(X_test_scaled[[col]])\n",
        "\n",
        "\n",
        "scalerY = StandardScaler()\n",
        "Y_train_scaled = scalerY.fit_transform(Y_train)\n",
        "Y_valid_scaled = scalerY.transform(Y_valid)\n",
        "Y_test_scaled = scalerY.transform(Y_test)\n",
        "\n",
        "X_train_scaled\n"
      ],
      "execution_count": 42,
      "outputs": [
        {
          "output_type": "stream",
          "text": [
            "(8766, 21)\n",
            "(2922, 21)\n",
            "(2922, 21)\n"
          ],
          "name": "stdout"
        },
        {
          "output_type": "execute_result",
          "data": {
            "text/html": [
              "<div>\n",
              "<style scoped>\n",
              "    .dataframe tbody tr th:only-of-type {\n",
              "        vertical-align: middle;\n",
              "    }\n",
              "\n",
              "    .dataframe tbody tr th {\n",
              "        vertical-align: top;\n",
              "    }\n",
              "\n",
              "    .dataframe thead th {\n",
              "        text-align: right;\n",
              "    }\n",
              "</style>\n",
              "<table border=\"1\" class=\"dataframe\">\n",
              "  <thead>\n",
              "    <tr style=\"text-align: right;\">\n",
              "      <th></th>\n",
              "      <th>Temp (°C)</th>\n",
              "      <th>Dew Point Temp (°C)</th>\n",
              "      <th>Rel Hum (%)</th>\n",
              "      <th>Wind Dir (10s deg)</th>\n",
              "      <th>Wind Spd (km/h)</th>\n",
              "      <th>Visibility (km)</th>\n",
              "      <th>Stn Press (kPa)</th>\n",
              "      <th>Previous_Usage1</th>\n",
              "      <th>Previous_Usage2</th>\n",
              "      <th>Previous_Usage3</th>\n",
              "      <th>Previous_Usage4</th>\n",
              "      <th>Previous_Usage5</th>\n",
              "      <th>Previous_Usage6</th>\n",
              "      <th>Month_sin</th>\n",
              "      <th>Month_cos</th>\n",
              "      <th>Time_sin</th>\n",
              "      <th>Time_cos</th>\n",
              "      <th>day_week_sin</th>\n",
              "      <th>day_week_cos</th>\n",
              "      <th>Season_sin</th>\n",
              "      <th>Season_cos</th>\n",
              "    </tr>\n",
              "  </thead>\n",
              "  <tbody>\n",
              "    <tr>\n",
              "      <th>0</th>\n",
              "      <td>1.247307</td>\n",
              "      <td>1.530523</td>\n",
              "      <td>1.002203</td>\n",
              "      <td>-0.444096</td>\n",
              "      <td>-1.244063</td>\n",
              "      <td>-0.508403</td>\n",
              "      <td>0.019740</td>\n",
              "      <td>0.333148</td>\n",
              "      <td>0.309900</td>\n",
              "      <td>0.360223</td>\n",
              "      <td>0.538298</td>\n",
              "      <td>0.573039</td>\n",
              "      <td>0.603910</td>\n",
              "      <td>-0.5</td>\n",
              "      <td>-0.866025</td>\n",
              "      <td>1.000000</td>\n",
              "      <td>6.123234e-17</td>\n",
              "      <td>-2.449294e-16</td>\n",
              "      <td>1.00000</td>\n",
              "      <td>1.224647e-16</td>\n",
              "      <td>-1.0</td>\n",
              "    </tr>\n",
              "    <tr>\n",
              "      <th>1</th>\n",
              "      <td>1.514377</td>\n",
              "      <td>1.621321</td>\n",
              "      <td>0.298641</td>\n",
              "      <td>-0.148107</td>\n",
              "      <td>-0.658006</td>\n",
              "      <td>0.600954</td>\n",
              "      <td>0.074790</td>\n",
              "      <td>0.042615</td>\n",
              "      <td>0.333143</td>\n",
              "      <td>0.309864</td>\n",
              "      <td>0.360106</td>\n",
              "      <td>0.538175</td>\n",
              "      <td>0.572921</td>\n",
              "      <td>-0.5</td>\n",
              "      <td>-0.866025</td>\n",
              "      <td>0.965926</td>\n",
              "      <td>-2.588190e-01</td>\n",
              "      <td>-2.449294e-16</td>\n",
              "      <td>1.00000</td>\n",
              "      <td>1.224647e-16</td>\n",
              "      <td>-1.0</td>\n",
              "    </tr>\n",
              "    <tr>\n",
              "      <th>2</th>\n",
              "      <td>1.674619</td>\n",
              "      <td>1.703040</td>\n",
              "      <td>0.042801</td>\n",
              "      <td>-0.246770</td>\n",
              "      <td>-0.658006</td>\n",
              "      <td>0.600954</td>\n",
              "      <td>0.088553</td>\n",
              "      <td>-0.306026</td>\n",
              "      <td>0.042610</td>\n",
              "      <td>0.333107</td>\n",
              "      <td>0.309747</td>\n",
              "      <td>0.359984</td>\n",
              "      <td>0.538058</td>\n",
              "      <td>-0.5</td>\n",
              "      <td>-0.866025</td>\n",
              "      <td>0.866025</td>\n",
              "      <td>-5.000000e-01</td>\n",
              "      <td>-2.449294e-16</td>\n",
              "      <td>1.00000</td>\n",
              "      <td>1.224647e-16</td>\n",
              "      <td>-1.0</td>\n",
              "    </tr>\n",
              "    <tr>\n",
              "      <th>3</th>\n",
              "      <td>1.817056</td>\n",
              "      <td>1.766598</td>\n",
              "      <td>-0.213040</td>\n",
              "      <td>-0.246770</td>\n",
              "      <td>-0.071950</td>\n",
              "      <td>0.600954</td>\n",
              "      <td>0.116078</td>\n",
              "      <td>0.189818</td>\n",
              "      <td>-0.306030</td>\n",
              "      <td>0.042575</td>\n",
              "      <td>0.332990</td>\n",
              "      <td>0.309626</td>\n",
              "      <td>0.359870</td>\n",
              "      <td>-0.5</td>\n",
              "      <td>-0.866025</td>\n",
              "      <td>0.707107</td>\n",
              "      <td>-7.071068e-01</td>\n",
              "      <td>-2.449294e-16</td>\n",
              "      <td>1.00000</td>\n",
              "      <td>1.224647e-16</td>\n",
              "      <td>-1.0</td>\n",
              "    </tr>\n",
              "    <tr>\n",
              "      <th>4</th>\n",
              "      <td>1.923885</td>\n",
              "      <td>1.793838</td>\n",
              "      <td>-0.468881</td>\n",
              "      <td>-0.345433</td>\n",
              "      <td>-0.071950</td>\n",
              "      <td>0.600954</td>\n",
              "      <td>0.061028</td>\n",
              "      <td>0.379634</td>\n",
              "      <td>0.189813</td>\n",
              "      <td>-0.306062</td>\n",
              "      <td>0.042460</td>\n",
              "      <td>0.332868</td>\n",
              "      <td>0.309512</td>\n",
              "      <td>-0.5</td>\n",
              "      <td>-0.866025</td>\n",
              "      <td>0.500000</td>\n",
              "      <td>-8.660254e-01</td>\n",
              "      <td>-2.449294e-16</td>\n",
              "      <td>1.00000</td>\n",
              "      <td>1.224647e-16</td>\n",
              "      <td>-1.0</td>\n",
              "    </tr>\n",
              "    <tr>\n",
              "      <th>...</th>\n",
              "      <td>...</td>\n",
              "      <td>...</td>\n",
              "      <td>...</td>\n",
              "      <td>...</td>\n",
              "      <td>...</td>\n",
              "      <td>...</td>\n",
              "      <td>...</td>\n",
              "      <td>...</td>\n",
              "      <td>...</td>\n",
              "      <td>...</td>\n",
              "      <td>...</td>\n",
              "      <td>...</td>\n",
              "      <td>...</td>\n",
              "      <td>...</td>\n",
              "      <td>...</td>\n",
              "      <td>...</td>\n",
              "      <td>...</td>\n",
              "      <td>...</td>\n",
              "      <td>...</td>\n",
              "      <td>...</td>\n",
              "      <td>...</td>\n",
              "    </tr>\n",
              "    <tr>\n",
              "      <th>8761</th>\n",
              "      <td>0.837799</td>\n",
              "      <td>0.894935</td>\n",
              "      <td>0.106761</td>\n",
              "      <td>-1.036075</td>\n",
              "      <td>-0.658006</td>\n",
              "      <td>0.600954</td>\n",
              "      <td>0.047265</td>\n",
              "      <td>-0.360259</td>\n",
              "      <td>-0.530709</td>\n",
              "      <td>-0.519118</td>\n",
              "      <td>-0.534727</td>\n",
              "      <td>-0.387642</td>\n",
              "      <td>1.564578</td>\n",
              "      <td>-0.5</td>\n",
              "      <td>-0.866025</td>\n",
              "      <td>0.965926</td>\n",
              "      <td>-2.588190e-01</td>\n",
              "      <td>7.818315e-01</td>\n",
              "      <td>0.62349</td>\n",
              "      <td>1.224647e-16</td>\n",
              "      <td>-1.0</td>\n",
              "    </tr>\n",
              "    <tr>\n",
              "      <th>8762</th>\n",
              "      <td>1.087065</td>\n",
              "      <td>1.058372</td>\n",
              "      <td>-0.213040</td>\n",
              "      <td>-0.444096</td>\n",
              "      <td>-0.658006</td>\n",
              "      <td>0.600954</td>\n",
              "      <td>0.019740</td>\n",
              "      <td>-0.472598</td>\n",
              "      <td>-0.360263</td>\n",
              "      <td>-0.530739</td>\n",
              "      <td>-0.519232</td>\n",
              "      <td>-0.534843</td>\n",
              "      <td>-0.387747</td>\n",
              "      <td>-0.5</td>\n",
              "      <td>-0.866025</td>\n",
              "      <td>0.866025</td>\n",
              "      <td>-5.000000e-01</td>\n",
              "      <td>7.818315e-01</td>\n",
              "      <td>0.62349</td>\n",
              "      <td>1.224647e-16</td>\n",
              "      <td>-1.0</td>\n",
              "    </tr>\n",
              "    <tr>\n",
              "      <th>8763</th>\n",
              "      <td>1.300721</td>\n",
              "      <td>0.913095</td>\n",
              "      <td>-1.300363</td>\n",
              "      <td>0.147882</td>\n",
              "      <td>-0.658006</td>\n",
              "      <td>0.600954</td>\n",
              "      <td>0.005977</td>\n",
              "      <td>-0.476472</td>\n",
              "      <td>-0.472603</td>\n",
              "      <td>-0.360294</td>\n",
              "      <td>-0.530853</td>\n",
              "      <td>-0.519348</td>\n",
              "      <td>-0.534946</td>\n",
              "      <td>-0.5</td>\n",
              "      <td>-0.866025</td>\n",
              "      <td>0.707107</td>\n",
              "      <td>-7.071068e-01</td>\n",
              "      <td>7.818315e-01</td>\n",
              "      <td>0.62349</td>\n",
              "      <td>1.224647e-16</td>\n",
              "      <td>-1.0</td>\n",
              "    </tr>\n",
              "    <tr>\n",
              "      <th>8764</th>\n",
              "      <td>1.425353</td>\n",
              "      <td>0.931254</td>\n",
              "      <td>-1.556204</td>\n",
              "      <td>0.937187</td>\n",
              "      <td>-0.189161</td>\n",
              "      <td>0.600954</td>\n",
              "      <td>0.088553</td>\n",
              "      <td>0.061984</td>\n",
              "      <td>-0.476476</td>\n",
              "      <td>-0.472633</td>\n",
              "      <td>-0.360409</td>\n",
              "      <td>-0.530969</td>\n",
              "      <td>-0.519451</td>\n",
              "      <td>-0.5</td>\n",
              "      <td>-0.866025</td>\n",
              "      <td>0.500000</td>\n",
              "      <td>-8.660254e-01</td>\n",
              "      <td>7.818315e-01</td>\n",
              "      <td>0.62349</td>\n",
              "      <td>1.224647e-16</td>\n",
              "      <td>-1.0</td>\n",
              "    </tr>\n",
              "    <tr>\n",
              "      <th>8765</th>\n",
              "      <td>1.549986</td>\n",
              "      <td>1.049292</td>\n",
              "      <td>-1.556204</td>\n",
              "      <td>0.443871</td>\n",
              "      <td>-1.126851</td>\n",
              "      <td>0.600954</td>\n",
              "      <td>-0.049074</td>\n",
              "      <td>0.267294</td>\n",
              "      <td>0.061979</td>\n",
              "      <td>-0.476507</td>\n",
              "      <td>-0.472747</td>\n",
              "      <td>-0.360526</td>\n",
              "      <td>-0.531072</td>\n",
              "      <td>-0.5</td>\n",
              "      <td>-0.866025</td>\n",
              "      <td>0.258819</td>\n",
              "      <td>-9.659258e-01</td>\n",
              "      <td>7.818315e-01</td>\n",
              "      <td>0.62349</td>\n",
              "      <td>1.224647e-16</td>\n",
              "      <td>-1.0</td>\n",
              "    </tr>\n",
              "  </tbody>\n",
              "</table>\n",
              "<p>8766 rows × 21 columns</p>\n",
              "</div>"
            ],
            "text/plain": [
              "      Temp (°C)  Dew Point Temp (°C)  ...    Season_sin  Season_cos\n",
              "0      1.247307             1.530523  ...  1.224647e-16        -1.0\n",
              "1      1.514377             1.621321  ...  1.224647e-16        -1.0\n",
              "2      1.674619             1.703040  ...  1.224647e-16        -1.0\n",
              "3      1.817056             1.766598  ...  1.224647e-16        -1.0\n",
              "4      1.923885             1.793838  ...  1.224647e-16        -1.0\n",
              "...         ...                  ...  ...           ...         ...\n",
              "8761   0.837799             0.894935  ...  1.224647e-16        -1.0\n",
              "8762   1.087065             1.058372  ...  1.224647e-16        -1.0\n",
              "8763   1.300721             0.913095  ...  1.224647e-16        -1.0\n",
              "8764   1.425353             0.931254  ...  1.224647e-16        -1.0\n",
              "8765   1.549986             1.049292  ...  1.224647e-16        -1.0\n",
              "\n",
              "[8766 rows x 21 columns]"
            ]
          },
          "metadata": {
            "tags": []
          },
          "execution_count": 42
        }
      ]
    },
    {
      "cell_type": "code",
      "metadata": {
        "id": "Xn2R7fOprIMT"
      },
      "source": [
        "def generate_sliding_window(ts, ws):\r\n",
        "  data= []\r\n",
        "  for i in range(len(ts)-ws):\r\n",
        "    data.append(ts[i:i+ws])\r\n",
        "  return np.stack(data)"
      ],
      "execution_count": 43,
      "outputs": []
    },
    {
      "cell_type": "code",
      "metadata": {
        "colab": {
          "base_uri": "https://localhost:8080/"
        },
        "id": "cXpeYM5qrWm9",
        "outputId": "01db122f-0209-4c21-e31b-a30a4cd29bcc"
      },
      "source": [
        "window_size = 24\r\n",
        "\r\n",
        "X_train_scaled = generate_sliding_window(X_train_scaled, window_size)\r\n",
        "X_valid_scaled = generate_sliding_window(X_valid_scaled, window_size)\r\n",
        "X_test_scaled = generate_sliding_window(X_test_scaled, window_size)\r\n",
        "\r\n",
        "Y_train_scaled = generate_sliding_window(Y_train_scaled, window_size)\r\n",
        "Y_valid_scaled = generate_sliding_window(Y_valid_scaled, window_size)\r\n",
        "Y_test_scaled = generate_sliding_window(Y_test_scaled, window_size)\r\n",
        "\r\n",
        "print(X_train_scaled.shape)\r\n",
        "print(Y_train_scaled.shape)\r\n"
      ],
      "execution_count": 44,
      "outputs": [
        {
          "output_type": "stream",
          "text": [
            "(8742, 24, 21)\n",
            "(8742, 24, 1)\n"
          ],
          "name": "stdout"
        }
      ]
    },
    {
      "cell_type": "markdown",
      "metadata": {
        "id": "2Kf1lUbs7A2T"
      },
      "source": [
        "Modeling"
      ]
    },
    {
      "cell_type": "code",
      "metadata": {
        "id": "1wKh7CcTv3C-"
      },
      "source": [
        "# ========================= Hyper-parameters Tuning ==============================\n",
        "\n",
        "# tune batch size\n",
        "# class MyTuner(kt.tuners.RandomSearch):\n",
        "#   def run_trial(self, trial, *args, **kwargs):\n",
        "#     # You can add additional HyperParameters for preprocessing and custom training loops\n",
        "#     # via overriding `run_trial`\n",
        "#     kwargs['batch_size'] = trial.hyperparameters.Choice('batch', values=[16, 32])\n",
        "#     super(MyTuner, self).run_trial(trial, *args, **kwargs)\n",
        "\n",
        "\n",
        "# def build_model(hp):\n",
        "#     model = keras.models.Sequential()\n",
        "\n",
        "#     hp_neurons = hp.Choice('neurons', values=[30, 40, 50])\n",
        "#     hp_layers = hp.Choice('layers', values=[1, 2, 3])\n",
        "#     hp_regularize = hp.Choice('regularize', values=[0.01, 0.02])\n",
        "\n",
        "#     # hidden layers\n",
        "#     for layer in range(hp_layers):\n",
        "#         model.add(layers.LSTM(units=hp_neurons, return_sequences=True, activation='elu', kernel_initializer='he_normal', kernel_regularizer=l2(hp_regularize)))\n",
        "\n",
        "#     # output layer\n",
        "#     model.add(layers.Dense(1, kernel_initializer='he_normal'))\n",
        "\n",
        "#     optimizer = keras.optimizers.Nadam()\n",
        "#     model.compile(loss='mse', optimizer=optimizer)\n",
        "#     return model\n",
        "\n",
        "\n",
        "# early_stopping_cb = tf.keras.callbacks.EarlyStopping(patience=30, restore_best_weights=True, mode='min')\n",
        "\n",
        "# tuner = MyTuner(build_model, objective='val_loss', max_trials=30, seed=42)\n",
        "\n",
        "# tuner.search(X_train_scaled, Y_train_scaled, epochs=100, validation_data=(X_valid_scaled, Y_valid_scaled), callbacks=[early_stopping_cb])"
      ],
      "execution_count": 45,
      "outputs": []
    },
    {
      "cell_type": "code",
      "metadata": {
        "id": "TIuvCiXYrV0p"
      },
      "source": [
        "# display tuning results\n",
        "# tuner.results_summary()"
      ],
      "execution_count": 46,
      "outputs": []
    },
    {
      "cell_type": "code",
      "metadata": {
        "id": "4xe_WW59w4P6"
      },
      "source": [
        "#Retain the optimal hyper-parameters found and re-train the model\n",
        "\n",
        "# best_hps = tuner.get_best_hyperparameters(num_trials = 1)[0]\n",
        "\n",
        "# model = tuner.hypermodel.build(best_hps)\n",
        "\n",
        "# history = model.fit(X_train_scaled, Y_train_scaled, epochs=100, validation_data=(X_valid_scaled, Y_valid_scaled), callbacks=[early_stopping_cb])\n",
        "\n",
        "# model.summary()"
      ],
      "execution_count": 47,
      "outputs": []
    },
    {
      "cell_type": "code",
      "metadata": {
        "id": "t8XexVKM7YWx",
        "colab": {
          "base_uri": "https://localhost:8080/"
        },
        "outputId": "6841515a-749b-4e34-b549-5f63e93a5b4a"
      },
      "source": [
        "model = tf.keras.Sequential([\n",
        "    tf.keras.layers.LSTM(32,return_sequences=True, activation='elu', kernel_initializer='he_normal', kernel_regularizer=l2(0.02)),\n",
        "    tf.keras.layers.LSTM(32,return_sequences=True, activation='elu', kernel_initializer='he_normal', kernel_regularizer=l2(0.02)),\n",
        "    tf.keras.layers.LSTM(32,return_sequences=True, activation='elu', kernel_initializer='he_normal', kernel_regularizer=l2(0.02)),\n",
        "    tf.keras.layers.Dense(1, kernel_initializer='he_normal')\n",
        "])\n",
        "\n",
        "early_stopping = tf.keras.callbacks.EarlyStopping(patience=30, mode='min', restore_best_weights=True)\n",
        "\n",
        "model.compile(loss='mse', optimizer='Nadam', metrics=[keras.metrics.RootMeanSquaredError()])\n",
        "history = model.fit(X_train_scaled, Y_train_scaled, epochs=100, validation_data=(X_valid_scaled, Y_valid_scaled), callbacks=[early_stopping])\n",
        "\n",
        "model.summary()"
      ],
      "execution_count": 48,
      "outputs": [
        {
          "output_type": "stream",
          "text": [
            "Epoch 1/100\n",
            "274/274 [==============================] - 13s 33ms/step - loss: 16.2283 - root_mean_squared_error: 1.3956 - val_loss: 10.8601 - val_root_mean_squared_error: 0.9078\n",
            "Epoch 2/100\n",
            "274/274 [==============================] - 9s 32ms/step - loss: 9.8546 - root_mean_squared_error: 0.9527 - val_loss: 7.0349 - val_root_mean_squared_error: 0.8827\n",
            "Epoch 3/100\n",
            "274/274 [==============================] - 9s 32ms/step - loss: 6.4300 - root_mean_squared_error: 0.8936 - val_loss: 4.7245 - val_root_mean_squared_error: 0.7886\n",
            "Epoch 4/100\n",
            "274/274 [==============================] - 9s 33ms/step - loss: 4.3074 - root_mean_squared_error: 0.7622 - val_loss: 3.3357 - val_root_mean_squared_error: 0.7568\n",
            "Epoch 5/100\n",
            "274/274 [==============================] - 9s 32ms/step - loss: 3.0583 - root_mean_squared_error: 0.7325 - val_loss: 2.4720 - val_root_mean_squared_error: 0.7580\n",
            "Epoch 6/100\n",
            "274/274 [==============================] - 9s 32ms/step - loss: 2.2389 - root_mean_squared_error: 0.7093 - val_loss: 1.8939 - val_root_mean_squared_error: 0.7579\n",
            "Epoch 7/100\n",
            "274/274 [==============================] - 9s 32ms/step - loss: 1.7251 - root_mean_squared_error: 0.7162 - val_loss: 1.5243 - val_root_mean_squared_error: 0.7707\n",
            "Epoch 8/100\n",
            "274/274 [==============================] - 9s 33ms/step - loss: 1.3516 - root_mean_squared_error: 0.7038 - val_loss: 1.2404 - val_root_mean_squared_error: 0.7596\n",
            "Epoch 9/100\n",
            "274/274 [==============================] - 9s 32ms/step - loss: 1.1074 - root_mean_squared_error: 0.7027 - val_loss: 1.0418 - val_root_mean_squared_error: 0.7501\n",
            "Epoch 10/100\n",
            "274/274 [==============================] - 9s 33ms/step - loss: 0.9342 - root_mean_squared_error: 0.7001 - val_loss: 0.9080 - val_root_mean_squared_error: 0.7455\n",
            "Epoch 11/100\n",
            "274/274 [==============================] - 9s 33ms/step - loss: 0.8112 - root_mean_squared_error: 0.6950 - val_loss: 0.8277 - val_root_mean_squared_error: 0.7516\n",
            "Epoch 12/100\n",
            "274/274 [==============================] - 9s 33ms/step - loss: 0.7247 - root_mean_squared_error: 0.6920 - val_loss: 0.7441 - val_root_mean_squared_error: 0.7364\n",
            "Epoch 13/100\n",
            "274/274 [==============================] - 9s 33ms/step - loss: 0.6644 - root_mean_squared_error: 0.6890 - val_loss: 0.7222 - val_root_mean_squared_error: 0.7509\n",
            "Epoch 14/100\n",
            "274/274 [==============================] - 9s 33ms/step - loss: 0.6110 - root_mean_squared_error: 0.6787 - val_loss: 0.7029 - val_root_mean_squared_error: 0.7578\n",
            "Epoch 15/100\n",
            "274/274 [==============================] - 9s 32ms/step - loss: 0.5872 - root_mean_squared_error: 0.6814 - val_loss: 0.8001 - val_root_mean_squared_error: 0.8315\n",
            "Epoch 16/100\n",
            "274/274 [==============================] - 9s 32ms/step - loss: 0.5706 - root_mean_squared_error: 0.6822 - val_loss: 0.7145 - val_root_mean_squared_error: 0.7880\n",
            "Epoch 17/100\n",
            "274/274 [==============================] - 9s 33ms/step - loss: 0.5499 - root_mean_squared_error: 0.6777 - val_loss: 0.6720 - val_root_mean_squared_error: 0.7677\n",
            "Epoch 18/100\n",
            "274/274 [==============================] - 9s 32ms/step - loss: 0.5446 - root_mean_squared_error: 0.6804 - val_loss: 0.6633 - val_root_mean_squared_error: 0.7671\n",
            "Epoch 19/100\n",
            "274/274 [==============================] - 9s 33ms/step - loss: 0.5187 - root_mean_squared_error: 0.6668 - val_loss: 0.6558 - val_root_mean_squared_error: 0.7650\n",
            "Epoch 20/100\n",
            "274/274 [==============================] - 9s 33ms/step - loss: 0.5125 - root_mean_squared_error: 0.6661 - val_loss: 0.6594 - val_root_mean_squared_error: 0.7702\n",
            "Epoch 21/100\n",
            "274/274 [==============================] - 9s 34ms/step - loss: 0.5013 - root_mean_squared_error: 0.6603 - val_loss: 0.6422 - val_root_mean_squared_error: 0.7606\n",
            "Epoch 22/100\n",
            "274/274 [==============================] - 9s 33ms/step - loss: 0.4966 - root_mean_squared_error: 0.6583 - val_loss: 0.6038 - val_root_mean_squared_error: 0.7363\n",
            "Epoch 23/100\n",
            "274/274 [==============================] - 9s 33ms/step - loss: 0.4801 - root_mean_squared_error: 0.6473 - val_loss: 0.6054 - val_root_mean_squared_error: 0.7386\n",
            "Epoch 24/100\n",
            "274/274 [==============================] - 9s 33ms/step - loss: 0.4772 - root_mean_squared_error: 0.6457 - val_loss: 0.6290 - val_root_mean_squared_error: 0.7541\n",
            "Epoch 25/100\n",
            "274/274 [==============================] - 9s 33ms/step - loss: 0.4870 - root_mean_squared_error: 0.6533 - val_loss: 0.6387 - val_root_mean_squared_error: 0.7612\n",
            "Epoch 26/100\n",
            "274/274 [==============================] - 9s 32ms/step - loss: 0.4504 - root_mean_squared_error: 0.6252 - val_loss: 0.6305 - val_root_mean_squared_error: 0.7549\n",
            "Epoch 27/100\n",
            "274/274 [==============================] - 9s 33ms/step - loss: 0.4676 - root_mean_squared_error: 0.6380 - val_loss: 0.6230 - val_root_mean_squared_error: 0.7497\n",
            "Epoch 28/100\n",
            "274/274 [==============================] - 9s 33ms/step - loss: 0.4521 - root_mean_squared_error: 0.6249 - val_loss: 0.6438 - val_root_mean_squared_error: 0.7618\n",
            "Epoch 29/100\n",
            "274/274 [==============================] - 9s 33ms/step - loss: 0.4632 - root_mean_squared_error: 0.6318 - val_loss: 0.6153 - val_root_mean_squared_error: 0.7433\n",
            "Epoch 30/100\n",
            "274/274 [==============================] - 9s 33ms/step - loss: 0.4477 - root_mean_squared_error: 0.6194 - val_loss: 0.6248 - val_root_mean_squared_error: 0.7486\n",
            "Epoch 31/100\n",
            "274/274 [==============================] - 9s 33ms/step - loss: 0.4388 - root_mean_squared_error: 0.6111 - val_loss: 0.6334 - val_root_mean_squared_error: 0.7537\n",
            "Epoch 32/100\n",
            "274/274 [==============================] - 9s 33ms/step - loss: 0.4194 - root_mean_squared_error: 0.5949 - val_loss: 0.6352 - val_root_mean_squared_error: 0.7539\n",
            "Epoch 33/100\n",
            "274/274 [==============================] - 9s 33ms/step - loss: 0.4201 - root_mean_squared_error: 0.5941 - val_loss: 0.6560 - val_root_mean_squared_error: 0.7666\n",
            "Epoch 34/100\n",
            "274/274 [==============================] - 9s 33ms/step - loss: 0.4098 - root_mean_squared_error: 0.5838 - val_loss: 0.6351 - val_root_mean_squared_error: 0.7528\n",
            "Epoch 35/100\n",
            "274/274 [==============================] - 9s 33ms/step - loss: 0.3901 - root_mean_squared_error: 0.5671 - val_loss: 0.6655 - val_root_mean_squared_error: 0.7723\n",
            "Epoch 36/100\n",
            "274/274 [==============================] - 9s 33ms/step - loss: 0.3878 - root_mean_squared_error: 0.5644 - val_loss: 0.6578 - val_root_mean_squared_error: 0.7675\n",
            "Epoch 37/100\n",
            "274/274 [==============================] - 9s 33ms/step - loss: 0.3872 - root_mean_squared_error: 0.5638 - val_loss: 0.6603 - val_root_mean_squared_error: 0.7697\n",
            "Epoch 38/100\n",
            "274/274 [==============================] - 9s 33ms/step - loss: 0.3751 - root_mean_squared_error: 0.5541 - val_loss: 0.7016 - val_root_mean_squared_error: 0.7956\n",
            "Epoch 39/100\n",
            "274/274 [==============================] - 9s 33ms/step - loss: 0.3932 - root_mean_squared_error: 0.5693 - val_loss: 0.6672 - val_root_mean_squared_error: 0.7736\n",
            "Epoch 40/100\n",
            "274/274 [==============================] - 9s 33ms/step - loss: 0.3789 - root_mean_squared_error: 0.5569 - val_loss: 0.6477 - val_root_mean_squared_error: 0.7611\n",
            "Epoch 41/100\n",
            "274/274 [==============================] - 9s 33ms/step - loss: 0.3776 - root_mean_squared_error: 0.5557 - val_loss: 0.6931 - val_root_mean_squared_error: 0.7901\n",
            "Epoch 42/100\n",
            "274/274 [==============================] - 9s 33ms/step - loss: 0.3616 - root_mean_squared_error: 0.5411 - val_loss: 0.6809 - val_root_mean_squared_error: 0.7824\n",
            "Epoch 43/100\n",
            "274/274 [==============================] - 9s 33ms/step - loss: 0.3575 - root_mean_squared_error: 0.5370 - val_loss: 0.6764 - val_root_mean_squared_error: 0.7790\n",
            "Epoch 44/100\n",
            "274/274 [==============================] - 9s 32ms/step - loss: 0.3473 - root_mean_squared_error: 0.5274 - val_loss: 0.6668 - val_root_mean_squared_error: 0.7734\n",
            "Epoch 45/100\n",
            "274/274 [==============================] - 9s 33ms/step - loss: 0.3478 - root_mean_squared_error: 0.5281 - val_loss: 0.6732 - val_root_mean_squared_error: 0.7774\n",
            "Epoch 46/100\n",
            "274/274 [==============================] - 9s 34ms/step - loss: 0.3514 - root_mean_squared_error: 0.5311 - val_loss: 0.6590 - val_root_mean_squared_error: 0.7676\n",
            "Epoch 47/100\n",
            "274/274 [==============================] - 9s 33ms/step - loss: 0.3510 - root_mean_squared_error: 0.5299 - val_loss: 0.6681 - val_root_mean_squared_error: 0.7741\n",
            "Epoch 48/100\n",
            "274/274 [==============================] - 9s 33ms/step - loss: 0.3324 - root_mean_squared_error: 0.5133 - val_loss: 0.6665 - val_root_mean_squared_error: 0.7741\n",
            "Epoch 49/100\n",
            "274/274 [==============================] - 9s 33ms/step - loss: 0.3419 - root_mean_squared_error: 0.5232 - val_loss: 0.6952 - val_root_mean_squared_error: 0.7907\n",
            "Epoch 50/100\n",
            "274/274 [==============================] - 9s 32ms/step - loss: 0.3254 - root_mean_squared_error: 0.5061 - val_loss: 0.6615 - val_root_mean_squared_error: 0.7698\n",
            "Epoch 51/100\n",
            "274/274 [==============================] - 9s 33ms/step - loss: 0.3330 - root_mean_squared_error: 0.5139 - val_loss: 0.6801 - val_root_mean_squared_error: 0.7819\n",
            "Epoch 52/100\n",
            "274/274 [==============================] - 9s 33ms/step - loss: 0.3204 - root_mean_squared_error: 0.5020 - val_loss: 0.6901 - val_root_mean_squared_error: 0.7885\n",
            "Model: \"sequential_1\"\n",
            "_________________________________________________________________\n",
            "Layer (type)                 Output Shape              Param #   \n",
            "=================================================================\n",
            "lstm_2 (LSTM)                (None, 24, 32)            6912      \n",
            "_________________________________________________________________\n",
            "lstm_3 (LSTM)                (None, 24, 32)            8320      \n",
            "_________________________________________________________________\n",
            "lstm_4 (LSTM)                (None, 24, 32)            8320      \n",
            "_________________________________________________________________\n",
            "dense_1 (Dense)              (None, 24, 1)             33        \n",
            "=================================================================\n",
            "Total params: 23,585\n",
            "Trainable params: 23,585\n",
            "Non-trainable params: 0\n",
            "_________________________________________________________________\n"
          ],
          "name": "stdout"
        }
      ]
    },
    {
      "cell_type": "markdown",
      "metadata": {
        "id": "lgCQhL6vKIxn"
      },
      "source": [
        "Plot Loss vs Epochs"
      ]
    },
    {
      "cell_type": "code",
      "metadata": {
        "colab": {
          "base_uri": "https://localhost:8080/",
          "height": 331
        },
        "id": "0Gy7ivcUKIGp",
        "outputId": "a571f2cf-dba4-4035-e08d-e358f918c14f"
      },
      "source": [
        "plt.plot(history.history['loss'])\n",
        "plt.plot(history.history['val_loss'])\n",
        "plt.title('Model Loss')\n",
        "plt.ylabel('Loss')\n",
        "plt.xlabel('Epoch')\n",
        "plt.legend(['Train', 'Validation'], loc='upper right')\n",
        "plt.grid(True)\n",
        "plt.show()"
      ],
      "execution_count": 49,
      "outputs": [
        {
          "output_type": "execute_result",
          "data": {
            "text/plain": [
              "[<matplotlib.lines.Line2D at 0x7f16cf90fc88>]"
            ]
          },
          "metadata": {
            "tags": []
          },
          "execution_count": 49
        },
        {
          "output_type": "execute_result",
          "data": {
            "text/plain": [
              "[<matplotlib.lines.Line2D at 0x7f16d8a2b2b0>]"
            ]
          },
          "metadata": {
            "tags": []
          },
          "execution_count": 49
        },
        {
          "output_type": "execute_result",
          "data": {
            "text/plain": [
              "Text(0.5, 1.0, 'Model Loss')"
            ]
          },
          "metadata": {
            "tags": []
          },
          "execution_count": 49
        },
        {
          "output_type": "execute_result",
          "data": {
            "text/plain": [
              "Text(0, 0.5, 'Loss')"
            ]
          },
          "metadata": {
            "tags": []
          },
          "execution_count": 49
        },
        {
          "output_type": "execute_result",
          "data": {
            "text/plain": [
              "Text(0.5, 0, 'Epoch')"
            ]
          },
          "metadata": {
            "tags": []
          },
          "execution_count": 49
        },
        {
          "output_type": "execute_result",
          "data": {
            "text/plain": [
              "<matplotlib.legend.Legend at 0x7f16cf8e4668>"
            ]
          },
          "metadata": {
            "tags": []
          },
          "execution_count": 49
        },
        {
          "output_type": "display_data",
          "data": {
            "image/png": "[encoded data removed]",
            "text/plain": [
              "<Figure size 432x288 with 1 Axes>"
            ]
          },
          "metadata": {
            "tags": [],
            "needs_background": "light"
          }
        }
      ]
    },
    {
      "cell_type": "markdown",
      "metadata": {
        "id": "c_UzSdCboqyb"
      },
      "source": [
        "Accuracy & Evaluation"
      ]
    },
    {
      "cell_type": "code",
      "metadata": {
        "id": "8RBLih4hLT6e"
      },
      "source": [
        "Y_train = Y_train[:8766-window_size]\n",
        "Y_test = Y_test[:2922-window_size]"
      ],
      "execution_count": 50,
      "outputs": []
    },
    {
      "cell_type": "code",
      "metadata": {
        "id": "2RejGB3q8bUS",
        "colab": {
          "base_uri": "https://localhost:8080/",
          "height": 845
        },
        "outputId": "9fea43b8-bad6-4c6f-8331-1dceaa7178a3"
      },
      "source": [
        "# train set performance\n",
        "Y_train_pred_scaled = model.predict(X_train_scaled)\n",
        "print(np.shape(Y_train_pred_scaled))\n",
        "\n",
        "Y_train_pred_scaled= Y_train_pred_scaled[:,1,0]\n",
        "print(np.shape(Y_train_pred_scaled))\n",
        "\n",
        "Y_train_pred = scalerY.inverse_transform(Y_train_pred_scaled)\n",
        "\n",
        "print(np.shape(Y_train_pred))\n",
        "\n",
        "# visualize predicted vs actual in train set\n",
        "plt.figure(figsize=(10,5))\n",
        "plt.plot(Y_train, label='Actual')\n",
        "plt.plot(Y_train_pred, label='Predicted')\n",
        "plt.xlabel('index in train set')\n",
        "plt.ylabel('Consumption - kWh')\n",
        "plt.title('Predicted vs Actual in Train set')\n",
        "plt.legend(loc='upper left')\n",
        "plt.show()\n",
        "\n",
        "plt.figure(figsize=(10,5))\n",
        "plt.plot(Y_train.head(168), label='Actual')\n",
        "plt.plot(Y_train_pred[:168], label='Predicted')\n",
        "plt.xlabel('index in train set')\n",
        "plt.ylabel('Consumption - kWh')\n",
        "plt.title('Predicted vs Actual in Train set')\n",
        "plt.legend(loc='upper left')\n",
        "plt.show()"
      ],
      "execution_count": 51,
      "outputs": [
        {
          "output_type": "stream",
          "text": [
            "(8742, 24, 1)\n",
            "(8742,)\n",
            "(8742,)\n"
          ],
          "name": "stdout"
        },
        {
          "output_type": "execute_result",
          "data": {
            "text/plain": [
              "<Figure size 720x360 with 0 Axes>"
            ]
          },
          "metadata": {
            "tags": []
          },
          "execution_count": 51
        },
        {
          "output_type": "execute_result",
          "data": {
            "text/plain": [
              "[<matplotlib.lines.Line2D at 0x7f16cf758f98>]"
            ]
          },
          "metadata": {
            "tags": []
          },
          "execution_count": 51
        },
        {
          "output_type": "execute_result",
          "data": {
            "text/plain": [
              "[<matplotlib.lines.Line2D at 0x7f16d8aac4e0>]"
            ]
          },
          "metadata": {
            "tags": []
          },
          "execution_count": 51
        },
        {
          "output_type": "execute_result",
          "data": {
            "text/plain": [
              "Text(0.5, 0, 'index in train set')"
            ]
          },
          "metadata": {
            "tags": []
          },
          "execution_count": 51
        },
        {
          "output_type": "execute_result",
          "data": {
            "text/plain": [
              "Text(0, 0.5, 'Consumption - kWh')"
            ]
          },
          "metadata": {
            "tags": []
          },
          "execution_count": 51
        },
        {
          "output_type": "execute_result",
          "data": {
            "text/plain": [
              "Text(0.5, 1.0, 'Predicted vs Actual in Train set')"
            ]
          },
          "metadata": {
            "tags": []
          },
          "execution_count": 51
        },
        {
          "output_type": "execute_result",
          "data": {
            "text/plain": [
              "<matplotlib.legend.Legend at 0x7f16cf8b4470>"
            ]
          },
          "metadata": {
            "tags": []
          },
          "execution_count": 51
        },
        {
          "output_type": "display_data",
          "data": {
            "image/png": "[encoded data removed]",
            "text/plain": [
              "<Figure size 720x360 with 1 Axes>"
            ]
          },
          "metadata": {
            "tags": [],
            "needs_background": "light"
          }
        },
        {
          "output_type": "execute_result",
          "data": {
            "text/plain": [
              "<Figure size 720x360 with 0 Axes>"
            ]
          },
          "metadata": {
            "tags": []
          },
          "execution_count": 51
        },
        {
          "output_type": "execute_result",
          "data": {
            "text/plain": [
              "[<matplotlib.lines.Line2D at 0x7f16cf72da90>]"
            ]
          },
          "metadata": {
            "tags": []
          },
          "execution_count": 51
        },
        {
          "output_type": "execute_result",
          "data": {
            "text/plain": [
              "[<matplotlib.lines.Line2D at 0x7f16cf8ab278>]"
            ]
          },
          "metadata": {
            "tags": []
          },
          "execution_count": 51
        },
        {
          "output_type": "execute_result",
          "data": {
            "text/plain": [
              "Text(0.5, 0, 'index in train set')"
            ]
          },
          "metadata": {
            "tags": []
          },
          "execution_count": 51
        },
        {
          "output_type": "execute_result",
          "data": {
            "text/plain": [
              "Text(0, 0.5, 'Consumption - kWh')"
            ]
          },
          "metadata": {
            "tags": []
          },
          "execution_count": 51
        },
        {
          "output_type": "execute_result",
          "data": {
            "text/plain": [
              "Text(0.5, 1.0, 'Predicted vs Actual in Train set')"
            ]
          },
          "metadata": {
            "tags": []
          },
          "execution_count": 51
        },
        {
          "output_type": "execute_result",
          "data": {
            "text/plain": [
              "<matplotlib.legend.Legend at 0x7f16cf72de80>"
            ]
          },
          "metadata": {
            "tags": []
          },
          "execution_count": 51
        },
        {
          "output_type": "display_data",
          "data": {
            "image/png": "[encoded data removed]",
            "text/plain": [
              "<Figure size 720x360 with 1 Axes>"
            ]
          },
          "metadata": {
            "tags": [],
            "needs_background": "light"
          }
        }
      ]
    },
    {
      "cell_type": "code",
      "metadata": {
        "colab": {
          "base_uri": "https://localhost:8080/",
          "height": 827
        },
        "id": "EjlpfrZh8rU2",
        "outputId": "9013a3ff-505d-4322-d1e2-58bc0a723072"
      },
      "source": [
        "# test set performance\n",
        "Y_test_pred_scaled = model.predict(X_test_scaled)\n",
        "print(np.shape(Y_test_pred_scaled))\n",
        "\n",
        "Y_test_pred_scaled= Y_test_pred_scaled[:,1,0]\n",
        "\n",
        "Y_test_pred = scalerY.inverse_transform(Y_test_pred_scaled)\n",
        "\n",
        "print(np.shape(Y_test_pred))\n",
        "\n",
        "Y_test = pd.DataFrame.reset_index(Y_test, drop=True)\n",
        "\n",
        "# visualize predicted vs actual in test set\n",
        "plt.figure(figsize=(10,5))\n",
        "plt.plot(Y_test, label='Actual')\n",
        "plt.plot(Y_test_pred, label='Predicted')\n",
        "plt.xlabel('index in test set')\n",
        "plt.ylabel('Consumption - kWh')\n",
        "plt.title('Predicted vs Actual in Test set')\n",
        "plt.legend(loc='upper left')\n",
        "plt.show()\n",
        "\n",
        "plt.figure(figsize=(10,5))\n",
        "plt.plot(Y_test.head(168), label='Actual')\n",
        "plt.plot(Y_test_pred[:168], label='Predicted')\n",
        "plt.xlabel('index in test set')\n",
        "plt.ylabel('Consumption - kWh')\n",
        "plt.title('Predicted vs Actual in Test set')\n",
        "plt.legend(loc='upper left')\n",
        "plt.show()"
      ],
      "execution_count": 52,
      "outputs": [
        {
          "output_type": "stream",
          "text": [
            "(2898, 24, 1)\n",
            "(2898,)\n"
          ],
          "name": "stdout"
        },
        {
          "output_type": "execute_result",
          "data": {
            "text/plain": [
              "<Figure size 720x360 with 0 Axes>"
            ]
          },
          "metadata": {
            "tags": []
          },
          "execution_count": 52
        },
        {
          "output_type": "execute_result",
          "data": {
            "text/plain": [
              "[<matplotlib.lines.Line2D at 0x7f16cf6becf8>]"
            ]
          },
          "metadata": {
            "tags": []
          },
          "execution_count": 52
        },
        {
          "output_type": "execute_result",
          "data": {
            "text/plain": [
              "[<matplotlib.lines.Line2D at 0x7f16cf697be0>]"
            ]
          },
          "metadata": {
            "tags": []
          },
          "execution_count": 52
        },
        {
          "output_type": "execute_result",
          "data": {
            "text/plain": [
              "Text(0.5, 0, 'index in test set')"
            ]
          },
          "metadata": {
            "tags": []
          },
          "execution_count": 52
        },
        {
          "output_type": "execute_result",
          "data": {
            "text/plain": [
              "Text(0, 0.5, 'Consumption - kWh')"
            ]
          },
          "metadata": {
            "tags": []
          },
          "execution_count": 52
        },
        {
          "output_type": "execute_result",
          "data": {
            "text/plain": [
              "Text(0.5, 1.0, 'Predicted vs Actual in Test set')"
            ]
          },
          "metadata": {
            "tags": []
          },
          "execution_count": 52
        },
        {
          "output_type": "execute_result",
          "data": {
            "text/plain": [
              "<matplotlib.legend.Legend at 0x7f16cf6aa630>"
            ]
          },
          "metadata": {
            "tags": []
          },
          "execution_count": 52
        },
        {
          "output_type": "display_data",
          "data": {
            "image/png": "[encoded data removed]",
            "text/plain": [
              "<Figure size 720x360 with 1 Axes>"
            ]
          },
          "metadata": {
            "tags": [],
            "needs_background": "light"
          }
        },
        {
          "output_type": "execute_result",
          "data": {
            "text/plain": [
              "<Figure size 720x360 with 0 Axes>"
            ]
          },
          "metadata": {
            "tags": []
          },
          "execution_count": 52
        },
        {
          "output_type": "execute_result",
          "data": {
            "text/plain": [
              "[<matplotlib.lines.Line2D at 0x7f16cf611080>]"
            ]
          },
          "metadata": {
            "tags": []
          },
          "execution_count": 52
        },
        {
          "output_type": "execute_result",
          "data": {
            "text/plain": [
              "[<matplotlib.lines.Line2D at 0x7f16cf74ca20>]"
            ]
          },
          "metadata": {
            "tags": []
          },
          "execution_count": 52
        },
        {
          "output_type": "execute_result",
          "data": {
            "text/plain": [
              "Text(0.5, 0, 'index in test set')"
            ]
          },
          "metadata": {
            "tags": []
          },
          "execution_count": 52
        },
        {
          "output_type": "execute_result",
          "data": {
            "text/plain": [
              "Text(0, 0.5, 'Consumption - kWh')"
            ]
          },
          "metadata": {
            "tags": []
          },
          "execution_count": 52
        },
        {
          "output_type": "execute_result",
          "data": {
            "text/plain": [
              "Text(0.5, 1.0, 'Predicted vs Actual in Test set')"
            ]
          },
          "metadata": {
            "tags": []
          },
          "execution_count": 52
        },
        {
          "output_type": "execute_result",
          "data": {
            "text/plain": [
              "<matplotlib.legend.Legend at 0x7f16cf65de10>"
            ]
          },
          "metadata": {
            "tags": []
          },
          "execution_count": 52
        },
        {
          "output_type": "display_data",
          "data": {
            "image/png": "[encoded data removed]",
            "text/plain": [
              "<Figure size 720x360 with 1 Axes>"
            ]
          },
          "metadata": {
            "tags": [],
            "needs_background": "light"
          }
        }
      ]
    },
    {
      "cell_type": "code",
      "metadata": {
        "id": "IPLNc6wsLgj5"
      },
      "source": [
        "mape = tf.keras.losses.MeanAbsolutePercentageError()"
      ],
      "execution_count": 53,
      "outputs": []
    },
    {
      "cell_type": "code",
      "metadata": {
        "colab": {
          "base_uri": "https://localhost:8080/",
          "height": 79
        },
        "id": "EKgQwFGV8nw9",
        "outputId": "6dd6fbce-2e0a-4080-b2e4-3de9598ebe00"
      },
      "source": [
        "# Error Metric summary\n",
        "model_performance = pd.DataFrame(columns=['Train MAE', 'Train RMSE', 'Train MAPE', 'Test MAE', 'Test RMSE', 'Test MAPE'])\n",
        "\n",
        "Train_MAE = mean_absolute_error(Y_train, Y_train_pred)\n",
        "Train_RMSE = np.sqrt(mean_squared_error(Y_train, Y_train_pred))\n",
        "Train_MAPE = mape(Y_train, Y_train_pred).numpy()\n",
        "\n",
        "Test_MAE = mean_absolute_error(Y_test, Y_test_pred)\n",
        "Test_RMSE = np.sqrt(mean_squared_error(Y_test, Y_test_pred))\n",
        "Test_MAPE = mape(Y_test, Y_test_pred).numpy()\n",
        "\n",
        "model_performance = model_performance.append({\n",
        "                        'Train MAE': Train_MAE,\n",
        "                        'Train RMSE': Train_RMSE,\n",
        "                        'Train MAPE': Train_MAPE,\n",
        "                        'Test MAE': Test_MAE,\n",
        "                        'Test RMSE': Test_RMSE,\n",
        "                        'Test MAPE': Test_MAPE,},\n",
        "                        ignore_index=True)\n",
        "\n",
        "model_performance.round(2)"
      ],
      "execution_count": 54,
      "outputs": [
        {
          "output_type": "execute_result",
          "data": {
            "text/html": [
              "<div>\n",
              "<style scoped>\n",
              "    .dataframe tbody tr th:only-of-type {\n",
              "        vertical-align: middle;\n",
              "    }\n",
              "\n",
              "    .dataframe tbody tr th {\n",
              "        vertical-align: top;\n",
              "    }\n",
              "\n",
              "    .dataframe thead th {\n",
              "        text-align: right;\n",
              "    }\n",
              "</style>\n",
              "<table border=\"1\" class=\"dataframe\">\n",
              "  <thead>\n",
              "    <tr style=\"text-align: right;\">\n",
              "      <th></th>\n",
              "      <th>Train MAE</th>\n",
              "      <th>Train RMSE</th>\n",
              "      <th>Train MAPE</th>\n",
              "      <th>Test MAE</th>\n",
              "      <th>Test RMSE</th>\n",
              "      <th>Test MAPE</th>\n",
              "    </tr>\n",
              "  </thead>\n",
              "  <tbody>\n",
              "    <tr>\n",
              "      <th>0</th>\n",
              "      <td>0.58</td>\n",
              "      <td>1.21</td>\n",
              "      <td>93.12</td>\n",
              "      <td>0.57</td>\n",
              "      <td>1.32</td>\n",
              "      <td>72.66</td>\n",
              "    </tr>\n",
              "  </tbody>\n",
              "</table>\n",
              "</div>"
            ],
            "text/plain": [
              "   Train MAE  Train RMSE  Train MAPE  Test MAE  Test RMSE  Test MAPE\n",
              "0       0.58        1.21       93.12      0.57       1.32      72.66"
            ]
          },
          "metadata": {
            "tags": []
          },
          "execution_count": 54
        }
      ]
    }
  ]
}